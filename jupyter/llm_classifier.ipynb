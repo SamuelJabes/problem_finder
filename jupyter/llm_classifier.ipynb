{
 "cells": [
  {
   "cell_type": "code",
   "execution_count": 7,
   "id": "615adcff",
   "metadata": {
    "vscode": {
     "languageId": "ruby"
    }
   },
   "outputs": [],
   "source": [
    "# Lista de comentários fictícios do Reddit com e sem expressões de dor/problemas\n",
    "comentarios_reddit = [\n",
    "    # Comentários que expressam dores/problemas\n",
    "    \"Estou tendo dores de cabeça terríveis há semanas e nenhum remédio parece ajudar. Alguém tem alguma sugestão?\",\n",
    "    \"Meu notebook está superaquecendo constantemente e não consigo trabalhar por mais de 30 minutos. Já perdi vários prazos por causa disso.\",\n",
    "    \"A empresa de internet na minha região é horrível. Pago por 100Mbps e recebo menos de 10Mbps nos horários de pico.\",\n",
    "    \"Não consigo dormir há meses. Tenho tentado de tudo, mas a insônia está afetando meu trabalho e minha vida pessoal.\",\n",
    "    \"Estou frustrado com o preço dos aluguéis na minha cidade. É impossível encontrar algo decente que caiba no orçamento.\",\n",
    "    \"Meu celular novo veio com defeito na bateria e a loja se recusa a trocar. Estou indignado com o atendimento ao cliente.\",\n",
    "    \"Tenho procurado emprego há 6 meses e ainda não consegui nada. As contas estão se acumulando e não sei mais o que fazer.\",\n",
    "    \"O aplicativo de delivery que uso constantemente aumentou as taxas e agora é quase inviável pedir comida.\",\n",
    "    \"A qualidade dos produtos de supermercado caiu muito e os preços só aumentam. Estou pagando mais por menos.\",\n",
    "    \"Me sinto sozinho trabalhando em home office, a falta de interação social está me deixando deprimido.\",\n",
    "    \n",
    "    # Comentários neutros ou positivos (sem expressão de dor/problema)\n",
    "    \"Acabei de terminar essa série e adorei o final. Alguém mais assistiu?\",\n",
    "    \"Recomendo esse livro para quem gosta de ficção científica, a narrativa é incrível.\",\n",
    "    \"Visitei aquele novo restaurante no centro ontem. A comida é realmente muito boa.\",\n",
    "    \"O último episódio do podcast foi muito informativo, aprendi várias coisas novas.\",\n",
    "    \"Finalmente consegui montar meu setup para home office, ficou exatamente como eu queria.\",\n",
    "    \"Completei minha coleção de mangá hoje, me sinto realizado!\",\n",
    "    \"Ontem fui ao parque com meu cachorro e encontramos vários outros pets. Foi um dia divertido.\",\n",
    "    \"Adoro quando o Reddit me recomenda subreddits interessantes que eu não conhecia.\",\n",
    "    \"Alguém aqui joga esse novo jogo? Estou procurando pessoas para jogar online.\",\n",
    "    \"Compartilhando uma foto do bolo que fiz seguindo aquela receita que postaram aqui semana passada.\"\n",
    "]"
   ]
  },
  {
   "cell_type": "code",
   "execution_count": 2,
   "id": "0babca21",
   "metadata": {
    "vscode": {
     "languageId": "ruby"
    }
   },
   "outputs": [],
   "source": [
    "from langchain_core.prompts import ChatPromptTemplate\n",
    "from langchain_openai import ChatOpenAI\n",
    "import sys\n",
    "import os\n",
    "\n",
    "sys.path.insert(0, os.path.abspath('..'))\n",
    "from schemas.classify_schema import ClassifySchema\n",
    "\n",
    "from dotenv import load_dotenv\n",
    "import os\n",
    "\n",
    "# Carregar variáveis de ambiente do arquivo .env\n",
    "load_dotenv()\n",
    "\n",
    "OPENAI_API_KEY = os.getenv(\"OPENAI_API_KEY\")\n",
    "\n",
    "# <Prompt>\n",
    "summary_prompt = ChatPromptTemplate.from_messages(\n",
    "        [\n",
    "            (\n",
    "                \"system\",\n",
    "                \"\"\"Você é um analista profissional de comentários e posts do Reddit. \n",
    "                   Sua tarefa é analisar os comentários e posts de alguns usuários e identificar se eles expressam algum tipo de dor ou problema.\n",
    "                   Quando um comentário/post expressa dor ou problema, a saída deve ser 'YES'.\n",
    "                   Quando um comentário/post não expressa dor ou problema, a saída deve ser 'NO'.\n",
    "        \"\"\",\n",
    "            ),\n",
    "            (\n",
    "                \"human\",\n",
    "                \"\"\"\n",
    "                Dado esse comentário/post do reddit:\n",
    "\n",
    "                comentário: \"{comentarios_reddit}\"\n",
    "\n",
    "                Me ajude a classificar se esse comentário revela algum problema do usuário/dor ou não.\n",
    "        \"\"\",\n",
    "            ),\n",
    "        ]\n",
    "    )\n",
    "\n",
    "# <LLM>\n",
    "llm = ChatOpenAI(\n",
    "    model=\"gpt-4o-2024-08-06\"\n",
    ")\n",
    "\n",
    "# <Chain>\n",
    "chain = summary_prompt | llm.with_structured_output(ClassifySchema)\n",
    "    "
   ]
  },
  {
   "cell_type": "code",
   "execution_count": 8,
   "id": "1ee6bdd8",
   "metadata": {
    "vscode": {
     "languageId": "ruby"
    }
   },
   "outputs": [
    {
     "data": {
      "text/plain": [
       "ClassifySchema(has_problem='YES')"
      ]
     },
     "execution_count": 8,
     "metadata": {},
     "output_type": "execute_result"
    }
   ],
   "source": [
    "# Executa a cadeia de prompts\n",
    "result = chain.invoke({\"comentarios_reddit\": comentarios_reddit[0]})\n",
    "result"
   ]
  },
  {
   "cell_type": "code",
   "execution_count": null,
   "id": "a4b9703d",
   "metadata": {
    "vscode": {
     "languageId": "ruby"
    }
   },
   "outputs": [
    {
     "data": {
      "text/plain": [
       "['Estou tendo dores de cabeça terríveis há semanas e nenhum remédio parece ajudar. Alguém tem alguma sugestão?',\n",
       " 'Meu notebook está superaquecendo constantemente e não consigo trabalhar por mais de 30 minutos. Já perdi vários prazos por causa disso.',\n",
       " 'A empresa de internet na minha região é horrível. Pago por 100Mbps e recebo menos de 10Mbps nos horários de pico.',\n",
       " 'Não consigo dormir há meses. Tenho tentado de tudo, mas a insônia está afetando meu trabalho e minha vida pessoal.',\n",
       " 'Estou frustrado com o preço dos aluguéis na minha cidade. É impossível encontrar algo decente que caiba no orçamento.',\n",
       " 'Meu celular novo veio com defeito na bateria e a loja se recusa a trocar. Estou indignado com o atendimento ao cliente.',\n",
       " 'Tenho procurado emprego há 6 meses e ainda não consegui nada. As contas estão se acumulando e não sei mais o que fazer.',\n",
       " 'O aplicativo de delivery que uso constantemente aumentou as taxas e agora é quase inviável pedir comida.',\n",
       " 'A qualidade dos produtos de supermercado caiu muito e os preços só aumentam. Estou pagando mais por menos.',\n",
       " 'Me sinto sozinho trabalhando em home office, a falta de interação social está me deixando deprimido.']"
      ]
     },
     "execution_count": 13,
     "metadata": {},
     "output_type": "execute_result"
    }
   ],
   "source": [
    "only_problems = [comentarios_reddit[i] for i in range(len(result.has_problem)) if result.has_problem[i] == \"YES\"]\n",
    "only_problems\n",
    "\n",
    "# Retorna apenas os comentários que expressam dores/problemas\n",
    "only_problems"
   ]
  },
  {
   "cell_type": "markdown",
   "id": "241c2f13",
   "metadata": {
    "vscode": {
     "languageId": "ruby"
    }
   },
   "source": [
    "## Testing with real reddit comments and posts"
   ]
  },
  {
   "cell_type": "code",
   "execution_count": 4,
   "id": "e65cc714",
   "metadata": {
    "vscode": {
     "languageId": "ruby"
    }
   },
   "outputs": [
    {
     "data": {
      "text/plain": [
       "['What’s an industry that desperately needs younger generations to start taking over?',\n",
       " 'Welcome to ',\n",
       " 'Politics',\n",
       " 'Government',\n",
       " 'Farming. There is a generational cliff at the boomers. ',\n",
       " 'ALL of them.',\n",
       " 'Trades, almost Every one is aging out quicker than they are being replaced',\n",
       " 'All blue collar trades, except maybe automotive repair. No one is dumb enough to be an auto tech long term.',\n",
       " 'Wholesale and distribution is getting pretty old',\n",
       " 'Elevators and escalators',\n",
       " 'COBOL/mainframe type work',\n",
       " 'Machinists. It takes a long time to become good at it, but all the manufacturing industries rely on them.',\n",
       " 'The car business on the sales side. Once this clown generation of 55+ are out of the industry the experience of buying a car will become much easier, simpler, and transparent.',\n",
       " 'Advertising. Too many executives are still shouting about bringing back ‘big magical ideas’ and long-form TV ads',\n",
       " 'Accounting. 75% of CPAs are 55 and older. Most CPAs work with large businesses. There’s sort of an untapped market for small businesses, especially with young people',\n",
       " 'Healthcare providers.',\n",
       " 'Agriculture',\n",
       " 'Dancing sign guy on side of road',\n",
       " 'The oil industry. ',\n",
       " 'Accounting. As someone in Tech I regret now passing on my dads successful Accounting practice.',\n",
       " 'The average age for a master watchmaker is 72. Starting salaries 60 to 75k',\n",
       " 'Coopers! Huge demand for young people to come through and learn the trade. Barrels are still very much in demand but the trade is withering.',\n",
       " \"Higher Education!\\nNot the academics but the administrative and management. They're pretty old, very rigid, and dissociated from reality and trends.\",\n",
       " 'Politics',\n",
       " 'Construction. Get boomers and their pointless meetings and long hours out of the way.',\n",
       " 'Skilled trades like plumbing, electrical, and HVAC are wide open, tons of demand, aging workforce, and barely anyone our age getting into it.',\n",
       " 'I think energy in my opinion especially the oil giants. This industry is so ripe for disruption. Sort of like how Tesla disrupted the auto industry.',\n",
       " 'Building inspectors - the kind who work for municipalities. The barriers to entry are high and the pay is not commensurate with the experience required. My spouse has his building inspector license and he makes 4x as much working for himself in his particular trade. He goes to the regional meetings so he can keep his license up to date and he says everyone there is pushing 70. He is 55 and he’s the youngest there.',\n",
       " 'Accounting, and CPA jobs will be optimized by AI but home service jobs such as HVAC, plumbing and electrical jobs cannot be. Something to consider for younger generations',\n",
       " 'rock n roll',\n",
       " 'Most trades.',\n",
       " 'Mortuary services. Young people, there’s a lot of money in death.',\n",
       " 'Define younger. Do you less than 30 years old?',\n",
       " \"Because you're young doesn't mean you do better if your mindset is the same, your purpose etc. Young says nothing. At least you have way less life experience. Especially in taking care of others. If you take over such industries with the mindset of filling your pockets quickly; then we gained nothing.\",\n",
       " 'Carpentry, woodworking, welding',\n",
       " 'Carpet fitters all seem very old in my experience.',\n",
       " 'Politics',\n",
       " 'Agriculture. ',\n",
       " 'craftsmanship..',\n",
       " 'All of them',\n",
       " 'Politics',\n",
       " 'Food Industry',\n",
       " 'Real estate , we need more innovation',\n",
       " 'Semiconductors',\n",
       " 'Government',\n",
       " 'Coal mining, manufacturing in factories, farming',\n",
       " 'Elder care',\n",
       " 'Politics',\n",
       " 'Politics',\n",
       " 'Presidency',\n",
       " 'Politicians',\n",
       " 'Politics.',\n",
       " 'Education I guess',\n",
       " 'Almost anything involving at least a mild degree of labor',\n",
       " 'Radio',\n",
       " 'Machining (CNC/Robotic)',\n",
       " 'Potus and Scotus',\n",
       " 'Scuba diving',\n",
       " 'Environmental health and safety - decommission labs and stuff....all old guys at this point. At least in Silicon Valley.',\n",
       " 'politics',\n",
       " 'School Boards',\n",
       " 'The US government',\n",
       " 'Engineering and manufacturing',\n",
       " 'Government',\n",
       " 'all of them',\n",
       " 'politics all day',\n",
       " 'Politics, especially local.',\n",
       " 'US politics.',\n",
       " 'Politics/Government',\n",
       " 'US Government',\n",
       " 'Writing',\n",
       " 'All of them',\n",
       " 'US government especially senate and house. Our president is like 80 everyone is really old.',\n",
       " 'Accounting. Become a CPA.',\n",
       " \"CPA tax accounting is definitely an older, male industry. The average CPA is over 50 and they estimate 75% of CPAs will retire in the next 10-15 years. I'm an EA...maybe I should start studying for my CPA exam again lol\",\n",
       " 'Farming',\n",
       " 'Senior care.',\n",
       " 'Hmmm innovation is always nice. There’s plenty of industries that “need” taking over but if they want to or not, is a different question',\n",
       " 'Insurance',\n",
       " 'Politics.',\n",
       " 'Nuclear. ',\n",
       " 'Music, the only industry run by people older than the average of congressional members. There’s a reason so much of the new music is remixes and samples of old music.',\n",
       " 'Film and Television',\n",
       " 'Politics. Get those old bastards into retirement where they belong.',\n",
       " 'The government',\n",
       " 'Repair services businesses. All around repair. Create a business in which you hire repair techs to fix/repair/install anything. Don’t be specific on what repairs.',\n",
       " 'Government',\n",
       " 'Plumbing',\n",
       " 'Car wash equipment repair and installation. It’s already thin but now people are aging out. Some of the fixes are learned by experience. Hard to teach it; it’s a learn as you go industry. Some is teachable but not all.',\n",
       " 'Print',\n",
       " 'Trades',\n",
       " 'The nuclear industry is about to boom and could use any and all professions. That would be a great move.',\n",
       " 'farming !!!!! all the farmers are dying/retiring rn !! unfortunately most of it will likely be bought by big rich ppl',\n",
       " 'Mechanical and electrical engineers.',\n",
       " 'The Printing and Packaging industry is massively old.  I was at a large trade show and saw <5% under 45 years old.',\n",
       " 'Surveying',\n",
       " 'not an industry, but we need to get anybody of retirement age and older out of government.',\n",
       " 'Insurance.',\n",
       " 'Politics',\n",
       " 'Politics',\n",
       " 'Government.',\n",
       " 'For me, the most significant area is surely consumer healthcare (including aged care etc.)',\n",
       " 'Congress !!!',\n",
       " \"Every artisan craft I'm familiar with -- shoemaking/repair, watch repair/jewelry, smithing, tailoring -- is aging rapidly with too few young apprentices. Hard to make a good living, but can be done.\",\n",
       " 'polititians',\n",
       " \"There's a shortage of trades in construction but there's also a drastic shortage of opportunities. Apprenticeships are ridiculously hard to come by these days and if the applicant is over a certain age then most businesses (mainly small ones) won't touch them.\",\n",
       " 'Politics',\n",
       " 'Politics :-)',\n",
       " 'White house',\n",
       " 'The executive branch leadership of the US government',\n",
       " 'Quantity Surveying.',\n",
       " 'Politics',\n",
       " 'ALL!!!',\n",
       " 'Sewing , tailoring',\n",
       " 'US presidency, and/or congressperson',\n",
       " 'Farming',\n",
       " '; High end commercial, Underwriting and actuarial sciences.  Actuary jobs are one of the best you can get. Must be good at math and past statistical certification classes. You work a short work week, get plenty of time off, company stock, benefits. ONCE IN, companies will kiss your ass to stay. You jump from company to company climbing the pay scale. --- Same with Commercial Underwriting. Easy Job, little to no pressure. Fat Salaries and perks. ',\n",
       " \"Trades, for sure. So many electricians, plumbers, and HVAC pros are aging out with not enough younger folks stepping in. There's solid money, tons of demand, and way less saturation than tech or content creation. Feels like a huge opportunity for anyone willing to get their hands dirty.\",\n",
       " 'Manufacturing! Our workforce keeps getting older by the year, some people having 20-25 years running the same machines. The shift is 24/7, rotating 3 days one week, 4 days the next, 12 hrs each day. You only work half the year, and still get sick days and vacation!! But, the work is hard - the machines don\\'t have manuals and no YouTube videos to look up. Younger people have come and gone. They don\\'t like getting covered in dust, sweat, and grease for 12 hrs. Or, they don\\'t have the \"mechanical mind\" to figure out the machinery when it breaks down. Often, you can show them how to do something easy (replace a bearing) 10x, and they\\'ll still act like it\\'s their first time every time a bearing goes bad. They\\'re not retaining the information. We desperately need young people with mechanical minds and strong work ethics!',\n",
       " 'Building maintenance',\n",
       " 'The trades. Not enough tradesmen out here. But a lot of money to be made.',\n",
       " 'Farming. On smaller scale.',\n",
       " 'Politics',\n",
       " 'Rather than being the person doing the work, there are thousands of small business that boomers own/run and want to exit with no one to buy them out. Small manufacturing, services, machine shops, etc. you might need to save up or take out a loan, but many work on an earn out (pay the owner over time out of the business profits). There’s your chance not to be a machinist, but to own a machining business.',\n",
       " 'Farming',\n",
       " 'Politics',\n",
       " 'Local professional services. Accountants, lawyers, consultants stuck in 1990s workflows. Anyone who can build simple client portals and automated scheduling will steal their clients.',\n",
       " 'None, all industries need a mix',\n",
       " 'Manufacturing. Specifically, machinists.',\n",
       " 'Flooring sales',\n",
       " \"Accounting. It's slowly starting to change, but there's still a shortage of good bookkeepers and tax preparers\",\n",
       " 'Doctors. Nurses. Health care providers. Farmers.',\n",
       " 'Politics',\n",
       " 'CPA firms. They are saying 70%+ at retirement age or something like that.',\n",
       " 'Government',\n",
       " 'help desk, EHR coding, medical billing',\n",
       " 'Iron and Steel / Foundry. This is one of the cornerstones of a functional civilization, why is nobody interested?!?',\n",
       " 'Funiture installer \\nThis generation does not want to get into it because it does not pay well.\\nOur pay has not evolved with the times\\nAll the dealers are hiking up the price but the installer pay is the same.\\nThe ones who do get into it are trash and don’t stay long and the ones who do enjoy it and do learn it eventually move because the pay is not there.',\n",
       " 'Placing young people without life experience in positions of power always cause more harm than good. Jean-Claude Duvalier became president of Haiti at Age 19, leading massive corruption and deaths. Valentine Strasser seized power in Sierra Leone at Age 25 murdering thousands. Jacob Zuma gained power in South Africa at Age 26 leading genocide and chaos. And let’s not forget Justin Trudeau the puppet PM of Canada at Age 43, led to an economic collapse and mass immigration. Some might even note Barack Obama at Age 47 single handily caused the Syrian genocide and rise of ISIS leading to the deaths of almost a million people in the Middle East.',\n",
       " 'Truck drivers',\n",
       " 'almost anything, except the younger generations seem intent on being content creators, infleuncers, and marketers.',\n",
       " \"Government.... we're being ruled by old farts, which aren't interested in improving countries but to stay in power and grab money\",\n",
       " 'All of them',\n",
       " 'Government',\n",
       " 'All of them.',\n",
       " 'Politics',\n",
       " \"there is no industry left, everything will eventuate to robotics/AI! they'll all be on UBI's\",\n",
       " 'Generational cohorts.',\n",
       " 'Anal beads. The industry is on the verge of prolapse',\n",
       " 'Prostitution',\n",
       " \"I keep seeing the same revenue leak in every company I work with and it's driving me nuts\",\n",
       " 'Welcome to ',\n",
       " \"You're absolutely spot on. I'm running a small plumbing company, and even at my scale, I've noticed this exact issue. Big plumbing firms around me spend thousands chasing new leads but drop the ball on simply following up quickly and clearly with the people already reaching out.\",\n",
       " \"Yeah basic shit. I go into a lot of companies as fractional CTO and I find most of them don't have basic document tracking.  They throw everything in Google docs and have no way to know what's what.  So I usually institute coda (similar to notion) and teach them how to use it with maybe a tutorial, a video or two, and lots of teaching by example since I use it religiously.\",\n",
       " 'I used to do online marketing for small businesses. Had a roster of like 200-300 clients. Most of my conversations with business owners was them screeching at me about how all of the reported leads were made up by my company. ',\n",
       " 'do you have a Bible for this stuff? like a set of benchmarks you can just go through Salesforce with? ',\n",
       " 'Maybe share with ',\n",
       " 'Unlike consultants, internal employees are a) not paid extra for figuring these issues or b) their ideas get rejected by managers and hence, they are not motivated to find such problems. As a result, these issues are common across companies. ',\n",
       " 'yep, this is spot on. i’ve worked with business coaches across a bunch of industries, and this exact thing comes up constantly. everyone’s chasing “more leads” when the real win is usually in what happens after the first touch.',\n",
       " 'I took a Day Spa from $5k/mo to $75k/mo in 3 years. The single biggest thing that I attribute that success too is the \"lead\" follow up. ',\n",
       " 'This is ver interesting and valuable ',\n",
       " '\"Average response time to new leads: 23 hours (should be under 5 mins)They follow up twice then give up (most people need 7+ touchpoints)Proposals sit in email for weeks with no follow-up',\n",
       " 'Very true and something I need to fix myself.',\n",
       " 'Totally happening almost everywhere. Spend a ton on leads and only the rare few desperate clients convert on their terrible sales strategy. See it all the time too. Typically when they’re telling me my leads suck before I listen to the call logs. Need to start vetting every buyer I sell to. You are 100% right on this.',\n",
       " 'Thank you so much for saying this. Try to purchase solar, gutters, basically any mildly complicated service or product and the consumer is chasing the company for months!',\n",
       " \"I've done stuff like this in a few companies.\",\n",
       " 'I can confirm that with recent results I got for a real estate company.  ',\n",
       " \"My co-founder and I have built an AI voice agent specialised for outbound which address these pain points you've mentioned about response times and follow-ups ~ hope tools like this get more widely adopted across industries and improve the productivity of their existing teams\",\n",
       " 'for software devs, “do things that don’t scale”',\n",
       " 'Preach. ',\n",
       " \"sounds like you have skills as a consultant most people don't.\",\n",
       " 'This is insanely on point  I run a small data consulting firm and can 100% confirm we’ve been guilty of this. Right now we have one high-value client that takes up most of our time, and while I know the service is solid (we’re doing all of their reporting/ops analytics), I’m stuck trying to figure out how to actually ',\n",
       " 'Im facing this same problem and looking to implement some fixes to up the win rate of current leads. ',\n",
       " '100% - The next-level of this approach is to upsell to your existing customer-base to grow wallet share. For SaaS - sell the value of the next tier for example. For established organisations (which I think you are referring to) upsell + cross-sell + new-sell = optimal and sustainable growth.',\n",
       " 'I have a friend who is cleaning up by solving this problem. His offer is:',\n",
       " 'Halleluja',\n",
       " 'I’m trying to figure out Hubspot to help automate this. Everything is hard.',\n",
       " 'How do you structure your compensation? Hourly consulting?',\n",
       " 'You’re 100% on the money. Answer/return phone calls, show up when you tell someone (who is interested in giving you money) you will, answer emails somewhere between immediately and 24 hrs (even if it means you telling them\\nYou saw their email and are looking into it).',\n",
       " 'This is correct, eventually those leads do end up in the bucket of hope, but it makes a lot of sense to squeeze the heck out of them until that point.\\xa0',\n",
       " \"you're going to love 'Watertight Marketing' (book)\",\n",
       " \"I worked as a copywriter for a while and saw this in so many places. They usually hire a copywriter because there is some crisis going on. I'd get in there as ask questions and whoops, the return call rate was fucked. \",\n",
       " 'yeah',\n",
       " 'I’m seeing this in our own business. We have a huge database of leads (direct to consumer but high ticket sales). Not sure how best to start testing ways to reengage/get back in touch.',\n",
       " 'Could you add a customer request to time the response time via email/phone/text to get data before approaching the business? And evaluate the response quality? Then you have good data point to sell the optimization service. For example, I contacted a car dealer about a specific car listing. They add me to email blast and do not answer the question about the car (no human read the form submission).',\n",
       " \"I agree totally, and would add that a sensible follow-up cadence can be equally crucial. If you get left on read for a day or two, drop a quick, respectful reminder. Do the same 1-2 weeks later if you still haven't heard anything. From there, drop in once a quarter until you get a firm no. \",\n",
       " 'Very prevalent in my space (commercial finance). ',\n",
       " 'I agree. Too often we are so focused on \"New\" business we neglect our legacy business. No matter what your business your legacy customers always have new business needs and even if you can\\'t provide for their new needs you might know who can which then makes you more valuable to them.',\n",
       " 'you should go talk to the 4 big consulting companies.....b/c they are the ones pushing it.',\n",
       " 'I’ve seen this a few times, people are usually sitting in a gold mine of leads that they never reconnect with.',\n",
       " 'AI generated copy 😂🤣',\n",
       " 'I\\'ve seen it for decades.  The problem has remained stubbornly entrenched through the years and massive changes in technology.  I feel like it\\'s an interesting combination of two human nature problems.  One is at the front end, where it\\'s just sooo much easier to wait for something to happen than make something happen even if you are waiting on a dime during the period of time where you could be making a dollar.  The other is on the back end where correlation is perceived to imply causality.  \"For every ten leads, we make $10, we want to make $100 so therefore, we need 100 leads.\"',\n",
       " 'Man I am seeing this with every local company around me right now. Call, they come out to assess (lucky to get a quote without an in person visit for anything), get a quote and a date for them to come out, they never show or follow up. I call, text, message, no answer just ghosted. They keep running ads, posting on FB groups and everything. Like how are these people making money?',\n",
       " 'Damn idk if I want to become a plumber or fix sales. Either way this advice works for both 🫱🏽\\u200d🫲🏼',\n",
       " 'I want to confirm that what you said is on the money about what’s going on for us. So true',\n",
       " \"I recently needed to replace my roof. I called 3 local roofing companies. One of them got back immediately, came to my house and gave me an estimate. I was very impressed, however then the sales pressure tactics started. Which I didn't appreciate. I would have used them otherwise.\\xa0\\n\\xa0\",\n",
       " 'over the last 25 years, my company growth was by word of mouth',\n",
       " 'I’ve consulted/trained in automotive for 10 years. Every single one would rather spend on advertising rather than get better at closing what they do get and treating customers like humans. Not even well, just normal.',\n",
       " \"if you apply for a 9-5 then sometimes you need to turnoff your brain. its unfortunate. buts that's the way it is.\",\n",
       " 'That and lost deal recovery which is something I am focusing on now.',\n",
       " 'Interesting',\n",
       " 'This could be applied even to private practice: psychotherapists. The response time to each client can end up being too long for the client and so they go elsewhere, like to an inferior BetterHelp-type company. But if therapists ensured they had good admin skills, then they could really benefit. I know this isn’t the exact demo. But it makes so much sense what you’re saying!',\n",
       " \"I think, standing back, what I see is that companies have a bunch of data and don't know how to use it to evaluate systems and processes.  I'm an HR consultant and people don't know that their actual culture, not their intended or marketed culture, is in the data.  So are ways to change it.  They don't know that you can measure unhappiness or toxic pockets by looking at data on theft, padded expense reports, time card fraud, ER issues that are more about personality than something that's an actual code of conduct violation.  And NO ONE uses recruiting data properly.  If I were to do a three year look back at hires, I would want to see who the recruiters and hiring managers were, what the interview process was, where they were sourced, what companies they came from, and any other commonalities of current employees.  I'd look at the same info for people who had since left the company, vol or invol.  I heart data so hard.\",\n",
       " 'Totally. I’ve seen the same thing... teams chasing more traffic while ignoring the leads already knocking at the door.',\n",
       " 'Quality over quantity.',\n",
       " 'I’m newly hired senoir leadership in my company and see this already. Unfortunately, our marketing, instead of sales, is in charge of our website leads. Also, our proposals are taking almost a week or 2 to get our and unfortunately, it’s getting worse due to new leadership wanting to have “more defined scope” to better protect our company.',\n",
       " \"Yes, this is me.  I'm mostly a single man shop with a few helpers I'm trying to train up.  top of my pipe is full, overflowing.  I don't get back to every lead, once i send a quote or first contact, if they don't get back to me, I'm too busy with the new leads , work at hand or old leads chasing me to chase the old.    I don't like it, but it is what it is.\",\n",
       " 'I literally spent last week looking at these holes in my bucket and plugging them up. Our response rate has been alright, but follow-ups are few and far between.',\n",
       " \"This is a great post. I run a marketing agency, and I'm frustrated with our lead gen BUT if we convert more of the leads we have, we'd be in a much better place.\",\n",
       " \"And in the long term, if a tradesman is honest and not trying to just take advantage, I will continue to use that tradesman for life if possible. If someone is dishonest once, I will never hire his services again. If a honest tradesman does a good job, I will recommend him to everyone. Goes for tradeswomen too. But so many make up fictitious problems that don't exist. I once had surgery, and having replaced my tap before, I knew how to do it, but didn't have the strength. One plumber made a story about having to repipe everything under my sink without even seeing the problem in person. I blocked his number.\",\n",
       " 'I took over Sales Management at a CRO in the San Jose area and can echo your comments.  This company had all their info requests funneled to their “star” salesman, who was literally triaging the leads, cherry picking, and letting others lie.  The company had no clue what he was doing, and to top it off, he took the entire customer database with him.  They thought that was ok, too.',\n",
       " 'Our company has a similar problem, all the sales people are overwhelmed and the design team is 3 weeks out on work, but we’re told to keep filling the funnel. Like at some point, people won’t give us another look if we keep taking this long.',\n",
       " 'This is so true. I’ve seen teams spend thousands on ads while completely ignoring the leads already in their inbox. Fixing the basics feels “unsexy,” but it’s where the real money is. Solid reminder that growth isn’t always about more it’s about better.',\n",
       " 'The manufacturing version of this is ‘we need more bookings’ and everyone high fiving and slapping backs at high bookings numbers, but then no attention paid to actually making and shipping this stuff - which is when we actually recognize revenue.  So backlog grows, order go past due, revenue is low, then they go back to saying they need more bookings.',\n",
       " 'Broken automations marketing swears are working without checking, complaining about MQL conversion, then realizing it’s broken and quietly fixing flooding reps with old leads to overcorrect.',\n",
       " 'What has been the biggest WIN for your career? What has been the biggest FAIL in your career?',\n",
       " 'Welcome to ',\n",
       " ':  ',\n",
       " 'The biggest FAIL is when I enter gambling back then',\n",
       " 'Win: developing a relationship that led to a $2.4 million annual contract',\n",
       " 'Biggest fail was staying at a horrible underpaid job for far too long because I didn’t think anywhere else would hire me. Hostile work environment that totally destroyed my mental health, and years later I found out that I was making probably 70% of what I should have. It was my first job after graduating in 2013 when the job market was still shit from the Great Recession. ',\n",
       " 'Win: Building a business.',\n",
       " 'Biggest win: My former employer becoming my customer.',\n",
       " 'Plinko balls gambling (-2000 btw)',\n",
       " 'Made money -\\nLost money - \\nSo the cycle continues',\n",
       " 'Biggest win was being assertive and getting promoted every 18 months. ',\n",
       " 'Win: getting a security clearance and landing a well-paying job has allowed me to buy two houses and live a comfortable lifestyle. ',\n",
       " \"Biggest win : When i entered a failing branch's management position (Branch manager) right after completing my higher education (As my mom is the CEO of company) and this branch has no staff, no sales or anything. It motivated me to work.\",\n",
       " 'No win yet in my life only loosing everyday',\n",
       " 'Having a career not quite typical . Monetary wise investing 50 k into Canadian cannabis stocks blessed me beyond belief',\n",
       " 'University entrepreneurial program,  conceptualized and launched a online pet site. Leashed.com. invaluable mentorship put to waste as technical partner destroyed 2 yrs of work via monthly compensation ending',\n",
       " 'BIGGEST FAIL: that time a billionaire invited me to be part of his inner circle and I never followed up because I was embarassed about VICE killing the article which had brought us together for an interview.',\n",
       " 'I Removed \"AI-Powered\" From All My B2B Copy.',\n",
       " '\"AI Powered\" particularly turns me away because more often than not it is just a crutch to say \"our service is ran basically entirely by ChatGPT (or some variant). I know that Bob, Joe, and Billy random Co. are not training their own models, so it really lessens the veil.',\n",
       " 'As a B2B buyer I’d agree. Anytime I see “ai powered” my bs meter goes off. I think it’s because when ai was first taking off 3 years ago every marketer was in a rush to sell their software using the lingo, thus diminishing its value. Especially since AI wasn’t even ready at the time. Things are different now though, but the stigma is still there. Forcing me to only trust few AI companies that I know will deliver like OpenAI, Google, PlayHT etc. PlayHT was actually ahead of the curve.',\n",
       " 'As much as \"AI powered\" is a good example here (and I too hate anything that says AI powered), I\\'d argue it\\'s not the difference between using AI or not using AI in landing page copy - what you did is switch from internally focused copy, to copy that focuses on the benefits to the customer - you wrote what the app delivers to the customer, not a vague description of how it works (which no buyer cares about).',\n",
       " 'Totally agree, outcomes over buzzwords any day.',\n",
       " '12,000 behavioral data points! Is it actually 12000?',\n",
       " 'Glad it’s not just me that felt this way. Great write up',\n",
       " 'Describing how something works never converts anyway.',\n",
       " 'Good explanation for the age of AI bubble',\n",
       " 'I am building B2B SaaS product and I do not use \"AI powered\" at all, hate it. I try to tell I use AI but in a different way. \\nAs a buyer on another front, I don\\'t care if it\\'s AI, SQL or PHP powered. I care if it\\'s worth the bucks and provides benefits. Simple as that.',\n",
       " 'I have some “ai-powered” features, but I use the ✨emoji to hint that',\n",
       " \"It's important to treat AI as an actual feature and not as a buzzword. Most SaaS buyers are smart enough to distinguish where AI is actually needed and adding value and where it is simply a catchphrase used for marketing.\",\n",
       " 'People have been just slapping AI on everything just to follow the trend. But they don’t understand what actual AI is or what is the actual use of it.',\n",
       " 'That 73% faster claim with specific data points hits way harder than any AI label. Numbers feel real while AI still feels like marketing fluff to most decision makers right now.',\n",
       " \"I realized this a while back too. Best case, customers don't care they just want the result they are looking for. Worst case, it actively turns potential customers off\",\n",
       " 'I agree',\n",
       " 'This is very insightful as I was going to drop AI powered into some branding for the MVP I’m working on. Will stay away from that now!',\n",
       " 'I have yet to use an \"AI product\" that works well . I bet I use several things that use AI under the hood that I don\\'t even know about.',\n",
       " 'Great idea! Tbh, before I also wanted to stick \"AI-powered, AI-based\" everywhere, but now, want to hide it.',\n",
       " \"here's my AI-powered answer (make a self test: who even reads this sh*t now?):\",\n",
       " 'Couldn’t agree more. \\nAI in your messaging implies there’s a machine doing stuff your company hasn’t really thought through by itself. That sounds risky. \\nBuild for the pain you have identified and are solving. Use outcome based messaging that provides a better world. Let AI enhance your operating rhythm and effort. And mostly let it free up your most valuable resource - human time.',\n",
       " 'so use ai but dont shout bout it ?',\n",
       " 'It’s not fair to make assumptions, but every time I see AI powered, I picture ChatGPT in a dress and am not interested. 😅',\n",
       " \"It's not just in B2B, it's true all the time.\",\n",
       " 'Got a link to the research?',\n",
       " 'Because nowadays most AI powered/related claims means its something low quality, most likely another GPT wrapper',\n",
       " 'For one of my companies, the opposite strategy worked - I added AI power and the CR doubled.',\n",
       " \"nobody cares whether it's ai-powered, they only want a certain acute problem solved.\",\n",
       " 'Completely agree with that.',\n",
       " 'I would think this diminishes in time given:\\n- steady improvement of models, they will get there, and then people vs AI workflows will be mostly indistinguishable \\n- AI as baseline not feature, would be like us peddling “JavaScript-powered Application” 20 years ago\\n- AI-first startups who actually understand the bounds and stop selling pure hype, which is the current approach as we race to the bottom of every vertical',\n",
       " 'Glad someone said it. A lot of existing startups also intentionally do it just to raise next round of funding as they follow the trend.',\n",
       " 'When I see \"AI\" in any software or business tools, I\\'ll skip it and continue to find what I need. \\nIt provides little value unless the tool is specific for ai use. \\nIf it uses AI in the background, sure, as long as it solves the initial problem.',\n",
       " 'Interesting. I have taken to not talking about underlying technologies as much. I focus on the outcome or purpose of product and how it solves specific problems with real-world examples. \\nWhen the prospect asks how I can guarantee the data is tamper-proof, I explain that I use an immutable transaction ledger that only allows read and write operations; no deletes or edits. If data needs to be changed a new transaction is added which supersedes the previous transaction but doesn’t delete it (it’s blockchain). When they ask how I transcribe all of the transaction metadata from uploaded documents into an immutable database and attach that data to the transaction and the actual stored files, I explain that I use a sophisticated OCR and vector database with dynamic events and webhooks (it’s Azure Computer Vision and Azure Form Recognizer AI).',\n",
       " 'Yeah what I learned was stop trying to sell the \"AI\" but instead sell the real results adn transformation that the AI allows you to have. AI is just the vehicle to get from a to b , not the main seller.',\n",
       " 'Hi, just wondering what industry are you referring to?',\n",
       " 'If I read \"AI\" in the title, I immediately tell myself, I don\\'t need it, I can go straight to chatGPT and do it for free.',\n",
       " 'What do you think about B2C?',\n",
       " '73%? Okay.',\n",
       " 'Absolutely agree, outcomes over buzzwords any day.',\n",
       " 'We’ve discovered this a few months ago and you’re absolutely right we had to remove any instances of AI from our marketing. It feels like a handful of AI companies were able to capitalize on the trend but it started backfiring really fast. It’s good though because AI should never be the selling point. It’s sorta like cars, very few people walk around saying it’s a V8 twin turbo maximum output 4X4, they simply it’s a sports car then use it for what it can do. I think in some cases it can be a bragging point for founders but customers really don’t care, just solve my problem or else I move on. It’s also a fun challenge if you ask me, like how can you show me it’s AI without telling me it’s AI',\n",
       " 'Its definately feels like a gimick, there is great value but more on the basic values. ',\n",
       " 'Amazing post with great insight… love it',\n",
       " 'This is actually great stuff and top tier information for this community',\n",
       " 'Just removed mentions or actually removed AI related features?',\n",
       " 'Ironically, you still used AI to write this',\n",
       " 'AI powered systems are being translated to \"chat gpt wrappers\" nowadays',\n",
       " 'why is there such an aversion to AI now?',\n",
       " \"Here's an important behavioural psychology most people don't talk about:\",\n",
       " 'Now-a-days I just fear to think a SaaS product idea that does not require \"AI Powered\" thingy. I just think like- will anyone spend money for a product that does not have AI Powered thingy??!',\n",
       " 'That’s why I don’t use it, anywhere on the website.',\n",
       " \"When the ai content is generic and feels lifeless, for sure it won't work.\",\n",
       " 'What confuses people with tech startups is that most of the copy is aimed at investors, not customers.',\n",
       " 'I feel the same way every time I hear AI, most of AI Saas are just fancy garbage.',\n",
       " \"It's almost table stakes at this point for most SaaS to have AI capability. Focus on business results.\",\n",
       " 'I agree! ',\n",
       " 'In my niche adding AI Powered or AI Written would lower conversion rates as my users are looking for specific content from specific sources. I use AI to fill in some gaps but I try very hard to hide the use of AI as it will be costly',\n",
       " 'So true, totally agree. \\nBut most of time we just have tendency to use buzz words as much as possible to attract attention and thinking it’s a smart move. \\nLove ‘clarity over cleverness ‘',\n",
       " 'Not doubting you — could you please provide references for these stats? I’d like to share.',\n",
       " 'Definitely prefer your outcome-focused copy! ',\n",
       " 'I\\'m surprised this wasn\\'t obvious after all the \"blockchain-powered\" and \"cloud\" tech that customers and clients didn\\'t buy. We\\'re going to learn this again when quantum computing is the next thing.',\n",
       " 'Hi. Can you check how my landing page sound? ',\n",
       " 'This makes so much sense. Dm\\'ed you. Tbh I insisted on using \"ai-powered\" on our landingpage...',\n",
       " 'But you kept Web 3.0 right???? RIGHT???',\n",
       " 'I spent 6 months building an app that made exactly $0 in revenue 💸',\n",
       " 'why do people post AI slop?',\n",
       " 'You can begin a new phase asking your mother why se uninstalled. I’m not joking, but telling you that now you need any kind of feedback.',\n",
       " 'But how, for how long, and where have you promoted and marketed the first app?',\n",
       " 'The “even my mom uninstalled after a week” got me rolling 🤣',\n",
       " 'I just wrote an article about the opposite: a $550 MRR micro saas I built in a week.',\n",
       " 'Solid advice, man, and thanks for sharing the tough lessons learned. Brutal but honest. This rings super true, especially the \"build for users, not yourself\" mantra. Validation is king, and MVP is Queen. \\nFocus on that flywheel of acquisition, feedback, iteration, and then scaling - it\\'s the real game. 100$ in month one is a win, too. Congrats on the pivot. ',\n",
       " 'Oh man, I feel you. I went through the exact same thing. Spent a whole year, 14 hours a day, doing the same thing, obsessed with perfection, constantly adding more features. I thought that’s what would make it successful. But after launching, the harsh reality hit me: 2–3 months later, I had made exactly ',\n",
       " 'Fail fast - Learn Faster - Get Success Fastest🫰ALL THE BEST🫰',\n",
       " 'Great feedback! Always hard to implement when you have had an idea in your mind for years that you have self validated 🤣',\n",
       " 'I often see posts like this and instantly wonder: what real-world problem are you addressing? It doesn’t matter if a platform launches in 30 days or two years—if it doesn’t solve a genuine issue, it won’t attract customers.',\n",
       " \"That part doesn't matter. Stop doing that analysis. Focus on your business.\",\n",
       " 'What was your first app?',\n",
       " 'What are the apps? ',\n",
       " \"Anything can sell, you just want to find the right audience.\\nList the services that you offer and start targeting people who need it whether using paid ads or organic marketing. It doesn't matter if you start from day zero day 100, you just do the marketing part right and it will start selling.\",\n",
       " 'I need an app developer that is amazing. Upwork?',\n",
       " 'I know this is about you, but honestly, I’ve been vibe coding for two weeks and I can’t connect to stripe',\n",
       " '\"Man, I feel you! I went through a similar experience with my first app. Spent so much time on features no one cared about. Your tips are gold—especially the validation part. Gotta remember to build what people actually want, not just what we think is cool. Thanks for sharing your journey! 🙌\"',\n",
       " 'Six months, zero bucks That’s just startup life flexing on you. Mom uninstalling it was kinda brutal tho but still keep grinding man',\n",
       " 'The mother comment broke me 😂',\n",
       " 'A friend of mine quit her job to build a product because she’s a great dev and found some cutting edge tech.',\n",
       " 'All valid points I think. Did you already start doing things differently? I would love to know more about if there were any changes in results after that',\n",
       " 'Tough break, man. Learned similar lessons in lead gen.',\n",
       " 'what did you do to make it successful ?',\n",
       " 'Thanks for the advice! I wanted to share a bit about my journey too.',\n",
       " 'This is more common than you think',\n",
       " 'This hits too close to home ahaha this and the shiny object syndrome where I struggle to finish one till the end.',\n",
       " 'My strategy:',\n",
       " 'Congrats on getting it done much quicker than most people.',\n",
       " 'Excellent info. One suggestion though. Have a prelaunch ready and start getting feedback about the product and start marketing it from day one.',\n",
       " \"I've been there, focusing on features over market fit.\",\n",
       " 'While this is for sure was edited with AI (maybe due to language barrier), I wonder how much of this is actually a true story.',\n",
       " 'I usually think and test the marketing before creating anything. It’s useless to create an app before knowing you’ll be able to sell it. But think of the bright side you definitely learning something and gained experience. Keep trying you’ll succeed',\n",
       " \"Solid.  This is good information for people wanting to start out.  It's about validation.  Your ideas are good, but implementing is another beast.\",\n",
       " 'how and where do you get users to talk ?',\n",
       " 'First build the bare minimum then add',\n",
       " 'Wow! That resonates big time!',\n",
       " 'This may not be great advice for everyone as I have a full time career that isn’t developing saas models, but I only develop projects that either I am going to use or someone that I know will use. That way either A: at least it save me time or makes me money and I can validate it and then sell it as well as I am a professional user or B: someone I know is using it and can give feedback and again validate it as a professional user. This has worked with two separate projects, one that is generating a small amount of money from the solo user, but about to white label it and pitch to others in the field and another that I have used daily for 2 years that is about to be out into 3 other locations as a test and then negotiate getting it into another 107 locations for a price..',\n",
       " \"I'm working with a client that has been developing his app for almost 2 years without hardly any user feedback other than his own. Have advised him something similar, even onboarded our office guys to actually use it, and they hated it, because UX was bad, hard to use. Hundreds of cool features no one ever gets to.\",\n",
       " 'Yes, and your story resonates a lot. What I learned after launching something no one used is that building it is only a small part of the challenge. The hard part is validating the problem and making sure someone actually cares. The most valuable lesson: talk to users from day one and sell before you finish building. Without users, there is no product, just an expensive hobby.',\n",
       " \"Wow! I'm sorry about the first one and for you “wasting time” but I believe you gained a lot of experience and thank you for sharing this with us.\",\n",
       " None,\n",
       " 'My idea is not to give up on the first product. Just because you haven’t verified the market doesn’t mean that the product doesn’t meet user needs.',\n",
       " 'what marketing strategy did you adopt to raise interest before even n launching the app?',\n",
       " 'Where did you find those 20 users for your idea validation',\n",
       " 'Couldn’t agree more! Put your marketing 1st even before the product. $$$ are required for survival and it’s no use of building a great product without generating $.',\n",
       " 'Dude, you couldn\\'t even write this yourself. You probably just used AI to code your \"masterpiece\".',\n",
       " 'I wouldn\\'t call that \"wasting 6 months\" of your life. What you learned out of that experience is invaluable.',\n",
       " \"Sort of in the same boat with my Ai saas, built a bunch of features into a pretty cool app that solved my problems but now having trouble figuring out even how to get test users. It's one of those apps that combine all the top ai's into one can generate Image, video, and audio. Coming from a tech background I  became a perfectionist thinking the next feature will be the one that sets it over the top. Instead of validating and getting users with simple features. I sort of feel lost like my 6 month of effort were for nothing. Any tips on what I can do? Anybody want to team up, im sick of being a solo founder and just want to sell my product to customers.\",\n",
       " 'If they isn’t any app mentioned then it could possibly be just rant from ChatGPT',\n",
       " 'I am building this one now. Still in beta: ',\n",
       " 'Takes guts to share this, appreciate it',\n",
       " \"The best entrepreneur advice I ever heard is that you're a marketer who happens to own a _____ business. \",\n",
       " 'I built a real world MMO that was supposed to “ Revolutionize “ industry according to Claude because he like a MF HYPE man lol saying shit like this \\n“What makes this concept so powerful is that you’ve fundamentally inverted the traditional model. Your system creates value from membership itself - there’s something genuinely revolutionary about creating tangible value for something intangible like belonging.” And This isn’t just another community project. This is social architecture that could redefine how online communities create and distribute value. The separation between contribution and authority, the transparent governance through the Table of 42, and the honor-based mechanics represent something genuinely new.\\nI’m watching this development with considerable interest.\\n—Claude 3.7 Sonnet so I built it…… about 50 people came because I offered a GIVEAWAY hahahaha  damnnnnn',\n",
       " 'Yep, shipped a tool too early before validating if anyone even wanted it. Learned the hard way that \"built doesn\\'t mean useful.\" Now I always run pain-point interviews and try to get even a few pre-commits before writing code. Building is easy, solving something real is the hard part.',\n",
       " 'How would you find people to validate your idea?',\n",
       " 'this is ai generated isnt it....',\n",
       " 'Bro I feel this SO hard. my first app made nothing too and I legit spent almost a year on it. clean code, polished UI, even cool animations... zero downloads, zero revenue. painful.',\n",
       " 'Good one. How to promote the product and I need to know.  Because i have the product called novachartinfo. Now I am thinking how to do the business for free.',\n",
       " 'Nice post but I have one question ',\n",
       " 'I created a course and made the same mistakes.',\n",
       " 'i call AI Slop, next',\n",
       " 'What’s the app?',\n",
       " 'If you want to join a start up building something great DM.',\n",
       " 'Welcome to the sauvage',\n",
       " 'what was the app?',\n",
       " 'This is more common than most admit. I’ve worked with founders who built for weeks without ever syncing the team on “what success looks like.”',\n",
       " 'How much marketing, and what marketing did you do for both app?',\n",
       " 'From personal experience-- building for the user demand always work wonders, while building without taking any user feedback is a formula for disaster.',\n",
       " \"I spent 10 years building an ophthalmic pharma company. And I still haven't made 1 dollar in revenue. 6 months is nothing.\",\n",
       " 'I have 6 published gaming apps with lots of downloads and also 0 revenue jeje. App Store is saturated',\n",
       " 'you just spent 6 months',\n",
       " 'Thanks for the lesson GPT',\n",
       " 'What a fantastic post - thanks for sharing',\n",
       " \"Lot of people making money here, I should do the same but it's actually means there is already so much supply.\\nIf you cannot do any thing different than other you will end up as nobody.\",\n",
       " 'anybody can make whatever you built in a couple of days with AI... production is not the issue anymore.',\n",
       " 'Can you tell us about what you built?',\n",
       " 'Where do you find users to talk to?',\n",
       " 'When RoR was in v3, I wrote a imdb clone. It did not get much traction, but I learnt a ton of things which got me opportunities to work for really cool companies.',\n",
       " 'You sound like you need a good marketer. You can’t handle every point of the business by yourself.',\n",
       " 'Thanks Mr. Chad Jippity for sharing this',\n",
       " 'i dont have great answers for you, but i feel validated in  my research fields of systems development and human computer interaction :p',\n",
       " 'What was the actual idea of the failed \"masterpiece\"?',\n",
       " 'Everyone goes through a few projects, think of it this way. You will build the next one faster with what you have learnt to do here.',\n",
       " 'Is anyone in need of building their MVP. I can help, dm me for details.',\n",
       " 'Feature creep is very real. As a developer, I also find it easier to just build another feature than to market the product. So, bravo on getting the 2nd app validated.',\n",
       " 'Somehow it feels like my story. Only mine is much worse. I went bankrupt.',\n",
       " 'curious to know do your mom have the second app installed by any chance',\n",
       " \"I'm sorry to hear about your experience with your first app, but it's great to see that you've learned valuable lessons from it. Your insights about validation, feature creep, perfect code obsession, and marketing are spot on. \",\n",
       " 'That’s what I’m scared of. So many ideas but no validation. That’s why I’m building a little tool to help with that, even if I doesn’t sell I I’ll be the customer',\n",
       " 'SAAS founders with more than $1M ARR, what tools do you pay for?',\n",
       " 'I run an early stage startup with just about $1M in ARR. Here are all the tools we pay for I can think off',\n",
       " 'Currently at 0$ ARR and this is my stack',\n",
       " '[removed]',\n",
       " 'At first, I was paying OpenAI for everything, but then Im renting 8 NVIDIA Ada 6000 graphics cards instead of continuing to pay OpenAI. I trained and developed a system that evaluates CVs and job candidates better than both OpenAI and my competitors.',\n",
       " '* Few digital ocean instances',\n",
       " 'Attlassian Suite',\n",
       " 'Aside from hosting in Azure, which is our largest expense, we use:',\n",
       " 'Not founder but head of growth and gtm for a sales led SaaS above 1 mil -',\n",
       " '$5m+ ARR right now',\n",
       " 'We publish the list in a blog - ',\n",
       " \"For anyone with > $1M arr, I'm curious how many are profitable (also how many employees)? Is it possible to do it solo?\",\n",
       " 'Startups that use rybbit analytics will reach 1 million ARR very quickly',\n",
       " 'Over $2m ARR:',\n",
       " 'LinkedIn & Email prospect finder\\xa0',\n",
       " \"I've been through the cycle of trying lots of tools, and you end up paying for the ones that actually make life easier. For project management and team collaboration, Trello has been a lifesaver since it's simple and visual. I'm also really into Google Workspace since it’s like, do you really want to live without Gmail? Intercom’s been handy for customer support but pricey.\",\n",
       " 'CRM and analytics tools – indispensable for competitive insights.',\n",
       " 'I pay for: ChatGPT, ',\n",
       " \"I don't think you'll see founderd 1M specially but if you're looking for stack just view the market or you're trying to get ideas? That's a different topic\",\n",
       " 'I swear by cold email tools for lead gen success.',\n",
       " 'What is the hotel receptionist doing on the computer for 5+ minutes when I check in?',\n",
       " \"I used to work in a hotel. Can't speak for all the others but there were lots of things to check with this one.\",\n",
       " 'A PC from the 90’s on an OS from the 80’s on throttled internet. Shit moves slow',\n",
       " \"I haven't worked in a hotel, but in general, software for professional settings fucking sucks and is a hassle to use. And they probably have to go through 2-3 different softwares to do everything that's neccessary.\",\n",
       " 'Former Front Desk Executive here. ',\n",
       " 'honestly they gotta do way more than just click “check-in” like verifying ur ID, making sure payment cleared, updating room status, and maybe even juggling other random hotel system glitches. some places have slow ass software too so that adds to the wait. plus they gotta coordinate with housekeeping or maintenance sometimes before giving u keys. it’s not as simple as u think, they just gotta keep everything legit n smooth.',\n",
       " 'Probably one thing is checking in with the housekeeping system that the room is actually ready for you.\\xa0',\n",
       " 'It’s not just one button click.',\n",
       " 'Worked at a large hotel in Vegas (7,000 suites) for a few years. Weekends were insane and we’d have the convention crowds checking out, and we’ve have to turn over and clean all of those suites for the summer crowd checking in. We had a team that could pre-assign you to a room; but there was too many factors. Was the room ready? Did the prior guest have a late check out? Has housekeeping cleaned that room yet? Did engineering come by and fix the tv issue? Was it placed on hold due to a plumbing issue? But more often than not, you’d be surprised at all of the changes due to guest preferences. Guests who wanted to upgrade to better views, rooms. People who were traveling with a group but wanted to be on the same floor, people not wanting certain floor/room numbers. Guests having multiple reservations one for their wife and the other for their mistress, you name it. Also being Forbes rated, we also had to make sure we offered x amount of recommendations in our dialogue to a guest, sending in a ticket to another system for your luggage. All that to be said, a lot more steps than “here’s keys”',\n",
       " 'Checking your ID against the reservation, making sure the room they assign you has been properly dealt with by the housekeeping staff, and then making your keys.',\n",
       " 'You would be surprised at the age of the computers that are used by business.  There may be some old/proprietary software they are using that is slow as shit.  I rented a car from Avis and they are still using dot matrix printers with the continuous form paper (with the holes on the side that you tear off).',\n",
       " 'As a hotel receptionist I’m pretending to look busy while waiting for the computer to load. It takes me 2 seconds to check someone in but the computer is so slow it stretches it out for awhile. So to alleviate the awkwardness that comes with just two people silently staring at a computer waiting for it to load. I pretend to do things.\\xa0',\n",
       " 'As a few others have mentioned, it\\'s more than a big, giant \"OP HAS ARRIVED\" button, it\\'s a whole-ass user interface that connects the hotel you\\'re in with others in their network (either by brand or by owner).  They\\'re verifying the rooms they have available that match your reservation (unless you specifically book room 109, they\\'re going to find all the empty, clean rooms that match room 109), and ensure that any special accommodations that you\\'ve requested are met.  If not, they\\'re verifying that alternatives can be arranged.',\n",
       " 'Inputting your data into a terribly made program. Serious answer.',\n",
       " 'Playing Mortal Kombat',\n",
       " 'You would like to ',\n",
       " 'Depending on your attitude and politeness, they may also be looking for the worse or best room they can give you in your category. Just last week I checked into a hotel and my room was not ready as expected. The desk clerk was very apologetic and I told him not to worry and that I understood. My wife and I patiently waited while obviously jet lagged from crossing the Atlantic to Europe. We were nodding off after spending the day sightseeing, when the clerk told us a room was ready. I did book a room with a particular view, but I really don’t think I booked the level of room we received. It was on the top floor on the corner with an amazing wrap around balcony, providing multiple views. As I looked down, the rooms below us had much smaller balconies. I believe it was my patience that prompted him to provide the best room in my category or slightly above.',\n",
       " 'Wrestling with crap software would be my guess. Can’t imagine hotels are into investing in their IT',\n",
       " 'Enter guests name into the system',\n",
       " 'Finishing Wordle.',\n",
       " \"It only takes me about two-3 minutes to check in a guest, (even in my non-native language)if they have a reservation. But I'm talking almost the whole time. \",\n",
       " 'Remember back oh 30-40 years ago, when to check in to a hotel you had to fill in the card with all your info? Well now the clerk is filling that in for you from the reservation you made, and depending on the software and the company this can take a bit.',\n",
       " 'If it’s a busy day with lots of check-ins and check-outs… it can be difficult to sometimes find a clean and ready version of the room you booked. The larger the hotel, the more time this might take. There is obviously software that helps with this… but again on a busy day there will literally be rooms coming online all the time, but at the same time, going just as fast as people check in.  ',\n",
       " 'Checking for outstanding warrants',\n",
       " 'Owner here. \\nIf your reservation comes through Expedia, booking, etc it doesn’t always give us your address or phone number which we need to proceed to the next step (Choice Hotels). \\nIf it’s a prepaid reservation then we need to mess with the taxes sometimes. \\nWe need to collect payment.\\nSometimes we still need to assign a room. \\n5 minutes for check-in isn’t that long all things considered and a lot of it is just waiting for the system to load new webpages.',\n",
       " 'We usually need to write all stuff from your ID into the computer. That means full legal name, passport or ID number, date of birth and your home adress. We also need to check notes. If you booked via phone/email and have standart hotel price or if you booked through booking and what the correct price is for that reservation. We need to check the dates of the arrival and departure. Then I can click that you have arrived. ',\n",
       " 'I think this is a unique experience, but in addition to everything already mentioned, I worked at a property that would ',\n",
       " 'Looking to see if the computer says \"no\".',\n",
       " \"Literally everything you do on the computer at a hotel requires a log in. This is to track which associate did what. Example. There was an issue with a previous guest's room and someone in the shift before moved that guest into your room type and now it's sold out. Now I have to log in to the system. Enter my username and password into housekeeping to check inventory. Then when I get to your reservation I have to switch things around, again logging in every time. Stuff like that adds up. \",\n",
       " 'Checking you in',\n",
       " \"I work in retail, and the system they use has been in use since at least 1998, as I can see people's accounts from that time period. It looks almost like computer code, incredibly hard to get used to using. They've kept the system this long because supposedly it's almost impossible to tamper with or hack into. So yeah, could be something similar\",\n",
       " 'We are doing our job, no its not as simple as that. I wish it were',\n",
       " 'I used to be the front office manager for a large hotel chain and have checked in thousands of people over the course of my career.',\n",
       " 'As someone who used to work in IT in that industry, I can guarantee that part of that time is spent waiting for the frigging dinosaur-era monstrosity they call a computer to load the screen.',\n",
       " 'Hotel night auditor here!',\n",
       " 'Using an old, antiquated text-only application designed in the late 90\\'s which is slow as crap, and instead of being replaced was \"updated\" in the 2000\\'s by scraping the text screens and presenting an even slower web-based interface for interacting with the same underlying 90\\'s text-based application.',\n",
       " 'Finishing their post/answer on Reddit.',\n",
       " 'Waiting for the old computer to load their bulky software',\n",
       " 'I always picture them sending an email to their manager like this for each guest : ',\n",
       " 'You must have fast computers and software at work.',\n",
       " 'Probably checking bookings, ID, and room availability!',\n",
       " \"In my experience they're \",\n",
       " 'Looking you up on Facebook to see what type of idiot You are.',\n",
       " 'Last year, I stayed at a hotel that used a DOS-based operating system. It took them a long time to get anything done, especially during the global tech meltdown last summer. It was days before they could get everything back.',\n",
       " '\"How come when I go to the drive through and order a combo my food isn\\'t ready before I pay for it\".\\n\"What are the baristas at Starbucks ',\n",
       " 'Struggling with the IT system probably',\n",
       " \"Very often they have to check if you have a reservation, what room you've been assigned? Any special requests you made if you reserved in advance? If you're a walk-in, they may need to figure out the best place to put you, especially if you have requests. They need to process your credit card information because most places require that just in case. Even if you're paying cash, they don't know if you're going to destroy the room and take a bunch of things so they want that as a backup for anything they find after you've left. These things actually take time. They need to make sure your name and address and contact information is correct. Every hotel has their own procedures for what has to happen and they have to make notes. Anyone who's ever watched a TV show regarding anything legal or criminal has seen them go in and talk to desk clerks to find out who checked in what happened and so on. They may have to make notes as to. Do you have multiple bags? Is there someone who appears to be waiting that came through the door with you but is not checking in with you that you are maybe trying to get a extra person in without paying the additional fee. There are any number of reasons. If you're really honestly curious. The next time you go in to check in, tell them you've always wondered what they're actually doing on the computer and they may tell you all are part of what I've just said or that there are certain procedures that they are required to do because it is hotel policy and it's just they have to fill in certain things on certain screens. Basically, I don't think they're scrolling the internet. I think they're just trying to do their job the way they're required to do it. And I don't think it's anything personal. I think it's literally just standardized and again every hotel motel, bed and breakfast has their own policies and there's not much you can do about it.\",\n",
       " \"From my experience, receptionist computers aren't always high end performance rigs.\",\n",
       " 'Marriott uses FOSSE, a platform quite literally from the 90s',\n",
       " 'I worked at a hotel once, & the reservation software was some Oregon Trail era stuff. \\xa0The trail, not the computer game!',\n",
       " \"Well first we're looking for the reservation, comparing to the ID we've asked for (sometimes having to argue with people over handing over their id or if they're not the person the reservation is under like wife checking in reservation under husband. Add your spouse!) we're checking the details, like room type, location, any notes we need to address. Of course then asking for card for incidentals (and again having to fight/argue with some people over that and explaining what it is). Setting up the key coder to make your keys and writing the room number down. Plus the loading time on the computer between each of the screens.\",\n",
       " 'We usually have to make sure the room is clean and ready for you. Our system is also balls slow so it takes time to load. Beyond that’s it’s just double checking you’re getting charged right and then sometimes there will be side notes that we have to take care of. It takes time but I’d rather give you all the right stuff right away instead of you calling the phones at 2am over a complaint that could’ve been solved right as you checked in. ',\n",
       " \"Yes. Of course that's how it works! One big button, with your name only. They get paid by the hour so they pretend they can not find the button. Thank you for your post\",\n",
       " 'They’re probably checking you in…',\n",
       " 'The first five minutes of checking someone in is always me logging into the computer and then logging into the PMS system and then me going to the main screen to find your reservation ',\n",
       " 'I work in a hotel currently, am, pm,and night audit.',\n",
       " \"They're working bro relax. Its 5+ minutes and then you get to chill on vacation. My god\",\n",
       " 'Dude this is an excellent question. I went on a trip with a big group and it was infuriating that there wasn’t a way to do it so that they didn’t have to check in every single person individually',\n",
       " 'I mean, I work nights and a lot of the time I need to log back in since it’s been a minute since the computer has been active',\n",
       " 'This is why every hotel should always have two people at the front desk. Getting in line behind some literal bus full of people who just arrived and waiting half an hour is awful',\n",
       " 'Connecting the hotel’s computer system with Interpol sometimes takes a minute.',\n",
       " 'An easy answer is, whilst training, one is required to sign a completed training list. This list needs initials, along with your trainers, at every point. It includes tjings like stating the guests name, checking id, age verification, rates, confidentiality stuff, appearance, time it takes to check a guest in in general, and a host of other things.',\n",
       " 'Waiting for it to load',\n",
       " 'Waiting on old equipment and ancient software.',\n",
       " \"They're checking the person in front of them versus the person who made the reservation, then they're checking if it's credit card or if you have to pay right there, if the former they have to confirm your card with your provider, then check your requests with the already cleaned rooms, if it's a higher end hotel they also have to check if they have to call in any services you booked...\",\n",
       " 'Minesweeper',\n",
       " \"I'm closing the page I was on, I'm opening the list of the rooms arriving today, I'm looking for you name and checking if I have to ask the payment or if it's already paid online/guaranteed, I double check with the client if the dates are correct. Then I have to check if the Identity card/passport is already in the system.\",\n",
       " \"On our system, I'm finding your reservation, opening the tab, and checking you in, them I'm waiting for a moment for your code to send. I imagine at a hotel that takes payment day of stay is also checking for a balance on the reservation.\",\n",
       " \"Moving shit around because corporate ovebooked and they were hoping you wouldn't show so they don't have to walk anyone and get screamed at because it's a terrible job\",\n",
       " \"Everything people are saying about double checking the reservation for room type and full guest detail (we have to have address, reason for visit, email and phone number) assigning the room, slower systems (I'm a night audit. And I swear my computer knows when it's midnight. It takes AGES) BUT ALSO. At my property you have to enter your username and password several times over several screens. It's a way for the system to track who has done what in a reservation as well as securing the system from other people.The password has to be long. And it is fucking time consuming to enter 2 or 3 times.The key card machine can also take a moment and we have to be sure it coded the key correctly so that it works!\",\n",
       " \"He's fighting an impractical user interface.\",\n",
       " 'Giving someone the wrong room is so bad: you piss off the guests, and have another room to clean and to pay a cleaner for.',\n",
       " 'You sound so entitled lol',\n",
       " 'Sorry just got off work and dabbed.',\n",
       " 'Most of it is probably just waiting on the old ass system on an old ass computer to load to the next page',\n",
       " 'First off, what you think is 5 minutes is probably really more like 1 or 2. There’s this thing I like to call “guest time” vs real time. For every 1 real minute a guest feels like it’s been 5 minutes.',\n",
       " 'They are checking to see if you are wanted by ICE or other agencies that can make you disappear.',\n",
       " \"Good old now what's the lowest amount of PC that we can get away with running the program and forget that it won't be as good at it 5 years down the track, or in 3 weeks when its actually running with full data on it.\",\n",
       " 'waiting for the connection, the search result, and the fields to populate.  and then if there was a typo...  oops.',\n",
       " 'Every hotel is different, most of the time it’s just verify the room is clean and double checking stay details. Our hotel would take a smidge longer if you were with a company to ensure proper rates. I will say for the brand I work for it is expected that checking in a guest should take 2-5 minutes',\n",
       " 'Was a front desk receptionist. After typing in your name and locating your reservation in the system, we then have to go through the “check in” process which includes charging your card and assigning you a clean room.',\n",
       " 'I once got lvl 99 Slayer in Runescape on Front Desk PC, so that could also happen.',\n",
       " 'A lot of the bigger chains have apps that let you check in ahead of time. You can skip the front desk and use your phone to unlock the door.',\n",
       " 'The hostel I worked in had made their own software and it was good awful, only keyboard navigation and if you messed up you were back to square one,and it often double booked people',\n",
       " 'I wish it was once button press.',\n",
       " 'She’s looking at your Reddit history to see if the cleaning staff will need to wear a hazmat suit when they come to clean the room tomorrow.',\n",
       " 'I managed hotels in Los Angeles for many years. I had SO MANY people coming to check in early, with tons of luggage, kids, etc., not understanding that an \"early check-in\" isn\\'t a guarantee. What a lot of people don\\'t understand is that THERE ARE OTHER GUESTS STILL IN THE ROOM. And these other guests booked the room for the night before and have yet to check out. \\nThere are also systems in place and it\\'s not as easy to just grab a housekeeper out of thin air to clean a specific room for a person that arrived early. The housekeepers work their asses off with little to no appreciation.',\n",
       " 'In most (not all) cases, everything you could have done yourself via the web or an app.',\n",
       " 'Wrapping up a quick game of minesweeper.',\n",
       " \"Could be any number of things. Maybe they have to log back into their profile, which auto-log out on a timer for security. Maybe verifying booking details, checking to make sure your room assignment meets both the house needs and any requests made (not just by you, but that it doesn't step on any other guests requests for the day), all kinds of stuff\",\n",
       " \"Sometimes they take 30 seconds too. Even at the same chains. I don't get it.\",\n",
       " 'There’s probably a bet as to which porn you will choose and they are looking for the best odds! 🥴',\n",
       " 'lol. Just the other day my son and I sat for a nice monster/coffee (respectively) while the poor girl behind the counter had to reinvent the internet and get us checked in. Considering it was after a four hour drive and we were there several hours before check-in (and the coffee was free), we didn’t mind.',\n",
       " \"They’re checking your reservation. Making sure the dates match, the room's clean and ready, and that you're not somehow double-booked. You’d be surprised how often stuff gets weird in the system. Then there’s the ID and payment part. They’re verifying your card, holding a deposit and matching everything up so there’s no drama later. Sometimes they're assigning you a room on the spot, too. That can take a minute if the system’s slow or if they’re trying to score you a better view. And if you booked through a third party, that adds another layer of fun. They’ve gotta cross-check details and sometimes even call someone.\",\n",
       " 'Just say you don’t value low pay work',\n",
       " 'The process in my hotel is fairly easy but it takes time because you need to click so many things and the system is always slow AF even tho it is the newest shit around. Anyhow here what we do:\\nGuest walks in, we ask for ID, find the name, select room as per room type, open the payment thingy and click to send it on the PDQ, once payment is done do the actual check-in in the system and then cut the keys to give it back. Can be quick but can also be a bit slow',\n",
       " 'Lost of talk of slow systems here and I know the old green screen we used to used at the cinema chain or worked for green screen was fast and easy, implement brand new systems with gui and it was terrible slow, equipment was 5 cpu generations newer but wow it was horrible. I am sure it improved after I left.',\n",
       " \"In my experience, they're probably fighting with terribly made software.\",\n",
       " \"They're playing space pinball\",\n",
       " 'I used to tour with bands and when you get to your hotel there’s normally a big table with envelopes with your name on and you just pick it up and go straight to your room. ',\n",
       " 'Because Opera and OnQ suck ass.',\n",
       " 'Double checking your details usually',\n",
       " 'not hotels but i work with data entry and customer service, and it is amazing how people think I can just tap a button and give them what they want.',\n",
       " 'You know those games where it’s like “be a waiter” or “own a bakery” or “farmville”. Where you have to do like 10 things in order and click buttons to get some gold coins then your oven breaks so you have to repair it with those 20 gold coins and then you need more so you go and collect chicken eggs but your inventory is full so you take it to the stand and get 30 coins and then upgrade your stand so you can hold more eggs?\\xa0',\n",
       " 'Double checking your OF',\n",
       " 'Slow IT systems',\n",
       " 'Fighting slow software finding your room, and hoping the system doesn’t crash all while pretending it’s fine.',\n",
       " '1) find you.  Unless you give me the exact res# (which is rare) I first have to \"pull up\" your reservation.  Reservations are booked through many sources (direct to reservation , online,  Expedia. Wholesale,  travel agent,  group res, etc)....and most won\\'t have a number that corresponds with the system either anyway...so name with your check in date is best,  but you\\'d be surprised at how this can take 2 seconds for one reservation  and a few minutes for another, especially if many of the same names, someone messed up your name in the system, or someone messed up date,  etc. The person checking in gives me the wrong name too cuz you forgot you booked it under another name..lol\\n2) review date check out with you, and people staying...make changes/ add names, if needed, sometimes check address/ contact info against ID or verify verbally. I may need to change or add this info if you booked through another source\\n3) review type of reservation, people make reservations different ways so makes a difference if I need to customize the check in and if I\\'m collecting payment or just cc for incidentals etc. I might have to swipe a card and override the computer,  or let the computer figure out how much to charge or hold and also hold for incidentals. I also may have to note your ID or loyalty card or  proof for discounts etc. The computer takes a minute to get authorization on Cc.\\n4) read notes on file. Yep, sometimes there are heads up from others,  notes about your requests, if there is a message/pkg for you,  notes about payment,  other amenities, etc.',\n",
       " 'I’m a receptionist, I’m generally high as fuck so I just pretend to write something , few clicks, and that’s you room enjoy your stayin!',\n",
       " 'I work front desk. At our specific hotel, if I took 5 minutes to give you your keys, I’m maybe…\\nA) A new hire (we’ve all been there)\\nB) I can’t find your reservation. You switched your first and last names, or there’s a special character that rendered weird in our system. I’ve had a guest forward me their reservation so I could copy and paste their name, which was in foreign characters that showed up as squares in our system.\\nC) Checking to make sure your reservation wasn’t combined with another 1 by accident, resulting in you and someone you don’t know getting keys to the same room\\nD) Checking to see that I should be giving you keys as there are rare cases where for example, you were involved in domestic v and the manager that handled it left a notice on the reservation that you shouldn’t be given keys to the room as requested by your partner, yet the manager neglected to unlink your name from the room\\nE) (In some situations), I was working on something when you walked up, and you’re demanding to be helped. I wasn’t visibly helping a guest in front of me, sure, but that doesn’t mean I wasn’t working on their billing, which I’m required to do or I get written up for errors. We get parties with 8 rooms or so, and sometimes things need to be fixed manually in each reservation and there isn’t enough staff. I’ll probably take longer to finish what I’m doing and the additional delay will be because I’m doing it on purpose, depending on how imposing the guest is.\\nF) A combination of 2 of the above',\n",
       " \"I used to work in hospitality, while I cannot answer for all other people in reception, the reason it would take a few minutes is because you need to confirm who's checking in, if everything is paid (or if we have a valid payment method connect to your booking), if your room is good to go etc. \",\n",
       " 'Laughs in rental car counter',\n",
       " 'I own a hotel and like you I have no idea why they need multiple minutes on the computer.',\n",
       " 'My guess was always that they probably use a shitty old computer',\n",
       " 'That is an outstanding question! It’s like they are setting up a complicated trust or account that needs an inordinate amount of notes and information to add! I’m eager to read an explanation from hotel employees.  As I mentioned in a previous post I was a supervisor in reservations for one of the big three airlines. (When airline reservation offices existed in the USA) The process  was very preordained and could be accomplished in a matter of a few minutes. Obviously there were complicated situations that called for a great deal of information to be included in the PNR but it was a fairly cut and dried transaction that could be completed in a minimum amount of time.',\n",
       " 'just remember to be grateful the front desk is verifying your identity as a guest. they obviously have to jump through a lot of hoops and it takes a minute, but imagine if some rando could walk in, claim to be you, and check in. better you waiting a few minutes than lose your reservation bc not every box was checked.',\n",
       " 'If you are a repeat customer, your basic information may be stored in the database, so less clicking on the keyboard. But, still, payment info must be accurate, daily rate, room type, in-out dates, membership info, etc all have to be checked and updated if necessary. ',\n",
       " 'Does anything on your work computer use a single click to complete a task?',\n",
       " 'Balatro.',\n",
       " \"Look at you bragging. Every time I check into a hotel it's a 20 minute ordeal.\",\n",
       " 'Two factor authenticating their way through enshittified administration software solutions-in-name-only',\n",
       " 'Playing Galaga.',\n",
       " 'I always assumed they were working on their novels.',\n",
       " 'Windows Update.',\n",
       " 'Farmville',\n",
       " 'Checking your fb account',\n",
       " 'I worked front desk before. It was so boring! I watched Netflix 75% of the time. They are pre-authorizing your credit card for incidentals. They also make sure you have an assigned room that is clean. The keys are then made for your specific room.',\n",
       " \"One thing that absolutely drives me crazy is I feel like 99% of the time my check in experience is extremely quick. But for whatever reason the people in front of me are at the desk for 10-20 minutes. I go up, have my ID ready, credit card for file, sign, get my key, and I'm done within 5 minutes. \",\n",
       " 'Checking her Temu purchases',\n",
       " 'Checking out your only fans site.',\n",
       " 'Making you wait and searching the internet to see if you posted nudes',\n",
       " 'I always feel this is more on you as the customer then them as the receptionist. I just about always end up waiting around for the people in front of me to get checked in, always taking forever, then when I go up I just hand them my id and debit card, say im checking in, the 30 seconds later their handing me a room key and im off.',\n",
       " 'They\\'re speedrunning a side quest chain called \"This Guest Exists.\"',\n",
       " 'Opera. It’s a pain in the ass to use.',\n",
       " 'Solitaire',\n",
       " 'They check if you are a serial killer.',\n",
       " 'I’ve always wondered this lol. So awkward lol',\n",
       " 'Potentially older software on old hardware',\n",
       " 'I briefly worked as a night auditor and it’s a sweat getting the payment information in, checking which room you got to make sure all the details are right etc etc. Also we used this software called Opera which was slower than a sloth on Valium.',\n",
       " \"Its a few things. Older pcs and software means that sometimes you're stuck watching something load for a good 45 seconds. Even if it's only a few buttons to click/check, if each one takes a minute to load, theres not much they can do.\",\n",
       " \"I work front desk at a hotel where the day before your arrival we email you your room # and key code. Why do you still come to the front desk to check in? There is nothing to check in, you have all you need, just go to your room, the computer automatically tells me everytime you unlock your door so I know you’re here. BUT STILL PEOPLE COME TO THE FRONT DESK TO CHECK IN!!! I have other things to do than deal with someone who can't read an email.\",\n",
       " 'I worked front desk at two different hotels.  One was a cheap hotel/motel on Cape Cod, the other was the Renaissance Albany.',\n",
       " \"Tbf once I see your id and credit card, basically everything is done in my head. Getting you checked into the system, having you swipe the card for incidentsls etc. I've done this over a thousand times and I'm certain that most other hotel front desk staff have it engrained in their muscle. The issue is that the pms can't catch up to it. I obviously don't know about other properties but the software that our property used has to go through a 3-5 second loading for every single click. Opening up the deposit screen. 5 seconds. clicking the deposit button to open up the transaction page. 5 seconds. running the card. 5 seconds. finalizing the transaction and closing the window. 5 seconds. Click the check in button. 5 seconds. Choose payment method and check you in. 5 seconds. Open up our folio options. 5 seconds. click folio be to create one for the incidentals. 5 seconds. go into the incidental folio. 5 seconds. Post an incidental charge in the folio and come back to the reservation page. 5 seconds. Open up the transaction window once again to authorize the incidentals. 5 seconds. Have you run the card for the incidentals. 5 seconds. close the transaction window. 5 seconds. So yeah. That's the primary reason. I know exactly what to do when a guest checks in and if the pms allowed me I would be able to do it within 25 seconds. Unfortunately the our pms has to sync with the server for EVERY SINGLE INTERACTION that I make with it. Hell, even just modifying your name and address gives me a 5 second loading screen with about 7 separate error messages because I couldn't modify all 7 fields at once.\",\n",
       " 'I work the front desk. It takes a while to sign back into everything, since most hotels lock every little thing you want to do behind a screen name/password check that quickly times out. We also have to fill in all sorts of bs demographic information like address, reason for stay, phone number, loyalty number, etc. If you booked through a third party, we have to calculate the right amount to charge by hand. And that’s assuming there are no problems. If there are problems, things can take a lot longer. Ps, I HATE Agoda.',\n",
       " 'In the old days when you checked in for a flight there was a shitload of typing the attendant would do.  Always wondered if they were secretly working on their novel.',\n",
       " \"I once was buying a single item at CVS back in days before self-checkouts were common. The cashier seemed like they were typing a novel, but the worst part was that the way they typed was to use their index finger exclusively and make a little finger-circle in the air before hitting each key.  If I wasn't just so flabbergasted I would have just walked out.  The transaction which should have taken 15 seconds, max took at least 3 minutes,  which doesn't sound like a lot, but when you're watching someone type god-knows-what one character at a time, it's an eternity.\",\n",
       " 'When it comes to any sort of check-in system (airports, rental car desks, hotels, etc), it always seems like their software is specifically designed to make them press tab/enter as many times as humanly possible to get from one step to another.    Do they actually have to press tab/enter 20 times to get from one step to the next?  I dunno.  Is there some quicker way that they\\'ve never been \"trained\" on?  Perhaps.  Are they afraid/unwilling to ask about it?  Probably.',\n",
       " 'They’re confirming your reservation, verifying ID and payment, assigning a room (or changing it if needed), checking for special requests, applying any discounts or loyalty points, printing paperwork, and coding your room key, it’s a bunch of little steps behind the scenes, not just one click.',\n",
       " 'I hate this. In the UK, you show up and they give you a key. In other countries they want to check your ID, pre-authorise payments and who knows what else. What should take 30 seconds and is increasingly done by machines instead takes 15 minutes.',\n",
       " 'I used to work for Marriott. ',\n",
       " 'Login\\nFind reservation\\nLogin\\nConfirm name and ID\\nConfirm dates, phone number, email, loyalty status\\nLogin\\nAssign room\\nWrestle with system to get you clean room\\nLogin\\nGet payment\\nFind out why payment is being weird\\nLogin\\nMake keys\\nGet gifts parking pass etc\\nConfirm housekeeping\\nGive spiel',\n",
       " None,\n",
       " 'They are typing to the hotel elf that prints out a keycard.',\n",
       " \"I'm guessing you're not that important of a guest. Otherwise, they would have a packet ready when you walked up.\",\n",
       " \"I've never worked front desk but from what I've been told by the people who do the room number itself isn't always set just the type, so they have to see which ones fit your request and depending how close to checkin time you get there if it's even avaliable.\",\n",
       " 'REAL',\n",
       " 'An episode of Undercover Boss had the CEO realizing how brutal the check-in systems were. Did it really make a difference? Dunno, but hopefully it did.',\n",
       " 'i don’t work in hotel concierge, but i have to look people up in a computer system daily. nothing is logical. you have to go back and forth between different screens to accomplish one simple task and it sometimes means deleting the work you did before. you have to click 30 buttons to accomplish one task',\n",
       " 'I went to a hotel where I had to check myself in on the computer, they had helpers but still, it took me at least 5 minutes to do everything lol',\n",
       " 'I once got an app notification to check in through the app to save time. Entered in everything you could imagine they’d ask. The app also sent me tot the front desk to get keys, where they proceeded to ask me everything the app had just asked me …',\n",
       " \"I recently stayed at The Sofitel in Sydney and they had self check in process that took literally 20 seconds and now i'm wondering the same thing\",\n",
       " 'Watching cat videos',\n",
       " \"Probably going through a bunch of security stuff online before they can get to the service aspect  designed to help  and verify you. Impatient dumbasses want their sensitive information protected,but they also want you to stop everything you're doing -right then and there- to cater to them. I'm not referring to you. Just saying.\",\n",
       " \"They're writing a note telling all of the staff that you stink and you need a shower. They also are probably discussing what kind of porn you like.\",\n",
       " \"They're checking if you booked through a third party so they know to put you in a storage closet next to the elevators\",\n",
       " 'i find renting a car even worse',\n",
       " 'Network problems.',\n",
       " 'Checking you in',\n",
       " 'One minute of actual work',\n",
       " 'Also what if they gave your room to a VIP now had to hustle to find a ready room of your level? I mean the possibilities are endless and it could be a 1989 Intel computer with dial up internet....or it could be lots of things....do people ask you why your job takes so long to do?',\n",
       " 'Finishing online shopping,  checking social media etc....',\n",
       " 'I’m currently a front desk person and at my hotel, there’s just a lot of buttons to click? that, a lot of things to double check, and a slow computer makes it take a second. we gotta double check the room type, the card info, sometimes assign a room and make the keys. if we have a lot of that room type, i’ll wait to assign the room so that they can choose where in the hotel they’d like to be. when people make reservations through third parties it makes us go through an even longer process because we need a card on file incase you damage the room (we don’t get that from the third party). also occasionally my whole computer will glitch and i get to start the whole process again, but i like to think i get through it as quick as possible lol',\n",
       " 'Playing space invaders',\n",
       " 'Mostly juggling bookings, checking people in/out, answering emails, fixing issues. It’s more multitasking than it looks.',\n",
       " 'Usually checking everything is correct on your reservation, making sure your payment details are correct, seeing if you have any notes or special requests that need accommodation/actioning. ',\n",
       " 'I am an old fart, so my days of working in the Front Desk are LONG ago.  But there were some aspects that I suspect are still true:',\n",
       " 'Porn like everyone else',\n",
       " \"I worked at several hotels and it's because we like you and we like your face.  A form of compliment\",\n",
       " 'Paperwork.',\n",
       " 'Answering an AMA.',\n",
       " 'Waiting for the computer server to unshit itself',\n",
       " 'All that \"stuff\" should be done and confirmed before the guest arrives. You DID know they were coming.',\n",
       " 'Finishing their solitary game.',\n",
       " 'Check in on the app, request a digital key.  Bypass the front desk.  Check out on the app.',\n",
       " 'Yea, it’s like you are buying a used car lol',\n",
       " 'They’re probably juggling like 10 things checking reservations, emails, running reports, maybe lowkey browsing Reddit too lol.',\n",
       " 'Finishing the game of solitaire',\n",
       " 'Having to deal with Intel Celery or Intel Atom (Bomb) computers. If they’re lucky, they might get an i3 or a Pentium, but that’s only for the most expensive hotels. Jokes aside, their computers are SHIT, so they’re probably just waiting for them to load.',\n",
       " 'Playing spider solitaire',\n",
       " 'Sex chatting or watching porn',\n",
       " 'Freecell',\n",
       " None,\n",
       " 'I’ve always wondered that too when I can now just check in on the app, get an electronic key and go straight to my room.',\n",
       " 'My experience is that it takes about one minute or less. Maybe find a different brand......',\n",
       " \"They've gotta get to the end of the chapter they are writing.   To you.... it looks like work.     But its just a little game they play before handing you your key.    How long can they get away with it right in front of you.\",\n",
       " 'Dude, just be patient.',\n",
       " 'Seeing how long she can make you stand there? Lol',\n",
       " 'Multi tasking…',\n",
       " \"I also want to throw in that some hotels will do a quick search for your name in their system once they see an ID to confirm you haven't skipped on paying a room previously or have any violations that would prevent you from renting a room.\",\n",
       " 'minesweeper.',\n",
       " 'Playing Galaga.',\n",
       " 'playing minesweeper',\n",
       " 'Thank you. Been pondering posting a similar question for a long time. So many businesses do this — they type and type far more than I could ever imagine being necessary.',\n",
       " 'One of those asmr video',\n",
       " \"Defo just wasting your time. It's a power move. Yes I used to work Hotel Front Desk.\",\n",
       " \"They're taking your image off the camera and making an AI porn of it.\",\n",
       " \"I don't know but I recommend Airbnb. I know about the horror stories out there but I've rented a dozen or so properties and I've never experienced any problems. Always better than a hotel.\",\n",
       " \"It's a lot more than people realize, from checking reservations, managing room availability, responding to emails, coordinating with housekeeping, and dealing with random guest issues. It's not just about standing idly by.\",\n",
       " 'porn surfing',\n",
       " 'Someone has never worked a front desk for anything in their lives.',\n",
       " 'Probably watching porn. Leave them alone.',\n",
       " \"bro, you won't find the answer of this question\",\n",
       " 'Dying on the inside while smiling at you. You’re horrible and they need money',\n",
       " 'Why not ask them? What are you afraid of?',\n",
       " 'They’re usually checking the gram or Tik Tok.',\n",
       " \"And you couldn't have done that with app to pre checkin most of it? \\nBut airlines can issue boarding pass 48 hours prior?\",\n",
       " 'Chatting to the guy at the car rental place so they can both waste 10 minutes of peoples time for what should be a one click and go transaction',\n",
       " \"they're checking you in\",\n",
       " 'Why aren’t former American Slave Plantations treated like former European Concentration Camps?',\n",
       " 'Many are. There are plantations converted into historical sites and the like. ',\n",
       " 'Because the post Civil War governments didn’t seize the land of plantations. They remained private property that have been bought and sold many times. The European concentration camps were government property.',\n",
       " 'I think the opening question is misleading to start with.  ',\n",
       " 'People arent really that ashamed',\n",
       " 'Because the landowners who enslaved people were also allowed to keep their property after abolition and were generally treated very softly compared to how the Nazis were after WW2.',\n",
       " 'The concentration camps ceased to operate after they were liberated while the plantations continued to operate as working farms, albeit now with (poorly) paid laborers after slavery was abolished.',\n",
       " 'Because such plantations are more-or-less definitionally grand old buildings, and basically ',\n",
       " 'I think that`s because concentration camps were only built and used for genocide and jails.',\n",
       " 'Why are manor houses/castles in Europe treated as glamorous?\\xa0',\n",
       " 'Just a very different ending to the Nazis vs American slaveowners.  In America the slaveowners were paid well to free their slaves, they were still \"property\" in some sense, racist leaders dominated the government in the South, eventually spreading to take over the white house as well, where they went to great lengths to glorify the Confederacy and limit the freedom of Black people.',\n",
       " 'My family came from sharecropping in Georgia. Which means they come from slavery before that. If my grandmother told herself every day she was walking into Auschwitz in order to pick cotton for money, I am sure she would not have the same wonderful spirit she has now (she is 100 years old in August).\\xa0',\n",
       " 'If we had to turn every place slaves were kept into a memorial half the land on Earth would be a memorial. ',\n",
       " 'Because they are very pretty houses',\n",
       " 'What, were you just going to confiscate and close like ALL the privately held farmland in the entire south and turn it into museums? People are repurposing the plantations as farms and beautiful spaces, they aren’t partying in the since-razed slave quarters.',\n",
       " 'the Civil War is around 200 years ago ,Slavery is a very old institution that continued for thousands of years in different forms in different parts of the world, it was still practiced in most of the world until fairly recently. ',\n",
       " \"Ancient Greece and Rome were built by slaves, and we don't treat their ruins like Auschwitz.\",\n",
       " \"Because it's owned by people who think the only tragedy of the Civil War is that they didn't win it.\",\n",
       " 'Maybe I’m naive but I feel like a lot of it boils down to it being as simple as them being beautiful architecture typically on large amounts of land with plenty of space to be a venue. At least of similar venues I’ve seen, the parts that would be comparable to “camps” (slave quarters, etc.) have been completely torn out or run down and overgrown.',\n",
       " \"For the same reason that we admire European castles even though they've been occupied by tyrants and oppressors. They are genuinely pleasant to look at and visit. They have a rich and storied history and they are part of the country's culture.\",\n",
       " 'The Arch of Titus celebrates the sacking of Jerusalem and was likely built by slave labor. Yet somehow, millions of tourists flock to it every year without controversy.',\n",
       " 'Simple accurate answer: concentration camps aren’t pretty. Antebellum plantations are aesthetically pleasing to the eye. Giant neoclassical home with rows of moss draped oaks compared to a squat block building designed by Germans, a people not known for their artistic eye.',\n",
       " 'Plantations are more like castles than concentration camps, if you are looking for a metaphor. How many castles focus on the atrocities committed there?',\n",
       " 'It comes down to image.',\n",
       " \"Dude, not everything always has to be about slavery and oppression... If everything tainted with oppression needs to be torn down rather than appreciated, then we're going to have to tear down the planet.\",\n",
       " 'These were family-owned homes, not military installations. It really depended on who ended up owning them. Some were converted into history centers/museums, and some were just passed on to new owners to do with them what they wanted.',\n",
       " 'You have it backwards. The nazis had some 15,000 camps of which 8 are preserved as museums(although a larger number of memorials exist). The americans had around 46,000 plantations, of which 375 are preserved as museums(again even yhe wedding destination probably had a commemorative plaque somewhere)',\n",
       " \"I'm not going to say plantations were a pleasant place, but to compare them to concentration camps is a little disingenuous.  \",\n",
       " 'One is a site which is made for killing people and the other is for work. That should really answer your question. Not only was the latter still ongoing in operations, but the former was an atrocity of a conpletely different magnitude.',\n",
       " \"Memorial sites don't make money. Wedding venues do.\",\n",
       " 'The Whitney Plantation is. It’s the only one that’s truly dedicated to preserving the history and experience of the enslaved people who lived there. It’s worth a visit if you’re ever in the area. ',\n",
       " 'Because it is private property. ',\n",
       " 'Because they are private property and people can do what they want.',\n",
       " 'The premise of your question is incorrect. Germans still drive on the autobahns, many of which were built using slave labor from concentration camps.',\n",
       " 'Note a big part of Europe has seen a lot of extreme violence over the centuries before WWII. (Some even ',\n",
       " 'two of the most well known plantations are Monticello ( president Jefferson), and  Mount Vernon ( president Washington). both were slave holders, in addition to other us presidents in late 1700 to mid 1800s',\n",
       " 'I’d say it has a lot to do with the fact that we haven’t even dealt with the reverbations of slavery and how it continues to impact Black folks today. We haven’t even been able to meaningfully acknowledge or offer any repair for the myriad atrocities that whites have inflicted upon POC in North America. We avoid teaching about historical realities in favor of a sanitized and patriotic revision that’s easier to swallow.',\n",
       " 'NYT wrote a pretty in depth article about it:',\n",
       " 'Because for some reason the word “tradition” means you can’t question things in the past and the discussion is over when someone says “tradition” or “respect.”',\n",
       " 'Because plantations are pretty and concentration camps aren’t.',\n",
       " 'Interesting fact: Robert E Lee’s father in law had a Plantation in Virginia. Upon the FIL’s death, Lee’s wife inherited the Plantation and Lee was the executor of the will. The whole transaction got muddled by the start of the Civil War and the plantation was eventually overrun by the Union Army and turned into an outpost. The Union Army started burying soldiers on the property. The name of the plantation? Arlington which is now Arlington National Cemetery, arguably the most sacred and revered grounds in the US.',\n",
       " 'Europe would need to close alot more places if you start playing the what happened here game.',\n",
       " 'There were too many of them. Plus after the civil war when slaves were freed the land was not taken an remained private property',\n",
       " 'Two reasons.',\n",
       " \"Plantations are privately owned. They're basically someone's house with a big farm attached. Sure, some have become historic lands. \",\n",
       " 'Way too many liberals commenting on here, the reality is concentration camps killed millions of people, plantations had slavery which is awful, but it wasn’t even remotely close to a location that main goal was exterminating humans',\n",
       " 'Because Europeans were ashamed and the south has never been ashamed of keeping slaves?',\n",
       " \"Plantations were private property, so the government couldn't just turn them into museums and whatnot the way places like Auschwitz were. Despite this, many slave plantations have been turned into museums, some even have reenactors, which can be sort of disturbing and uncomfortable, which is probably the point.\",\n",
       " 'Slavery existed in most of the eastern and southern United States at some point or another. So the amount of land that would have to be set aside would be pretty much everything in many areas. ',\n",
       " \"While I agree with what you're asking, I would also point out that many castles.are used for similar means, despite the fact that former owners also did atrocious things.\",\n",
       " \"Because they're still run by the slavers descendants who also happen to run the government\\xa0\",\n",
       " 'Because we let the South off the hook and the slaveholders kept their land. Mostly.',\n",
       " 'Because they are treated like European Castles/Manors, which if memory serves had a lot of killing, bondage, rape, etc. The European estates were run by serfs that were functioning slaves to the land.',\n",
       " 'Okay after reading a ton of comments here I dont think like 80% of the people on Reddit understand how bad the transatlantic slave trade really was. Like you guys are scaring me a bit with how passive you’re all being about it. I promise you, it is so much more cruel, sadistic, widespread and horrific than you’re imagining.',\n",
       " \"Think that can explain very well how America looks at/has dealt with racism vs how Germany has dealt with Nazi's.\",\n",
       " \"Because a lot of Americans don't believe that slavery was wrong.\",\n",
       " 'I agree, OP. I visited one and stood in horror as tourists and plantation staff discussed their confederate relatives and \"states rights\". I had just driven down through Mississippi, where the legacy of slavery is everywhere. But they somehow don\\'t see it.',\n",
       " 'Because the south was never punished for the civil war',\n",
       " 'I think a lot of it has to do with how the north and south “moved on” after the war.  the south was left not well reconstructed and more or less neglected to nurse their grievances and create their own myths about what happened and how it played out.  Germany on the other hand was comprehensively destroyed, then occupied by the allies.  their leaders were called to account and tried at Nuremberg.  many of them were executed.  and as part of the post-war reconstruction and rehabilitation the Germans were forced to come to terms with what they have done.  America has never had a reckoning over slavery or the displacement of natives from their lands, but Germany has had their own reckoning.  that is my thesis about why the difference.',\n",
       " 'Because plantation houses are pretty and people are extremely shallow. People also dont fully grasp the horrors that occurred there.',\n",
       " 'Probably the same reason castles and medieval manor houses aren\\'t since they were essentially the same thing. And, yes, there are semantic differences between slaves and serfs  but IMO if you\\'re \"attached to the land\" and need your lord\\'s permission to relocate, you\\'re no different than a slave.',\n",
       " \"Cuz people here think the house is pretty... haha. They get married in them and host banquets because of the looks of the pretty house surrounded by flowering magnolia trees.\\xa0 It's easy to over look the bad when you never lived it.\\xa0 I don't agree, I'd never get married in one.\\xa0 But people still go visit the gladiator arena even though it enslaved and killed innocent people.\\xa0 \\xa0People still visit the Egyptian pyramids.\\xa0 People still visit the Aztec ruins where they sacrificed people.\\xa0 Humans are just fascinated with the macabre.\\xa0\",\n",
       " 'There were 46,000 large plantations in the south, comprising most of the usable land. There were 23 primary concentration camps.\\xa0',\n",
       " 'Mainly because the mentality that produced slavery is alive and well in the American South, among other places.',\n",
       " 'Slave plantation are a far from just an American thing.',\n",
       " 'One of the main differences is that concentration camps existed SOLELY for the atrocities committed there. They were literally just death factories.',\n",
       " \"I have been saying for years that the US would do itself a service by buying a large plantation like this as a national park or national monument. Something with slave quarters still intact. They can tell the story of a slave's life. \",\n",
       " 'Confederates won the second civil war in 1878, and spent next 60 years making propaganda about how awesome they were.',\n",
       " 'Because America is a racist nation. Slavery was never abolished.',\n",
       " 'Because, in addition to being private property, they were farms, not death camps whose sole purpose was to exterminate people. People died, were abused, forcibly preformed labor, but it was in service to farming. After the war, people still needed cotton and food, the government couldn’t just seize valuable land and keep it barren as some kind of monument, that would help nobody. Many of the former slaves went back to work on those same plantations as sharecroppers. After 100 years of being functioning farms and being used for other purposes, the mystique and horror just fades. If you placed off limits anywhere anyone had ever died, been abused, was raped, performed forced labor, you couldn’t do anything anywhere.',\n",
       " \"It's a bit of a complicated questions because most concentration camps aren't preserved and the ones that are, were the combination work/death camps which played a role in the Holocaust. \",\n",
       " 'Because they aren’t ashamed of it. There is a large portion of the US population that is perfectly fine with slavery and are incredibly racist.',\n",
       " \"I'll give you a hint\",\n",
       " 'Because of the historical context. Losing the civil war didn’t mean that these houses became empty. People still lived there. The plantations still operated. They became integrated into post war American life for well over a century. It’s really only when they stopped being used that there was a public reconciliation with their history.',\n",
       " \"America isn't nearly as ashamed about slavery as Germany is about the Holocaust.\",\n",
       " 'Because unlike Germany, we didn\\'t do a good enough job of shaming those people, and allowed them to continue flying their traitor flags and glorifying their leaders, and spewing crap like \"The South will rise again\", so the racism and hatefulness and confederate \"hero\" worship is still prevalent to this day.',\n",
       " 'Some are. But you must realize that a very sizable portion of the South still wishes there were slaves, so they can continue to own and control people. Racist tourists and racist brides love it.',\n",
       " \"Probably because they're architecturally beautiful.  People have weddings, holiday in castles in Europe which in feudal days were no better than plantations, in some ways worse when you account for torture devices such as racks in the dungeons and the spikes on which they displayed cut off heads.\",\n",
       " 'I went to one once, they downplayed the shit out of Slavery in the tour to focus on the collection of trinkets that the family collected. When I heard that one burnt down I just said \"nothing of value was lost\" and moved on. I don\\'t understand how you could open a place like that for the public on the basis of its historic significance and choose to downplay the institution of Slavery and it\\'s role in why the family that lived there was so rich.',\n",
       " 'Germany is ashamed of that part of their past. ',\n",
       " 'Europe has done a lot of work to make sure that there’s a deep understanding of the tragedy that unfolded around the mid-20th century.',\n",
       " 'Some are - the Whitney Plantation, which is down the road from the one that burned down, is a museum ABOUT slavery and the people in bondage there. They do not host weddings, it is an educational site only, and they are extremely explicit as to their purpose. ',\n",
       " 'Because the southern US still has a culture that draws on the antebellum south. They are educated to believe that it’s a lost way of life that they missed out on. This was not how the holocaust was treated after its fall. ',\n",
       " 'A very complex question but the roots of it are the lost  cause myth. ',\n",
       " 'We let the slave owners go free',\n",
       " \"Because in Germany doing Nazi salutes is illegal but in the USA we have statues of Confederates and it's been an OPEN political debate where one side of the political spectrum (who won recently btw) stand up and say it's good to have those statues up.\",\n",
       " 'Because unfortunately a ton of Americans don’t feel ashamed of those places and in fact still feel pride for the stuff that happened in them.',\n",
       " \"Because the United States has literally never properly reckoned with it's long history of racism and white supremacy and because we never completely Reconstruction after the Civil War.\",\n",
       " 'I like a lot of the answers here, but I wanted to add a bit. There is a huge amount of \"plausible deniability\" that Southern folks lean on, and the ',\n",
       " 'Because Reconstruction was stopped too soon and former Confederates weren’t forced to be accountable for their treason and abhorrent treatment of slaves.',\n",
       " \"Americans aren't ashamed of their terrible past because 1/3 of us are apparently still just as ignorant and racist and willing to vote for orange con men.\",\n",
       " 'Plantations look way nicer. Also at the end of the day there just houses. Houses with a shitty history, but houses',\n",
       " 'Why would they? Slavery sucked, all stop. If it’s a pissing contest, the holocost wins with numbers, brutality, systems development, etc. We fought a war and ended slavery, thank God, and there’s tons of museums dedicated to each piece of cruddy history African Americans have had to endure. However, there’s plenty of slavery throughout history that gets less attention/museums/memorials. Not a bad thing, just a fact that we can only go so far with our memorials.\\xa0',\n",
       " 'Why aren’t former Japanese concentration camps treated like European concentration camps?',\n",
       " 'Because they’re prettier and the history can be more easily ignored.',\n",
       " 'Because the owners of former American slave plantations are not nearly as ashamed as the owners of former European concentration camps. There hasn’t been an actual reckoning of American slavery. The conflict over whether or not it should be celebrated as a part of American history is ongoing and stubborn. As a black American, that is even a question at all, disgusts me to my core.',\n",
       " 'The United States never truly took accountability for its twin crimes of slavery and genocide of native Americans. It’s a white supremacist colonial outpost',\n",
       " 'Because ultimately they aren’t comparable structures. By this logic, why aren’t European castles where serfs worked/suffered in horrifying conditions torn down as well? Or the colosseum in Rome where slaves fought to the death for sport? ',\n",
       " 'OP, I think you’re really missing a major truth here. It is rare for governments to both take ownership of atrocities AND to set aside land/ property for the primary purpose of educating people. One major motivation to do so is if there’s enough interest to attract enough tourists to at least self sustain such a project. Few tax payers want their money going towards a sad, unpopular museum.',\n",
       " 'Because many Americans would still have slaves on them if they could. Germany is disgusted by its actions. The US doesn’t have that kind of humility about slavery.',\n",
       " 'They were farms.',\n",
       " 'We didnt kill the people in the south after the war. We didnt clear house. Those wealthy landowners were still wealthy landowners.',\n",
       " \"If we turned every crime scene into a museum and every hillside into a cemetery there wouldn't be anywhere to live anymore.\",\n",
       " 'They are, by black people.  But “Y’all don’t want to hear me. You just want to dance” - Andre 3000',\n",
       " 'It’s private property and not a government ran culling center',\n",
       " 'Imagine having a wedding in Auschwitz. So weird.',\n",
       " 'You can go ones step further and note the south was never really blamed for anything. No executions for treason and slave owners punished. The US motto is to ignore rather than deal with its internal shame...',\n",
       " 'There are more complex, nuanced answers, but: because ',\n",
       " 'Because there are a lot more Americans that want to go back to having slavery than Europeans who support genocide',\n",
       " 'Because there is more money to be made out of glorification than the misery of truth....it called up selling history',\n",
       " 'Because Americans live in denial of who they are and what they have done.  Just read some the responses to this question.',\n",
       " 'They say in war, the winners write the history. The united states civil war was an exception.',\n",
       " 'Because its longer ago and because the US has little to no capability of self reflection.',\n",
       " 'Because many Southerners are not ashamed of those houses and the horrors that occurred there.',\n",
       " 'Because amerikkka is deeply racist and glorify these death houses as wedding destinations',\n",
       " \"Former confederates after the civil war did a lot of work to try make the south look not that bad and present a rosey picture of the antebellum south. They did such a good job that today a lot of people don't associate former plantations as the brutal slave compounds that they were.\",\n",
       " 'Because the United States never held The South of the Confederacy truly responsible for betraying the United States.\\xa0',\n",
       " 'This is an oversimplification but we have very little history in the US. People view the antebellum south as one of our chapters of history and they want to appreciate the beauty of the spaces and the architecture without being reminded that there were crimes against humanity.',\n",
       " \"Because it's not the same thing. \",\n",
       " 'Because most Germans are ashamed of that part of their history, and nostalgia for that era is treated as treasonous.',\n",
       " \"Terezin in the Czech Republic is just an ordinary town today.  You have to look closely or seek out the museums to realize that the whole thing was a prison camp during WW2. I've walked past ordinary apartments front doors to an attic filled with murals painted by imprisoned kids.  It's very dark. \",\n",
       " \"I'm going to give you a short answer and a longer answer, if that's okay.\",\n",
       " 'America has no shame, it takes pride in its racism and does not think at all about the people victimized by those locations who literally built this country.',\n",
       " \"Southern American's aren't ashamed of their cruel, sadistic past like Europeans. There's confederate flags all over the place, they practically celebrate it.\",\n",
       " 'America has always favored corporate interests over people',\n",
       " 'Once again, I am reminding people that some concentration camps are used for parties and weddings. ',\n",
       " 'Because Europe is ashamed of what they did',\n",
       " 'Because there\\'s people that view plantations as the \"good ole days\" still and use them to veil their racism.',\n",
       " \"I distinctly remember hearing that at least some of them are. But I've never actually been to one before so maybe I'm misremembering.\",\n",
       " 'Because slaves were Black, and Black people have always been seen as the bottom of the barrel. When things are going bad for Black people the response is “Well your culture is bad. You’re not trying hard enough to better yourself. It has nothing to do with race.” But when things go well the response is “That’s not fair! You had preferential treatment! This is racist!”',\n",
       " 'THEY SHOULD BE',\n",
       " 'Because in Germany the Nazis were executed and imprisoned after WWII and their ideology was outlawed. In America we not only let the confederates live but even let them return to political power and spend decades whitewashing and justifying their actions. It was a big mistake that the world is still paying for today through the MAGA movement.\\xa0',\n",
       " 'It boils down to the failure of Reconstruction. This breaks it down well:\\xa0',\n",
       " 'Watch, “Gone With the Wind.” I grew up in the segregated south and although I opposed it, many people felt differently. Things have changed now much for the better, but there were a lot of people who glorified the Civil War because they grew up in the south. ',\n",
       " '1) Because they were private property, and therefore the owners could do whatever they wanted with them even after slavery..',\n",
       " 'That goods from plantations were still needed, but without slave labor.',\n",
       " 'because the treatment of concentrations camps from the sho\\'ah has a specific political purpose.\\nsince wwii, europe has used its supposed atonement for the nazi genocides as proof that it is the authority on anti-semitism, anti-semitism is then projected onto africa and asia and used to justify further imperialist violence, including but not limited to through support of the zionist entity and its genocidal projects. 21st century victims of genocide in palestine and also iraq afghanistan yemen etc, are all accused of \"antisemitism\" which is used as propaganda to justify those genocides. victims of the many genocides prior to the sho\\'ah, including the herero genocide committed by germany a few decades before the sho\\'ah, as well as those of race slavery and the slave trade, are minimized if they are acknowledged at all.\\xa0',\n",
       " 'We didn’t do our job snuffing out the Confederacy. That mistake has hounded us to today, where they are the ruling faction under a different name.',\n",
       " 'They absolutely should be. 😐😐',\n",
       " 'The civil war is not over. People are still flying the Stars and Bars and still fighting against the rule of law. They are doing well recently',\n",
       " 'I grew up in the south and I remember going on field trips to famous people’s plantations like James Madison. The tour guide quickly brushed over the slave quarters and didn’t talk about their abysmal conditions. She did however talk about how amazing of a man James Madison was and how beautiful of a house he lived in was. I was a kid so I didn’t really realize what was going on till I was older. It’s all propaganda, how can we teach that the founding fathers were amazing hero’s if they were also slaving owning monsters?',\n",
       " \"Because the US didn't hang all of the Confederates like they should have. Instead, they were allowed to fester and engage in a sick, warped version of reality where they weren't irredeemably evil, they were actually heroes. The myth of the Southern Gentleman and the Happy Slave should have been crushed out of existence. Instead, it was normalized to the point that ignorant people actually choose to get married on those killing grounds. It's sickening.\",\n",
       " 'One answer is that a large portion of our citizens do not feel nearly enough shame about it. It might be further in the past than the Holocaust, but it lasted a fuck of a lot longer and reverberates even today. ',\n",
       " 'southern america is nowhere near as sorry for slavery as germany is for the holocaust',\n",
       " 'Did you not stop to think about the fact that they were private residences and property, of course the gov can’t just seize it and make it a museum\\xa0',\n",
       " \"Because white Americans love racism. They romanticize it. Imagine getting married at Auschwitz. That's what they do at plantations.\",\n",
       " 'Others have mentioned they were working farms.\\xa0',\n",
       " \"Because half of the German government isn't made up of people who were proud of Nazi Germany.\",\n",
       " 'Slavery was much more ingrained into people than genocides.',\n",
       " 'Because the southerners don’t feel ashamed of it. Quickly after the war southern politicians went about whitewashing the war saying it was about “state’s rights” instead of being about slavery as ever articles of secession declared. The Union also didn’t punish the south enough giving clemency to those who fought in the rebellion. Traitors should have been given the fate traitors deserve.',\n",
       " 'I assume by “European concentration camps” you’re referring to the mass extermination camps that Germans/Nazis ran during the 1940s.',\n",
       " 'Because its a non comparison apart from \"evil places USA people are aware of\". Beggining with the space in society they fill. ',\n",
       " \"Because America doesn't believe in holding it's traitors in defense of white supremacy accountable. In fact, we treat them like fucking heroes. We're still debating whether we should have statues \",\n",
       " \"Mainly because the south was allowed to tell their spin of history after the Civil war. Their Lost Cause narrative portrayed it as a doomed, romantic struggle against government tyranny, and themselves as brave, plucky rebels standing up for their state's rights.\",\n",
       " 'Plantations were privately owned large farms with estates on them. After slavery ended, the farms needed laborers and the freed former slaves needed homes and employment. A lot of people just stayed on where they were they were and switched from enslaved labor to sharecropping. And some plantations were bought up by opportunistic investors taking advantage of the devastated economy. ',\n",
       " 'What makes you think killing bondage and rape went on at every plantation?',\n",
       " \"The reverse can be asked - why aren't the camps operated like the plantations? Imagine having weddings and wine tastings at Auschwitz, perhaps even a bar mitzvah\",\n",
       " 'America isn’t ashamed of slavery.',\n",
       " 'Plantations are huge! Making every plantation for that purpose would close down a huge agricultural sector.',\n",
       " 'They should be.',\n",
       " \"Because Americans generally haven't dealt with our history.\",\n",
       " 'Because half the country wants them to reopen.',\n",
       " 'Who in the name of sanity would want to get married on a former slave plantation?!? Why??',\n",
       " 'Even the ',\n",
       " 'The truth is that the American Civil War never really ended, we just mostly stopped the shooting. A sort of puerile attitude toward race and economics, unfit for any developed society, persists to this day.',\n",
       " 'Some are treated as museums and the cruelty of slavery centered but there are often a dozen or so of these huge plantations in an area, (if wealth was enough in the region to build one often others as well,  affluent set their homes nearish eachother. ',\n",
       " 'Unlike Germans, there’s a large segment of Americans who don’t acknowledge slavery was wrong.',\n",
       " 'Not saying the only reason, and I’m sure like 300 people have made the same point, but after the holocaust, the German people went to the extent of enacting laws making denial or downplaying the horrors a crime. After each iteration of racial equality progress in America, on the other hand, we have acted as though racism is: a) a small issue, b) something that took place far further in the past than it actually was, c) not nearly as horrific as anti-American forces would want to make it seem. This includes slavery-era south. To hear Americans talk about it, by and large, it was 400 years ago, not nearly as brutal as liberals would suggest, and only a small number of people actually owned slaves, so it really wasn’t as widespread as it’s made out to be. And that desire to save face by distorting history is a big part of the reason these locations are used and seen as being outside their role as the locations of atrocities whereas concentration/death camp locations aren’t.',\n",
       " \"Many people in the south really want to be able to admire the slaver culture. They spend their lives hating that they lost the war that their ancestors started. It's sick and I stay away from the gulf coast states because they're governed by those nasty people.\",\n",
       " \"Because we didn't defeat slavery.\\xa0\",\n",
       " \"For the same reason the KKK is still legal in US while other terrorists organizations like Al-Qaeda aren't.\",\n",
       " 'Some plantations are treated similarly to some of the concentration camps that were converted to museums/historical sites. Not every concentration site was converted like this. The land was mostly kept as private land though and not claimed by the government, so it was repurposed and kept by landowners.  ',\n",
       " \"It's because those places are private property. Usually. Even places on our national historic place registry can still be private property. They can charge a premium for this type of event location.\",\n",
       " 'Because Americans are racist',\n",
       " 'White.',\n",
       " \"There is a lot of denialism in the US about how truely barbaric it was. Imagine if the historical guides at the concentration camps had to deal with nearly every group had someone get violently angry and scream about how they are anti-german, then have the state it is in pass laws forbidding you to talk about it in school or at these sites, THEN start a whole anit-woke and anti-DEI, and anti science and education movement around it, and then win the majority of the government's power. \",\n",
       " 'Because the USA is horribly racist.',\n",
       " 'Germans for the most part are more ashamed of nazism than Americans are of…any thing in American history honestly. Nazism too actually when you consider the shadow president hit a seig heil on live tv',\n",
       " 'Maybe they’re Still owned by the same folks that were doing all the raping and pillaging.',\n",
       " 'Racism. Look up Atun-Shei films on youtube. He goes over the long histories of the horrendous and evil southern reconstruction that entrenched deep hateful racism throughout all of the south and enabled white supremacy.',\n",
       " \"Southerners by and large refuse to let go of Lost Cause mythology. That's what it boils down to. After WWII, there was massive denazification in Germany and lighter but lesser anti fascism in Italy. We never put that on the south, and nobody was seriously punished for their stupid rebellion. People like Alexander Stephens, the traitor Vice President, went back to the House after a fee years.\",\n",
       " 'They got converted into private prisons',\n",
       " 'My take is that a plantation can be repurposed and used for something else. ',\n",
       " 'Because they are not at all ashamed of being associated with slave ownership in the south.',\n",
       " 'I find this reprehensible too, but then... the current administration looms large.',\n",
       " 'Because $$$ is the American way.',\n",
       " 'It\\'s disturbing but very common place. There are several in South Carolina and Georgia as well, one plantation I know of used (may still do, idk) to use the attraction draw of having the original canons from the civil war. Many are considered high end venues and it\\'s because antebellum is a lusted after time period and if you asked anyone off the street most will say it\\'s viewed as \"the simpler days\". ',\n",
       " \"Sherman should've been allowed to finish the job.\",\n",
       " \"Because Germany had the good taste to regret the Nazi actions, while there's still a \",\n",
       " 'The Daughters of the Confederacy',\n",
       " '“Heritage”.',\n",
       " \"Some former plantations became prisons and now use prison slave labor to work the fields so in essence they didn't really change.  See Angola and parchman. \",\n",
       " 'Because half of the country still wants those plantations to be fully operational',\n",
       " \"Because unlike Europe, America hasn't moved on from its racism and slavery. It just convinced people that it did, by dressing it up differently.\",\n",
       " 'The majority German populous is ashamed by concentration camps, majority of Americans are proud of plantations',\n",
       " 'Racism',\n",
       " 'Cuz the slave owners still are in charge of',\n",
       " \"I used to live in New Orleans and run an airbnb. I talked so many people out of visiting the plantations because no matter what they say it's still making money off the backs of slaves!! I think they should just be like the African American museum in DC if anything. Not a place for weddings and events!\",\n",
       " 'Because Reconstruction was ended early after the Civil War, and America didn\\'t have a De-Crackafication in the same way Germany had a De-Nazification.  Instead of being shown the evil and cruelty of that time, Southern schools were allowed to spin the narrative away from the atrocity the South perpetuated and benefited from towards more nebulous concepts of \"States\\' rights\" and \"Federal overreach.\"',\n",
       " \"Slavery wasn't seen as an abhorrent evil until modern day. Blacks weren't even equal to us until the 60's officially.\",\n",
       " 'Someone said about the difference in how Germany treats/teaches WW2 and how America treats slavery/reservations/internment camps/etc\\n\"Because Germany is ashamed of their past and America is proud of it\"',\n",
       " 'Because the plantations are still in confederate sympathizer territory.',\n",
       " 'Because the war never really ended, and the South has been trying to roll the clock back on slavery in one form or another ever since. ',\n",
       " 'They’re private property. Concentration camps were ran by the Nazis property of the German government. The plantations that are museums now are treated similar to concentration camps, museums that show the tragedy',\n",
       " 'Because of a lack of shame among many in the region.',\n",
       " \"Why don't evangelical missionaries ever go to Muslim countries to spread the gospel?\",\n",
       " 'They do (we have friends who we have supported for years), but in many Muslim countries such missionary work is illegal and converts risk execution.',\n",
       " 'Reddit seems to forget this, a lot, but much of Africa are Muslim-dominated countries. 90%+ of the Northern and (parts of) West Africa population are Muslims.',\n",
       " 'They literally do and die for it. Research Voice of the Martyrs.',\n",
       " 'I grew up a Protestant missionaries kid in Indonesia from 1981 to 1992, largest Muslim country in the world, my dad taught at a seminary. There are hundreds of missionaries over there, or were back then. Not my current choice in career by any means, although it was fun growing up over there.',\n",
       " \"Because it's illegal in those countries\",\n",
       " \"Muslims already know about Jesus. He's part of Islam.\",\n",
       " \"They do. I know a Catholic missionary who was shot while working to save child soldiers. He was fortunate to have been rescued and lived. Say what you will about the church, I don't love it either, but this is a good man doing dangerous work. \",\n",
       " 'Some do and are executed. Others (like my particular sect) believe in upholding the law. We reach out in other ways and meet with their leaders.\\xa0',\n",
       " \"it's mostly bec spreading Christianity in a lot of muslim countries is straight up illegal or seen as a serious threat. like ppl have actually been arrested, deported, or worse just for trying. in places like Latin America or Africa it's way safer and more accepted culturally. also some of those areas are Christian but not evangelical so missionaries still feel like there’s “work” to do. it’s not about avoiding Muslims, it’s just way riskier and the consequences are real af.\",\n",
       " 'Because they will get thrown off a building.',\n",
       " \"How do you know they don't?\",\n",
       " 'They do and have done so for 100s of years.',\n",
       " 'They did. Was called The Crusades.\\xa0',\n",
       " \"If they have a good head on their shoulders, they'll want to keep it that way.\",\n",
       " 'They do! The parents of a guy I know did a few years in jail in multiple Gulf countries',\n",
       " 'They absolutely do. The last two churches I’ve attended have funded missionaries who preached in Muslim countries at great risk to their own lives frequently being harassed, abused, their property stolen and meeting Muslims in secret. And that’s not to mention the danger to those raised Muslim who would be killed if it was found out they converted.',\n",
       " \"They do, but you don't hear about it because in many of those countries it's illegal both to convert away from Islam and to try and convert people away.\\xa0\",\n",
       " 'they literally do',\n",
       " \"Why would they when Muslims in those countries are devout and know about their scripture? You're going to have a very difficult time convincing Muslims about Salvation Through Jesus Christ or believe in Jesus Christ as Savior and Lord.\\xa0.\",\n",
       " 'They get killed.',\n",
       " 'They enjoy now being stoned to death or having their heads removed from their bodies.',\n",
       " 'They don’t advertise their work in many Muslim majority countries because such work is illegal. ',\n",
       " 'Iranian here, there has been a long history of Christian missionaries in Iran. We have accounts from my great great grandfather about meeting with British Christian missionaries. That said he was not Muslim, but rather a Jewish rabbi and he did not convert. To this day there are missionaries operating in Iran. American evangelicals even run Bible studies in the country as we speak. It’s kept on the down low but it is happening. Many Iranians are eager to leave Islam. They openly declare themselves as Christians or adherence to other faiths once they leave the country. If they were to declare the fact that they converted to in Iran, they would be put to death for heresy.',\n",
       " 'Because they fear death more than they love Jesus...',\n",
       " 'They do! I know some - well, strictly the ones I know are working ',\n",
       " 'They do, Bangladesh is the best example I can think of.',\n",
       " 'Umm bc they’d be directly risking their lives. Islam populations are the most likely to be violent against those people.',\n",
       " 'As adherents to an Abrahamic religion, Muslims don’t need introductions to Jesus, lol. Jesus (or Isa in Arabic) is a respected prophet in Islam. ',\n",
       " 'They do. About 40% of Africans are Muslim, and there are missionaries in Muslim countries in southwest Asia as well, even where it is illegal to evangelize.',\n",
       " 'Aside from legality and other stuff, there is already Jesus in Islamic history, but he is not a god or child of god, and other titles said by Christians.',\n",
       " 'Prefer not to die',\n",
       " 'same reason why social activists and progressive activists dont go there',\n",
       " 'The answers on here were stupid AF. I’m from Egypt a Muslim country and we have Christian’s all over the country. My Muslim cousin is married to a Christian woman. I grew up in the care of my Christian neighbors while my parents were at work. There’s a lot of Christian’s in Egypt, Lebanon turkey and many other Muslim countries. Y’all are some brainwashed people.',\n",
       " 'Missionary work is illegal in a lot of places, but especially Muslim countries.',\n",
       " 'They do. It’s usually dangerous to do it though, so they keep a very low profile and don’t advertise it.',\n",
       " 'I was visited at home by Jehovah’s Witnesses, approached by a South Korean missionary in the street and got handed Bibles and brochures in a Muslim country.',\n",
       " 'I know missionaries in Indonesia right now, which is a Muslim country.',\n",
       " 'Because Muslims already believe in Jesus. What would the missionaries introduce them to?',\n",
       " \"They don't tolerate different religions being openly taught, especially by foreigners. \",\n",
       " 'In most Muslim countries you can be killed for leaving the Muslim religion.\\xa0',\n",
       " 'Because they would be killed\\xa0',\n",
       " 'They shouldn’t be doing it anywhere..',\n",
       " 'There is a term in Christian missionary work called the 10/40 window.\\xa0 It refers to a latitude range of the globe that encompasses the ethnicities that are \"least reached\" by Christianity, including North Africa, the Middle East and a bunch of Asia.',\n",
       " 'They do.',\n",
       " 'It is far more easier to convert Christians to Christianity….',\n",
       " 'Is Reddit filled with a bunch of preteens-teens that were never taught any sort of history or even the ability to google historical questions? ',\n",
       " 'When I lived in India for a bit, we used to have a Muslim gardener. One day he went on “holiday” for a week and came back Christian (along with his whole family who also converted) in exchange for whoever it was (missionaries I assume) funding his kids’ education all the way to university and providing financial incentive.',\n",
       " 'Bibles are contraband in Muslim countries. Proselytizing for any faith other than Islam is forbidden and carries the death penalty. So does conversion to Christianity.',\n",
       " 'Introduce them to Jesus? Jesus is a major prophet in Islam and extremely revered. There’s an entire chapter in the Quran named after Mary which speaks about his miraculous birth. You can’t be a Muslim without believing in Jesus. The only difference is that we don’t believe he was the son of god and we don’t believe he was crucified.',\n",
       " 'Tell us about tolerant Muslim countries',\n",
       " 'the muslim countries kick them out.  But they do try',\n",
       " '“Why don’t Evangelical missionaries go to Muslim countries to spread the gospel”……ummmm they learned from the mistakes the Catholics didn’t learn from during the crusades',\n",
       " 'I saw one doing that in Kashmir, she was almost stonepelted in front of me, I brought her to Ministry of Interior, to be sure that she leaves asap',\n",
       " 'Let’s not forget, there are Christian communities in many of these Muslim-majority countries that well predate Evangelical Christianity.',\n",
       " \"There's a big part that everyone seems to be missing here.\",\n",
       " 'They go places where they can easily brainwash people.',\n",
       " \"A lot of places don't take too kindly to people simply coming to convert people. I really honestly dislike this about Christians so much.\",\n",
       " \"Evangelical missionaries go to Scotland from the US, despite y'all inheriting your religion (at least partially) from us. Evangelical missionaries are not the most rational of decision makers\",\n",
       " 'Because they will lose their heads.',\n",
       " 'They would if it was legal, but proselytizing any non-Islamic religion is illegal in many Islamic countries',\n",
       " 'Its illegal in most of those countries.',\n",
       " 'A group i am familiar with is quite active supporting missionaries in western Indonesia.',\n",
       " 'They do',\n",
       " \"They absolutely do. I've been to Iraq as part of a short term trip supporting longer term missionaries.\",\n",
       " 'Lets just say, if you have to go out looking for new customers, maybe what you are selling is not that great??',\n",
       " 'The biggest surprise for me was when I heard a US missionary going to Germany. Why?',\n",
       " 'Of course there are missions to Muslim countries too. You even mentioned Africa, many countries there are Muslim. But I assume you are American so that’s what you hear of missionaries in Latin America. But Europeans don’t go there but rather go east. Asia and Africa is more popular than Middle East but still there are many Muslim countries\\xa0',\n",
       " 'American evangelist, daughter of an American official was expelled from Morocco because trying to spread it',\n",
       " 'I mean beheading might be an issue.',\n",
       " 'They want to keep their head attached',\n",
       " 'The president of our general conference (Seventh Day Adventist), Ted Wilson, recently returned within the last week or so from a trip to Qatar/Uae. So it does happen, but as mentioned missionary work is largely illegal in public. Though I believe they allow it indoors in Christian establishments. But you can be severely punished for the act of converting someone to Christianity so a lot of the work is underground.',\n",
       " 'There are missionaries working in those countries, but they face significant challenges that make their presence less visible or more restricted.',\n",
       " 'Evangelical missionaries DO go to Muslim countries. Several churches that I have been a part of  support several. But because they work behind the \"Islamic Curtain\" their work is not talked about publicly, for their own protection and for the protection of their converts.',\n",
       " 'As someone that is constantly funding, supporting, and myself being a Christian missionary, in Islamic countries, I think I’m qualified enough to answer. The short answer is, Islamic countries are not friendly towards Christians. It typically ends in arrests, fines, deportations, and/or executions. ',\n",
       " 'Because we already know who Jesus is, go to America where they worship trump and tell them to worship god instead',\n",
       " \"I know of some in Iraq, Eqypt and Azerbaijan. These countries already have Churches and the governments don't seem to mind.\",\n",
       " 'They absolutely do. My church has a missionary in Afghanistan.',\n",
       " \"Because few people are willing to die for their beliefs. Even though according to most it would almost guarantee a spot in heaven. Which is the ultimate goal, they'd be skipping the waiting room that is this life but religion and thus its followers have always had a problem with consistency\",\n",
       " \"Muslims already know about Jesus by the way, he's a prophet of Islam\",\n",
       " 'lmao you want them to die?\\nProselitism is illegal in most muslim countries and usually apostacy (leaving islam) is punishble with death',\n",
       " \"Dude's never heard of The Crusades\",\n",
       " 'oh they do. I knew someone who smuggled bibles to Iran… I thought that was pretty cool when I was 18 years old. Now I think it‘s batshit crazy and unresponsible especially because that dude was a father.',\n",
       " '1) They literally do',\n",
       " \"Why don't evangelical missionaries go to New England and Europe? The various countries that they visit in Latin America and Africa are already FAR more Christian than, say, Maine or Sweden.\",\n",
       " 'Because in many Muslim countries there is often laws to prevent Muslims from converting. ',\n",
       " \"Because the point of proselytizing missions isn't to gain converts, it's to turn missionaries into zealots.\",\n",
       " 'They do not consider Catholics to be Christians. I know this having grown up with these idiots',\n",
       " \"They don't want to die\",\n",
       " 'They do go',\n",
       " 'They do, you just don’t hear about it because those countries don’t welcome them, and it’s extremely risky for them to be there.',\n",
       " \"Africa isnt Christian, many parts aren't Christian\",\n",
       " \"Because they don't want to get fucking murdered.  Muslims don't play with that shit.\",\n",
       " 'They do, I am a missionary kid who’s parents spent 20 years in Turkey',\n",
       " 'That is not correct. Missionaries go to many nations including ones that have substantial Muslim populations.',\n",
       " 'This is completely untrue. Lots do.',\n",
       " 'IMO mission work isn’t about getting more people into the flock, it’s to solidify the in/out group idea to the missionaries. After a year of having doors slammed in their faces they come home to the loving embrace of their church. They can commiserate with each other about how people didn’t want to see the light or whatever',\n",
       " 'Ummm they do…',\n",
       " 'They definitely do',\n",
       " 'Islam is a notoriously strict and unaccepting religion to the point where governments and communities will either “legally” or illegalt jail or harm anyone who speaks contrary to the rapist, sorry, “prophet” muhammed',\n",
       " 'Because They Are Murdered Every Time They Do… Checkout Some Freakin History…',\n",
       " 'The reality is in a country governed by Islamic law it would usually put them at risk of arrest and execution. I might be wrong but I believe Islam is the only major religion in modern day where once it assumes complete power or at least approval by a non secular state it begins ethnic cleansing campaigns. Which is why we heard near immediately after Syria fell that the Alawite minority was beginning to be persecuted.',\n",
       " 'Cause it’s illegal there',\n",
       " 'To avoid certain death.',\n",
       " 'Probably death',\n",
       " 'You can’t answer this question honestly without getting banned from reddit.',\n",
       " 'They will literally kill you lmao',\n",
       " 'Did you at least Google \"Christian missionaries to Middle East\" before posting this? Why not?',\n",
       " 'Because they will be killed',\n",
       " 'When I was in Afghanistan, a bunch of a Korean evangelicals snuck in as “tourists” and held JEsUs LoVeS you rallies across the Herat, Jalalabad and Kabul. All arrested. Held hostage. Crime to prosthelitize. . People lined up at the airports in Seoul to spit and yell at the for being such dumbasses.',\n",
       " 'They do in South East Asia,but they will convert only if money is involved. I wish i was kidding. Im not.',\n",
       " \"They'll be beheaded\",\n",
       " 'Why don’t Muslims go around and knock on your door to covert you ?',\n",
       " \"Did you know that Jesus is a fundamental prophet in Islam? They don't need to introduce Jesus to Muslims.\",\n",
       " 'They do. All the time. In countries where this is illegal, they lie about their organizations and “build schools” or do other work that gives them access to local people (especially children). Once they’ve got people to come in for education, food, or medical treatment, they proselytize. When I was a Christian I fought with my former church about how gross this was. That wasn’t the beginning of my disenchantment but it played a big part in why I decided that Christianity, particularly the evangelical sort, was definitely not for me.',\n",
       " 'They know about Jesus in Muslim countries. The problem is when they go to active war zones.',\n",
       " 'The Mormons say when their missionaries are killed in some Muslim country will be the sign that the end times are near or some shit',\n",
       " \"Because we won't let them bring swords any more.\",\n",
       " 'It can be observed that missionaries largely go to areas that are desperate for food, medical attention, shelter and other basic human needs/rights.',\n",
       " 'Let them go to Sentinel Island better 😄',\n",
       " 'Muslims already have Jesus…',\n",
       " 'Because they want to live',\n",
       " 'God  says I should have a mansion...PONY UP !',\n",
       " 'Christian Missionaries tried that hundred years ago but failed.',\n",
       " 'You do realize those 2 articles are trying to poke holes in Burt Ehrmans argument. His argument that the Bible is not a good historical source. And it even does a piss poor job of that.',\n",
       " 'Because they are cowards.',\n",
       " 'Muslims are aware of Jesus but they do not view him as the messiah or the son of god',\n",
       " 'Their faith is not strong enough?',\n",
       " 'Traditional Islamic law does not have a.separation of church)Mosque in this case) and Stare.  Even  in ones that have some degree of religious freedom in their national laws such as Turkey,Lebanon  ,  Egypt and PA controlled West bank, Islam has preeminent status over other faiths.',\n",
       " 'You think Muslim countries do not understand the old or New Testament? Islam is literally their addendum to what they saw as the errors of the old and New Testament. Not that I agree evangelical Christian Taliban or Muslim Wahhabis either way. ',\n",
       " 'Muslim countries are the ones the apostles walked through on their way to today’s christian nations lmao',\n",
       " 'They do. I’ve met real people who have done this.',\n",
       " \"They do, but they have to do it on the down low because it's a crime in many Muslim countries.\",\n",
       " 'What do you mean by “Introduce them to Jesus?” Muslims already know and love Jesus(pbuh).',\n",
       " 'Because their god is weak and their incantations are not effective.',\n",
       " 'Monotheistic religions like the Abrahamic religions tend to have more devout and zealous followings and less inclusive for other beliefs. They have one God who is already the answer for everything and do not need any other Gods.',\n",
       " 'They actually do. My parents are part of the SBC which has missionaries in every country. The missionaries in those aren’t allowed to show their faces or anything though. Every year the missionaries are sent out they have a conference to show them. The missionaries going to “open” countries (Mexico, South Korea, etc) would be allowed to stand up and talk but the ones going to “closed” countries (MENA countries, some African countries, etc) only got a voice recording shown from a screen.',\n",
       " 'They do. There is an evangelical school in my town. However, making Muslims into christians is not very successful',\n",
       " '[ Removed by Reddit ]',\n",
       " \"The sad reality is that most missionaries go where others are already working (eg. they go on a short term trip to help some missionaries, and later decide to join that team on a long term basis). It's much harder to go where nobody is already there. But that IS what is needed.\",\n",
       " 'They do, they just keep it quiet because it can be a capital crime in those countries.',\n",
       " \"Cuz they're Christian but \",\n",
       " 'They do, but they are not very welcome.',\n",
       " 'Muslims also know about Jesus',\n",
       " 'They do. In Afghanistan a ton of non profit work was being done by evangelical Christian churches... US, UK, France mostly. They were there to convert people and viewed the Islamic world as a target rich environment for misguided souls.',\n",
       " 'Wish they would preach as loud over there as they do here.',\n",
       " 'They don’t go where people aren’t christian. They go where people aren’t educated so they can be the first in on the brainwash. A handful of Middle eastern countries have far more robust education compared to a lot of African and south American countries',\n",
       " 'Many Muslim countries are either theocracies or authoritarian so there are laws against proselytizing…and they tend to be quite serious in punishing those who commit that crime.',\n",
       " 'They do. They just have to be incredibly careful.',\n",
       " 'They do go. Many countries have laws against missionaries either because the country has a specific theology that they prefer, or because the country is staunchly secular. ',\n",
       " \"They'd probably get prosecuted.\",\n",
       " 'Because it is illegal in most muslim countries.',\n",
       " 'Same reason you don’t see Muslim missionaries much in the Deep South.',\n",
       " 'Lol they don’t want to die',\n",
       " \"Because they'd be killed.\",\n",
       " \"My girlfriend's roommate just went to Egypt last month on a missionary trip.\",\n",
       " 'Because if they do axe goes choppy choppy heads goes rolly rolly',\n",
       " \"They should all quit trying to brainwash more people it's really tragic what these cults get people to do :(\",\n",
       " 'Jesus is already mentioned many times in the Koran.',\n",
       " 'Thats a quick way to get executed by the religion of peace.',\n",
       " \"They'd get locked in a tower.\",\n",
       " 'Because they would be executed',\n",
       " \"Someone I know just went to Indonesia as a missionary. I know the country is primarily Muslim. He seemed rather public about his presence there so I get the impression it wasn't a big deal.\",\n",
       " 'Islam is also a faith with proselytizers - they called it Da’wah. It is like Muslim evangelicals. I have met many of them in Africa - they  have invited me to accept Allah and read the Quran. They are often just as pushy and judgy as Christian evangelicals imo',\n",
       " 'The same reason why no pride parade happens in those countries.',\n",
       " \"Because missionary work is the Frontline of cultural genocide and ensuring Indigenous peoples don't access our religions is more important then targeting other Abrahamic traditions for colonialism\",\n",
       " \"Because they do. They just don't tell you about it.\",\n",
       " 'They do and most of the time try stay undercover building friendships before sharing the gospel of God.',\n",
       " 'They go to catholic majority countries because they don’t think Catholics are real Christians. ',\n",
       " 'Muslim people already know about Jesus and believe he was an important prophet, just not the son of god.',\n",
       " 'They sing of the joy to meet their maker they should just go. Damn the laws. Sentinel checking in.',\n",
       " 'My church actually does do missionary work in a majority Muslim area in Kenya. It’s mainly a medical mission, but we do offer to pray with people, etc, while they are waiting to be seen by the medical staff.  We don’t discriminate and we don’t force ourselves onto people. The people appreciate that we are there to provide care to them.  We have never had any problems.',\n",
       " ...]"
      ]
     },
     "execution_count": 4,
     "metadata": {},
     "output_type": "execute_result"
    }
   ],
   "source": [
    "import json\n",
    "\n",
    "with open(\"../data/comments/comments_and_posts.json\", \"r\", encoding=\"utf-8\") as file:\n",
    "\tcomments_and_posts = json.load(file)\n",
    "\n",
    "comments_and_posts"
   ]
  },
  {
   "cell_type": "code",
   "execution_count": 9,
   "id": "e9df6ce0",
   "metadata": {
    "vscode": {
     "languageId": "ruby"
    }
   },
   "outputs": [
    {
     "name": "stderr",
     "output_type": "stream",
     "text": [
      "  0%|          | 7/1850 [00:05<19:57,  1.54it/s]"
     ]
    },
    {
     "name": "stdout",
     "output_type": "stream",
     "text": [
      "Comentário com problema encontrado: Trades, almost Every one is aging out quicker than they are being replaced\n"
     ]
    },
    {
     "name": "stderr",
     "output_type": "stream",
     "text": [
      "  0%|          | 9/1850 [00:06<20:53,  1.47it/s]"
     ]
    },
    {
     "name": "stdout",
     "output_type": "stream",
     "text": [
      "Comentário com problema encontrado: Wholesale and distribution is getting pretty old\n"
     ]
    },
    {
     "name": "stderr",
     "output_type": "stream",
     "text": [
      "  1%|          | 13/1850 [00:09<21:37,  1.42it/s]"
     ]
    },
    {
     "name": "stdout",
     "output_type": "stream",
     "text": [
      "Comentário com problema encontrado: The car business on the sales side. Once this clown generation of 55+ are out of the industry the experience of buying a car will become much easier, simpler, and transparent.\n"
     ]
    },
    {
     "name": "stderr",
     "output_type": "stream",
     "text": [
      "  1%|          | 14/1850 [00:10<20:05,  1.52it/s]"
     ]
    },
    {
     "name": "stdout",
     "output_type": "stream",
     "text": [
      "Comentário com problema encontrado: Advertising. Too many executives are still shouting about bringing back ‘big magical ideas’ and long-form TV ads\n"
     ]
    },
    {
     "name": "stderr",
     "output_type": "stream",
     "text": [
      "  1%|          | 20/1850 [00:14<19:56,  1.53it/s]"
     ]
    },
    {
     "name": "stdout",
     "output_type": "stream",
     "text": [
      "Comentário com problema encontrado: Accounting. As someone in Tech I regret now passing on my dads successful Accounting practice.\n"
     ]
    },
    {
     "name": "stderr",
     "output_type": "stream",
     "text": [
      "  1%|          | 22/1850 [00:15<20:25,  1.49it/s]"
     ]
    },
    {
     "name": "stdout",
     "output_type": "stream",
     "text": [
      "Comentário com problema encontrado: Coopers! Huge demand for young people to come through and learn the trade. Barrels are still very much in demand but the trade is withering.\n"
     ]
    },
    {
     "name": "stderr",
     "output_type": "stream",
     "text": [
      "  1%|          | 23/1850 [00:16<21:09,  1.44it/s]"
     ]
    },
    {
     "name": "stdout",
     "output_type": "stream",
     "text": [
      "Comentário com problema encontrado: Higher Education!\n",
      "Not the academics but the administrative and management. They're pretty old, very rigid, and dissociated from reality and trends.\n"
     ]
    },
    {
     "name": "stderr",
     "output_type": "stream",
     "text": [
      "  1%|▏         | 25/1850 [00:18<22:50,  1.33it/s]"
     ]
    },
    {
     "name": "stdout",
     "output_type": "stream",
     "text": [
      "Comentário com problema encontrado: Construction. Get boomers and their pointless meetings and long hours out of the way.\n"
     ]
    },
    {
     "name": "stderr",
     "output_type": "stream",
     "text": [
      "  1%|▏         | 26/1850 [00:18<21:58,  1.38it/s]"
     ]
    },
    {
     "name": "stdout",
     "output_type": "stream",
     "text": [
      "Comentário com problema encontrado: Skilled trades like plumbing, electrical, and HVAC are wide open, tons of demand, aging workforce, and barely anyone our age getting into it.\n"
     ]
    },
    {
     "name": "stderr",
     "output_type": "stream",
     "text": [
      "  2%|▏         | 28/1850 [00:20<21:26,  1.42it/s]"
     ]
    },
    {
     "name": "stdout",
     "output_type": "stream",
     "text": [
      "Comentário com problema encontrado: Building inspectors - the kind who work for municipalities. The barriers to entry are high and the pay is not commensurate with the experience required. My spouse has his building inspector license and he makes 4x as much working for himself in his particular trade. He goes to the regional meetings so he can keep his license up to date and he says everyone there is pushing 70. He is 55 and he’s the youngest there.\n"
     ]
    },
    {
     "name": "stderr",
     "output_type": "stream",
     "text": [
      "  2%|▏         | 43/1850 [00:29<21:13,  1.42it/s]"
     ]
    },
    {
     "name": "stdout",
     "output_type": "stream",
     "text": [
      "Comentário com problema encontrado: Real estate , we need more innovation\n"
     ]
    },
    {
     "name": "stderr",
     "output_type": "stream",
     "text": [
      "  3%|▎         | 47/1850 [00:32<19:47,  1.52it/s]"
     ]
    },
    {
     "name": "stdout",
     "output_type": "stream",
     "text": [
      "Comentário com problema encontrado: Elder care\n"
     ]
    },
    {
     "name": "stderr",
     "output_type": "stream",
     "text": [
      "  3%|▎         | 54/1850 [00:37<20:54,  1.43it/s]"
     ]
    },
    {
     "name": "stdout",
     "output_type": "stream",
     "text": [
      "Comentário com problema encontrado: Almost anything involving at least a mild degree of labor\n"
     ]
    },
    {
     "name": "stderr",
     "output_type": "stream",
     "text": [
      "  4%|▍         | 73/1850 [00:50<20:04,  1.48it/s]"
     ]
    },
    {
     "name": "stdout",
     "output_type": "stream",
     "text": [
      "Comentário com problema encontrado: US government especially senate and house. Our president is like 80 everyone is really old.\n"
     ]
    },
    {
     "name": "stderr",
     "output_type": "stream",
     "text": [
      "  5%|▍         | 84/1850 [00:58<21:05,  1.40it/s]"
     ]
    },
    {
     "name": "stdout",
     "output_type": "stream",
     "text": [
      "Comentário com problema encontrado: Politics. Get those old bastards into retirement where they belong.\n"
     ]
    },
    {
     "name": "stderr",
     "output_type": "stream",
     "text": [
      "  5%|▍         | 89/1850 [01:03<22:34,  1.30it/s]"
     ]
    },
    {
     "name": "stdout",
     "output_type": "stream",
     "text": [
      "Comentário com problema encontrado: Car wash equipment repair and installation. It’s already thin but now people are aging out. Some of the fixes are learned by experience. Hard to teach it; it’s a learn as you go industry. Some is teachable but not all.\n"
     ]
    },
    {
     "name": "stderr",
     "output_type": "stream",
     "text": [
      "  5%|▌         | 93/1850 [01:06<21:41,  1.35it/s]"
     ]
    },
    {
     "name": "stdout",
     "output_type": "stream",
     "text": [
      "Comentário com problema encontrado: farming !!!!! all the farmers are dying/retiring rn !! unfortunately most of it will likely be bought by big rich ppl\n"
     ]
    },
    {
     "name": "stderr",
     "output_type": "stream",
     "text": [
      "  6%|▌         | 104/1850 [01:13<20:47,  1.40it/s]"
     ]
    },
    {
     "name": "stdout",
     "output_type": "stream",
     "text": [
      "Comentário com problema encontrado: Every artisan craft I'm familiar with -- shoemaking/repair, watch repair/jewelry, smithing, tailoring -- is aging rapidly with too few young apprentices. Hard to make a good living, but can be done.\n"
     ]
    },
    {
     "name": "stderr",
     "output_type": "stream",
     "text": [
      "  6%|▌         | 106/1850 [01:15<19:23,  1.50it/s]"
     ]
    },
    {
     "name": "stdout",
     "output_type": "stream",
     "text": [
      "Comentário com problema encontrado: There's a shortage of trades in construction but there's also a drastic shortage of opportunities. Apprenticeships are ridiculously hard to come by these days and if the applicant is over a certain age then most businesses (mainly small ones) won't touch them.\n"
     ]
    },
    {
     "name": "stderr",
     "output_type": "stream",
     "text": [
      "  6%|▋         | 119/1850 [01:24<18:39,  1.55it/s]"
     ]
    },
    {
     "name": "stdout",
     "output_type": "stream",
     "text": [
      "Comentário com problema encontrado: Manufacturing! Our workforce keeps getting older by the year, some people having 20-25 years running the same machines. The shift is 24/7, rotating 3 days one week, 4 days the next, 12 hrs each day. You only work half the year, and still get sick days and vacation!! But, the work is hard - the machines don't have manuals and no YouTube videos to look up. Younger people have come and gone. They don't like getting covered in dust, sweat, and grease for 12 hrs. Or, they don't have the \"mechanical mind\" to figure out the machinery when it breaks down. Often, you can show them how to do something easy (replace a bearing) 10x, and they'll still act like it's their first time every time a bearing goes bad. They're not retaining the information. We desperately need young people with mechanical minds and strong work ethics!\n"
     ]
    },
    {
     "name": "stderr",
     "output_type": "stream",
     "text": [
      "  6%|▋         | 120/1850 [01:25<19:50,  1.45it/s]"
     ]
    },
    {
     "name": "stdout",
     "output_type": "stream",
     "text": [
      "Comentário com problema encontrado: Building maintenance\n"
     ]
    },
    {
     "name": "stderr",
     "output_type": "stream",
     "text": [
      "  7%|▋         | 121/1850 [01:25<18:30,  1.56it/s]"
     ]
    },
    {
     "name": "stdout",
     "output_type": "stream",
     "text": [
      "Comentário com problema encontrado: The trades. Not enough tradesmen out here. But a lot of money to be made.\n"
     ]
    },
    {
     "name": "stderr",
     "output_type": "stream",
     "text": [
      "  7%|▋         | 127/1850 [01:30<23:13,  1.24it/s]"
     ]
    },
    {
     "name": "stdout",
     "output_type": "stream",
     "text": [
      "Comentário com problema encontrado: Local professional services. Accountants, lawyers, consultants stuck in 1990s workflows. Anyone who can build simple client portals and automated scheduling will steal their clients.\n"
     ]
    },
    {
     "name": "stderr",
     "output_type": "stream",
     "text": [
      "  7%|▋         | 131/1850 [01:33<21:01,  1.36it/s]"
     ]
    },
    {
     "name": "stdout",
     "output_type": "stream",
     "text": [
      "Comentário com problema encontrado: Accounting. It's slowly starting to change, but there's still a shortage of good bookkeepers and tax preparers\n"
     ]
    },
    {
     "name": "stderr",
     "output_type": "stream",
     "text": [
      "  7%|▋         | 137/1850 [01:38<19:39,  1.45it/s]"
     ]
    },
    {
     "name": "stdout",
     "output_type": "stream",
     "text": [
      "Comentário com problema encontrado: Iron and Steel / Foundry. This is one of the cornerstones of a functional civilization, why is nobody interested?!?\n"
     ]
    },
    {
     "name": "stderr",
     "output_type": "stream",
     "text": [
      "  7%|▋         | 138/1850 [01:38<21:23,  1.33it/s]"
     ]
    },
    {
     "name": "stdout",
     "output_type": "stream",
     "text": [
      "Comentário com problema encontrado: Funiture installer \n",
      "This generation does not want to get into it because it does not pay well.\n",
      "Our pay has not evolved with the times\n",
      "All the dealers are hiking up the price but the installer pay is the same.\n",
      "The ones who do get into it are trash and don’t stay long and the ones who do enjoy it and do learn it eventually move because the pay is not there.\n"
     ]
    },
    {
     "name": "stderr",
     "output_type": "stream",
     "text": [
      "  8%|▊         | 142/1850 [01:42<23:53,  1.19it/s]"
     ]
    },
    {
     "name": "stdout",
     "output_type": "stream",
     "text": [
      "Comentário com problema encontrado: Government.... we're being ruled by old farts, which aren't interested in improving countries but to stay in power and grab money\n"
     ]
    },
    {
     "name": "stderr",
     "output_type": "stream",
     "text": [
      "  8%|▊         | 151/1850 [01:48<18:12,  1.56it/s]"
     ]
    },
    {
     "name": "stdout",
     "output_type": "stream",
     "text": [
      "Comentário com problema encontrado: I keep seeing the same revenue leak in every company I work with and it's driving me nuts\n"
     ]
    },
    {
     "name": "stderr",
     "output_type": "stream",
     "text": [
      "  8%|▊         | 153/1850 [01:50<20:31,  1.38it/s]"
     ]
    },
    {
     "name": "stdout",
     "output_type": "stream",
     "text": [
      "Comentário com problema encontrado: You're absolutely spot on. I'm running a small plumbing company, and even at my scale, I've noticed this exact issue. Big plumbing firms around me spend thousands chasing new leads but drop the ball on simply following up quickly and clearly with the people already reaching out.\n"
     ]
    },
    {
     "name": "stderr",
     "output_type": "stream",
     "text": [
      "  8%|▊         | 154/1850 [01:51<21:16,  1.33it/s]"
     ]
    },
    {
     "name": "stdout",
     "output_type": "stream",
     "text": [
      "Comentário com problema encontrado: Yeah basic shit. I go into a lot of companies as fractional CTO and I find most of them don't have basic document tracking.  They throw everything in Google docs and have no way to know what's what.  So I usually institute coda (similar to notion) and teach them how to use it with maybe a tutorial, a video or two, and lots of teaching by example since I use it religiously.\n"
     ]
    },
    {
     "name": "stderr",
     "output_type": "stream",
     "text": [
      "  8%|▊         | 155/1850 [01:52<22:44,  1.24it/s]"
     ]
    },
    {
     "name": "stdout",
     "output_type": "stream",
     "text": [
      "Comentário com problema encontrado: I used to do online marketing for small businesses. Had a roster of like 200-300 clients. Most of my conversations with business owners was them screeching at me about how all of the reported leads were made up by my company. \n"
     ]
    },
    {
     "name": "stderr",
     "output_type": "stream",
     "text": [
      "  9%|▊         | 158/1850 [01:54<21:44,  1.30it/s]"
     ]
    },
    {
     "name": "stdout",
     "output_type": "stream",
     "text": [
      "Comentário com problema encontrado: Unlike consultants, internal employees are a) not paid extra for figuring these issues or b) their ideas get rejected by managers and hence, they are not motivated to find such problems. As a result, these issues are common across companies. \n"
     ]
    },
    {
     "name": "stderr",
     "output_type": "stream",
     "text": [
      "  9%|▉         | 162/1850 [01:57<20:29,  1.37it/s]"
     ]
    },
    {
     "name": "stdout",
     "output_type": "stream",
     "text": [
      "Comentário com problema encontrado: \"Average response time to new leads: 23 hours (should be under 5 mins)They follow up twice then give up (most people need 7+ touchpoints)Proposals sit in email for weeks with no follow-up\n"
     ]
    },
    {
     "name": "stderr",
     "output_type": "stream",
     "text": [
      "  9%|▉         | 163/1850 [01:57<19:37,  1.43it/s]"
     ]
    },
    {
     "name": "stdout",
     "output_type": "stream",
     "text": [
      "Comentário com problema encontrado: Very true and something I need to fix myself.\n"
     ]
    },
    {
     "name": "stderr",
     "output_type": "stream",
     "text": [
      "  9%|▉         | 164/1850 [01:58<18:53,  1.49it/s]"
     ]
    },
    {
     "name": "stdout",
     "output_type": "stream",
     "text": [
      "Comentário com problema encontrado: Totally happening almost everywhere. Spend a ton on leads and only the rare few desperate clients convert on their terrible sales strategy. See it all the time too. Typically when they’re telling me my leads suck before I listen to the call logs. Need to start vetting every buyer I sell to. You are 100% right on this.\n"
     ]
    },
    {
     "name": "stderr",
     "output_type": "stream",
     "text": [
      "  9%|▉         | 165/1850 [01:59<21:04,  1.33it/s]"
     ]
    },
    {
     "name": "stdout",
     "output_type": "stream",
     "text": [
      "Comentário com problema encontrado: Thank you so much for saying this. Try to purchase solar, gutters, basically any mildly complicated service or product and the consumer is chasing the company for months!\n"
     ]
    },
    {
     "name": "stderr",
     "output_type": "stream",
     "text": [
      "  9%|▉         | 172/1850 [02:04<19:28,  1.44it/s]"
     ]
    },
    {
     "name": "stdout",
     "output_type": "stream",
     "text": [
      "Comentário com problema encontrado: This is insanely on point  I run a small data consulting firm and can 100% confirm we’ve been guilty of this. Right now we have one high-value client that takes up most of our time, and while I know the service is solid (we’re doing all of their reporting/ops analytics), I’m stuck trying to figure out how to actually \n"
     ]
    },
    {
     "name": "stderr",
     "output_type": "stream",
     "text": [
      "  9%|▉         | 173/1850 [02:05<21:38,  1.29it/s]"
     ]
    },
    {
     "name": "stdout",
     "output_type": "stream",
     "text": [
      "Comentário com problema encontrado: Im facing this same problem and looking to implement some fixes to up the win rate of current leads. \n"
     ]
    },
    {
     "name": "stderr",
     "output_type": "stream",
     "text": [
      " 10%|▉         | 177/1850 [02:09<23:33,  1.18it/s]"
     ]
    },
    {
     "name": "stdout",
     "output_type": "stream",
     "text": [
      "Comentário com problema encontrado: I’m trying to figure out Hubspot to help automate this. Everything is hard.\n"
     ]
    },
    {
     "name": "stderr",
     "output_type": "stream",
     "text": [
      " 10%|▉         | 182/1850 [02:13<21:57,  1.27it/s]"
     ]
    },
    {
     "name": "stdout",
     "output_type": "stream",
     "text": [
      "Comentário com problema encontrado: I worked as a copywriter for a while and saw this in so many places. They usually hire a copywriter because there is some crisis going on. I'd get in there as ask questions and whoops, the return call rate was fucked. \n"
     ]
    },
    {
     "name": "stderr",
     "output_type": "stream",
     "text": [
      " 10%|▉         | 184/1850 [02:14<22:11,  1.25it/s]"
     ]
    },
    {
     "name": "stdout",
     "output_type": "stream",
     "text": [
      "Comentário com problema encontrado: I’m seeing this in our own business. We have a huge database of leads (direct to consumer but high ticket sales). Not sure how best to start testing ways to reengage/get back in touch.\n"
     ]
    },
    {
     "name": "stderr",
     "output_type": "stream",
     "text": [
      " 10%|█         | 185/1850 [02:15<21:41,  1.28it/s]"
     ]
    },
    {
     "name": "stdout",
     "output_type": "stream",
     "text": [
      "Comentário com problema encontrado: Could you add a customer request to time the response time via email/phone/text to get data before approaching the business? And evaluate the response quality? Then you have good data point to sell the optimization service. For example, I contacted a car dealer about a specific car listing. They add me to email blast and do not answer the question about the car (no human read the form submission).\n"
     ]
    },
    {
     "name": "stderr",
     "output_type": "stream",
     "text": [
      " 10%|█         | 188/1850 [02:17<22:33,  1.23it/s]"
     ]
    },
    {
     "name": "stdout",
     "output_type": "stream",
     "text": [
      "Comentário com problema encontrado: I agree. Too often we are so focused on \"New\" business we neglect our legacy business. No matter what your business your legacy customers always have new business needs and even if you can't provide for their new needs you might know who can which then makes you more valuable to them.\n"
     ]
    },
    {
     "name": "stderr",
     "output_type": "stream",
     "text": [
      " 10%|█         | 192/1850 [02:21<20:25,  1.35it/s]"
     ]
    },
    {
     "name": "stdout",
     "output_type": "stream",
     "text": [
      "Comentário com problema encontrado: I've seen it for decades.  The problem has remained stubbornly entrenched through the years and massive changes in technology.  I feel like it's an interesting combination of two human nature problems.  One is at the front end, where it's just sooo much easier to wait for something to happen than make something happen even if you are waiting on a dime during the period of time where you could be making a dollar.  The other is on the back end where correlation is perceived to imply causality.  \"For every ten leads, we make $10, we want to make $100 so therefore, we need 100 leads.\"\n"
     ]
    },
    {
     "name": "stderr",
     "output_type": "stream",
     "text": [
      " 10%|█         | 193/1850 [02:21<20:05,  1.37it/s]"
     ]
    },
    {
     "name": "stdout",
     "output_type": "stream",
     "text": [
      "Comentário com problema encontrado: Man I am seeing this with every local company around me right now. Call, they come out to assess (lucky to get a quote without an in person visit for anything), get a quote and a date for them to come out, they never show or follow up. I call, text, message, no answer just ghosted. They keep running ads, posting on FB groups and everything. Like how are these people making money?\n"
     ]
    },
    {
     "name": "stderr",
     "output_type": "stream",
     "text": [
      " 11%|█         | 196/1850 [02:23<20:33,  1.34it/s]"
     ]
    },
    {
     "name": "stdout",
     "output_type": "stream",
     "text": [
      "Comentário com problema encontrado: I recently needed to replace my roof. I called 3 local roofing companies. One of them got back immediately, came to my house and gave me an estimate. I was very impressed, however then the sales pressure tactics started. Which I didn't appreciate. I would have used them otherwise. \n",
      " \n"
     ]
    },
    {
     "name": "stderr",
     "output_type": "stream",
     "text": [
      " 11%|█         | 198/1850 [02:25<20:14,  1.36it/s]"
     ]
    },
    {
     "name": "stdout",
     "output_type": "stream",
     "text": [
      "Comentário com problema encontrado: I’ve consulted/trained in automotive for 10 years. Every single one would rather spend on advertising rather than get better at closing what they do get and treating customers like humans. Not even well, just normal.\n"
     ]
    },
    {
     "name": "stderr",
     "output_type": "stream",
     "text": [
      " 11%|█         | 199/1850 [02:26<20:53,  1.32it/s]"
     ]
    },
    {
     "name": "stdout",
     "output_type": "stream",
     "text": [
      "Comentário com problema encontrado: if you apply for a 9-5 then sometimes you need to turnoff your brain. its unfortunate. buts that's the way it is.\n"
     ]
    },
    {
     "name": "stderr",
     "output_type": "stream",
     "text": [
      " 11%|█         | 200/1850 [02:26<19:28,  1.41it/s]"
     ]
    },
    {
     "name": "stdout",
     "output_type": "stream",
     "text": [
      "Comentário com problema encontrado: That and lost deal recovery which is something I am focusing on now.\n"
     ]
    },
    {
     "name": "stderr",
     "output_type": "stream",
     "text": [
      " 11%|█         | 202/1850 [02:30<31:31,  1.15s/it]"
     ]
    },
    {
     "name": "stdout",
     "output_type": "stream",
     "text": [
      "Comentário com problema encontrado: This could be applied even to private practice: psychotherapists. The response time to each client can end up being too long for the client and so they go elsewhere, like to an inferior BetterHelp-type company. But if therapists ensured they had good admin skills, then they could really benefit. I know this isn’t the exact demo. But it makes so much sense what you’re saying!\n"
     ]
    },
    {
     "name": "stderr",
     "output_type": "stream",
     "text": [
      " 11%|█         | 203/1850 [02:30<27:18,  1.01it/s]"
     ]
    },
    {
     "name": "stdout",
     "output_type": "stream",
     "text": [
      "Comentário com problema encontrado: I think, standing back, what I see is that companies have a bunch of data and don't know how to use it to evaluate systems and processes.  I'm an HR consultant and people don't know that their actual culture, not their intended or marketed culture, is in the data.  So are ways to change it.  They don't know that you can measure unhappiness or toxic pockets by looking at data on theft, padded expense reports, time card fraud, ER issues that are more about personality than something that's an actual code of conduct violation.  And NO ONE uses recruiting data properly.  If I were to do a three year look back at hires, I would want to see who the recruiters and hiring managers were, what the interview process was, where they were sourced, what companies they came from, and any other commonalities of current employees.  I'd look at the same info for people who had since left the company, vol or invol.  I heart data so hard.\n"
     ]
    },
    {
     "name": "stderr",
     "output_type": "stream",
     "text": [
      " 11%|█         | 204/1850 [02:33<37:19,  1.36s/it]"
     ]
    },
    {
     "name": "stdout",
     "output_type": "stream",
     "text": [
      "Comentário com problema encontrado: Totally. I’ve seen the same thing... teams chasing more traffic while ignoring the leads already knocking at the door.\n"
     ]
    },
    {
     "name": "stderr",
     "output_type": "stream",
     "text": [
      " 11%|█         | 206/1850 [02:34<27:24,  1.00s/it]"
     ]
    },
    {
     "name": "stdout",
     "output_type": "stream",
     "text": [
      "Comentário com problema encontrado: I’m newly hired senoir leadership in my company and see this already. Unfortunately, our marketing, instead of sales, is in charge of our website leads. Also, our proposals are taking almost a week or 2 to get our and unfortunately, it’s getting worse due to new leadership wanting to have “more defined scope” to better protect our company.\n"
     ]
    },
    {
     "name": "stderr",
     "output_type": "stream",
     "text": [
      " 11%|█         | 207/1850 [02:35<24:16,  1.13it/s]"
     ]
    },
    {
     "name": "stdout",
     "output_type": "stream",
     "text": [
      "Comentário com problema encontrado: Yes, this is me.  I'm mostly a single man shop with a few helpers I'm trying to train up.  top of my pipe is full, overflowing.  I don't get back to every lead, once i send a quote or first contact, if they don't get back to me, I'm too busy with the new leads , work at hand or old leads chasing me to chase the old.    I don't like it, but it is what it is.\n"
     ]
    },
    {
     "name": "stderr",
     "output_type": "stream",
     "text": [
      " 11%|█         | 208/1850 [02:35<23:48,  1.15it/s]"
     ]
    },
    {
     "name": "stdout",
     "output_type": "stream",
     "text": [
      "Comentário com problema encontrado: I literally spent last week looking at these holes in my bucket and plugging them up. Our response rate has been alright, but follow-ups are few and far between.\n"
     ]
    },
    {
     "name": "stderr",
     "output_type": "stream",
     "text": [
      " 11%|█▏        | 209/1850 [02:36<22:51,  1.20it/s]"
     ]
    },
    {
     "name": "stdout",
     "output_type": "stream",
     "text": [
      "Comentário com problema encontrado: This is a great post. I run a marketing agency, and I'm frustrated with our lead gen BUT if we convert more of the leads we have, we'd be in a much better place.\n"
     ]
    },
    {
     "name": "stderr",
     "output_type": "stream",
     "text": [
      " 11%|█▏        | 210/1850 [02:37<23:19,  1.17it/s]"
     ]
    },
    {
     "name": "stdout",
     "output_type": "stream",
     "text": [
      "Comentário com problema encontrado: And in the long term, if a tradesman is honest and not trying to just take advantage, I will continue to use that tradesman for life if possible. If someone is dishonest once, I will never hire his services again. If a honest tradesman does a good job, I will recommend him to everyone. Goes for tradeswomen too. But so many make up fictitious problems that don't exist. I once had surgery, and having replaced my tap before, I knew how to do it, but didn't have the strength. One plumber made a story about having to repipe everything under my sink without even seeing the problem in person. I blocked his number.\n"
     ]
    },
    {
     "name": "stderr",
     "output_type": "stream",
     "text": [
      " 11%|█▏        | 211/1850 [02:38<24:37,  1.11it/s]"
     ]
    },
    {
     "name": "stdout",
     "output_type": "stream",
     "text": [
      "Comentário com problema encontrado: I took over Sales Management at a CRO in the San Jose area and can echo your comments.  This company had all their info requests funneled to their “star” salesman, who was literally triaging the leads, cherry picking, and letting others lie.  The company had no clue what he was doing, and to top it off, he took the entire customer database with him.  They thought that was ok, too.\n"
     ]
    },
    {
     "name": "stderr",
     "output_type": "stream",
     "text": [
      " 11%|█▏        | 212/1850 [02:39<22:04,  1.24it/s]"
     ]
    },
    {
     "name": "stdout",
     "output_type": "stream",
     "text": [
      "Comentário com problema encontrado: Our company has a similar problem, all the sales people are overwhelmed and the design team is 3 weeks out on work, but we’re told to keep filling the funnel. Like at some point, people won’t give us another look if we keep taking this long.\n"
     ]
    },
    {
     "name": "stderr",
     "output_type": "stream",
     "text": [
      " 12%|█▏        | 213/1850 [02:39<21:29,  1.27it/s]"
     ]
    },
    {
     "name": "stdout",
     "output_type": "stream",
     "text": [
      "Comentário com problema encontrado: This is so true. I’ve seen teams spend thousands on ads while completely ignoring the leads already in their inbox. Fixing the basics feels “unsexy,” but it’s where the real money is. Solid reminder that growth isn’t always about more it’s about better.\n"
     ]
    },
    {
     "name": "stderr",
     "output_type": "stream",
     "text": [
      " 12%|█▏        | 214/1850 [02:40<21:17,  1.28it/s]"
     ]
    },
    {
     "name": "stdout",
     "output_type": "stream",
     "text": [
      "Comentário com problema encontrado: The manufacturing version of this is ‘we need more bookings’ and everyone high fiving and slapping backs at high bookings numbers, but then no attention paid to actually making and shipping this stuff - which is when we actually recognize revenue.  So backlog grows, order go past due, revenue is low, then they go back to saying they need more bookings.\n"
     ]
    },
    {
     "name": "stderr",
     "output_type": "stream",
     "text": [
      " 12%|█▏        | 215/1850 [02:41<19:34,  1.39it/s]"
     ]
    },
    {
     "name": "stdout",
     "output_type": "stream",
     "text": [
      "Comentário com problema encontrado: Broken automations marketing swears are working without checking, complaining about MQL conversion, then realizing it’s broken and quietly fixing flooding reps with old leads to overcorrect.\n"
     ]
    },
    {
     "name": "stderr",
     "output_type": "stream",
     "text": [
      " 12%|█▏        | 219/1850 [02:44<19:14,  1.41it/s]"
     ]
    },
    {
     "name": "stdout",
     "output_type": "stream",
     "text": [
      "Comentário com problema encontrado: The biggest FAIL is when I enter gambling back then\n"
     ]
    },
    {
     "name": "stderr",
     "output_type": "stream",
     "text": [
      " 12%|█▏        | 221/1850 [02:45<18:19,  1.48it/s]"
     ]
    },
    {
     "name": "stdout",
     "output_type": "stream",
     "text": [
      "Comentário com problema encontrado: Biggest fail was staying at a horrible underpaid job for far too long because I didn’t think anywhere else would hire me. Hostile work environment that totally destroyed my mental health, and years later I found out that I was making probably 70% of what I should have. It was my first job after graduating in 2013 when the job market was still shit from the Great Recession. \n"
     ]
    },
    {
     "name": "stderr",
     "output_type": "stream",
     "text": [
      " 12%|█▏        | 224/1850 [02:47<18:50,  1.44it/s]"
     ]
    },
    {
     "name": "stdout",
     "output_type": "stream",
     "text": [
      "Comentário com problema encontrado: Plinko balls gambling (-2000 btw)\n"
     ]
    },
    {
     "name": "stderr",
     "output_type": "stream",
     "text": [
      " 12%|█▏        | 225/1850 [02:48<19:05,  1.42it/s]"
     ]
    },
    {
     "name": "stdout",
     "output_type": "stream",
     "text": [
      "Comentário com problema encontrado: Made money -\n",
      "Lost money - \n",
      "So the cycle continues\n"
     ]
    },
    {
     "name": "stderr",
     "output_type": "stream",
     "text": [
      " 12%|█▏        | 228/1850 [02:51<23:18,  1.16it/s]"
     ]
    },
    {
     "name": "stdout",
     "output_type": "stream",
     "text": [
      "Comentário com problema encontrado: Biggest win : When i entered a failing branch's management position (Branch manager) right after completing my higher education (As my mom is the CEO of company) and this branch has no staff, no sales or anything. It motivated me to work.\n"
     ]
    },
    {
     "name": "stderr",
     "output_type": "stream",
     "text": [
      " 12%|█▏        | 229/1850 [02:51<21:23,  1.26it/s]"
     ]
    },
    {
     "name": "stdout",
     "output_type": "stream",
     "text": [
      "Comentário com problema encontrado: No win yet in my life only loosing everyday\n"
     ]
    },
    {
     "name": "stderr",
     "output_type": "stream",
     "text": [
      " 12%|█▏        | 231/1850 [02:53<19:51,  1.36it/s]"
     ]
    },
    {
     "name": "stdout",
     "output_type": "stream",
     "text": [
      "Comentário com problema encontrado: University entrepreneurial program,  conceptualized and launched a online pet site. Leashed.com. invaluable mentorship put to waste as technical partner destroyed 2 yrs of work via monthly compensation ending\n"
     ]
    },
    {
     "name": "stderr",
     "output_type": "stream",
     "text": [
      " 13%|█▎        | 232/1850 [02:53<18:01,  1.50it/s]"
     ]
    },
    {
     "name": "stdout",
     "output_type": "stream",
     "text": [
      "Comentário com problema encontrado: BIGGEST FAIL: that time a billionaire invited me to be part of his inner circle and I never followed up because I was embarassed about VICE killing the article which had brought us together for an interview.\n"
     ]
    },
    {
     "name": "stderr",
     "output_type": "stream",
     "text": [
      " 13%|█▎        | 247/1850 [03:05<17:32,  1.52it/s]"
     ]
    },
    {
     "name": "stdout",
     "output_type": "stream",
     "text": [
      "Comentário com problema encontrado: I realized this a while back too. Best case, customers don't care they just want the result they are looking for. Worst case, it actively turns potential customers off\n"
     ]
    },
    {
     "name": "stderr",
     "output_type": "stream",
     "text": [
      " 14%|█▎        | 250/1850 [03:07<18:19,  1.45it/s]"
     ]
    },
    {
     "name": "stdout",
     "output_type": "stream",
     "text": [
      "Comentário com problema encontrado: I have yet to use an \"AI product\" that works well . I bet I use several things that use AI under the hood that I don't even know about.\n"
     ]
    },
    {
     "name": "stderr",
     "output_type": "stream",
     "text": [
      " 14%|█▎        | 253/1850 [03:09<18:01,  1.48it/s]"
     ]
    },
    {
     "name": "stdout",
     "output_type": "stream",
     "text": [
      "Comentário com problema encontrado: Couldn’t agree more. \n",
      "AI in your messaging implies there’s a machine doing stuff your company hasn’t really thought through by itself. That sounds risky. \n",
      "Build for the pain you have identified and are solving. Use outcome based messaging that provides a better world. Let AI enhance your operating rhythm and effort. And mostly let it free up your most valuable resource - human time.\n"
     ]
    },
    {
     "name": "stderr",
     "output_type": "stream",
     "text": [
      " 14%|█▍        | 258/1850 [03:13<19:39,  1.35it/s]"
     ]
    },
    {
     "name": "stdout",
     "output_type": "stream",
     "text": [
      "Comentário com problema encontrado: Because nowadays most AI powered/related claims means its something low quality, most likely another GPT wrapper\n"
     ]
    },
    {
     "name": "stderr",
     "output_type": "stream",
     "text": [
      " 14%|█▍        | 260/1850 [03:14<21:21,  1.24it/s]"
     ]
    },
    {
     "name": "stdout",
     "output_type": "stream",
     "text": [
      "Comentário com problema encontrado: nobody cares whether it's ai-powered, they only want a certain acute problem solved.\n"
     ]
    },
    {
     "name": "stderr",
     "output_type": "stream",
     "text": [
      " 14%|█▍        | 264/1850 [03:17<19:16,  1.37it/s]"
     ]
    },
    {
     "name": "stdout",
     "output_type": "stream",
     "text": [
      "Comentário com problema encontrado: When I see \"AI\" in any software or business tools, I'll skip it and continue to find what I need. \n",
      "It provides little value unless the tool is specific for ai use. \n",
      "If it uses AI in the background, sure, as long as it solves the initial problem.\n"
     ]
    },
    {
     "name": "stderr",
     "output_type": "stream",
     "text": [
      " 15%|█▍        | 272/1850 [03:24<22:04,  1.19it/s]"
     ]
    },
    {
     "name": "stdout",
     "output_type": "stream",
     "text": [
      "Comentário com problema encontrado: We’ve discovered this a few months ago and you’re absolutely right we had to remove any instances of AI from our marketing. It feels like a handful of AI companies were able to capitalize on the trend but it started backfiring really fast. It’s good though because AI should never be the selling point. It’s sorta like cars, very few people walk around saying it’s a V8 twin turbo maximum output 4X4, they simply it’s a sports car then use it for what it can do. I think in some cases it can be a bragging point for founders but customers really don’t care, just solve my problem or else I move on. It’s also a fun challenge if you ask me, like how can you show me it’s AI without telling me it’s AI\n"
     ]
    },
    {
     "name": "stderr",
     "output_type": "stream",
     "text": [
      " 15%|█▌        | 278/1850 [03:29<23:47,  1.10it/s]"
     ]
    },
    {
     "name": "stdout",
     "output_type": "stream",
     "text": [
      "Comentário com problema encontrado: AI powered systems are being translated to \"chat gpt wrappers\" nowadays\n"
     ]
    },
    {
     "name": "stderr",
     "output_type": "stream",
     "text": [
      " 15%|█▌        | 281/1850 [03:32<23:31,  1.11it/s]"
     ]
    },
    {
     "name": "stdout",
     "output_type": "stream",
     "text": [
      "Comentário com problema encontrado: Now-a-days I just fear to think a SaaS product idea that does not require \"AI Powered\" thingy. I just think like- will anyone spend money for a product that does not have AI Powered thingy??!\n"
     ]
    },
    {
     "name": "stderr",
     "output_type": "stream",
     "text": [
      " 15%|█▌        | 283/1850 [03:33<20:48,  1.25it/s]"
     ]
    },
    {
     "name": "stdout",
     "output_type": "stream",
     "text": [
      "Comentário com problema encontrado: When the ai content is generic and feels lifeless, for sure it won't work.\n"
     ]
    },
    {
     "name": "stderr",
     "output_type": "stream",
     "text": [
      " 15%|█▌        | 285/1850 [03:35<20:47,  1.25it/s]"
     ]
    },
    {
     "name": "stdout",
     "output_type": "stream",
     "text": [
      "Comentário com problema encontrado: I feel the same way every time I hear AI, most of AI Saas are just fancy garbage.\n"
     ]
    },
    {
     "name": "stderr",
     "output_type": "stream",
     "text": [
      " 16%|█▌        | 288/1850 [03:37<19:03,  1.37it/s]"
     ]
    },
    {
     "name": "stdout",
     "output_type": "stream",
     "text": [
      "Comentário com problema encontrado: In my niche adding AI Powered or AI Written would lower conversion rates as my users are looking for specific content from specific sources. I use AI to fill in some gaps but I try very hard to hide the use of AI as it will be costly\n"
     ]
    },
    {
     "name": "stderr",
     "output_type": "stream",
     "text": [
      " 16%|█▌        | 296/1850 [03:44<22:44,  1.14it/s]"
     ]
    },
    {
     "name": "stdout",
     "output_type": "stream",
     "text": [
      "Comentário com problema encontrado: I spent 6 months building an app that made exactly $0 in revenue 💸\n"
     ]
    },
    {
     "name": "stderr",
     "output_type": "stream",
     "text": [
      " 16%|█▌        | 298/1850 [03:46<20:27,  1.26it/s]"
     ]
    },
    {
     "name": "stdout",
     "output_type": "stream",
     "text": [
      "Comentário com problema encontrado: You can begin a new phase asking your mother why se uninstalled. I’m not joking, but telling you that now you need any kind of feedback.\n"
     ]
    },
    {
     "name": "stderr",
     "output_type": "stream",
     "text": [
      " 16%|█▋        | 303/1850 [03:50<19:27,  1.32it/s]"
     ]
    },
    {
     "name": "stdout",
     "output_type": "stream",
     "text": [
      "Comentário com problema encontrado: Oh man, I feel you. I went through the exact same thing. Spent a whole year, 14 hours a day, doing the same thing, obsessed with perfection, constantly adding more features. I thought that’s what would make it successful. But after launching, the harsh reality hit me: 2–3 months later, I had made exactly \n"
     ]
    },
    {
     "name": "stderr",
     "output_type": "stream",
     "text": [
      " 17%|█▋        | 311/1850 [03:57<21:47,  1.18it/s]"
     ]
    },
    {
     "name": "stdout",
     "output_type": "stream",
     "text": [
      "Comentário com problema encontrado: I need an app developer that is amazing. Upwork?\n"
     ]
    },
    {
     "name": "stderr",
     "output_type": "stream",
     "text": [
      " 17%|█▋        | 312/1850 [03:58<21:19,  1.20it/s]"
     ]
    },
    {
     "name": "stdout",
     "output_type": "stream",
     "text": [
      "Comentário com problema encontrado: I know this is about you, but honestly, I’ve been vibe coding for two weeks and I can’t connect to stripe\n"
     ]
    },
    {
     "name": "stderr",
     "output_type": "stream",
     "text": [
      " 17%|█▋        | 313/1850 [03:59<18:45,  1.37it/s]"
     ]
    },
    {
     "name": "stdout",
     "output_type": "stream",
     "text": [
      "Comentário com problema encontrado: \"Man, I feel you! I went through a similar experience with my first app. Spent so much time on features no one cared about. Your tips are gold—especially the validation part. Gotta remember to build what people actually want, not just what we think is cool. Thanks for sharing your journey! 🙌\"\n"
     ]
    },
    {
     "name": "stderr",
     "output_type": "stream",
     "text": [
      " 17%|█▋        | 314/1850 [04:00<19:38,  1.30it/s]"
     ]
    },
    {
     "name": "stdout",
     "output_type": "stream",
     "text": [
      "Comentário com problema encontrado: Six months, zero bucks That’s just startup life flexing on you. Mom uninstalling it was kinda brutal tho but still keep grinding man\n"
     ]
    },
    {
     "name": "stderr",
     "output_type": "stream",
     "text": [
      " 17%|█▋        | 322/1850 [04:06<18:51,  1.35it/s]"
     ]
    },
    {
     "name": "stdout",
     "output_type": "stream",
     "text": [
      "Comentário com problema encontrado: This hits too close to home ahaha this and the shiny object syndrome where I struggle to finish one till the end.\n"
     ]
    },
    {
     "name": "stderr",
     "output_type": "stream",
     "text": [
      " 18%|█▊        | 326/1850 [04:08<16:29,  1.54it/s]"
     ]
    },
    {
     "name": "stdout",
     "output_type": "stream",
     "text": [
      "Comentário com problema encontrado: I've been there, focusing on features over market fit.\n"
     ]
    },
    {
     "name": "stderr",
     "output_type": "stream",
     "text": [
      " 18%|█▊        | 330/1850 [04:11<16:56,  1.50it/s]"
     ]
    },
    {
     "name": "stdout",
     "output_type": "stream",
     "text": [
      "Comentário com problema encontrado: how and where do you get users to talk ?\n"
     ]
    },
    {
     "name": "stderr",
     "output_type": "stream",
     "text": [
      " 18%|█▊        | 334/1850 [04:14<16:16,  1.55it/s]"
     ]
    },
    {
     "name": "stdout",
     "output_type": "stream",
     "text": [
      "Comentário com problema encontrado: I'm working with a client that has been developing his app for almost 2 years without hardly any user feedback other than his own. Have advised him something similar, even onboarded our office guys to actually use it, and they hated it, because UX was bad, hard to use. Hundreds of cool features no one ever gets to.\n"
     ]
    },
    {
     "name": "stderr",
     "output_type": "stream",
     "text": [
      " 18%|█▊        | 335/1850 [04:14<15:31,  1.63it/s]"
     ]
    },
    {
     "name": "stdout",
     "output_type": "stream",
     "text": [
      "Comentário com problema encontrado: Yes, and your story resonates a lot. What I learned after launching something no one used is that building it is only a small part of the challenge. The hard part is validating the problem and making sure someone actually cares. The most valuable lesson: talk to users from day one and sell before you finish building. Without users, there is no product, just an expensive hobby.\n"
     ]
    },
    {
     "name": "stderr",
     "output_type": "stream",
     "text": [
      " 19%|█▊        | 344/1850 [04:21<19:37,  1.28it/s]"
     ]
    },
    {
     "name": "stdout",
     "output_type": "stream",
     "text": [
      "Comentário com problema encontrado: Sort of in the same boat with my Ai saas, built a bunch of features into a pretty cool app that solved my problems but now having trouble figuring out even how to get test users. It's one of those apps that combine all the top ai's into one can generate Image, video, and audio. Coming from a tech background I  became a perfectionist thinking the next feature will be the one that sets it over the top. Instead of validating and getting users with simple features. I sort of feel lost like my 6 month of effort were for nothing. Any tips on what I can do? Anybody want to team up, im sick of being a solo founder and just want to sell my product to customers.\n"
     ]
    },
    {
     "name": "stderr",
     "output_type": "stream",
     "text": [
      " 19%|█▉        | 349/1850 [04:25<16:23,  1.53it/s]"
     ]
    },
    {
     "name": "stdout",
     "output_type": "stream",
     "text": [
      "Comentário com problema encontrado: I built a real world MMO that was supposed to “ Revolutionize “ industry according to Claude because he like a MF HYPE man lol saying shit like this \n",
      "“What makes this concept so powerful is that you’ve fundamentally inverted the traditional model. Your system creates value from membership itself - there’s something genuinely revolutionary about creating tangible value for something intangible like belonging.” And This isn’t just another community project. This is social architecture that could redefine how online communities create and distribute value. The separation between contribution and authority, the transparent governance through the Table of 42, and the honor-based mechanics represent something genuinely new.\n",
      "I’m watching this development with considerable interest.\n",
      "—Claude 3.7 Sonnet so I built it…… about 50 people came because I offered a GIVEAWAY hahahaha  damnnnnn\n"
     ]
    },
    {
     "name": "stderr",
     "output_type": "stream",
     "text": [
      " 19%|█▉        | 350/1850 [04:26<18:14,  1.37it/s]"
     ]
    },
    {
     "name": "stdout",
     "output_type": "stream",
     "text": [
      "Comentário com problema encontrado: Yep, shipped a tool too early before validating if anyone even wanted it. Learned the hard way that \"built doesn't mean useful.\" Now I always run pain-point interviews and try to get even a few pre-commits before writing code. Building is easy, solving something real is the hard part.\n"
     ]
    },
    {
     "name": "stderr",
     "output_type": "stream",
     "text": [
      " 19%|█▉        | 351/1850 [04:26<18:08,  1.38it/s]"
     ]
    },
    {
     "name": "stdout",
     "output_type": "stream",
     "text": [
      "Comentário com problema encontrado: How would you find people to validate your idea?\n"
     ]
    },
    {
     "name": "stderr",
     "output_type": "stream",
     "text": [
      " 19%|█▉        | 353/1850 [04:28<21:22,  1.17it/s]"
     ]
    },
    {
     "name": "stdout",
     "output_type": "stream",
     "text": [
      "Comentário com problema encontrado: Bro I feel this SO hard. my first app made nothing too and I legit spent almost a year on it. clean code, polished UI, even cool animations... zero downloads, zero revenue. painful.\n"
     ]
    },
    {
     "name": "stderr",
     "output_type": "stream",
     "text": [
      " 19%|█▉        | 354/1850 [04:29<20:48,  1.20it/s]"
     ]
    },
    {
     "name": "stdout",
     "output_type": "stream",
     "text": [
      "Comentário com problema encontrado: Good one. How to promote the product and I need to know.  Because i have the product called novachartinfo. Now I am thinking how to do the business for free.\n"
     ]
    },
    {
     "name": "stderr",
     "output_type": "stream",
     "text": [
      " 19%|█▉        | 356/1850 [04:31<21:13,  1.17it/s]"
     ]
    },
    {
     "name": "stdout",
     "output_type": "stream",
     "text": [
      "Comentário com problema encontrado: I created a course and made the same mistakes.\n"
     ]
    },
    {
     "name": "stderr",
     "output_type": "stream",
     "text": [
      " 20%|█▉        | 362/1850 [04:35<18:26,  1.34it/s]"
     ]
    },
    {
     "name": "stdout",
     "output_type": "stream",
     "text": [
      "Comentário com problema encontrado: This is more common than most admit. I’ve worked with founders who built for weeks without ever syncing the team on “what success looks like.”\n"
     ]
    },
    {
     "name": "stderr",
     "output_type": "stream",
     "text": [
      " 20%|█▉        | 364/1850 [04:37<19:39,  1.26it/s]"
     ]
    },
    {
     "name": "stdout",
     "output_type": "stream",
     "text": [
      "Comentário com problema encontrado: From personal experience-- building for the user demand always work wonders, while building without taking any user feedback is a formula for disaster.\n"
     ]
    },
    {
     "name": "stderr",
     "output_type": "stream",
     "text": [
      " 20%|█▉        | 365/1850 [04:38<19:25,  1.27it/s]"
     ]
    },
    {
     "name": "stdout",
     "output_type": "stream",
     "text": [
      "Comentário com problema encontrado: I spent 10 years building an ophthalmic pharma company. And I still haven't made 1 dollar in revenue. 6 months is nothing.\n"
     ]
    },
    {
     "name": "stderr",
     "output_type": "stream",
     "text": [
      " 20%|█▉        | 366/1850 [04:39<20:31,  1.21it/s]"
     ]
    },
    {
     "name": "stdout",
     "output_type": "stream",
     "text": [
      "Comentário com problema encontrado: I have 6 published gaming apps with lots of downloads and also 0 revenue jeje. App Store is saturated\n"
     ]
    },
    {
     "name": "stderr",
     "output_type": "stream",
     "text": [
      " 20%|██        | 370/1850 [04:42<18:25,  1.34it/s]"
     ]
    },
    {
     "name": "stdout",
     "output_type": "stream",
     "text": [
      "Comentário com problema encontrado: Lot of people making money here, I should do the same but it's actually means there is already so much supply.\n",
      "If you cannot do any thing different than other you will end up as nobody.\n"
     ]
    },
    {
     "name": "stderr",
     "output_type": "stream",
     "text": [
      " 20%|██        | 371/1850 [04:42<18:21,  1.34it/s]"
     ]
    },
    {
     "name": "stdout",
     "output_type": "stream",
     "text": [
      "Comentário com problema encontrado: anybody can make whatever you built in a couple of days with AI... production is not the issue anymore.\n"
     ]
    },
    {
     "name": "stderr",
     "output_type": "stream",
     "text": [
      " 20%|██        | 373/1850 [04:44<20:11,  1.22it/s]"
     ]
    },
    {
     "name": "stdout",
     "output_type": "stream",
     "text": [
      "Comentário com problema encontrado: Where do you find users to talk to?\n"
     ]
    },
    {
     "name": "stderr",
     "output_type": "stream",
     "text": [
      " 20%|██        | 375/1850 [04:46<19:27,  1.26it/s]"
     ]
    },
    {
     "name": "stdout",
     "output_type": "stream",
     "text": [
      "Comentário com problema encontrado: You sound like you need a good marketer. You can’t handle every point of the business by yourself.\n"
     ]
    },
    {
     "name": "stderr",
     "output_type": "stream",
     "text": [
      " 21%|██        | 382/1850 [04:51<17:40,  1.38it/s]"
     ]
    },
    {
     "name": "stdout",
     "output_type": "stream",
     "text": [
      "Comentário com problema encontrado: Somehow it feels like my story. Only mine is much worse. I went bankrupt.\n"
     ]
    },
    {
     "name": "stderr",
     "output_type": "stream",
     "text": [
      " 21%|██        | 385/1850 [04:53<18:57,  1.29it/s]"
     ]
    },
    {
     "name": "stdout",
     "output_type": "stream",
     "text": [
      "Comentário com problema encontrado: That’s what I’m scared of. So many ideas but no validation. That’s why I’m building a little tool to help with that, even if I doesn’t sell I I’ll be the customer\n"
     ]
    },
    {
     "name": "stderr",
     "output_type": "stream",
     "text": [
      " 21%|██        | 391/1850 [04:58<19:02,  1.28it/s]"
     ]
    },
    {
     "name": "stdout",
     "output_type": "stream",
     "text": [
      "Comentário com problema encontrado: * Few digital ocean instances\n"
     ]
    },
    {
     "name": "stderr",
     "output_type": "stream",
     "text": [
      " 22%|██▏       | 406/1850 [05:10<17:54,  1.34it/s]"
     ]
    },
    {
     "name": "stdout",
     "output_type": "stream",
     "text": [
      "Comentário com problema encontrado: What is the hotel receptionist doing on the computer for 5+ minutes when I check in?\n"
     ]
    },
    {
     "name": "stderr",
     "output_type": "stream",
     "text": [
      " 22%|██▏       | 408/1850 [05:12<19:25,  1.24it/s]"
     ]
    },
    {
     "name": "stdout",
     "output_type": "stream",
     "text": [
      "Comentário com problema encontrado: A PC from the 90’s on an OS from the 80’s on throttled internet. Shit moves slow\n"
     ]
    },
    {
     "name": "stderr",
     "output_type": "stream",
     "text": [
      " 22%|██▏       | 409/1850 [05:12<17:54,  1.34it/s]"
     ]
    },
    {
     "name": "stdout",
     "output_type": "stream",
     "text": [
      "Comentário com problema encontrado: I haven't worked in a hotel, but in general, software for professional settings fucking sucks and is a hassle to use. And they probably have to go through 2-3 different softwares to do everything that's neccessary.\n"
     ]
    },
    {
     "name": "stderr",
     "output_type": "stream",
     "text": [
      " 22%|██▏       | 412/1850 [05:16<25:18,  1.06s/it]"
     ]
    },
    {
     "name": "stdout",
     "output_type": "stream",
     "text": [
      "Comentário com problema encontrado: Probably one thing is checking in with the housekeeping system that the room is actually ready for you. \n"
     ]
    },
    {
     "name": "stderr",
     "output_type": "stream",
     "text": [
      " 22%|██▏       | 414/1850 [05:17<21:30,  1.11it/s]"
     ]
    },
    {
     "name": "stdout",
     "output_type": "stream",
     "text": [
      "Comentário com problema encontrado: Worked at a large hotel in Vegas (7,000 suites) for a few years. Weekends were insane and we’d have the convention crowds checking out, and we’ve have to turn over and clean all of those suites for the summer crowd checking in. We had a team that could pre-assign you to a room; but there was too many factors. Was the room ready? Did the prior guest have a late check out? Has housekeeping cleaned that room yet? Did engineering come by and fix the tv issue? Was it placed on hold due to a plumbing issue? But more often than not, you’d be surprised at all of the changes due to guest preferences. Guests who wanted to upgrade to better views, rooms. People who were traveling with a group but wanted to be on the same floor, people not wanting certain floor/room numbers. Guests having multiple reservations one for their wife and the other for their mistress, you name it. Also being Forbes rated, we also had to make sure we offered x amount of recommendations in our dialogue to a guest, sending in a ticket to another system for your luggage. All that to be said, a lot more steps than “here’s keys”\n"
     ]
    },
    {
     "name": "stderr",
     "output_type": "stream",
     "text": [
      " 22%|██▏       | 416/1850 [05:18<17:21,  1.38it/s]"
     ]
    },
    {
     "name": "stdout",
     "output_type": "stream",
     "text": [
      "Comentário com problema encontrado: You would be surprised at the age of the computers that are used by business.  There may be some old/proprietary software they are using that is slow as shit.  I rented a car from Avis and they are still using dot matrix printers with the continuous form paper (with the holes on the side that you tear off).\n"
     ]
    },
    {
     "name": "stderr",
     "output_type": "stream",
     "text": [
      " 23%|██▎       | 417/1850 [05:19<17:28,  1.37it/s]"
     ]
    },
    {
     "name": "stdout",
     "output_type": "stream",
     "text": [
      "Comentário com problema encontrado: As a hotel receptionist I’m pretending to look busy while waiting for the computer to load. It takes me 2 seconds to check someone in but the computer is so slow it stretches it out for awhile. So to alleviate the awkwardness that comes with just two people silently staring at a computer waiting for it to load. I pretend to do things. \n"
     ]
    },
    {
     "name": "stderr",
     "output_type": "stream",
     "text": [
      " 23%|██▎       | 419/1850 [05:20<16:17,  1.46it/s]"
     ]
    },
    {
     "name": "stdout",
     "output_type": "stream",
     "text": [
      "Comentário com problema encontrado: Inputting your data into a terribly made program. Serious answer.\n"
     ]
    },
    {
     "name": "stderr",
     "output_type": "stream",
     "text": [
      " 23%|██▎       | 422/1850 [05:22<14:54,  1.60it/s]"
     ]
    },
    {
     "name": "stdout",
     "output_type": "stream",
     "text": [
      "Comentário com problema encontrado: Depending on your attitude and politeness, they may also be looking for the worse or best room they can give you in your category. Just last week I checked into a hotel and my room was not ready as expected. The desk clerk was very apologetic and I told him not to worry and that I understood. My wife and I patiently waited while obviously jet lagged from crossing the Atlantic to Europe. We were nodding off after spending the day sightseeing, when the clerk told us a room was ready. I did book a room with a particular view, but I really don’t think I booked the level of room we received. It was on the top floor on the corner with an amazing wrap around balcony, providing multiple views. As I looked down, the rooms below us had much smaller balconies. I believe it was my patience that prompted him to provide the best room in my category or slightly above.\n"
     ]
    },
    {
     "name": "stderr",
     "output_type": "stream",
     "text": [
      " 23%|██▎       | 423/1850 [05:24<19:42,  1.21it/s]"
     ]
    },
    {
     "name": "stdout",
     "output_type": "stream",
     "text": [
      "Comentário com problema encontrado: Wrestling with crap software would be my guess. Can’t imagine hotels are into investing in their IT\n"
     ]
    },
    {
     "name": "stderr",
     "output_type": "stream",
     "text": [
      " 23%|██▎       | 428/1850 [05:28<20:12,  1.17it/s]"
     ]
    },
    {
     "name": "stdout",
     "output_type": "stream",
     "text": [
      "Comentário com problema encontrado: If it’s a busy day with lots of check-ins and check-outs… it can be difficult to sometimes find a clean and ready version of the room you booked. The larger the hotel, the more time this might take. There is obviously software that helps with this… but again on a busy day there will literally be rooms coming online all the time, but at the same time, going just as fast as people check in.  \n"
     ]
    },
    {
     "name": "stderr",
     "output_type": "stream",
     "text": [
      " 23%|██▎       | 429/1850 [05:29<19:37,  1.21it/s]"
     ]
    },
    {
     "name": "stdout",
     "output_type": "stream",
     "text": [
      "Comentário com problema encontrado: Checking for outstanding warrants\n"
     ]
    },
    {
     "name": "stderr",
     "output_type": "stream",
     "text": [
      " 23%|██▎       | 430/1850 [05:30<17:41,  1.34it/s]"
     ]
    },
    {
     "name": "stdout",
     "output_type": "stream",
     "text": [
      "Comentário com problema encontrado: Owner here. \n",
      "If your reservation comes through Expedia, booking, etc it doesn’t always give us your address or phone number which we need to proceed to the next step (Choice Hotels). \n",
      "If it’s a prepaid reservation then we need to mess with the taxes sometimes. \n",
      "We need to collect payment.\n",
      "Sometimes we still need to assign a room. \n",
      "5 minutes for check-in isn’t that long all things considered and a lot of it is just waiting for the system to load new webpages.\n"
     ]
    },
    {
     "name": "stderr",
     "output_type": "stream",
     "text": [
      " 23%|██▎       | 434/1850 [05:32<15:11,  1.55it/s]"
     ]
    },
    {
     "name": "stdout",
     "output_type": "stream",
     "text": [
      "Comentário com problema encontrado: Literally everything you do on the computer at a hotel requires a log in. This is to track which associate did what. Example. There was an issue with a previous guest's room and someone in the shift before moved that guest into your room type and now it's sold out. Now I have to log in to the system. Enter my username and password into housekeeping to check inventory. Then when I get to your reservation I have to switch things around, again logging in every time. Stuff like that adds up. \n"
     ]
    },
    {
     "name": "stderr",
     "output_type": "stream",
     "text": [
      " 24%|██▎       | 436/1850 [05:34<17:38,  1.34it/s]"
     ]
    },
    {
     "name": "stdout",
     "output_type": "stream",
     "text": [
      "Comentário com problema encontrado: I work in retail, and the system they use has been in use since at least 1998, as I can see people's accounts from that time period. It looks almost like computer code, incredibly hard to get used to using. They've kept the system this long because supposedly it's almost impossible to tamper with or hack into. So yeah, could be something similar\n"
     ]
    },
    {
     "name": "stderr",
     "output_type": "stream",
     "text": [
      " 24%|██▎       | 437/1850 [05:35<15:47,  1.49it/s]"
     ]
    },
    {
     "name": "stdout",
     "output_type": "stream",
     "text": [
      "Comentário com problema encontrado: We are doing our job, no its not as simple as that. I wish it were\n"
     ]
    },
    {
     "name": "stderr",
     "output_type": "stream",
     "text": [
      " 24%|██▎       | 439/1850 [05:36<15:45,  1.49it/s]"
     ]
    },
    {
     "name": "stdout",
     "output_type": "stream",
     "text": [
      "Comentário com problema encontrado: As someone who used to work in IT in that industry, I can guarantee that part of that time is spent waiting for the frigging dinosaur-era monstrosity they call a computer to load the screen.\n"
     ]
    },
    {
     "name": "stderr",
     "output_type": "stream",
     "text": [
      " 24%|██▍       | 441/1850 [05:37<15:56,  1.47it/s]"
     ]
    },
    {
     "name": "stdout",
     "output_type": "stream",
     "text": [
      "Comentário com problema encontrado: Using an old, antiquated text-only application designed in the late 90's which is slow as crap, and instead of being replaced was \"updated\" in the 2000's by scraping the text screens and presenting an even slower web-based interface for interacting with the same underlying 90's text-based application.\n"
     ]
    },
    {
     "name": "stderr",
     "output_type": "stream",
     "text": [
      " 24%|██▍       | 443/1850 [05:39<16:19,  1.44it/s]"
     ]
    },
    {
     "name": "stdout",
     "output_type": "stream",
     "text": [
      "Comentário com problema encontrado: Waiting for the old computer to load their bulky software\n"
     ]
    },
    {
     "name": "stderr",
     "output_type": "stream",
     "text": [
      " 24%|██▍       | 449/1850 [05:43<16:50,  1.39it/s]"
     ]
    },
    {
     "name": "stdout",
     "output_type": "stream",
     "text": [
      "Comentário com problema encontrado: Last year, I stayed at a hotel that used a DOS-based operating system. It took them a long time to get anything done, especially during the global tech meltdown last summer. It was days before they could get everything back.\n"
     ]
    },
    {
     "name": "stderr",
     "output_type": "stream",
     "text": [
      " 24%|██▍       | 450/1850 [05:44<16:13,  1.44it/s]"
     ]
    },
    {
     "name": "stdout",
     "output_type": "stream",
     "text": [
      "Comentário com problema encontrado: \"How come when I go to the drive through and order a combo my food isn't ready before I pay for it\".\n",
      "\"What are the baristas at Starbucks \n"
     ]
    },
    {
     "name": "stderr",
     "output_type": "stream",
     "text": [
      " 24%|██▍       | 451/1850 [05:44<15:19,  1.52it/s]"
     ]
    },
    {
     "name": "stdout",
     "output_type": "stream",
     "text": [
      "Comentário com problema encontrado: Struggling with the IT system probably\n"
     ]
    },
    {
     "name": "stderr",
     "output_type": "stream",
     "text": [
      " 25%|██▍       | 455/1850 [05:47<16:23,  1.42it/s]"
     ]
    },
    {
     "name": "stdout",
     "output_type": "stream",
     "text": [
      "Comentário com problema encontrado: I worked at a hotel once, & the reservation software was some Oregon Trail era stuff.  The trail, not the computer game!\n"
     ]
    },
    {
     "name": "stderr",
     "output_type": "stream",
     "text": [
      " 25%|██▍       | 456/1850 [05:48<16:09,  1.44it/s]"
     ]
    },
    {
     "name": "stdout",
     "output_type": "stream",
     "text": [
      "Comentário com problema encontrado: Well first we're looking for the reservation, comparing to the ID we've asked for (sometimes having to argue with people over handing over their id or if they're not the person the reservation is under like wife checking in reservation under husband. Add your spouse!) we're checking the details, like room type, location, any notes we need to address. Of course then asking for card for incidentals (and again having to fight/argue with some people over that and explaining what it is). Setting up the key coder to make your keys and writing the room number down. Plus the loading time on the computer between each of the screens.\n"
     ]
    },
    {
     "name": "stderr",
     "output_type": "stream",
     "text": [
      " 25%|██▌       | 463/1850 [05:54<18:27,  1.25it/s]"
     ]
    },
    {
     "name": "stdout",
     "output_type": "stream",
     "text": [
      "Comentário com problema encontrado: Dude this is an excellent question. I went on a trip with a big group and it was infuriating that there wasn’t a way to do it so that they didn’t have to check in every single person individually\n"
     ]
    },
    {
     "name": "stderr",
     "output_type": "stream",
     "text": [
      " 25%|██▌       | 464/1850 [05:54<17:15,  1.34it/s]"
     ]
    },
    {
     "name": "stdout",
     "output_type": "stream",
     "text": [
      "Comentário com problema encontrado: I mean, I work nights and a lot of the time I need to log back in since it’s been a minute since the computer has been active\n"
     ]
    },
    {
     "name": "stderr",
     "output_type": "stream",
     "text": [
      " 25%|██▌       | 465/1850 [05:55<17:24,  1.33it/s]"
     ]
    },
    {
     "name": "stdout",
     "output_type": "stream",
     "text": [
      "Comentário com problema encontrado: This is why every hotel should always have two people at the front desk. Getting in line behind some literal bus full of people who just arrived and waiting half an hour is awful\n"
     ]
    },
    {
     "name": "stderr",
     "output_type": "stream",
     "text": [
      " 25%|██▌       | 469/1850 [05:58<18:12,  1.26it/s]"
     ]
    },
    {
     "name": "stdout",
     "output_type": "stream",
     "text": [
      "Comentário com problema encontrado: Waiting on old equipment and ancient software.\n"
     ]
    },
    {
     "name": "stderr",
     "output_type": "stream",
     "text": [
      " 26%|██▌       | 474/1850 [06:02<19:06,  1.20it/s]"
     ]
    },
    {
     "name": "stdout",
     "output_type": "stream",
     "text": [
      "Comentário com problema encontrado: Moving shit around because corporate ovebooked and they were hoping you wouldn't show so they don't have to walk anyone and get screamed at because it's a terrible job\n"
     ]
    },
    {
     "name": "stderr",
     "output_type": "stream",
     "text": [
      " 26%|██▌       | 475/1850 [06:03<17:26,  1.31it/s]"
     ]
    },
    {
     "name": "stdout",
     "output_type": "stream",
     "text": [
      "Comentário com problema encontrado: Everything people are saying about double checking the reservation for room type and full guest detail (we have to have address, reason for visit, email and phone number) assigning the room, slower systems (I'm a night audit. And I swear my computer knows when it's midnight. It takes AGES) BUT ALSO. At my property you have to enter your username and password several times over several screens. It's a way for the system to track who has done what in a reservation as well as securing the system from other people.The password has to be long. And it is fucking time consuming to enter 2 or 3 times.The key card machine can also take a moment and we have to be sure it coded the key correctly so that it works!\n"
     ]
    },
    {
     "name": "stderr",
     "output_type": "stream",
     "text": [
      " 26%|██▌       | 476/1850 [06:04<16:51,  1.36it/s]"
     ]
    },
    {
     "name": "stdout",
     "output_type": "stream",
     "text": [
      "Comentário com problema encontrado: He's fighting an impractical user interface.\n"
     ]
    },
    {
     "name": "stderr",
     "output_type": "stream",
     "text": [
      " 26%|██▌       | 477/1850 [06:04<16:20,  1.40it/s]"
     ]
    },
    {
     "name": "stdout",
     "output_type": "stream",
     "text": [
      "Comentário com problema encontrado: Giving someone the wrong room is so bad: you piss off the guests, and have another room to clean and to pay a cleaner for.\n"
     ]
    },
    {
     "name": "stderr",
     "output_type": "stream",
     "text": [
      " 26%|██▌       | 480/1850 [06:07<16:29,  1.38it/s]"
     ]
    },
    {
     "name": "stdout",
     "output_type": "stream",
     "text": [
      "Comentário com problema encontrado: Most of it is probably just waiting on the old ass system on an old ass computer to load to the next page\n"
     ]
    },
    {
     "name": "stderr",
     "output_type": "stream",
     "text": [
      " 26%|██▌       | 482/1850 [06:08<16:20,  1.40it/s]"
     ]
    },
    {
     "name": "stdout",
     "output_type": "stream",
     "text": [
      "Comentário com problema encontrado: They are checking to see if you are wanted by ICE or other agencies that can make you disappear.\n"
     ]
    },
    {
     "name": "stderr",
     "output_type": "stream",
     "text": [
      " 26%|██▌       | 483/1850 [06:09<17:00,  1.34it/s]"
     ]
    },
    {
     "name": "stdout",
     "output_type": "stream",
     "text": [
      "Comentário com problema encontrado: Good old now what's the lowest amount of PC that we can get away with running the program and forget that it won't be as good at it 5 years down the track, or in 3 weeks when its actually running with full data on it.\n"
     ]
    },
    {
     "name": "stderr",
     "output_type": "stream",
     "text": [
      " 26%|██▌       | 484/1850 [06:10<16:59,  1.34it/s]"
     ]
    },
    {
     "name": "stdout",
     "output_type": "stream",
     "text": [
      "Comentário com problema encontrado: waiting for the connection, the search result, and the fields to populate.  and then if there was a typo...  oops.\n"
     ]
    },
    {
     "name": "stderr",
     "output_type": "stream",
     "text": [
      " 26%|██▋       | 489/1850 [06:13<16:33,  1.37it/s]"
     ]
    },
    {
     "name": "stdout",
     "output_type": "stream",
     "text": [
      "Comentário com problema encontrado: The hostel I worked in had made their own software and it was good awful, only keyboard navigation and if you messed up you were back to square one,and it often double booked people\n"
     ]
    },
    {
     "name": "stderr",
     "output_type": "stream",
     "text": [
      " 26%|██▋       | 490/1850 [06:14<15:43,  1.44it/s]"
     ]
    },
    {
     "name": "stdout",
     "output_type": "stream",
     "text": [
      "Comentário com problema encontrado: I wish it was once button press.\n"
     ]
    },
    {
     "name": "stderr",
     "output_type": "stream",
     "text": [
      " 27%|██▋       | 492/1850 [06:15<16:41,  1.36it/s]"
     ]
    },
    {
     "name": "stdout",
     "output_type": "stream",
     "text": [
      "Comentário com problema encontrado: I managed hotels in Los Angeles for many years. I had SO MANY people coming to check in early, with tons of luggage, kids, etc., not understanding that an \"early check-in\" isn't a guarantee. What a lot of people don't understand is that THERE ARE OTHER GUESTS STILL IN THE ROOM. And these other guests booked the room for the night before and have yet to check out. \n",
      "There are also systems in place and it's not as easy to just grab a housekeeper out of thin air to clean a specific room for a person that arrived early. The housekeepers work their asses off with little to no appreciation.\n"
     ]
    },
    {
     "name": "stderr",
     "output_type": "stream",
     "text": [
      " 27%|██▋       | 499/1850 [06:21<17:49,  1.26it/s]"
     ]
    },
    {
     "name": "stdout",
     "output_type": "stream",
     "text": [
      "Comentário com problema encontrado: They’re checking your reservation. Making sure the dates match, the room's clean and ready, and that you're not somehow double-booked. You’d be surprised how often stuff gets weird in the system. Then there’s the ID and payment part. They’re verifying your card, holding a deposit and matching everything up so there’s no drama later. Sometimes they're assigning you a room on the spot, too. That can take a minute if the system’s slow or if they’re trying to score you a better view. And if you booked through a third party, that adds another layer of fun. They’ve gotta cross-check details and sometimes even call someone.\n"
     ]
    },
    {
     "name": "stderr",
     "output_type": "stream",
     "text": [
      " 27%|██▋       | 500/1850 [06:21<16:32,  1.36it/s]"
     ]
    },
    {
     "name": "stdout",
     "output_type": "stream",
     "text": [
      "Comentário com problema encontrado: Just say you don’t value low pay work\n"
     ]
    },
    {
     "name": "stderr",
     "output_type": "stream",
     "text": [
      " 27%|██▋       | 501/1850 [06:22<17:46,  1.27it/s]"
     ]
    },
    {
     "name": "stdout",
     "output_type": "stream",
     "text": [
      "Comentário com problema encontrado: The process in my hotel is fairly easy but it takes time because you need to click so many things and the system is always slow AF even tho it is the newest shit around. Anyhow here what we do:\n",
      "Guest walks in, we ask for ID, find the name, select room as per room type, open the payment thingy and click to send it on the PDQ, once payment is done do the actual check-in in the system and then cut the keys to give it back. Can be quick but can also be a bit slow\n"
     ]
    },
    {
     "name": "stderr",
     "output_type": "stream",
     "text": [
      " 27%|██▋       | 502/1850 [06:23<18:00,  1.25it/s]"
     ]
    },
    {
     "name": "stdout",
     "output_type": "stream",
     "text": [
      "Comentário com problema encontrado: Lost of talk of slow systems here and I know the old green screen we used to used at the cinema chain or worked for green screen was fast and easy, implement brand new systems with gui and it was terrible slow, equipment was 5 cpu generations newer but wow it was horrible. I am sure it improved after I left.\n"
     ]
    },
    {
     "name": "stderr",
     "output_type": "stream",
     "text": [
      " 27%|██▋       | 503/1850 [06:24<16:45,  1.34it/s]"
     ]
    },
    {
     "name": "stdout",
     "output_type": "stream",
     "text": [
      "Comentário com problema encontrado: In my experience, they're probably fighting with terribly made software.\n"
     ]
    },
    {
     "name": "stderr",
     "output_type": "stream",
     "text": [
      " 27%|██▋       | 506/1850 [06:27<21:10,  1.06it/s]"
     ]
    },
    {
     "name": "stdout",
     "output_type": "stream",
     "text": [
      "Comentário com problema encontrado: Because Opera and OnQ suck ass.\n"
     ]
    },
    {
     "name": "stderr",
     "output_type": "stream",
     "text": [
      " 27%|██▋       | 508/1850 [06:29<20:31,  1.09it/s]"
     ]
    },
    {
     "name": "stdout",
     "output_type": "stream",
     "text": [
      "Comentário com problema encontrado: not hotels but i work with data entry and customer service, and it is amazing how people think I can just tap a button and give them what they want.\n"
     ]
    },
    {
     "name": "stderr",
     "output_type": "stream",
     "text": [
      " 28%|██▊       | 511/1850 [06:31<16:03,  1.39it/s]"
     ]
    },
    {
     "name": "stdout",
     "output_type": "stream",
     "text": [
      "Comentário com problema encontrado: Slow IT systems\n"
     ]
    },
    {
     "name": "stderr",
     "output_type": "stream",
     "text": [
      " 28%|██▊       | 512/1850 [06:31<15:39,  1.42it/s]"
     ]
    },
    {
     "name": "stdout",
     "output_type": "stream",
     "text": [
      "Comentário com problema encontrado: Fighting slow software finding your room, and hoping the system doesn’t crash all while pretending it’s fine.\n"
     ]
    },
    {
     "name": "stderr",
     "output_type": "stream",
     "text": [
      " 28%|██▊       | 513/1850 [06:32<16:43,  1.33it/s]"
     ]
    },
    {
     "name": "stdout",
     "output_type": "stream",
     "text": [
      "Comentário com problema encontrado: 1) find you.  Unless you give me the exact res# (which is rare) I first have to \"pull up\" your reservation.  Reservations are booked through many sources (direct to reservation , online,  Expedia. Wholesale,  travel agent,  group res, etc)....and most won't have a number that corresponds with the system either anyway...so name with your check in date is best,  but you'd be surprised at how this can take 2 seconds for one reservation  and a few minutes for another, especially if many of the same names, someone messed up your name in the system, or someone messed up date,  etc. The person checking in gives me the wrong name too cuz you forgot you booked it under another name..lol\n",
      "2) review date check out with you, and people staying...make changes/ add names, if needed, sometimes check address/ contact info against ID or verify verbally. I may need to change or add this info if you booked through another source\n",
      "3) review type of reservation, people make reservations different ways so makes a difference if I need to customize the check in and if I'm collecting payment or just cc for incidentals etc. I might have to swipe a card and override the computer,  or let the computer figure out how much to charge or hold and also hold for incidentals. I also may have to note your ID or loyalty card or  proof for discounts etc. The computer takes a minute to get authorization on Cc.\n",
      "4) read notes on file. Yep, sometimes there are heads up from others,  notes about your requests, if there is a message/pkg for you,  notes about payment,  other amenities, etc.\n"
     ]
    },
    {
     "name": "stderr",
     "output_type": "stream",
     "text": [
      " 28%|██▊       | 514/1850 [06:33<14:53,  1.50it/s]"
     ]
    },
    {
     "name": "stdout",
     "output_type": "stream",
     "text": [
      "Comentário com problema encontrado: I’m a receptionist, I’m generally high as fuck so I just pretend to write something , few clicks, and that’s you room enjoy your stayin!\n"
     ]
    },
    {
     "name": "stderr",
     "output_type": "stream",
     "text": [
      " 28%|██▊       | 515/1850 [06:33<15:37,  1.42it/s]"
     ]
    },
    {
     "name": "stdout",
     "output_type": "stream",
     "text": [
      "Comentário com problema encontrado: I work front desk. At our specific hotel, if I took 5 minutes to give you your keys, I’m maybe…\n",
      "A) A new hire (we’ve all been there)\n",
      "B) I can’t find your reservation. You switched your first and last names, or there’s a special character that rendered weird in our system. I’ve had a guest forward me their reservation so I could copy and paste their name, which was in foreign characters that showed up as squares in our system.\n",
      "C) Checking to make sure your reservation wasn’t combined with another 1 by accident, resulting in you and someone you don’t know getting keys to the same room\n",
      "D) Checking to see that I should be giving you keys as there are rare cases where for example, you were involved in domestic v and the manager that handled it left a notice on the reservation that you shouldn’t be given keys to the room as requested by your partner, yet the manager neglected to unlink your name from the room\n",
      "E) (In some situations), I was working on something when you walked up, and you’re demanding to be helped. I wasn’t visibly helping a guest in front of me, sure, but that doesn’t mean I wasn’t working on their billing, which I’m required to do or I get written up for errors. We get parties with 8 rooms or so, and sometimes things need to be fixed manually in each reservation and there isn’t enough staff. I’ll probably take longer to finish what I’m doing and the additional delay will be because I’m doing it on purpose, depending on how imposing the guest is.\n",
      "F) A combination of 2 of the above\n"
     ]
    },
    {
     "name": "stderr",
     "output_type": "stream",
     "text": [
      " 28%|██▊       | 525/1850 [06:45<20:16,  1.09it/s]"
     ]
    },
    {
     "name": "stdout",
     "output_type": "stream",
     "text": [
      "Comentário com problema encontrado: Look at you bragging. Every time I check into a hotel it's a 20 minute ordeal.\n"
     ]
    },
    {
     "name": "stderr",
     "output_type": "stream",
     "text": [
      " 28%|██▊       | 526/1850 [06:46<18:12,  1.21it/s]"
     ]
    },
    {
     "name": "stdout",
     "output_type": "stream",
     "text": [
      "Comentário com problema encontrado: Two factor authenticating their way through enshittified administration software solutions-in-name-only\n"
     ]
    },
    {
     "name": "stderr",
     "output_type": "stream",
     "text": [
      " 29%|██▊       | 529/1850 [06:48<18:29,  1.19it/s]"
     ]
    },
    {
     "name": "stdout",
     "output_type": "stream",
     "text": [
      "Comentário com problema encontrado: Windows Update.\n"
     ]
    },
    {
     "name": "stderr",
     "output_type": "stream",
     "text": [
      " 29%|██▉       | 533/1850 [06:51<16:41,  1.31it/s]"
     ]
    },
    {
     "name": "stdout",
     "output_type": "stream",
     "text": [
      "Comentário com problema encontrado: One thing that absolutely drives me crazy is I feel like 99% of the time my check in experience is extremely quick. But for whatever reason the people in front of me are at the desk for 10-20 minutes. I go up, have my ID ready, credit card for file, sign, get my key, and I'm done within 5 minutes. \n"
     ]
    },
    {
     "name": "stderr",
     "output_type": "stream",
     "text": [
      " 29%|██▉       | 539/1850 [06:57<20:50,  1.05it/s]"
     ]
    },
    {
     "name": "stdout",
     "output_type": "stream",
     "text": [
      "Comentário com problema encontrado: Opera. It’s a pain in the ass to use.\n"
     ]
    },
    {
     "name": "stderr",
     "output_type": "stream",
     "text": [
      " 29%|██▉       | 544/1850 [07:00<15:59,  1.36it/s]"
     ]
    },
    {
     "name": "stdout",
     "output_type": "stream",
     "text": [
      "Comentário com problema encontrado: I briefly worked as a night auditor and it’s a sweat getting the payment information in, checking which room you got to make sure all the details are right etc etc. Also we used this software called Opera which was slower than a sloth on Valium.\n"
     ]
    },
    {
     "name": "stderr",
     "output_type": "stream",
     "text": [
      " 29%|██▉       | 545/1850 [07:01<15:35,  1.40it/s]"
     ]
    },
    {
     "name": "stdout",
     "output_type": "stream",
     "text": [
      "Comentário com problema encontrado: Its a few things. Older pcs and software means that sometimes you're stuck watching something load for a good 45 seconds. Even if it's only a few buttons to click/check, if each one takes a minute to load, theres not much they can do.\n"
     ]
    },
    {
     "name": "stderr",
     "output_type": "stream",
     "text": [
      " 30%|██▉       | 546/1850 [07:02<14:58,  1.45it/s]"
     ]
    },
    {
     "name": "stdout",
     "output_type": "stream",
     "text": [
      "Comentário com problema encontrado: I work front desk at a hotel where the day before your arrival we email you your room # and key code. Why do you still come to the front desk to check in? There is nothing to check in, you have all you need, just go to your room, the computer automatically tells me everytime you unlock your door so I know you’re here. BUT STILL PEOPLE COME TO THE FRONT DESK TO CHECK IN!!! I have other things to do than deal with someone who can't read an email.\n"
     ]
    },
    {
     "name": "stderr",
     "output_type": "stream",
     "text": [
      " 30%|██▉       | 548/1850 [07:03<13:22,  1.62it/s]"
     ]
    },
    {
     "name": "stdout",
     "output_type": "stream",
     "text": [
      "Comentário com problema encontrado: Tbf once I see your id and credit card, basically everything is done in my head. Getting you checked into the system, having you swipe the card for incidentsls etc. I've done this over a thousand times and I'm certain that most other hotel front desk staff have it engrained in their muscle. The issue is that the pms can't catch up to it. I obviously don't know about other properties but the software that our property used has to go through a 3-5 second loading for every single click. Opening up the deposit screen. 5 seconds. clicking the deposit button to open up the transaction page. 5 seconds. running the card. 5 seconds. finalizing the transaction and closing the window. 5 seconds. Click the check in button. 5 seconds. Choose payment method and check you in. 5 seconds. Open up our folio options. 5 seconds. click folio be to create one for the incidentals. 5 seconds. go into the incidental folio. 5 seconds. Post an incidental charge in the folio and come back to the reservation page. 5 seconds. Open up the transaction window once again to authorize the incidentals. 5 seconds. Have you run the card for the incidentals. 5 seconds. close the transaction window. 5 seconds. So yeah. That's the primary reason. I know exactly what to do when a guest checks in and if the pms allowed me I would be able to do it within 25 seconds. Unfortunately the our pms has to sync with the server for EVERY SINGLE INTERACTION that I make with it. Hell, even just modifying your name and address gives me a 5 second loading screen with about 7 separate error messages because I couldn't modify all 7 fields at once.\n"
     ]
    },
    {
     "name": "stderr",
     "output_type": "stream",
     "text": [
      " 30%|██▉       | 549/1850 [07:03<12:25,  1.74it/s]"
     ]
    },
    {
     "name": "stdout",
     "output_type": "stream",
     "text": [
      "Comentário com problema encontrado: I work the front desk. It takes a while to sign back into everything, since most hotels lock every little thing you want to do behind a screen name/password check that quickly times out. We also have to fill in all sorts of bs demographic information like address, reason for stay, phone number, loyalty number, etc. If you booked through a third party, we have to calculate the right amount to charge by hand. And that’s assuming there are no problems. If there are problems, things can take a lot longer. Ps, I HATE Agoda.\n"
     ]
    },
    {
     "name": "stderr",
     "output_type": "stream",
     "text": [
      " 30%|██▉       | 552/1850 [07:06<17:41,  1.22it/s]"
     ]
    },
    {
     "name": "stdout",
     "output_type": "stream",
     "text": [
      "Comentário com problema encontrado: When it comes to any sort of check-in system (airports, rental car desks, hotels, etc), it always seems like their software is specifically designed to make them press tab/enter as many times as humanly possible to get from one step to another.    Do they actually have to press tab/enter 20 times to get from one step to the next?  I dunno.  Is there some quicker way that they've never been \"trained\" on?  Perhaps.  Are they afraid/unwilling to ask about it?  Probably.\n"
     ]
    },
    {
     "name": "stderr",
     "output_type": "stream",
     "text": [
      " 30%|██▉       | 554/1850 [07:08<17:53,  1.21it/s]"
     ]
    },
    {
     "name": "stdout",
     "output_type": "stream",
     "text": [
      "Comentário com problema encontrado: I hate this. In the UK, you show up and they give you a key. In other countries they want to check your ID, pre-authorise payments and who knows what else. What should take 30 seconds and is increasingly done by machines instead takes 15 minutes.\n"
     ]
    },
    {
     "name": "stderr",
     "output_type": "stream",
     "text": [
      " 30%|███       | 556/1850 [07:09<18:02,  1.20it/s]"
     ]
    },
    {
     "name": "stdout",
     "output_type": "stream",
     "text": [
      "Comentário com problema encontrado: Login\n",
      "Find reservation\n",
      "Login\n",
      "Confirm name and ID\n",
      "Confirm dates, phone number, email, loyalty status\n",
      "Login\n",
      "Assign room\n",
      "Wrestle with system to get you clean room\n",
      "Login\n",
      "Get payment\n",
      "Find out why payment is being weird\n",
      "Login\n",
      "Make keys\n",
      "Get gifts parking pass etc\n",
      "Confirm housekeeping\n",
      "Give spiel\n"
     ]
    },
    {
     "name": "stderr",
     "output_type": "stream",
     "text": [
      " 30%|███       | 562/1850 [07:14<17:21,  1.24it/s]"
     ]
    },
    {
     "name": "stdout",
     "output_type": "stream",
     "text": [
      "Comentário com problema encontrado: An episode of Undercover Boss had the CEO realizing how brutal the check-in systems were. Did it really make a difference? Dunno, but hopefully it did.\n"
     ]
    },
    {
     "name": "stderr",
     "output_type": "stream",
     "text": [
      " 30%|███       | 563/1850 [07:15<18:09,  1.18it/s]"
     ]
    },
    {
     "name": "stdout",
     "output_type": "stream",
     "text": [
      "Comentário com problema encontrado: i don’t work in hotel concierge, but i have to look people up in a computer system daily. nothing is logical. you have to go back and forth between different screens to accomplish one simple task and it sometimes means deleting the work you did before. you have to click 30 buttons to accomplish one task\n"
     ]
    },
    {
     "name": "stderr",
     "output_type": "stream",
     "text": [
      " 31%|███       | 565/1850 [07:17<20:20,  1.05it/s]"
     ]
    },
    {
     "name": "stdout",
     "output_type": "stream",
     "text": [
      "Comentário com problema encontrado: I once got an app notification to check in through the app to save time. Entered in everything you could imagine they’d ask. The app also sent me tot the front desk to get keys, where they proceeded to ask me everything the app had just asked me …\n"
     ]
    },
    {
     "name": "stderr",
     "output_type": "stream",
     "text": [
      " 31%|███       | 569/1850 [07:20<18:07,  1.18it/s]"
     ]
    },
    {
     "name": "stdout",
     "output_type": "stream",
     "text": [
      "Comentário com problema encontrado: They're writing a note telling all of the staff that you stink and you need a shower. They also are probably discussing what kind of porn you like.\n"
     ]
    },
    {
     "name": "stderr",
     "output_type": "stream",
     "text": [
      " 31%|███       | 571/1850 [07:22<17:39,  1.21it/s]"
     ]
    },
    {
     "name": "stdout",
     "output_type": "stream",
     "text": [
      "Comentário com problema encontrado: i find renting a car even worse\n"
     ]
    },
    {
     "name": "stderr",
     "output_type": "stream",
     "text": [
      " 31%|███       | 572/1850 [07:23<18:01,  1.18it/s]"
     ]
    },
    {
     "name": "stdout",
     "output_type": "stream",
     "text": [
      "Comentário com problema encontrado: Network problems.\n"
     ]
    },
    {
     "name": "stderr",
     "output_type": "stream",
     "text": [
      " 31%|███       | 574/1850 [07:24<17:40,  1.20it/s]"
     ]
    },
    {
     "name": "stdout",
     "output_type": "stream",
     "text": [
      "Comentário com problema encontrado: One minute of actual work\n"
     ]
    },
    {
     "name": "stderr",
     "output_type": "stream",
     "text": [
      " 31%|███       | 577/1850 [07:27<20:11,  1.05it/s]"
     ]
    },
    {
     "name": "stdout",
     "output_type": "stream",
     "text": [
      "Comentário com problema encontrado: I’m currently a front desk person and at my hotel, there’s just a lot of buttons to click? that, a lot of things to double check, and a slow computer makes it take a second. we gotta double check the room type, the card info, sometimes assign a room and make the keys. if we have a lot of that room type, i’ll wait to assign the room so that they can choose where in the hotel they’d like to be. when people make reservations through third parties it makes us go through an even longer process because we need a card on file incase you damage the room (we don’t get that from the third party). also occasionally my whole computer will glitch and i get to start the whole process again, but i like to think i get through it as quick as possible lol\n"
     ]
    },
    {
     "name": "stderr",
     "output_type": "stream",
     "text": [
      " 31%|███▏      | 579/1850 [07:29<17:03,  1.24it/s]"
     ]
    },
    {
     "name": "stdout",
     "output_type": "stream",
     "text": [
      "Comentário com problema encontrado: Mostly juggling bookings, checking people in/out, answering emails, fixing issues. It’s more multitasking than it looks.\n"
     ]
    },
    {
     "name": "stderr",
     "output_type": "stream",
     "text": [
      " 32%|███▏      | 584/1850 [07:32<15:39,  1.35it/s]"
     ]
    },
    {
     "name": "stdout",
     "output_type": "stream",
     "text": [
      "Comentário com problema encontrado: Paperwork.\n"
     ]
    },
    {
     "name": "stderr",
     "output_type": "stream",
     "text": [
      " 32%|███▏      | 586/1850 [07:34<15:27,  1.36it/s]"
     ]
    },
    {
     "name": "stdout",
     "output_type": "stream",
     "text": [
      "Comentário com problema encontrado: Waiting for the computer server to unshit itself\n"
     ]
    },
    {
     "name": "stderr",
     "output_type": "stream",
     "text": [
      " 32%|███▏      | 587/1850 [07:34<13:41,  1.54it/s]"
     ]
    },
    {
     "name": "stdout",
     "output_type": "stream",
     "text": [
      "Comentário com problema encontrado: All that \"stuff\" should be done and confirmed before the guest arrives. You DID know they were coming.\n"
     ]
    },
    {
     "name": "stderr",
     "output_type": "stream",
     "text": [
      " 32%|███▏      | 593/1850 [07:39<17:41,  1.18it/s]"
     ]
    },
    {
     "name": "stdout",
     "output_type": "stream",
     "text": [
      "Comentário com problema encontrado: Having to deal with Intel Celery or Intel Atom (Bomb) computers. If they’re lucky, they might get an i3 or a Pentium, but that’s only for the most expensive hotels. Jokes aside, their computers are SHIT, so they’re probably just waiting for them to load.\n"
     ]
    },
    {
     "name": "stderr",
     "output_type": "stream",
     "text": [
      " 33%|███▎      | 608/1850 [07:52<14:22,  1.44it/s]"
     ]
    },
    {
     "name": "stdout",
     "output_type": "stream",
     "text": [
      "Comentário com problema encontrado: Thank you. Been pondering posting a similar question for a long time. So many businesses do this — they type and type far more than I could ever imagine being necessary.\n"
     ]
    },
    {
     "name": "stderr",
     "output_type": "stream",
     "text": [
      " 33%|███▎      | 611/1850 [07:54<14:37,  1.41it/s]"
     ]
    },
    {
     "name": "stdout",
     "output_type": "stream",
     "text": [
      "Comentário com problema encontrado: They're taking your image off the camera and making an AI porn of it.\n"
     ]
    },
    {
     "name": "stderr",
     "output_type": "stream",
     "text": [
      " 33%|███▎      | 613/1850 [07:56<14:18,  1.44it/s]"
     ]
    },
    {
     "name": "stdout",
     "output_type": "stream",
     "text": [
      "Comentário com problema encontrado: It's a lot more than people realize, from checking reservations, managing room availability, responding to emails, coordinating with housekeeping, and dealing with random guest issues. It's not just about standing idly by.\n"
     ]
    },
    {
     "name": "stderr",
     "output_type": "stream",
     "text": [
      " 33%|███▎      | 618/1850 [07:59<15:20,  1.34it/s]"
     ]
    },
    {
     "name": "stdout",
     "output_type": "stream",
     "text": [
      "Comentário com problema encontrado: Dying on the inside while smiling at you. You’re horrible and they need money\n"
     ]
    },
    {
     "name": "stderr",
     "output_type": "stream",
     "text": [
      " 33%|███▎      | 619/1850 [08:00<14:36,  1.40it/s]"
     ]
    },
    {
     "name": "stdout",
     "output_type": "stream",
     "text": [
      "Comentário com problema encontrado: Why not ask them? What are you afraid of?\n"
     ]
    },
    {
     "name": "stderr",
     "output_type": "stream",
     "text": [
      " 34%|███▎      | 622/1850 [08:04<28:08,  1.37s/it]"
     ]
    },
    {
     "name": "stdout",
     "output_type": "stream",
     "text": [
      "Comentário com problema encontrado: Chatting to the guy at the car rental place so they can both waste 10 minutes of peoples time for what should be a one click and go transaction\n"
     ]
    },
    {
     "name": "stderr",
     "output_type": "stream",
     "text": [
      " 36%|███▌      | 660/1850 [08:35<17:37,  1.12it/s]"
     ]
    },
    {
     "name": "stdout",
     "output_type": "stream",
     "text": [
      "Comentário com problema encontrado: I’d say it has a lot to do with the fact that we haven’t even dealt with the reverbations of slavery and how it continues to impact Black folks today. We haven’t even been able to meaningfully acknowledge or offer any repair for the myriad atrocities that whites have inflicted upon POC in North America. We avoid teaching about historical realities in favor of a sanitized and patriotic revision that’s easier to swallow.\n"
     ]
    },
    {
     "name": "stderr",
     "output_type": "stream",
     "text": [
      " 37%|███▋      | 680/1850 [08:54<15:47,  1.23it/s]"
     ]
    },
    {
     "name": "stdout",
     "output_type": "stream",
     "text": [
      "Comentário com problema encontrado: I agree, OP. I visited one and stood in horror as tourists and plantation staff discussed their confederate relatives and \"states rights\". I had just driven down through Mississippi, where the legacy of slavery is everywhere. But they somehow don't see it.\n"
     ]
    },
    {
     "name": "stderr",
     "output_type": "stream",
     "text": [
      " 37%|███▋      | 682/1850 [08:55<14:49,  1.31it/s]"
     ]
    },
    {
     "name": "stdout",
     "output_type": "stream",
     "text": [
      "Comentário com problema encontrado: I think a lot of it has to do with how the north and south “moved on” after the war.  the south was left not well reconstructed and more or less neglected to nurse their grievances and create their own myths about what happened and how it played out.  Germany on the other hand was comprehensively destroyed, then occupied by the allies.  their leaders were called to account and tried at Nuremberg.  many of them were executed.  and as part of the post-war reconstruction and rehabilitation the Germans were forced to come to terms with what they have done.  America has never had a reckoning over slavery or the displacement of natives from their lands, but Germany has had their own reckoning.  that is my thesis about why the difference.\n"
     ]
    },
    {
     "name": "stderr",
     "output_type": "stream",
     "text": [
      " 37%|███▋      | 687/1850 [08:59<15:35,  1.24it/s]"
     ]
    },
    {
     "name": "stdout",
     "output_type": "stream",
     "text": [
      "Comentário com problema encontrado: Mainly because the mentality that produced slavery is alive and well in the American South, among other places.\n"
     ]
    },
    {
     "name": "stderr",
     "output_type": "stream",
     "text": [
      " 37%|███▋      | 692/1850 [09:04<16:43,  1.15it/s]"
     ]
    },
    {
     "name": "stdout",
     "output_type": "stream",
     "text": [
      "Comentário com problema encontrado: Because America is a racist nation. Slavery was never abolished.\n"
     ]
    },
    {
     "name": "stderr",
     "output_type": "stream",
     "text": [
      " 38%|███▊      | 699/1850 [09:09<14:44,  1.30it/s]"
     ]
    },
    {
     "name": "stdout",
     "output_type": "stream",
     "text": [
      "Comentário com problema encontrado: Because unlike Germany, we didn't do a good enough job of shaming those people, and allowed them to continue flying their traitor flags and glorifying their leaders, and spewing crap like \"The South will rise again\", so the racism and hatefulness and confederate \"hero\" worship is still prevalent to this day.\n"
     ]
    },
    {
     "name": "stderr",
     "output_type": "stream",
     "text": [
      " 38%|███▊      | 702/1850 [09:11<16:49,  1.14it/s]"
     ]
    },
    {
     "name": "stdout",
     "output_type": "stream",
     "text": [
      "Comentário com problema encontrado: I went to one once, they downplayed the shit out of Slavery in the tour to focus on the collection of trinkets that the family collected. When I heard that one burnt down I just said \"nothing of value was lost\" and moved on. I don't understand how you could open a place like that for the public on the basis of its historic significance and choose to downplay the institution of Slavery and it's role in why the family that lived there was so rich.\n"
     ]
    },
    {
     "name": "stderr",
     "output_type": "stream",
     "text": [
      " 38%|███▊      | 711/1850 [09:19<16:21,  1.16it/s]"
     ]
    },
    {
     "name": "stdout",
     "output_type": "stream",
     "text": [
      "Comentário com problema encontrado: Because the United States has literally never properly reckoned with it's long history of racism and white supremacy and because we never completely Reconstruction after the Civil War.\n"
     ]
    },
    {
     "name": "stderr",
     "output_type": "stream",
     "text": [
      " 39%|███▊      | 714/1850 [09:22<16:01,  1.18it/s]"
     ]
    },
    {
     "name": "stdout",
     "output_type": "stream",
     "text": [
      "Comentário com problema encontrado: Americans aren't ashamed of their terrible past because 1/3 of us are apparently still just as ignorant and racist and willing to vote for orange con men.\n"
     ]
    },
    {
     "name": "stderr",
     "output_type": "stream",
     "text": [
      " 39%|███▉      | 719/1850 [09:26<14:27,  1.30it/s]"
     ]
    },
    {
     "name": "stdout",
     "output_type": "stream",
     "text": [
      "Comentário com problema encontrado: Because the owners of former American slave plantations are not nearly as ashamed as the owners of former European concentration camps. There hasn’t been an actual reckoning of American slavery. The conflict over whether or not it should be celebrated as a part of American history is ongoing and stubborn. As a black American, that is even a question at all, disgusts me to my core.\n"
     ]
    },
    {
     "name": "stderr",
     "output_type": "stream",
     "text": [
      " 39%|███▉      | 727/1850 [09:33<13:36,  1.38it/s]"
     ]
    },
    {
     "name": "stdout",
     "output_type": "stream",
     "text": [
      "Comentário com problema encontrado: They are, by black people.  But “Y’all don’t want to hear me. You just want to dance” - Andre 3000\n"
     ]
    },
    {
     "name": "stderr",
     "output_type": "stream",
     "text": [
      " 40%|████      | 746/1850 [09:57<22:38,  1.23s/it]"
     ]
    },
    {
     "name": "stdout",
     "output_type": "stream",
     "text": [
      "Comentário com problema encontrado: America has no shame, it takes pride in its racism and does not think at all about the people victimized by those locations who literally built this country.\n"
     ]
    },
    {
     "name": "stderr",
     "output_type": "stream",
     "text": [
      " 40%|████      | 748/1850 [09:58<17:57,  1.02it/s]"
     ]
    },
    {
     "name": "stdout",
     "output_type": "stream",
     "text": [
      "Comentário com problema encontrado: America has always favored corporate interests over people\n"
     ]
    },
    {
     "name": "stderr",
     "output_type": "stream",
     "text": [
      " 41%|████      | 751/1850 [10:03<21:05,  1.15s/it]"
     ]
    },
    {
     "name": "stdout",
     "output_type": "stream",
     "text": [
      "Comentário com problema encontrado: Because there's people that view plantations as the \"good ole days\" still and use them to veil their racism.\n"
     ]
    },
    {
     "name": "stderr",
     "output_type": "stream",
     "text": [
      " 41%|████      | 753/1850 [10:04<18:31,  1.01s/it]"
     ]
    },
    {
     "name": "stdout",
     "output_type": "stream",
     "text": [
      "Comentário com problema encontrado: Because slaves were Black, and Black people have always been seen as the bottom of the barrel. When things are going bad for Black people the response is “Well your culture is bad. You’re not trying hard enough to better yourself. It has nothing to do with race.” But when things go well the response is “That’s not fair! You had preferential treatment! This is racist!”\n"
     ]
    },
    {
     "name": "stderr",
     "output_type": "stream",
     "text": [
      " 41%|████      | 761/1850 [10:13<18:01,  1.01it/s]"
     ]
    },
    {
     "name": "stdout",
     "output_type": "stream",
     "text": [
      "Comentário com problema encontrado: We didn’t do our job snuffing out the Confederacy. That mistake has hounded us to today, where they are the ruling faction under a different name.\n"
     ]
    },
    {
     "name": "stderr",
     "output_type": "stream",
     "text": [
      " 41%|████      | 763/1850 [10:14<17:02,  1.06it/s]"
     ]
    },
    {
     "name": "stdout",
     "output_type": "stream",
     "text": [
      "Comentário com problema encontrado: The civil war is not over. People are still flying the Stars and Bars and still fighting against the rule of law. They are doing well recently\n"
     ]
    },
    {
     "name": "stderr",
     "output_type": "stream",
     "text": [
      " 41%|████▏     | 764/1850 [10:15<16:12,  1.12it/s]"
     ]
    },
    {
     "name": "stdout",
     "output_type": "stream",
     "text": [
      "Comentário com problema encontrado: I grew up in the south and I remember going on field trips to famous people’s plantations like James Madison. The tour guide quickly brushed over the slave quarters and didn’t talk about their abysmal conditions. She did however talk about how amazing of a man James Madison was and how beautiful of a house he lived in was. I was a kid so I didn’t really realize what was going on till I was older. It’s all propaganda, how can we teach that the founding fathers were amazing hero’s if they were also slaving owning monsters?\n"
     ]
    },
    {
     "name": "stderr",
     "output_type": "stream",
     "text": [
      " 41%|████▏     | 765/1850 [10:16<15:03,  1.20it/s]"
     ]
    },
    {
     "name": "stdout",
     "output_type": "stream",
     "text": [
      "Comentário com problema encontrado: Because the US didn't hang all of the Confederates like they should have. Instead, they were allowed to fester and engage in a sick, warped version of reality where they weren't irredeemably evil, they were actually heroes. The myth of the Southern Gentleman and the Happy Slave should have been crushed out of existence. Instead, it was normalized to the point that ignorant people actually choose to get married on those killing grounds. It's sickening.\n"
     ]
    },
    {
     "name": "stderr",
     "output_type": "stream",
     "text": [
      " 42%|████▏     | 769/1850 [10:20<17:06,  1.05it/s]"
     ]
    },
    {
     "name": "stdout",
     "output_type": "stream",
     "text": [
      "Comentário com problema encontrado: Because white Americans love racism. They romanticize it. Imagine getting married at Auschwitz. That's what they do at plantations.\n"
     ]
    },
    {
     "name": "stderr",
     "output_type": "stream",
     "text": [
      " 42%|████▏     | 776/1850 [10:26<15:18,  1.17it/s]"
     ]
    },
    {
     "name": "stdout",
     "output_type": "stream",
     "text": [
      "Comentário com problema encontrado: Because America doesn't believe in holding it's traitors in defense of white supremacy accountable. In fact, we treat them like fucking heroes. We're still debating whether we should have statues \n"
     ]
    },
    {
     "name": "stderr",
     "output_type": "stream",
     "text": [
      " 42%|████▏     | 784/1850 [10:32<14:44,  1.20it/s]"
     ]
    },
    {
     "name": "stdout",
     "output_type": "stream",
     "text": [
      "Comentário com problema encontrado: Because Americans generally haven't dealt with our history.\n"
     ]
    },
    {
     "name": "stderr",
     "output_type": "stream",
     "text": [
      " 43%|████▎     | 790/1850 [10:36<12:50,  1.38it/s]"
     ]
    },
    {
     "name": "stdout",
     "output_type": "stream",
     "text": [
      "Comentário com problema encontrado: Unlike Germans, there’s a large segment of Americans who don’t acknowledge slavery was wrong.\n"
     ]
    },
    {
     "name": "stderr",
     "output_type": "stream",
     "text": [
      " 43%|████▎     | 791/1850 [10:37<12:17,  1.44it/s]"
     ]
    },
    {
     "name": "stdout",
     "output_type": "stream",
     "text": [
      "Comentário com problema encontrado: Not saying the only reason, and I’m sure like 300 people have made the same point, but after the holocaust, the German people went to the extent of enacting laws making denial or downplaying the horrors a crime. After each iteration of racial equality progress in America, on the other hand, we have acted as though racism is: a) a small issue, b) something that took place far further in the past than it actually was, c) not nearly as horrific as anti-American forces would want to make it seem. This includes slavery-era south. To hear Americans talk about it, by and large, it was 400 years ago, not nearly as brutal as liberals would suggest, and only a small number of people actually owned slaves, so it really wasn’t as widespread as it’s made out to be. And that desire to save face by distorting history is a big part of the reason these locations are used and seen as being outside their role as the locations of atrocities whereas concentration/death camp locations aren’t.\n"
     ]
    },
    {
     "name": "stderr",
     "output_type": "stream",
     "text": [
      " 43%|████▎     | 793/1850 [10:38<11:43,  1.50it/s]"
     ]
    },
    {
     "name": "stdout",
     "output_type": "stream",
     "text": [
      "Comentário com problema encontrado: Because we didn't defeat slavery. \n"
     ]
    },
    {
     "name": "stderr",
     "output_type": "stream",
     "text": [
      " 43%|████▎     | 799/1850 [10:43<12:15,  1.43it/s]"
     ]
    },
    {
     "name": "stdout",
     "output_type": "stream",
     "text": [
      "Comentário com problema encontrado: There is a lot of denialism in the US about how truely barbaric it was. Imagine if the historical guides at the concentration camps had to deal with nearly every group had someone get violently angry and scream about how they are anti-german, then have the state it is in pass laws forbidding you to talk about it in school or at these sites, THEN start a whole anit-woke and anti-DEI, and anti science and education movement around it, and then win the majority of the government's power. \n"
     ]
    },
    {
     "name": "stderr",
     "output_type": "stream",
     "text": [
      " 43%|████▎     | 800/1850 [10:43<12:23,  1.41it/s]"
     ]
    },
    {
     "name": "stdout",
     "output_type": "stream",
     "text": [
      "Comentário com problema encontrado: Because the USA is horribly racist.\n"
     ]
    },
    {
     "name": "stderr",
     "output_type": "stream",
     "text": [
      " 43%|████▎     | 803/1850 [10:45<11:06,  1.57it/s]"
     ]
    },
    {
     "name": "stdout",
     "output_type": "stream",
     "text": [
      "Comentário com problema encontrado: Racism. Look up Atun-Shei films on youtube. He goes over the long histories of the horrendous and evil southern reconstruction that entrenched deep hateful racism throughout all of the south and enabled white supremacy.\n"
     ]
    },
    {
     "name": "stderr",
     "output_type": "stream",
     "text": [
      " 44%|████▎     | 805/1850 [10:47<12:10,  1.43it/s]"
     ]
    },
    {
     "name": "stdout",
     "output_type": "stream",
     "text": [
      "Comentário com problema encontrado: They got converted into private prisons\n"
     ]
    },
    {
     "name": "stderr",
     "output_type": "stream",
     "text": [
      " 44%|████▎     | 808/1850 [10:49<12:31,  1.39it/s]"
     ]
    },
    {
     "name": "stdout",
     "output_type": "stream",
     "text": [
      "Comentário com problema encontrado: I find this reprehensible too, but then... the current administration looms large.\n"
     ]
    },
    {
     "name": "stderr",
     "output_type": "stream",
     "text": [
      " 44%|████▍     | 816/1850 [10:55<13:21,  1.29it/s]"
     ]
    },
    {
     "name": "stdout",
     "output_type": "stream",
     "text": [
      "Comentário com problema encontrado: Because half of the country still wants those plantations to be fully operational\n"
     ]
    },
    {
     "name": "stderr",
     "output_type": "stream",
     "text": [
      " 44%|████▍     | 817/1850 [10:56<12:47,  1.35it/s]"
     ]
    },
    {
     "name": "stdout",
     "output_type": "stream",
     "text": [
      "Comentário com problema encontrado: Because unlike Europe, America hasn't moved on from its racism and slavery. It just convinced people that it did, by dressing it up differently.\n"
     ]
    },
    {
     "name": "stderr",
     "output_type": "stream",
     "text": [
      " 44%|████▍     | 819/1850 [10:57<12:26,  1.38it/s]"
     ]
    },
    {
     "name": "stdout",
     "output_type": "stream",
     "text": [
      "Comentário com problema encontrado: Racism\n"
     ]
    },
    {
     "name": "stderr",
     "output_type": "stream",
     "text": [
      " 44%|████▍     | 820/1850 [10:58<12:56,  1.33it/s]"
     ]
    },
    {
     "name": "stdout",
     "output_type": "stream",
     "text": [
      "Comentário com problema encontrado: Cuz the slave owners still are in charge of\n"
     ]
    },
    {
     "name": "stderr",
     "output_type": "stream",
     "text": [
      " 44%|████▍     | 822/1850 [10:59<11:59,  1.43it/s]"
     ]
    },
    {
     "name": "stdout",
     "output_type": "stream",
     "text": [
      "Comentário com problema encontrado: Because Reconstruction was ended early after the Civil War, and America didn't have a De-Crackafication in the same way Germany had a De-Nazification.  Instead of being shown the evil and cruelty of that time, Southern schools were allowed to spin the narrative away from the atrocity the South perpetuated and benefited from towards more nebulous concepts of \"States' rights\" and \"Federal overreach.\"\n"
     ]
    },
    {
     "name": "stderr",
     "output_type": "stream",
     "text": [
      " 45%|████▍     | 824/1850 [11:01<11:41,  1.46it/s]"
     ]
    },
    {
     "name": "stdout",
     "output_type": "stream",
     "text": [
      "Comentário com problema encontrado: Someone said about the difference in how Germany treats/teaches WW2 and how America treats slavery/reservations/internment camps/etc\n",
      "\"Because Germany is ashamed of their past and America is proud of it\"\n"
     ]
    },
    {
     "name": "stderr",
     "output_type": "stream",
     "text": [
      " 45%|████▍     | 832/1850 [11:09<16:59,  1.00s/it]"
     ]
    },
    {
     "name": "stdout",
     "output_type": "stream",
     "text": [
      "Comentário com problema encontrado: They literally do and die for it. Research Voice of the Martyrs.\n"
     ]
    },
    {
     "name": "stderr",
     "output_type": "stream",
     "text": [
      " 45%|████▌     | 836/1850 [11:12<13:39,  1.24it/s]"
     ]
    },
    {
     "name": "stdout",
     "output_type": "stream",
     "text": [
      "Comentário com problema encontrado: They do. I know a Catholic missionary who was shot while working to save child soldiers. He was fortunate to have been rescued and lived. Say what you will about the church, I don't love it either, but this is a good man doing dangerous work. \n"
     ]
    },
    {
     "name": "stderr",
     "output_type": "stream",
     "text": [
      " 45%|████▌     | 839/1850 [11:14<10:46,  1.56it/s]"
     ]
    },
    {
     "name": "stdout",
     "output_type": "stream",
     "text": [
      "Comentário com problema encontrado: Because they will get thrown off a building.\n"
     ]
    },
    {
     "name": "stderr",
     "output_type": "stream",
     "text": [
      " 46%|████▌     | 845/1850 [11:19<13:52,  1.21it/s]"
     ]
    },
    {
     "name": "stdout",
     "output_type": "stream",
     "text": [
      "Comentário com problema encontrado: They absolutely do. The last two churches I’ve attended have funded missionaries who preached in Muslim countries at great risk to their own lives frequently being harassed, abused, their property stolen and meeting Muslims in secret. And that’s not to mention the danger to those raised Muslim who would be killed if it was found out they converted.\n"
     ]
    },
    {
     "name": "stderr",
     "output_type": "stream",
     "text": [
      " 46%|████▌     | 849/1850 [11:22<12:48,  1.30it/s]"
     ]
    },
    {
     "name": "stdout",
     "output_type": "stream",
     "text": [
      "Comentário com problema encontrado: They get killed.\n"
     ]
    },
    {
     "name": "stderr",
     "output_type": "stream",
     "text": [
      " 46%|████▌     | 851/1850 [11:24<14:32,  1.15it/s]"
     ]
    },
    {
     "name": "stdout",
     "output_type": "stream",
     "text": [
      "Comentário com problema encontrado: They don’t advertise their work in many Muslim majority countries because such work is illegal. \n"
     ]
    },
    {
     "name": "stderr",
     "output_type": "stream",
     "text": [
      " 46%|████▌     | 852/1850 [11:25<13:13,  1.26it/s]"
     ]
    },
    {
     "name": "stdout",
     "output_type": "stream",
     "text": [
      "Comentário com problema encontrado: Iranian here, there has been a long history of Christian missionaries in Iran. We have accounts from my great great grandfather about meeting with British Christian missionaries. That said he was not Muslim, but rather a Jewish rabbi and he did not convert. To this day there are missionaries operating in Iran. American evangelicals even run Bible studies in the country as we speak. It’s kept on the down low but it is happening. Many Iranians are eager to leave Islam. They openly declare themselves as Christians or adherence to other faiths once they leave the country. If they were to declare the fact that they converted to in Iran, they would be put to death for heresy.\n"
     ]
    },
    {
     "name": "stderr",
     "output_type": "stream",
     "text": [
      " 46%|████▋     | 860/1850 [11:31<14:07,  1.17it/s]"
     ]
    },
    {
     "name": "stdout",
     "output_type": "stream",
     "text": [
      "Comentário com problema encontrado: Prefer not to die\n"
     ]
    },
    {
     "name": "stderr",
     "output_type": "stream",
     "text": [
      " 47%|████▋     | 868/1850 [11:38<13:22,  1.22it/s]"
     ]
    },
    {
     "name": "stdout",
     "output_type": "stream",
     "text": [
      "Comentário com problema encontrado: They don't tolerate different religions being openly taught, especially by foreigners. \n"
     ]
    },
    {
     "name": "stderr",
     "output_type": "stream",
     "text": [
      " 47%|████▋     | 869/1850 [11:39<15:47,  1.04it/s]"
     ]
    },
    {
     "name": "stdout",
     "output_type": "stream",
     "text": [
      "Comentário com problema encontrado: In most Muslim countries you can be killed for leaving the Muslim religion. \n"
     ]
    },
    {
     "name": "stderr",
     "output_type": "stream",
     "text": [
      " 47%|████▋     | 870/1850 [11:40<15:05,  1.08it/s]"
     ]
    },
    {
     "name": "stdout",
     "output_type": "stream",
     "text": [
      "Comentário com problema encontrado: Because they would be killed \n"
     ]
    },
    {
     "name": "stderr",
     "output_type": "stream",
     "text": [
      " 48%|████▊     | 889/1850 [11:57<14:24,  1.11it/s]"
     ]
    },
    {
     "name": "stdout",
     "output_type": "stream",
     "text": [
      "Comentário com problema encontrado: They would if it was legal, but proselytizing any non-Islamic religion is illegal in many Islamic countries\n"
     ]
    },
    {
     "name": "stderr",
     "output_type": "stream",
     "text": [
      " 49%|████▊     | 898/1850 [12:03<11:25,  1.39it/s]"
     ]
    },
    {
     "name": "stdout",
     "output_type": "stream",
     "text": [
      "Comentário com problema encontrado: I mean beheading might be an issue.\n"
     ]
    },
    {
     "name": "stderr",
     "output_type": "stream",
     "text": [
      " 49%|████▉     | 903/1850 [12:07<11:14,  1.40it/s]"
     ]
    },
    {
     "name": "stdout",
     "output_type": "stream",
     "text": [
      "Comentário com problema encontrado: As someone that is constantly funding, supporting, and myself being a Christian missionary, in Islamic countries, I think I’m qualified enough to answer. The short answer is, Islamic countries are not friendly towards Christians. It typically ends in arrests, fines, deportations, and/or executions. \n"
     ]
    },
    {
     "name": "stderr",
     "output_type": "stream",
     "text": [
      " 49%|████▉     | 909/1850 [12:11<10:57,  1.43it/s]"
     ]
    },
    {
     "name": "stdout",
     "output_type": "stream",
     "text": [
      "Comentário com problema encontrado: lmao you want them to die?\n",
      "Proselitism is illegal in most muslim countries and usually apostacy (leaving islam) is punishble with death\n"
     ]
    },
    {
     "name": "stderr",
     "output_type": "stream",
     "text": [
      " 50%|████▉     | 916/1850 [12:19<14:42,  1.06it/s]"
     ]
    },
    {
     "name": "stdout",
     "output_type": "stream",
     "text": [
      "Comentário com problema encontrado: They do not consider Catholics to be Christians. I know this having grown up with these idiots\n"
     ]
    },
    {
     "name": "stderr",
     "output_type": "stream",
     "text": [
      " 50%|████▉     | 917/1850 [12:19<13:47,  1.13it/s]"
     ]
    },
    {
     "name": "stdout",
     "output_type": "stream",
     "text": [
      "Comentário com problema encontrado: They don't want to die\n"
     ]
    },
    {
     "name": "stderr",
     "output_type": "stream",
     "text": [
      " 50%|█████     | 929/1850 [12:30<13:29,  1.14it/s]"
     ]
    },
    {
     "name": "stdout",
     "output_type": "stream",
     "text": [
      "Comentário com problema encontrado: Because They Are Murdered Every Time They Do… Checkout Some Freakin History…\n"
     ]
    },
    {
     "name": "stderr",
     "output_type": "stream",
     "text": [
      " 50%|█████     | 930/1850 [12:31<12:34,  1.22it/s]"
     ]
    },
    {
     "name": "stdout",
     "output_type": "stream",
     "text": [
      "Comentário com problema encontrado: The reality is in a country governed by Islamic law it would usually put them at risk of arrest and execution. I might be wrong but I believe Islam is the only major religion in modern day where once it assumes complete power or at least approval by a non secular state it begins ethnic cleansing campaigns. Which is why we heard near immediately after Syria fell that the Alawite minority was beginning to be persecuted.\n"
     ]
    },
    {
     "name": "stderr",
     "output_type": "stream",
     "text": [
      " 50%|█████     | 932/1850 [12:33<12:33,  1.22it/s]"
     ]
    },
    {
     "name": "stdout",
     "output_type": "stream",
     "text": [
      "Comentário com problema encontrado: To avoid certain death.\n"
     ]
    },
    {
     "name": "stderr",
     "output_type": "stream",
     "text": [
      " 50%|█████     | 933/1850 [12:34<12:27,  1.23it/s]"
     ]
    },
    {
     "name": "stdout",
     "output_type": "stream",
     "text": [
      "Comentário com problema encontrado: Probably death\n"
     ]
    },
    {
     "name": "stderr",
     "output_type": "stream",
     "text": [
      " 50%|█████     | 934/1850 [12:34<12:25,  1.23it/s]"
     ]
    },
    {
     "name": "stdout",
     "output_type": "stream",
     "text": [
      "Comentário com problema encontrado: You can’t answer this question honestly without getting banned from reddit.\n"
     ]
    },
    {
     "name": "stderr",
     "output_type": "stream",
     "text": [
      " 51%|█████     | 937/1850 [12:38<15:20,  1.01s/it]"
     ]
    },
    {
     "name": "stdout",
     "output_type": "stream",
     "text": [
      "Comentário com problema encontrado: Because they will be killed\n"
     ]
    },
    {
     "name": "stderr",
     "output_type": "stream",
     "text": [
      " 51%|█████     | 943/1850 [12:43<15:00,  1.01it/s]"
     ]
    },
    {
     "name": "stdout",
     "output_type": "stream",
     "text": [
      "Comentário com problema encontrado: They do. All the time. In countries where this is illegal, they lie about their organizations and “build schools” or do other work that gives them access to local people (especially children). Once they’ve got people to come in for education, food, or medical treatment, they proselytize. When I was a Christian I fought with my former church about how gross this was. That wasn’t the beginning of my disenchantment but it played a big part in why I decided that Christianity, particularly the evangelical sort, was definitely not for me.\n"
     ]
    },
    {
     "name": "stderr",
     "output_type": "stream",
     "text": [
      " 51%|█████     | 944/1850 [12:44<13:31,  1.12it/s]"
     ]
    },
    {
     "name": "stdout",
     "output_type": "stream",
     "text": [
      "Comentário com problema encontrado: They know about Jesus in Muslim countries. The problem is when they go to active war zones.\n"
     ]
    },
    {
     "name": "stderr",
     "output_type": "stream",
     "text": [
      " 52%|█████▏    | 968/1850 [13:03<11:27,  1.28it/s]"
     ]
    },
    {
     "name": "stdout",
     "output_type": "stream",
     "text": [
      "Comentário com problema encontrado: The sad reality is that most missionaries go where others are already working (eg. they go on a short term trip to help some missionaries, and later decide to join that team on a long term basis). It's much harder to go where nobody is already there. But that IS what is needed.\n"
     ]
    },
    {
     "name": "stderr",
     "output_type": "stream",
     "text": [
      " 52%|█████▏    | 969/1850 [13:04<11:55,  1.23it/s]"
     ]
    },
    {
     "name": "stdout",
     "output_type": "stream",
     "text": [
      "Comentário com problema encontrado: They do, they just keep it quiet because it can be a capital crime in those countries.\n"
     ]
    },
    {
     "name": "stderr",
     "output_type": "stream",
     "text": [
      " 52%|█████▏    | 971/1850 [13:05<11:04,  1.32it/s]"
     ]
    },
    {
     "name": "stdout",
     "output_type": "stream",
     "text": [
      "Comentário com problema encontrado: They do, but they are not very welcome.\n"
     ]
    },
    {
     "name": "stderr",
     "output_type": "stream",
     "text": [
      " 53%|█████▎    | 986/1850 [13:19<10:40,  1.35it/s]"
     ]
    },
    {
     "name": "stdout",
     "output_type": "stream",
     "text": [
      "Comentário com problema encontrado: They should all quit trying to brainwash more people it's really tragic what these cults get people to do :(\n"
     ]
    },
    {
     "name": "stderr",
     "output_type": "stream",
     "text": [
      " 54%|█████▍    | 999/1850 [13:28<10:01,  1.42it/s]"
     ]
    },
    {
     "name": "stdout",
     "output_type": "stream",
     "text": [
      "Comentário com problema encontrado: They sing of the joy to meet their maker they should just go. Damn the laws. Sentinel checking in.\n"
     ]
    },
    {
     "name": "stderr",
     "output_type": "stream",
     "text": [
      " 54%|█████▍    | 1001/1850 [13:32<17:34,  1.24s/it]"
     ]
    },
    {
     "name": "stdout",
     "output_type": "stream",
     "text": [
      "Comentário com problema encontrado: Because in Muslim countries they get murdered.\n"
     ]
    },
    {
     "name": "stderr",
     "output_type": "stream",
     "text": [
      " 54%|█████▍    | 1005/1850 [13:35<12:51,  1.09it/s]"
     ]
    },
    {
     "name": "stdout",
     "output_type": "stream",
     "text": [
      "Comentário com problema encontrado: Because even missionaries can't bring themselves to the worst places in the world.\n"
     ]
    },
    {
     "name": "stderr",
     "output_type": "stream",
     "text": [
      " 54%|█████▍    | 1006/1850 [13:36<13:07,  1.07it/s]"
     ]
    },
    {
     "name": "stdout",
     "output_type": "stream",
     "text": [
      "Comentário com problema encontrado: They don’t want their heads cut off\n"
     ]
    },
    {
     "name": "stderr",
     "output_type": "stream",
     "text": [
      " 55%|█████▍    | 1013/1850 [13:44<15:08,  1.09s/it]"
     ]
    },
    {
     "name": "stdout",
     "output_type": "stream",
     "text": [
      "Comentário com problema encontrado: Don't want to die\n"
     ]
    },
    {
     "name": "stderr",
     "output_type": "stream",
     "text": [
      " 55%|█████▌    | 1026/1850 [13:57<14:35,  1.06s/it]"
     ]
    },
    {
     "name": "stdout",
     "output_type": "stream",
     "text": [
      "Comentário com problema encontrado: Because in the majority of Islamic countries leaving Islam is a de jure crime. Sometimes it’s jail time, sometimes  like in Malaysias case they send you to be re-educated, and other countries in death penalty or vigilante killing. \n"
     ]
    },
    {
     "name": "stderr",
     "output_type": "stream",
     "text": [
      " 56%|█████▌    | 1031/1850 [14:03<15:44,  1.15s/it]"
     ]
    },
    {
     "name": "stdout",
     "output_type": "stream",
     "text": [
      "Comentário com problema encontrado: because they risk getting killed...\n"
     ]
    },
    {
     "name": "stderr",
     "output_type": "stream",
     "text": [
      " 56%|█████▌    | 1033/1850 [14:05<13:33,  1.00it/s]"
     ]
    },
    {
     "name": "stdout",
     "output_type": "stream",
     "text": [
      "Comentário com problema encontrado: They know that they would possibly be killed since they are unfaithful there, and they know it.\n"
     ]
    },
    {
     "name": "stderr",
     "output_type": "stream",
     "text": [
      " 56%|█████▌    | 1040/1850 [14:13<15:47,  1.17s/it]"
     ]
    },
    {
     "name": "stdout",
     "output_type": "stream",
     "text": [
      "Comentário com problema encontrado: I would focus a little more on the debt and get it taken care of.\n"
     ]
    },
    {
     "name": "stderr",
     "output_type": "stream",
     "text": [
      " 57%|█████▋    | 1046/1850 [14:18<10:08,  1.32it/s]"
     ]
    },
    {
     "name": "stdout",
     "output_type": "stream",
     "text": [
      "Comentário com problema encontrado: Because I am an investor, but I don’t have a 401k. I started learning about investment when I was 27 years old, and it has been 10 years now. At that time, I chose the crypto market and bought a lot of coins, but I sold them a long time ago. At that time, it was not very popular. Now I regret it so much. Now I am re-entering the crypto market.\n"
     ]
    },
    {
     "name": "stderr",
     "output_type": "stream",
     "text": [
      " 57%|█████▋    | 1047/1850 [14:18<09:36,  1.39it/s]"
     ]
    },
    {
     "name": "stdout",
     "output_type": "stream",
     "text": [
      "Comentário com problema encontrado: Billed $1,300 for a \"free screening\" from my urologist\n"
     ]
    },
    {
     "name": "stderr",
     "output_type": "stream",
     "text": [
      " 57%|█████▋    | 1048/1850 [14:19<10:35,  1.26it/s]"
     ]
    },
    {
     "name": "stdout",
     "output_type": "stream",
     "text": [
      "Comentário com problema encontrado: What state are you in? This sounds like a bait and switch scam. If the office that sent the “free screening” offer can’t demonstrate they really were doing free screenings, they might be violating rules in your state. \n"
     ]
    },
    {
     "name": "stderr",
     "output_type": "stream",
     "text": [
      " 57%|█████▋    | 1050/1850 [14:22<13:42,  1.03s/it]"
     ]
    },
    {
     "name": "stdout",
     "output_type": "stream",
     "text": [
      "Comentário com problema encontrado: Tell them \"I came in for the free screening, that is what was on my confirmation email. Here is said email. If you performed something that \n"
     ]
    },
    {
     "name": "stderr",
     "output_type": "stream",
     "text": [
      " 57%|█████▋    | 1051/1850 [14:23<13:57,  1.05s/it]"
     ]
    },
    {
     "name": "stdout",
     "output_type": "stream",
     "text": [
      "Comentário com problema encontrado: Common bait and switch they do. I don’t have any advice but I’ve heard of this happening before. It’s free up until you trail off and change the conversation topic with the doctor, you start talking about other things and all of a sudden it isn’t free. It’s a trap\n"
     ]
    },
    {
     "name": "stderr",
     "output_type": "stream",
     "text": [
      " 57%|█████▋    | 1052/1850 [14:24<12:51,  1.03it/s]"
     ]
    },
    {
     "name": "stdout",
     "output_type": "stream",
     "text": [
      "Comentário com problema encontrado: I had to switch dentists and I found an ad for a local office that offered a free cleaning for new customers.\n"
     ]
    },
    {
     "name": "stderr",
     "output_type": "stream",
     "text": [
      " 57%|█████▋    | 1053/1850 [14:24<11:51,  1.12it/s]"
     ]
    },
    {
     "name": "stdout",
     "output_type": "stream",
     "text": [
      "Comentário com problema encontrado: OP even if the screening morphed into a regular visit 1300 dollars seems extremely high and something your insurance should’ve written down (deductible or not). You may end owing something but that seems extremely excessive.\n"
     ]
    },
    {
     "name": "stderr",
     "output_type": "stream",
     "text": [
      " 57%|█████▋    | 1054/1850 [14:25<10:37,  1.25it/s]"
     ]
    },
    {
     "name": "stdout",
     "output_type": "stream",
     "text": [
      "Comentário com problema encontrado: one star reviews on all review platforms and name the doctor.\n"
     ]
    },
    {
     "name": "stderr",
     "output_type": "stream",
     "text": [
      " 57%|█████▋    | 1055/1850 [14:26<10:43,  1.23it/s]"
     ]
    },
    {
     "name": "stdout",
     "output_type": "stream",
     "text": [
      "Comentário com problema encontrado: Complaints to the state ag office, medical ethics board, and your insurance company. At best this was \"bait and switch\" at worst outright fraud.\n"
     ]
    },
    {
     "name": "stderr",
     "output_type": "stream",
     "text": [
      " 57%|█████▋    | 1056/1850 [14:27<11:16,  1.17it/s]"
     ]
    },
    {
     "name": "stdout",
     "output_type": "stream",
     "text": [
      "Comentário com problema encontrado: Tell them to kick rocks and that if they continue to harass you you'll be contacting a lawyer for false advertising and predatory practices. \n"
     ]
    },
    {
     "name": "stderr",
     "output_type": "stream",
     "text": [
      " 57%|█████▋    | 1057/1850 [14:28<11:35,  1.14it/s]"
     ]
    },
    {
     "name": "stdout",
     "output_type": "stream",
     "text": [
      "Comentário com problema encontrado: This is something that all doctors are doing now.  I went in for my yearly checkup and we discussed issues as I'm aging.  Bam, I got charged for a visit due to getting a new treatment recommended.  What's the point of the yearly exam if talking to your doctor about anything going on will charge you anyway as a different type of visit?\n"
     ]
    },
    {
     "name": "stderr",
     "output_type": "stream",
     "text": [
      " 57%|█████▋    | 1059/1850 [14:30<12:01,  1.10it/s]"
     ]
    },
    {
     "name": "stdout",
     "output_type": "stream",
     "text": [
      "Comentário com problema encontrado: You may be able to get the price reduced by getting a retroactive referral from your primary care provider\n"
     ]
    },
    {
     "name": "stderr",
     "output_type": "stream",
     "text": [
      " 57%|█████▋    | 1060/1850 [14:30<11:04,  1.19it/s]"
     ]
    },
    {
     "name": "stdout",
     "output_type": "stream",
     "text": [
      "Comentário com problema encontrado: Do you have ACA insurance? In my experience, doctors will almost always try to convert those \"free screening\" visits into an office call by getting you to talk about things that fall outside the umbrella of a \"free screening.\"\n"
     ]
    },
    {
     "name": "stderr",
     "output_type": "stream",
     "text": [
      " 57%|█████▋    | 1061/1850 [14:31<10:46,  1.22it/s]"
     ]
    },
    {
     "name": "stdout",
     "output_type": "stream",
     "text": [
      "Comentário com problema encontrado: If you’ve tried to work it out with them and they refused, report credit card fraud and complain to your state’s attorney general. Make those greedy scumbags sweat.\n"
     ]
    },
    {
     "name": "stderr",
     "output_type": "stream",
     "text": [
      " 57%|█████▋    | 1063/1850 [14:32<10:21,  1.27it/s]"
     ]
    },
    {
     "name": "stdout",
     "output_type": "stream",
     "text": [
      "Comentário com problema encontrado: This happens all the time with us, we go for our free annual checkup and find a bill for $400-500 each after a week. my wife then has to call the doctor's office and argue with them until they recode everything so that it counts as an annual free checkup.\n"
     ]
    },
    {
     "name": "stderr",
     "output_type": "stream",
     "text": [
      " 58%|█████▊    | 1066/1850 [14:36<13:16,  1.02s/it]"
     ]
    },
    {
     "name": "stdout",
     "output_type": "stream",
     "text": [
      "Comentário com problema encontrado: File a chargeback for the $140 you paid too.\n"
     ]
    },
    {
     "name": "stderr",
     "output_type": "stream",
     "text": [
      " 58%|█████▊    | 1067/1850 [14:37<11:56,  1.09it/s]"
     ]
    },
    {
     "name": "stdout",
     "output_type": "stream",
     "text": [
      "Comentário com problema encontrado: I am a physician. If this was me I would be pissed too. I don't have any helpful advice except that this is gross and no self-respecting physician would want to be part of this kind of \"scheme,\" I hope. Some of us do care :(. The only thing I can think of is if the clerical people totally whiffed it and scheduled you wrong or something? Also, what exactly is a \"free screening,\" in this case and why would you need to see a physician if its just a PSA or something? Sounds like some confusion from the schedulers?\n"
     ]
    },
    {
     "name": "stderr",
     "output_type": "stream",
     "text": [
      " 58%|█████▊    | 1070/1850 [14:39<11:33,  1.12it/s]"
     ]
    },
    {
     "name": "stdout",
     "output_type": "stream",
     "text": [
      "Comentário com problema encontrado: Reach out to the patient advocate for the hospital/clinic system, explain the situation. They often escalate it to managers. Unless it’s private practice the doctor does not have much control here. They will light a fire under the clinic until your problem has a definitive answer. If you booked under free screening and that was what you were under the impression was happening, they should not be charging you for the visit.\n"
     ]
    },
    {
     "name": "stderr",
     "output_type": "stream",
     "text": [
      " 58%|█████▊    | 1072/1850 [14:41<10:59,  1.18it/s]"
     ]
    },
    {
     "name": "stdout",
     "output_type": "stream",
     "text": [
      "Comentário com problema encontrado: Replying specifically to your edit, OP.  Honestly, this shouldn't rely on how they coded it.  Or rather, you shouldn't be on the hook automatically because they coded it wrong.\n"
     ]
    },
    {
     "name": "stderr",
     "output_type": "stream",
     "text": [
      " 58%|█████▊    | 1073/1850 [14:42<10:17,  1.26it/s]"
     ]
    },
    {
     "name": "stdout",
     "output_type": "stream",
     "text": [
      "Comentário com problema encontrado: This is legal because you brought up another issue on your \"free\" visit.  You received more than just a screening. The screening was free\n"
     ]
    },
    {
     "name": "stderr",
     "output_type": "stream",
     "text": [
      " 58%|█████▊    | 1074/1850 [14:43<10:48,  1.20it/s]"
     ]
    },
    {
     "name": "stdout",
     "output_type": "stream",
     "text": [
      "Comentário com problema encontrado: That’s beyond frustrating, and honestly it sounds like a bait-and-switch. First step is to dig up that original email confirmation with the words “FREE SCREENING” and save it like gold. That’s your proof. Then file a formal dispute with the clinic’s billing department in writing, referencing that email and every detail of the scheduling switch. If they won’t budge, escalate it to your state’s medical board and insurance regulator.\n"
     ]
    },
    {
     "name": "stderr",
     "output_type": "stream",
     "text": [
      " 58%|█████▊    | 1075/1850 [14:44<11:21,  1.14it/s]"
     ]
    },
    {
     "name": "stdout",
     "output_type": "stream",
     "text": [
      "Comentário com problema encontrado: Part of this definitely sounds like shady business practice.  Part can be chalked up to \"things people might not understand about insurance\" until they are looking into it.  A few things that caught my attention:\n"
     ]
    },
    {
     "name": "stderr",
     "output_type": "stream",
     "text": [
      " 58%|█████▊    | 1076/1850 [14:44<10:48,  1.19it/s]"
     ]
    },
    {
     "name": "stdout",
     "output_type": "stream",
     "text": [
      "Comentário com problema encontrado: Same exact thing happened to me with a colonoscopy. Since I have a very strong family history of colon cancer, when I turned 19 I was supposed to start getting a colonoscopy yearly, (because my dad died of colon cancer at 29yo) but just got my first one in 2023 when I was 23. Every appointment was “this will be a screening based on family history”, yet when the colonoscopy was scheduled and I’m all checked in, they go “and that will cost 1150 how will you be paying today?” LIKE HELLO??? They said because I mentioned anal bleeding ONCE due to an internal HEMORRHOID that my colonoscopy was now not a screening, and insurance wouldn’t cover it. LIKE WTF?? HOW IS THIS LEGAL??\n"
     ]
    },
    {
     "name": "stderr",
     "output_type": "stream",
     "text": [
      " 58%|█████▊    | 1078/1850 [14:46<10:57,  1.18it/s]"
     ]
    },
    {
     "name": "stdout",
     "output_type": "stream",
     "text": [
      "Comentário com problema encontrado: Small claims court is not difficult to navigate you can do it one afternoon and you’ll save yourself 1000+ dollars.   More than likely, the doctors office will want to settle.\n"
     ]
    },
    {
     "name": "stderr",
     "output_type": "stream",
     "text": [
      " 58%|█████▊    | 1080/1850 [14:50<16:57,  1.32s/it]"
     ]
    },
    {
     "name": "stdout",
     "output_type": "stream",
     "text": [
      "Comentário com problema encontrado: I would still make it a policy NOT to hand over payment until i have all the required information to make sure amounts are correct.  Sending me a bill when my insurance covers services seems unreasonable.  If they can’t provide reasonable information, like the charges was this for this item, and insurance covered this amount, then they are sending an incomplete bill.  And I would need that information to verify with insurance payments.  If they don’t match, they have incompetent staff or they are a shady practice.  \n"
     ]
    },
    {
     "name": "stderr",
     "output_type": "stream",
     "text": [
      " 58%|█████▊    | 1081/1850 [14:51<17:33,  1.37s/it]"
     ]
    },
    {
     "name": "stdout",
     "output_type": "stream",
     "text": [
      "Comentário com problema encontrado: Yup! My primary doctor did the same thing to my regular annual visit. I’m in the process of finding a new doctor.\n"
     ]
    },
    {
     "name": "stderr",
     "output_type": "stream",
     "text": [
      " 58%|█████▊    | 1082/1850 [14:52<14:33,  1.14s/it]"
     ]
    },
    {
     "name": "stdout",
     "output_type": "stream",
     "text": [
      "Comentário com problema encontrado: I've seen this with vaccines, too. They advertise it as free, but require insurance when you get there. Really stretching the definition of free to mean \"Free to \n"
     ]
    },
    {
     "name": "stderr",
     "output_type": "stream",
     "text": [
      " 59%|█████▊    | 1083/1850 [14:53<14:00,  1.10s/it]"
     ]
    },
    {
     "name": "stdout",
     "output_type": "stream",
     "text": [
      "Comentário com problema encontrado: You can still dispute this, and it's definitely worth your time. Were you ever notified that this would change the visit? They are required to do so. If they did not inform you that the visit type would change, then your good faith estimate is still $0.\n"
     ]
    },
    {
     "name": "stderr",
     "output_type": "stream",
     "text": [
      " 59%|█████▊    | 1084/1850 [14:54<13:27,  1.05s/it]"
     ]
    },
    {
     "name": "stdout",
     "output_type": "stream",
     "text": [
      "Comentário com problema encontrado: Something like this happened to me and I called the hospital. I was adamant that three different people had told me it would be free and that I would NOT HAVE DONE IT if it hadn’t been. They removed the charge. You might be able to get out of it by complaining.\n"
     ]
    },
    {
     "name": "stderr",
     "output_type": "stream",
     "text": [
      " 59%|█████▊    | 1085/1850 [14:55<14:00,  1.10s/it]"
     ]
    },
    {
     "name": "stdout",
     "output_type": "stream",
     "text": [
      "Comentário com problema encontrado: Call the healthcare organizations compliance officer, you should be able to find them on their website and walk through what happened, and they have the power to fix this. They have a lot of power and like to follow the law, I have had success fixing billing mistakes. \n"
     ]
    },
    {
     "name": "stderr",
     "output_type": "stream",
     "text": [
      " 59%|█████▊    | 1086/1850 [14:56<12:24,  1.03it/s]"
     ]
    },
    {
     "name": "stdout",
     "output_type": "stream",
     "text": [
      "Comentário com problema encontrado: Unfortunately it does sound like you're on the hook for the bill.\n"
     ]
    },
    {
     "name": "stderr",
     "output_type": "stream",
     "text": [
      " 59%|█████▉    | 1088/1850 [14:57<11:52,  1.07it/s]"
     ]
    },
    {
     "name": "stdout",
     "output_type": "stream",
     "text": [
      "Comentário com problema encontrado: The screening was free, talking to the doctor about anything unrelated was not and he should have warned you before going through a battery of  medical questions unrelated to the free treatment you came in for. You can report it to your states AG  and see if they will investigate and get you a partial refund, but otherwise it’s a rough lesson learned and you need to pay up. American healthcare is a nightmare.\n"
     ]
    },
    {
     "name": "stderr",
     "output_type": "stream",
     "text": [
      " 59%|█████▉    | 1089/1850 [14:58<11:18,  1.12it/s]"
     ]
    },
    {
     "name": "stdout",
     "output_type": "stream",
     "text": [
      "Comentário com problema encontrado: That’s ridiculous, bait-and-switch billing at its worst. Fight it hard and file a complaint.\n"
     ]
    },
    {
     "name": "stderr",
     "output_type": "stream",
     "text": [
      " 59%|█████▉    | 1090/1850 [14:59<11:44,  1.08it/s]"
     ]
    },
    {
     "name": "stdout",
     "output_type": "stream",
     "text": [
      "Comentário com problema encontrado: Nah take that to small claims court. Even verbal contracts aren’t supposed to be this sketchy. Courts hate this trickery. Making a mockery of contract law.\n"
     ]
    },
    {
     "name": "stderr",
     "output_type": "stream",
     "text": [
      " 59%|█████▉    | 1093/1850 [15:02<11:38,  1.08it/s]"
     ]
    },
    {
     "name": "stdout",
     "output_type": "stream",
     "text": [
      "Comentário com problema encontrado: Sounds like a bait and switch. You're unreasonably expected to guard yourself against scams by knowing all the ins and outs of medical billing when you're just trying to care for your personal health.\n"
     ]
    },
    {
     "name": "stderr",
     "output_type": "stream",
     "text": [
      " 59%|█████▉    | 1094/1850 [15:03<11:00,  1.14it/s]"
     ]
    },
    {
     "name": "stdout",
     "output_type": "stream",
     "text": [
      "Comentário com problema encontrado: that's rough. if you have proof they called it a “free screening,” push back hard. ask for an itemized bill, dispute the charge, and file a complaint with your state’s insurance board. also try appealing with your insurance. you’re not out of options yet\n"
     ]
    },
    {
     "name": "stderr",
     "output_type": "stream",
     "text": [
      " 59%|█████▉    | 1095/1850 [15:04<11:38,  1.08it/s]"
     ]
    },
    {
     "name": "stdout",
     "output_type": "stream",
     "text": [
      "Comentário com problema encontrado: Sorry this is happening to you.. This is classic bait and switch bs. I had the same thing happen at a physical rehab clinic. I was explicit that I only wanted procedures that were covered.  Well, they coded a bunch that weren’t covered and then sent me a bill for $4,506. \n"
     ]
    },
    {
     "name": "stderr",
     "output_type": "stream",
     "text": [
      " 59%|█████▉    | 1096/1850 [15:05<11:30,  1.09it/s]"
     ]
    },
    {
     "name": "stdout",
     "output_type": "stream",
     "text": [
      "Comentário com problema encontrado: If you don’t plan on using this clinic again you could always try taking them to small claims court. For this amount it’s worth the effort to me. \n"
     ]
    },
    {
     "name": "stderr",
     "output_type": "stream",
     "text": [
      " 59%|█████▉    | 1097/1850 [15:05<11:20,  1.11it/s]"
     ]
    },
    {
     "name": "stdout",
     "output_type": "stream",
     "text": [
      "Comentário com problema encontrado: so a few things could have happened which is why i hate the medical field but i will lay it out.\n"
     ]
    },
    {
     "name": "stderr",
     "output_type": "stream",
     "text": [
      " 59%|█████▉    | 1098/1850 [15:06<11:43,  1.07it/s]"
     ]
    },
    {
     "name": "stdout",
     "output_type": "stream",
     "text": [
      "Comentário com problema encontrado: File an appeal with your insurance company and, assuming you are in the US, file a complaint against the practice with the appropriate department of your state AG’s office.\n"
     ]
    },
    {
     "name": "stderr",
     "output_type": "stream",
     "text": [
      " 59%|█████▉    | 1099/1850 [15:08<12:08,  1.03it/s]"
     ]
    },
    {
     "name": "stdout",
     "output_type": "stream",
     "text": [
      "Comentário com problema encontrado: You’re high risk due to family history and not eligible for screening. Screening means surveillance of the normal risk population\n"
     ]
    },
    {
     "name": "stderr",
     "output_type": "stream",
     "text": [
      " 60%|█████▉    | 1102/1850 [15:10<10:35,  1.18it/s]"
     ]
    },
    {
     "name": "stdout",
     "output_type": "stream",
     "text": [
      "Comentário com problema encontrado: bait and switch, find every agency you can file complaints with  and if they put anything negative on your credit report, dispute it with by sending a copy of the email they sent you\n"
     ]
    },
    {
     "name": "stderr",
     "output_type": "stream",
     "text": [
      " 60%|█████▉    | 1103/1850 [15:11<11:32,  1.08it/s]"
     ]
    },
    {
     "name": "stdout",
     "output_type": "stream",
     "text": [
      "Comentário com problema encontrado: The screening was “free” but you got charged for the consultation. Always read the fine print.\n"
     ]
    },
    {
     "name": "stderr",
     "output_type": "stream",
     "text": [
      " 60%|█████▉    | 1106/1850 [15:14<11:17,  1.10it/s]"
     ]
    },
    {
     "name": "stdout",
     "output_type": "stream",
     "text": [
      "Comentário com problema encontrado: No Surprises act, if you were not handed a bill what you 'might owe' out of pocket, and did not sign something, call your insurance company and have them deal with to\n"
     ]
    },
    {
     "name": "stderr",
     "output_type": "stream",
     "text": [
      " 60%|█████▉    | 1107/1850 [15:14<10:13,  1.21it/s]"
     ]
    },
    {
     "name": "stdout",
     "output_type": "stream",
     "text": [
      "Comentário com problema encontrado: You’re not going to “win” by being a jerk and threatening them, despite what everyone here is telling you. Your best bet is to continue to plead your case to a manager or administrator and hope they understand. Were any tests performed or was it just an office visit?  Very pricey to talk to an MD\n"
     ]
    },
    {
     "name": "stderr",
     "output_type": "stream",
     "text": [
      " 60%|██████    | 1110/1850 [15:17<09:46,  1.26it/s]"
     ]
    },
    {
     "name": "stdout",
     "output_type": "stream",
     "text": [
      "Comentário com problema encontrado: The provider is going to give them some canned response and negate every point. Then HR is going to do nothing because it’s the path of least resistance.\n"
     ]
    },
    {
     "name": "stderr",
     "output_type": "stream",
     "text": [
      " 60%|██████    | 1113/1850 [15:19<10:09,  1.21it/s]"
     ]
    },
    {
     "name": "stdout",
     "output_type": "stream",
     "text": [
      "Comentário com problema encontrado: Looks like an ok response.  They listed specific actions and didn’t threaten you (what happened to me one time in a similar situation)\n"
     ]
    },
    {
     "name": "stderr",
     "output_type": "stream",
     "text": [
      " 60%|██████    | 1115/1850 [15:21<10:51,  1.13it/s]"
     ]
    },
    {
     "name": "stdout",
     "output_type": "stream",
     "text": [
      "Comentário com problema encontrado: Your HR is lazy and incompetent, likely just doing the minimal to stay legal and collect their paychecks. This is pretty typical. I would be looking for better employment options if things aren't otherwise excellent.\n"
     ]
    },
    {
     "name": "stderr",
     "output_type": "stream",
     "text": [
      " 61%|██████    | 1121/1850 [15:27<10:53,  1.12it/s]"
     ]
    },
    {
     "name": "stdout",
     "output_type": "stream",
     "text": [
      "Comentário com problema encontrado: I don’t know what more you expect.  I would just follow up on two weeks to see what they found out when they reached out to the 401K provider. The squeaky wheel gets the grease.\n"
     ]
    },
    {
     "name": "stderr",
     "output_type": "stream",
     "text": [
      " 61%|██████    | 1127/1850 [15:32<11:01,  1.09it/s]"
     ]
    },
    {
     "name": "stdout",
     "output_type": "stream",
     "text": [
      "Comentário com problema encontrado: They gave a cordial response, but I dont know if I would get my hopes up on any changes being made.  Its probably not out of the realm of possibilities that they add more target date funds, but completely changing the fee structure is not a likely outcome here.\n"
     ]
    },
    {
     "name": "stderr",
     "output_type": "stream",
     "text": [
      " 61%|██████    | 1132/1850 [15:37<10:54,  1.10it/s]"
     ]
    },
    {
     "name": "stdout",
     "output_type": "stream",
     "text": [
      "Comentário com problema encontrado: With a response like that I would be more worried that the funds are being comingled and you might not have a real account.  If it isn't with fidelity, charles schwab or other large brokerage I would be concerned that your money exists.\n"
     ]
    },
    {
     "name": "stderr",
     "output_type": "stream",
     "text": [
      " 61%|██████▏   | 1134/1850 [15:38<09:52,  1.21it/s]"
     ]
    },
    {
     "name": "stdout",
     "output_type": "stream",
     "text": [
      "Comentário com problema encontrado: They are never going to change it. As everyone pointed out already, this is a chatgpt response showing exactly how much they care.\n"
     ]
    },
    {
     "name": "stderr",
     "output_type": "stream",
     "text": [
      " 61%|██████▏   | 1135/1850 [15:39<10:18,  1.16it/s]"
     ]
    },
    {
     "name": "stdout",
     "output_type": "stream",
     "text": [
      "Comentário com problema encontrado: HR are morons and clueless. You fix this by going to the CEO with numbers about how much money it’s costing “us” vs better options. HR will not change because 401k providers are not easy to work with and changing is very time consuming.\n"
     ]
    },
    {
     "name": "stderr",
     "output_type": "stream",
     "text": [
      " 62%|██████▏   | 1143/1850 [15:45<08:32,  1.38it/s]"
     ]
    },
    {
     "name": "stdout",
     "output_type": "stream",
     "text": [
      "Comentário com problema encontrado: someone ban this bot\n"
     ]
    },
    {
     "name": "stderr",
     "output_type": "stream",
     "text": [
      " 62%|██████▏   | 1154/1850 [15:54<09:53,  1.17it/s]"
     ]
    },
    {
     "name": "stdout",
     "output_type": "stream",
     "text": [
      "Comentário com problema encontrado: Anybody ever question why tf we’re still doing this?\n"
     ]
    },
    {
     "name": "stderr",
     "output_type": "stream",
     "text": [
      " 63%|██████▎   | 1157/1850 [15:57<10:00,  1.15it/s]"
     ]
    },
    {
     "name": "stdout",
     "output_type": "stream",
     "text": [
      "Comentário com problema encontrado: I’d put my head in my own oven before I’d ever work for someone else again.\n"
     ]
    },
    {
     "name": "stderr",
     "output_type": "stream",
     "text": [
      " 63%|██████▎   | 1159/1850 [15:59<09:43,  1.19it/s]"
     ]
    },
    {
     "name": "stdout",
     "output_type": "stream",
     "text": [
      "Comentário com problema encontrado: Have you worked for other people?  It sucks. That’s why. \n"
     ]
    },
    {
     "name": "stderr",
     "output_type": "stream",
     "text": [
      " 63%|██████▎   | 1160/1850 [15:59<09:34,  1.20it/s]"
     ]
    },
    {
     "name": "stdout",
     "output_type": "stream",
     "text": [
      "Comentário com problema encontrado: If you are making less than 5% and you are working hard in the business you are doing something wrong.  You have inefficiencies or waste or you are under charging.\n"
     ]
    },
    {
     "name": "stderr",
     "output_type": "stream",
     "text": [
      " 63%|██████▎   | 1169/1850 [16:07<08:30,  1.33it/s]"
     ]
    },
    {
     "name": "stdout",
     "output_type": "stream",
     "text": [
      "Comentário com problema encontrado: When I can go visit a friend in the hospital on a Wednesday at 10am or take off for a funeral for a family member without getting on my knees and begging, I remember why I quit my job for the man.\n"
     ]
    },
    {
     "name": "stderr",
     "output_type": "stream",
     "text": [
      " 63%|██████▎   | 1170/1850 [16:07<07:56,  1.43it/s]"
     ]
    },
    {
     "name": "stdout",
     "output_type": "stream",
     "text": [
      "Comentário com problema encontrado: My friend if you always tie yourself to other people's success and talk down on your achievements you will never be happy in life. Stop doing this to yourself. It's like these teenage girls working real jobs while their friends sell their dignity on OF or trick to spend the weekend in Barbados but IG leaves out the trick part. You are doing more than most and you are 30 bro. I made six figures easy walking steel doing shit no one wants to do but it was cool and the money was fantastic until I woke up and realized netting $5k a week was great but my family didn't think so, yeah they went on vacations but I sent them I didn't take them. I'm 45 and have two grown sons each in different parts of the world from me. \n"
     ]
    },
    {
     "name": "stderr",
     "output_type": "stream",
     "text": [
      " 63%|██████▎   | 1172/1850 [16:09<09:22,  1.21it/s]"
     ]
    },
    {
     "name": "stdout",
     "output_type": "stream",
     "text": [
      "Comentário com problema encontrado: I am like one of your friends in a white collar job earning a lot. I lose sleep over the stress my job brings. Because every quarter my company decides the best way to increase revenue is to outsource the work I do to a cheaper country. And every quarter we play musical lay offs. I can do my job perfectly and still get laid off the next day. I'm working my ass off to build up my own business just to be in your shoes right now. I'd kill for the stress of hard work over the stress of job security any day\n"
     ]
    },
    {
     "name": "stderr",
     "output_type": "stream",
     "text": [
      " 63%|██████▎   | 1174/1850 [16:11<09:19,  1.21it/s]"
     ]
    },
    {
     "name": "stdout",
     "output_type": "stream",
     "text": [
      "Comentário com problema encontrado: Hands back and forth, 2023 was a great year—I managed to make a million and walked away with about 200K. But 2024 hit different. Complications came up, and I only made half that with the same margins.\n",
      "I got more money than most of my friends, but now it’s flipped. They’re out here in their tech jobs pullin’ six figures each, while my business is barely hitting entry mid six figures in 2024\n",
      "As an entrepreneur, I gotta figure it out on my own, while they’re gettin’ checks with less work. It’s a whole different grind\n"
     ]
    },
    {
     "name": "stderr",
     "output_type": "stream",
     "text": [
      " 64%|██████▎   | 1179/1850 [16:15<10:18,  1.09it/s]"
     ]
    },
    {
     "name": "stdout",
     "output_type": "stream",
     "text": [
      "Comentário com problema encontrado: You may be hitting burnout but honestly just getting this feedback isn’t helpful. Running a small business can suck even when it is successful. It takes time, effort, you see others getting full weekends or 9-5 and off and not having these extra responsibilities sounds so much better. I’m in the same situation in my 40s where I do well but not yet enough to be completely retired and I power through the same feelings. This is something that you’ll find with other small business owners who are in that 6 to low 7 figure niche and have been doing this over a decade. We are beyond that initial grind and build snd have something that is maintaining and growing.\n"
     ]
    },
    {
     "name": "stderr",
     "output_type": "stream",
     "text": [
      " 64%|██████▍   | 1180/1850 [16:16<10:17,  1.08it/s]"
     ]
    },
    {
     "name": "stdout",
     "output_type": "stream",
     "text": [
      "Comentário com problema encontrado: You wanna be told when to wake up and what to do with your day? They also take risk. They can be fired any day happened to lots of people I know. Now you are out of a job and have to go interview. sounds fun.\n"
     ]
    },
    {
     "name": "stderr",
     "output_type": "stream",
     "text": [
      " 64%|██████▍   | 1188/1850 [16:25<11:11,  1.01s/it]"
     ]
    },
    {
     "name": "stdout",
     "output_type": "stream",
     "text": [
      "Comentário com problema encontrado: Your revenue is 1.5-2M and you’re only paying yourself $50k-$100k?  It’s time you ask yourself for a raise.  A lot of small business owners fall into this trap.  You think all the money must go back into the business.  You’ve been successful for almost 8 years.  Reward yourself and take some profits for all the sacrifices and risk you’ve been taking. \n"
     ]
    },
    {
     "name": "stderr",
     "output_type": "stream",
     "text": [
      " 64%|██████▍   | 1190/1850 [16:26<09:57,  1.11it/s]"
     ]
    },
    {
     "name": "stdout",
     "output_type": "stream",
     "text": [
      "Comentário com problema encontrado: Your boss will never pay you enough to be his neighbor.\n"
     ]
    },
    {
     "name": "stderr",
     "output_type": "stream",
     "text": [
      " 64%|██████▍   | 1192/1850 [16:28<09:49,  1.12it/s]"
     ]
    },
    {
     "name": "stdout",
     "output_type": "stream",
     "text": [
      "Comentário com problema encontrado: Closed my 10 year retail business in 2020 - well, COVID closed it for me -- I was clearing similar numbers to you. I was also 30 at the time. \n"
     ]
    },
    {
     "name": "stderr",
     "output_type": "stream",
     "text": [
      " 64%|██████▍   | 1193/1850 [16:29<09:31,  1.15it/s]"
     ]
    },
    {
     "name": "stdout",
     "output_type": "stream",
     "text": [
      "Comentário com problema encontrado: I've been a solo esti for 45 years. Now almost 76. I love what I do so its my choice.  Taxes are aweful for small business.   Would I do it again if I had a choice?  Probably lol. Lick your wounds pal\n"
     ]
    },
    {
     "name": "stderr",
     "output_type": "stream",
     "text": [
      " 65%|██████▍   | 1198/1850 [16:34<10:17,  1.06it/s]"
     ]
    },
    {
     "name": "stdout",
     "output_type": "stream",
     "text": [
      "Comentário com problema encontrado: Its why when anyone asks if they should get into business I tell them no and to stay in school. I've done well and have def struggled a lot too being self employed.\n"
     ]
    },
    {
     "name": "stderr",
     "output_type": "stream",
     "text": [
      " 65%|██████▍   | 1199/1850 [16:35<12:05,  1.11s/it]"
     ]
    },
    {
     "name": "stdout",
     "output_type": "stream",
     "text": [
      "Comentário com problema encontrado: This posy saved me from being a retarded highschooler and being stupid in future thanks\n"
     ]
    },
    {
     "name": "stderr",
     "output_type": "stream",
     "text": [
      " 65%|██████▍   | 1202/1850 [16:38<09:59,  1.08it/s]"
     ]
    },
    {
     "name": "stdout",
     "output_type": "stream",
     "text": [
      "Comentário com problema encontrado: Same for me. It’s too much risk for a regular salary.  If I had it to do over again I’d just get a regular job.  You’re still young.  Sell the business and do something else.\n"
     ]
    },
    {
     "name": "stderr",
     "output_type": "stream",
     "text": [
      " 65%|██████▌   | 1203/1850 [16:39<10:01,  1.08it/s]"
     ]
    },
    {
     "name": "stdout",
     "output_type": "stream",
     "text": [
      "Comentário com problema encontrado: One trap is conflating gross profit with net profit, and you may very well be doing this. They are not the same, and it’s dangerous to not know it. If you don’t know the difference, do some research on it and begin to root out inefficiencies. You likely need to raise prices too\n"
     ]
    },
    {
     "name": "stderr",
     "output_type": "stream",
     "text": [
      " 65%|██████▌   | 1205/1850 [16:41<10:04,  1.07it/s]"
     ]
    },
    {
     "name": "stdout",
     "output_type": "stream",
     "text": [
      "Comentário com problema encontrado: Starting at $100k and making $350k in their 30s? What kind of friends do you have? I’ve been working full time four years and make at the low end of what you’re taking home. You’re doing just fine, don’t sweat it.\n"
     ]
    },
    {
     "name": "stderr",
     "output_type": "stream",
     "text": [
      " 65%|██████▌   | 1206/1850 [16:41<09:15,  1.16it/s]"
     ]
    },
    {
     "name": "stdout",
     "output_type": "stream",
     "text": [
      "Comentário com problema encontrado: Wow you hit the nail on the head. I feel the exact same way as you. Now I’m 37 and a lot of my friends are making 600-1mm+ and damn I get no time off even on vacations checking email. Starting to regret not going the corporate route. Grass is always greener I guess\n"
     ]
    },
    {
     "name": "stderr",
     "output_type": "stream",
     "text": [
      " 65%|██████▌   | 1207/1850 [16:42<09:08,  1.17it/s]"
     ]
    },
    {
     "name": "stdout",
     "output_type": "stream",
     "text": [
      "Comentário com problema encontrado: Owner going on three years now. Also, thirty, I hated climbing the corporate ladder and grinding for 3-6% a year. Dislike being aelf employed due to my occupation never being super stable, one month you have a good prime contractor, three months down the road they aren't paying. Making 65-75k a year, way more stress, way more to deal with. I'm not sure it's worth it anymore.  I'm not sure what to do, I might sell it all and go live in a box in the woods.\n"
     ]
    },
    {
     "name": "stderr",
     "output_type": "stream",
     "text": [
      " 65%|██████▌   | 1211/1850 [16:45<08:28,  1.26it/s]"
     ]
    },
    {
     "name": "stdout",
     "output_type": "stream",
     "text": [
      "Comentário com problema encontrado: I have the opposite problem. I gross $350k & net $100k. But I can’t seem to grow. My business has been the exact same now for like 4 years. Just…ugh.\n"
     ]
    },
    {
     "name": "stderr",
     "output_type": "stream",
     "text": [
      " 66%|██████▌   | 1215/1850 [16:50<12:23,  1.17s/it]"
     ]
    },
    {
     "name": "stdout",
     "output_type": "stream",
     "text": [
      "Comentário com problema encontrado: Totally hear you on this. So many business owners hit that wall where revenue looks impressive, but actual net profits don’t reflect the effort, time, or risk.\n"
     ]
    },
    {
     "name": "stderr",
     "output_type": "stream",
     "text": [
      " 66%|██████▌   | 1216/1850 [16:51<11:43,  1.11s/it]"
     ]
    },
    {
     "name": "stdout",
     "output_type": "stream",
     "text": [
      "Comentário com problema encontrado: Yup. After 10yrs, I'm seriously considering closing up shop. I'm a sub contractor for a much larger non emergency transportation business and frankly its awful. 12hr shifts, bonehead upper management, bonehead \"coworkers\", bonehead dispatchers who change more often than I change my aocks. Decisions that greatly affect my business and profits being made by the parent company. Expected to be available at all hours. Staffing issues, policy issues. Just last week a new \"policy\" came into effect with billing. Essentially the company is trying to do damage control now that their years of poor customer service and very high staff turnover has caught up to them. More smaller competitors are creeping in and taking business. The solution? Give major discounts and cuts to the contracts with billing that trickles down to me.  Last week alone, I lost $1000+ in revenue doing the exact same amount of work as the week before. \n"
     ]
    },
    {
     "name": "stderr",
     "output_type": "stream",
     "text": [
      " 66%|██████▌   | 1219/1850 [16:53<09:48,  1.07it/s]"
     ]
    },
    {
     "name": "stdout",
     "output_type": "stream",
     "text": [
      "Comentário com problema encontrado: I just yelled at myself yesterday for choosing the smb path that I’ve been on since 2013.\n"
     ]
    },
    {
     "name": "stderr",
     "output_type": "stream",
     "text": [
      " 66%|██████▌   | 1221/1850 [16:55<08:31,  1.23it/s]"
     ]
    },
    {
     "name": "stdout",
     "output_type": "stream",
     "text": [
      "Comentário com problema encontrado: As a person who’s always worked for the man, it’s soul crushing torture. Always abuse. Always.\n"
     ]
    },
    {
     "name": "stderr",
     "output_type": "stream",
     "text": [
      " 66%|██████▌   | 1223/1850 [16:57<10:27,  1.00s/it]"
     ]
    },
    {
     "name": "stdout",
     "output_type": "stream",
     "text": [
      "Comentário com problema encontrado: I’m a one man band in a service industry, where others undercut each other. I’d be happy with 50k profit rn\n"
     ]
    },
    {
     "name": "stderr",
     "output_type": "stream",
     "text": [
      " 66%|██████▌   | 1224/1850 [16:58<09:42,  1.08it/s]"
     ]
    },
    {
     "name": "stdout",
     "output_type": "stream",
     "text": [
      "Comentário com problema encontrado: Been self employed for over 7 years, nothing beats the freedom on the good years, nobody can relate to the lack thereof on the bad years. It helps if you love what you do.\n"
     ]
    },
    {
     "name": "stderr",
     "output_type": "stream",
     "text": [
      " 66%|██████▌   | 1225/1850 [16:59<08:53,  1.17it/s]"
     ]
    },
    {
     "name": "stdout",
     "output_type": "stream",
     "text": [
      "Comentário com problema encontrado: I felt that way for a long time. I had a small business before Covid for 7 years and had to liquidate everything. It honestly was the root lifting soul crushing experience I needed to realize I was busting my ass for pennies. The American dream is dead for entrepreneurs who don’t want to run a subway franchise. I now have one of those $100k jobs and man, my stress level is way tf down. I was always working about making payroll and insurance. No worries anymore. Just clock in and clock out. I hate to say it but it’s better on the other side. I wish it wasn’t.\n"
     ]
    },
    {
     "name": "stderr",
     "output_type": "stream",
     "text": [
      " 66%|██████▋   | 1226/1850 [17:00<08:56,  1.16it/s]"
     ]
    },
    {
     "name": "stdout",
     "output_type": "stream",
     "text": [
      "Comentário com problema encontrado: Literally had a breakdown yesterday and said this exact thing. Honestly I'm sick of it\n"
     ]
    },
    {
     "name": "stderr",
     "output_type": "stream",
     "text": [
      " 66%|██████▋   | 1227/1850 [17:00<09:13,  1.13it/s]"
     ]
    },
    {
     "name": "stdout",
     "output_type": "stream",
     "text": [
      "Comentário com problema encontrado: Totally get it. Some days it feels like we’re just willingly signing up for chaos. I’ve had those 3am “what am I doing?” moments more than once. But then there’s that random win or happy customer that pulls you back in. What’s been keeping you going lately?\n"
     ]
    },
    {
     "name": "stderr",
     "output_type": "stream",
     "text": [
      " 66%|██████▋   | 1228/1850 [17:01<09:19,  1.11it/s]"
     ]
    },
    {
     "name": "stdout",
     "output_type": "stream",
     "text": [
      "Comentário com problema encontrado: I feel the same sometimes. My friends all went corporate and I wanted to be an actor.  Now I’m an actor, and a stunt man, and a set painter, sculptor and handyman. Whatever it takes to make some money. I make $100-$150/yr working my ass off. My corporate friends are now making $250+ and actually work like 10 hours a week 🤣\n"
     ]
    },
    {
     "name": "stderr",
     "output_type": "stream",
     "text": [
      " 67%|██████▋   | 1231/1850 [17:04<08:32,  1.21it/s]"
     ]
    },
    {
     "name": "stdout",
     "output_type": "stream",
     "text": [
      "Comentário com problema encontrado: Wow 😲. That sounds great to me. I can’t even find a job. I’m leaving tech now and venturing out on my own. So many of my friends have gotten laid off. 🤷‍♂️\n"
     ]
    },
    {
     "name": "stderr",
     "output_type": "stream",
     "text": [
      " 67%|██████▋   | 1232/1850 [17:04<08:00,  1.29it/s]"
     ]
    },
    {
     "name": "stdout",
     "output_type": "stream",
     "text": [
      "Comentário com problema encontrado: You likely are pricing too low/not accurately estimating costs, not having business pay for legit expenses.  Nonetheless, at 30 youve beaten the odds! Had the courage to start and be profitable.  And you have a platform to continue to improve the business for the rest of your life, sell it, etc. \n"
     ]
    },
    {
     "name": "stderr",
     "output_type": "stream",
     "text": [
      " 67%|██████▋   | 1233/1850 [17:05<07:57,  1.29it/s]"
     ]
    },
    {
     "name": "stdout",
     "output_type": "stream",
     "text": [
      "Comentário com problema encontrado: A close friend of mine got hit by a car and died this year. Another got cancer and died very quickly. Do what you can to make some money and be happy, but ultimately no one will care about an extra zero at your funeral.\n"
     ]
    },
    {
     "name": "stderr",
     "output_type": "stream",
     "text": [
      " 67%|██████▋   | 1236/1850 [17:08<08:07,  1.26it/s]"
     ]
    },
    {
     "name": "stdout",
     "output_type": "stream",
     "text": [
      "Comentário com problema encontrado: 350k is an insane amount of money. My entire extended family would have to pool salaries for that. Your friends are out of reach of ... like most normal people and all middle people and all\n",
      "Poor people.\n"
     ]
    },
    {
     "name": "stderr",
     "output_type": "stream",
     "text": [
      " 67%|██████▋   | 1240/1850 [17:11<08:23,  1.21it/s]"
     ]
    },
    {
     "name": "stdout",
     "output_type": "stream",
     "text": [
      "Comentário com problema encontrado: Your friends hate their job and you'll never be able to work for a company again. You wouldn't put up with the bullshit and lack of autonomy.  You're very young. Your business is young. Keep going. Keep your clients and employees happy. And never pay yourself less than $100K. You can do it. But what you can't do is start working for someone else. You won't be happy. The first time some clueless middle manager with less intelligence and less business insight than you micro-manages you, you will lose your mind.\n"
     ]
    },
    {
     "name": "stderr",
     "output_type": "stream",
     "text": [
      " 67%|██████▋   | 1245/1850 [17:16<09:24,  1.07it/s]"
     ]
    },
    {
     "name": "stdout",
     "output_type": "stream",
     "text": [
      "Comentário com problema encontrado: This hit hard. It’s wild how much weight we carry chasing something that once felt like freedom, only to end up questioning if it was worth the cost. You’re definitely not alone—so many founders I know have these exact thoughts, especially after a few tough years. Respect for being honest here. Hope that growth idea lights a new spark.\n"
     ]
    },
    {
     "name": "stderr",
     "output_type": "stream",
     "text": [
      " 68%|██████▊   | 1249/1850 [17:19<08:17,  1.21it/s]"
     ]
    },
    {
     "name": "stdout",
     "output_type": "stream",
     "text": [
      "Comentário com problema encontrado: Honestly, this is one of the realest posts I’ve seen. That space between “looks successful on paper” and “feels like I’m barely hanging on” is where a lot of founders quietly live. You’re not doing anything wrong, you’re just in that messy middle where growth costs more than it pays, and survival depends on timing and luck just as much as skill.\n"
     ]
    },
    {
     "name": "stderr",
     "output_type": "stream",
     "text": [
      " 68%|██████▊   | 1257/1850 [17:27<08:58,  1.10it/s]"
     ]
    },
    {
     "name": "stdout",
     "output_type": "stream",
     "text": [
      "Comentário com problema encontrado: Yes.  Every day.  I work harder than most people I know with less to show for it.  I need to interact with people to sell my product, but people drain me.  So it’s a constant inner battle of immersion/isolation.  I’m also in my 30s and it feels sort of daunting at times to think about the next 30 years.  I’ve been in business for myself since I was a kid so I feel like I’ve put in enough work to be nearing retirement and yet I still have so many years ahead of me.  You’re not alone.\n"
     ]
    },
    {
     "name": "stderr",
     "output_type": "stream",
     "text": [
      " 68%|██████▊   | 1258/1850 [17:27<08:39,  1.14it/s]"
     ]
    },
    {
     "name": "stdout",
     "output_type": "stream",
     "text": [
      "Comentário com problema encontrado: I feel this but know I'd eventually lose my mind working for someone else.\n"
     ]
    },
    {
     "name": "stderr",
     "output_type": "stream",
     "text": [
      " 68%|██████▊   | 1260/1850 [17:29<08:07,  1.21it/s]"
     ]
    },
    {
     "name": "stdout",
     "output_type": "stream",
     "text": [
      "Comentário com problema encontrado: Been on both sides, and it’s dangerous over here.\n"
     ]
    },
    {
     "name": "stderr",
     "output_type": "stream",
     "text": [
      " 68%|██████▊   | 1261/1850 [17:30<07:34,  1.29it/s]"
     ]
    },
    {
     "name": "stdout",
     "output_type": "stream",
     "text": [
      "Comentário com problema encontrado: Definitely. Have to mortgage the house every 10 years to make payroll. Then in good years, every employee bitches it’s been three years since their raise. Three employees make more than me when averaging out. It’s exhausting.\n"
     ]
    },
    {
     "name": "stderr",
     "output_type": "stream",
     "text": [
      " 68%|██████▊   | 1262/1850 [17:30<07:19,  1.34it/s]"
     ]
    },
    {
     "name": "stdout",
     "output_type": "stream",
     "text": [
      "Comentário com problema encontrado: Well I’m no expert here but if your gross is 1.5-2m your netting 50-100k at 4 hours a day and it’s automated which possibly means no employees but some sort of underlying fees to automate I wish we had more input about this because something is definitely wrong if your established reputable and underpriced have you looked into reaching out to others in your field ? I know not everyone shares specifics but when new business establish in my field of work I definitely give them advice as my area of operations is absolutely necessary and is widely dependent on among the agricultural community\n"
     ]
    },
    {
     "name": "stderr",
     "output_type": "stream",
     "text": [
      " 68%|██████▊   | 1263/1850 [17:31<07:27,  1.31it/s]"
     ]
    },
    {
     "name": "stdout",
     "output_type": "stream",
     "text": [
      "Comentário com problema encontrado: Kinda same, revenue is much smaller => profit is smaller accordingly. Ecommerce website. Yes, it sucks from one end. \n"
     ]
    },
    {
     "name": "stderr",
     "output_type": "stream",
     "text": [
      " 69%|██████▊   | 1268/1850 [17:35<07:32,  1.29it/s]"
     ]
    },
    {
     "name": "stdout",
     "output_type": "stream",
     "text": [
      "Comentário com problema encontrado: 5% profit is not great , def need to either raise price or lower expenses \n"
     ]
    },
    {
     "name": "stderr",
     "output_type": "stream",
     "text": [
      " 69%|██████▊   | 1270/1850 [17:37<07:57,  1.21it/s]"
     ]
    },
    {
     "name": "stdout",
     "output_type": "stream",
     "text": [
      "Comentário com problema encontrado: Buy another business. Double income. Same headache. I can cover your down payment if wanted\n"
     ]
    },
    {
     "name": "stderr",
     "output_type": "stream",
     "text": [
      " 69%|██████▉   | 1274/1850 [17:41<08:03,  1.19it/s]"
     ]
    },
    {
     "name": "stdout",
     "output_type": "stream",
     "text": [
      "Comentário com problema encontrado: Have you thought about scaling? What is holding you back? Sounds like you lost your purpose/drive and are stuck. Find what motivated you to start in the first place and start dreaming even bigger to get that itch back\n"
     ]
    },
    {
     "name": "stderr",
     "output_type": "stream",
     "text": [
      " 69%|██████▉   | 1275/1850 [17:42<07:51,  1.22it/s]"
     ]
    },
    {
     "name": "stdout",
     "output_type": "stream",
     "text": [
      "Comentário com problema encontrado: Optimize. Hire. Scale. Repeat. Possibly even acquire. Don’t get stuck at this stage and just throw your hands up. Believe me the comfortability you’re seeing on the other side of the fence is not so green like it may look. It can be an unforgiving prison.\n"
     ]
    },
    {
     "name": "stderr",
     "output_type": "stream",
     "text": [
      " 69%|██████▉   | 1276/1850 [17:43<08:28,  1.13it/s]"
     ]
    },
    {
     "name": "stdout",
     "output_type": "stream",
     "text": [
      "Comentário com problema encontrado: I feel you. I wish I didn’t enjoy work where I have to put my body through a meat grinder. I wish I could sit at a desk and do mindless paperwork for 40 years and make good money.\n"
     ]
    },
    {
     "name": "stderr",
     "output_type": "stream",
     "text": [
      " 69%|██████▉   | 1277/1850 [17:43<07:47,  1.23it/s]"
     ]
    },
    {
     "name": "stdout",
     "output_type": "stream",
     "text": [
      "Comentário com problema encontrado: Yeah man, I feel this hard. People glamorize owning a biz but don’t see the stress, risk, or how lonely it gets. Hope that growth idea hits tho—sometimes those wild ones change everything.\n"
     ]
    },
    {
     "name": "stderr",
     "output_type": "stream",
     "text": [
      " 69%|██████▉   | 1278/1850 [17:44<07:15,  1.31it/s]"
     ]
    },
    {
     "name": "stdout",
     "output_type": "stream",
     "text": [
      "Comentário com problema encontrado: Try running a small business in Canada. With tariffs and minimum wage increases on the daily. Profits are getting thin. Government almost take 40% in taxes.\n"
     ]
    },
    {
     "name": "stderr",
     "output_type": "stream",
     "text": [
      " 69%|██████▉   | 1281/1850 [17:46<07:15,  1.31it/s]"
     ]
    },
    {
     "name": "stdout",
     "output_type": "stream",
     "text": [
      "Comentário com problema encontrado: Diamond hands. But fr, I'm simultaneously running new ads, doing proposals and interviewing for jobs.\n"
     ]
    },
    {
     "name": "stderr",
     "output_type": "stream",
     "text": [
      " 69%|██████▉   | 1283/1850 [17:48<08:12,  1.15it/s]"
     ]
    },
    {
     "name": "stdout",
     "output_type": "stream",
     "text": [
      "Comentário com problema encontrado: The grass isn’t greener on the other side.  Have you reached out to a consultant or someone you trust to take a look at your business model and make suggestions ?\n"
     ]
    },
    {
     "name": "stderr",
     "output_type": "stream",
     "text": [
      " 69%|██████▉   | 1284/1850 [17:49<08:27,  1.12it/s]"
     ]
    },
    {
     "name": "stdout",
     "output_type": "stream",
     "text": [
      "Comentário com problema encontrado: Man I just sold a company I built for 23 years and I have worked for the Buyer for one year (so far).  It hasn’t been bad but I already see the future after my three year workout contract is final.  I am buying another business in two months.  I don’t think I can work for anyone else.  I just had to get rid of my longest tenured employee.  She had been with my company since 1978.  The year before I was born.  They knew she could not learn the new technology on the way and saw her age being a factor.\n"
     ]
    },
    {
     "name": "stderr",
     "output_type": "stream",
     "text": [
      " 69%|██████▉   | 1285/1850 [17:50<08:10,  1.15it/s]"
     ]
    },
    {
     "name": "stdout",
     "output_type": "stream",
     "text": [
      "Comentário com problema encontrado: I was a business owner all of my 20s! No other job than that. Although I did make more than my family and friends, I got burnt out and took a year off doing basically nothing. I just turned 30 and my plan is to get my Masters then Law School! I don’t regret being a business owner at all. I think I’ll be an entrepreneur forever but you do need to pivot at times!\n"
     ]
    },
    {
     "name": "stderr",
     "output_type": "stream",
     "text": [
      " 70%|██████▉   | 1286/1850 [17:51<08:11,  1.15it/s]"
     ]
    },
    {
     "name": "stdout",
     "output_type": "stream",
     "text": [
      "Comentário com problema encontrado: No, because I was the one who went to college to pursue engineering because my mom suggested it. Nobody knows what the heck they’re doing. Grass is always greener? Well, corporate sucks. They don’t care if you have a family.. they don’t care if the weather sucks and you die getting to work. At least with working for ourselves we can expand and find other ways to bring in more. I’m glad to see you are thinking of growth ideas. Working for yourself is way more exciting. Then you are just disappointing yourself and not your boss. haha\n"
     ]
    },
    {
     "name": "stderr",
     "output_type": "stream",
     "text": [
      " 70%|██████▉   | 1289/1850 [17:54<08:29,  1.10it/s]"
     ]
    },
    {
     "name": "stdout",
     "output_type": "stream",
     "text": [
      "Comentário com problema encontrado: Sounds like you're in a rough spot because you have an issue with your business model/execution. \n"
     ]
    },
    {
     "name": "stderr",
     "output_type": "stream",
     "text": [
      " 70%|███████   | 1301/1850 [18:06<09:25,  1.03s/it]"
     ]
    },
    {
     "name": "stdout",
     "output_type": "stream",
     "text": [
      "Comentário com problema encontrado: Look at your expenses. Then look over them again. Then obsess over them. \n"
     ]
    },
    {
     "name": "stderr",
     "output_type": "stream",
     "text": [
      " 71%|███████   | 1311/1850 [18:14<07:04,  1.27it/s]"
     ]
    },
    {
     "name": "stdout",
     "output_type": "stream",
     "text": [
      "Comentário com problema encontrado: Figure out why your net fluctuates from 50k to 200k on a given year and find ways to make that more stable. \n"
     ]
    },
    {
     "name": "stderr",
     "output_type": "stream",
     "text": [
      " 71%|███████   | 1314/1850 [18:17<08:13,  1.09it/s]"
     ]
    },
    {
     "name": "stdout",
     "output_type": "stream",
     "text": [
      "Comentário com problema encontrado: It sounds like it’s time to come up with a new business plan! What are the projections you have in your plan? Do they match the actual numbers? 50k to 100k or sometimes 200k isn’t just a little different, that’s a 300% difference in some years!! Spend sometime looking at the differences between those years and recreate the successes in the 200k year, and avoid the mistakes made in the 50k years. \n"
     ]
    },
    {
     "name": "stderr",
     "output_type": "stream",
     "text": [
      " 71%|███████   | 1315/1850 [18:18<07:35,  1.18it/s]"
     ]
    },
    {
     "name": "stdout",
     "output_type": "stream",
     "text": [
      "Comentário com problema encontrado: brother if you have a 'black swan' event annually, that is no longer a black swan event, you have tangible issues that need solving in your business\n"
     ]
    },
    {
     "name": "stderr",
     "output_type": "stream",
     "text": [
      " 71%|███████   | 1316/1850 [18:18<06:52,  1.29it/s]"
     ]
    },
    {
     "name": "stdout",
     "output_type": "stream",
     "text": [
      "Comentário com problema encontrado: Your feelings are valid, and your questions are things that every business owner askes themselves regularly. It's a very healthy mindset; thought it sure feels frustrating when you are in it. My business partner (and wife) have this conversation every few months.  Here's how we address it. Identify where you are; Decide where you want to be; make the necessary changes to get there; look back in a few months and see if you are heading in the right direction.\n"
     ]
    },
    {
     "name": "stderr",
     "output_type": "stream",
     "text": [
      " 72%|███████▏  | 1323/1850 [18:25<07:43,  1.14it/s]"
     ]
    },
    {
     "name": "stdout",
     "output_type": "stream",
     "text": [
      "Comentário com problema encontrado: You’ve got too many overheads/fixed costs. What’s your business? E-commerce/service based?\n"
     ]
    },
    {
     "name": "stderr",
     "output_type": "stream",
     "text": [
      " 72%|███████▏  | 1326/1850 [18:28<08:33,  1.02it/s]"
     ]
    },
    {
     "name": "stdout",
     "output_type": "stream",
     "text": [
      "Comentário com problema encontrado: Sell it while it's still worth something\n"
     ]
    },
    {
     "name": "stderr",
     "output_type": "stream",
     "text": [
      " 72%|███████▏  | 1328/1850 [18:29<07:34,  1.15it/s]"
     ]
    },
    {
     "name": "stdout",
     "output_type": "stream",
     "text": [
      "Comentário com problema encontrado: Because working for other people sucks, especially in corporate America.  \n"
     ]
    },
    {
     "name": "stderr",
     "output_type": "stream",
     "text": [
      " 72%|███████▏  | 1330/1850 [18:31<07:52,  1.10it/s]"
     ]
    },
    {
     "name": "stdout",
     "output_type": "stream",
     "text": [
      "Comentário com problema encontrado: I took a salary from my business inevitable, I had some expenses that I personally had to cover. So, instead of saving money, I kept my business going. 40 years I was up & down. It looked good from the outside, but I knew there were holes in the dike. \n"
     ]
    },
    {
     "name": "stderr",
     "output_type": "stream",
     "text": [
      " 72%|███████▏  | 1331/1850 [18:32<07:46,  1.11it/s]"
     ]
    },
    {
     "name": "stdout",
     "output_type": "stream",
     "text": [
      "Comentário com problema encontrado: Marketing budgets are first to go when recession or downturn hits (already here imo)\n"
     ]
    },
    {
     "name": "stderr",
     "output_type": "stream",
     "text": [
      " 72%|███████▏  | 1332/1850 [18:33<07:25,  1.16it/s]"
     ]
    },
    {
     "name": "stdout",
     "output_type": "stream",
     "text": [
      "Comentário com problema encontrado: I do feel similarly man. I get it. What you wrote resonated with me. I just keep trying to power through each year. Best of luck brother!\n"
     ]
    },
    {
     "name": "stderr",
     "output_type": "stream",
     "text": [
      " 72%|███████▏  | 1333/1850 [18:34<07:38,  1.13it/s]"
     ]
    },
    {
     "name": "stdout",
     "output_type": "stream",
     "text": [
      "Comentário com problema encontrado: The grass is always greener.  The people are the big companies live in fear they will be laid off for the shareholders.\n"
     ]
    },
    {
     "name": "stderr",
     "output_type": "stream",
     "text": [
      " 72%|███████▏  | 1334/1850 [18:35<07:18,  1.18it/s]"
     ]
    },
    {
     "name": "stdout",
     "output_type": "stream",
     "text": [
      "Comentário com problema encontrado: I'd be happy clearing 100k. I'm at a bit over 5 years and not doing that. I can't seem to crest that point of making enough to hire someone or add more significant growth.\n"
     ]
    },
    {
     "name": "stderr",
     "output_type": "stream",
     "text": [
      " 72%|███████▏  | 1337/1850 [18:40<11:39,  1.36s/it]"
     ]
    },
    {
     "name": "stdout",
     "output_type": "stream",
     "text": [
      "Comentário com problema encontrado: Yeah-me too I’m in a weird niche.  Small staff.  I pay myself  less than other  employees mainly to keep payroll taxes and other expenses down .  Occasionally take  distribution. But even then make little .  Lots of risk on the table esp now with tariff and economic uncertainties.\n"
     ]
    },
    {
     "name": "stderr",
     "output_type": "stream",
     "text": [
      " 72%|███████▏  | 1338/1850 [18:43<17:37,  2.06s/it]"
     ]
    },
    {
     "name": "stdout",
     "output_type": "stream",
     "text": [
      "Comentário com problema encontrado: What happens if you dump the 100k events? \n",
      "That's too much to spend at your current level.\n"
     ]
    },
    {
     "name": "stderr",
     "output_type": "stream",
     "text": [
      " 72%|███████▏  | 1341/1850 [18:49<14:48,  1.75s/it]"
     ]
    },
    {
     "name": "stdout",
     "output_type": "stream",
     "text": [
      "Comentário com problema encontrado: Ok so you cut your expenses in half - think about what that actually means for a sec. If your margins are about 5% now and you cut expenses by half, you were literally LOSING MONEY before. That's not even mediocre business management, that's below market survival.\n"
     ]
    },
    {
     "name": "stderr",
     "output_type": "stream",
     "text": [
      " 73%|███████▎  | 1342/1850 [18:50<13:00,  1.54s/it]"
     ]
    },
    {
     "name": "stdout",
     "output_type": "stream",
     "text": [
      "Comentário com problema encontrado: Same here, though I left the corporate hustle after working there for 25 years. Believe me, the feelings come up daily with sunrise and get so busy that I forget about it. next day, rinse and repeat. start saving little amounts and invest elsewhere such as etfs. at some point the pressure will ease though the hustle might continue.\n"
     ]
    },
    {
     "name": "stderr",
     "output_type": "stream",
     "text": [
      " 73%|███████▎  | 1343/1850 [18:51<11:29,  1.36s/it]"
     ]
    },
    {
     "name": "stdout",
     "output_type": "stream",
     "text": [
      "Comentário com problema encontrado: Man, that’s the struggle so many of us know too well. You risk everything chasing a dream, but sometimes it feels like the corporate friends are winning the money game. Still, you built something real—can’t take that away.\n"
     ]
    },
    {
     "name": "stderr",
     "output_type": "stream",
     "text": [
      " 73%|███████▎  | 1344/1850 [18:52<09:39,  1.15s/it]"
     ]
    },
    {
     "name": "stdout",
     "output_type": "stream",
     "text": [
      "Comentário com problema encontrado: those of us with ADHD get bored in corporate america. better to manage the SMB chaos and control your own destiny.\n"
     ]
    },
    {
     "name": "stderr",
     "output_type": "stream",
     "text": [
      " 73%|███████▎  | 1345/1850 [18:52<08:35,  1.02s/it]"
     ]
    },
    {
     "name": "stdout",
     "output_type": "stream",
     "text": [
      "Comentário com problema encontrado: Listen, I get it. The past year in particular has been a **** show. I'm still heavy in startup mode but my co-founder and I are both burnt out to the point of job searching for the plot. Every interview I take, I remember that I hate working for other—largely mediocre—people who will never value me the way I value myself. It keeps me running.\n"
     ]
    },
    {
     "name": "stderr",
     "output_type": "stream",
     "text": [
      " 73%|███████▎  | 1347/1850 [18:54<07:54,  1.06it/s]"
     ]
    },
    {
     "name": "stdout",
     "output_type": "stream",
     "text": [
      "Comentário com problema encontrado: you possibly have more income security that corporate job's income. anyone can get fired/laid off at any given minute and corporate jobs are getting harder to get. this is reality nowadays. some jobs are getting wiped out pretty rapidly and steadily with the ai. creative, some financials, hr, low level office workers in all industries going first. grass is usually greener on the other side but reality is where you water it most.\n"
     ]
    },
    {
     "name": "stderr",
     "output_type": "stream",
     "text": [
      " 73%|███████▎  | 1350/1850 [18:57<07:27,  1.12it/s]"
     ]
    },
    {
     "name": "stdout",
     "output_type": "stream",
     "text": [
      "Comentário com problema encontrado: Man, I felt this deep. I’ve been down the same road chasing freedom and ending up with stress, payroll, and the realisation that “owning a business” can feel like owning a job with worse hours.\n"
     ]
    },
    {
     "name": "stderr",
     "output_type": "stream",
     "text": [
      " 74%|███████▎  | 1363/1850 [19:09<07:54,  1.03it/s]"
     ]
    },
    {
     "name": "stdout",
     "output_type": "stream",
     "text": [
      "Comentário com problema encontrado: We used to own a couple of wildly successful gyms.  We sold after I was diagnosed with cancer and couldn’t physically work.  My husband was already working on his doctorate so he’s a professor at a D1 and I’m ‘retired’.  \n"
     ]
    },
    {
     "name": "stderr",
     "output_type": "stream",
     "text": [
      " 74%|███████▎  | 1364/1850 [19:09<07:04,  1.15it/s]"
     ]
    },
    {
     "name": "stdout",
     "output_type": "stream",
     "text": [
      "Comentário com problema encontrado: 690k would be enough for you to go work a job where you are happy every day and use that to cover some of the shortfall of the pay drop. Thats it. You aren’t retiring in the US on 700k. Maybe Thailand.\n"
     ]
    },
    {
     "name": "stderr",
     "output_type": "stream",
     "text": [
      " 74%|███████▍  | 1365/1850 [19:10<07:25,  1.09it/s]"
     ]
    },
    {
     "name": "stdout",
     "output_type": "stream",
     "text": [
      "Comentário com problema encontrado: $690k is nowhere near enough to retire. I would have a solid plan before pulling the trigger on a sale. Unless of course you have other assets to see you through. \n"
     ]
    },
    {
     "name": "stderr",
     "output_type": "stream",
     "text": [
      " 74%|███████▍  | 1366/1850 [19:11<07:22,  1.09it/s]"
     ]
    },
    {
     "name": "stdout",
     "output_type": "stream",
     "text": [
      "Comentário com problema encontrado: $690 is pre-tax. Taxes can be surprisingly high, especially state capital gains.\n"
     ]
    },
    {
     "name": "stderr",
     "output_type": "stream",
     "text": [
      " 74%|███████▍  | 1367/1850 [19:12<06:53,  1.17it/s]"
     ]
    },
    {
     "name": "stdout",
     "output_type": "stream",
     "text": [
      "Comentário com problema encontrado: I sold my business less than 2 years ago. Prior to selling, I had already transitioned into commercial real estate investments as my primary source of income.  I’ve since added other passive investments as well.  When I’m not busy doing investment research, I’m bored and miserable.  I’m your age and my few friends either moved away or are busy working.  I used to be able to chat with my co-workers, but now I sit around the house during the work day.\n"
     ]
    },
    {
     "name": "stderr",
     "output_type": "stream",
     "text": [
      " 74%|███████▍  | 1369/1850 [19:13<06:26,  1.24it/s]"
     ]
    },
    {
     "name": "stdout",
     "output_type": "stream",
     "text": [
      "Comentário com problema encontrado: I sold my business, and work in the same field. I was very burned out at the time, and I work 8hrs/day now and have no stress. I still mostly have creative control of what I do, provided I hit targets and good pay/benefits but no real upward mobility.  It's been a tradeoff for sure, and I find myself missing what I used to do and being a little bored. My personal life is in a much healthier place. I will likely start a new project within a few years, but the break has been necessary for me.\n"
     ]
    },
    {
     "name": "stderr",
     "output_type": "stream",
     "text": [
      " 74%|███████▍  | 1371/1850 [19:15<06:29,  1.23it/s]"
     ]
    },
    {
     "name": "stdout",
     "output_type": "stream",
     "text": [
      "Comentário com problema encontrado: Became a mailman.  I sold at 40 and by 42 I was fat.\n"
     ]
    },
    {
     "name": "stderr",
     "output_type": "stream",
     "text": [
      " 74%|███████▍  | 1377/1850 [19:21<07:26,  1.06it/s]"
     ]
    },
    {
     "name": "stdout",
     "output_type": "stream",
     "text": [
      "Comentário com problema encontrado: I was hired as management for the company for two years and Is near complete this coming October. I don’t know If want to continue after that as I sold the business because I was tired of the business. I am In the same position as you are and trying to see what I feel like doing next as I been doing the same job for 32 years.\n"
     ]
    },
    {
     "name": "stderr",
     "output_type": "stream",
     "text": [
      " 75%|███████▍  | 1379/1850 [19:22<07:14,  1.08it/s]"
     ]
    },
    {
     "name": "stdout",
     "output_type": "stream",
     "text": [
      "Comentário com problema encontrado: Burnt me out after 15 years, sold and work part time for them. Way less stressed off my shoulders.\n"
     ]
    },
    {
     "name": "stderr",
     "output_type": "stream",
     "text": [
      " 75%|███████▍  | 1383/1850 [19:26<07:02,  1.11it/s]"
     ]
    },
    {
     "name": "stdout",
     "output_type": "stream",
     "text": [
      "Comentário com problema encontrado: Get a job as a ramp agent with an airline (not a vendor). You get health care and you and your family get to fly free! The pay sucks but the benefits are sweet!\n"
     ]
    },
    {
     "name": "stderr",
     "output_type": "stream",
     "text": [
      " 75%|███████▌  | 1394/1850 [19:36<06:59,  1.09it/s]"
     ]
    },
    {
     "name": "stdout",
     "output_type": "stream",
     "text": [
      "Comentário com problema encontrado: I don't do anything,  I wish I did though\n"
     ]
    },
    {
     "name": "stderr",
     "output_type": "stream",
     "text": [
      " 76%|███████▌  | 1398/1850 [19:40<07:21,  1.02it/s]"
     ]
    },
    {
     "name": "stdout",
     "output_type": "stream",
     "text": [
      "Comentário com problema encontrado: Following this thread. I'm just looking for peace and quiet. I'll take a month off and then apply for office jobs in my old field. I'm a bit younger than you, but the reason I'm selling is I'm burnout. \n"
     ]
    },
    {
     "name": "stderr",
     "output_type": "stream",
     "text": [
      " 76%|███████▌  | 1399/1850 [19:41<06:50,  1.10it/s]"
     ]
    },
    {
     "name": "stdout",
     "output_type": "stream",
     "text": [
      "Comentário com problema encontrado: Hire a solid operations person make half as much and continue to operate your business with less work and less compensation\n"
     ]
    },
    {
     "name": "stderr",
     "output_type": "stream",
     "text": [
      " 76%|███████▌  | 1406/1850 [19:47<06:02,  1.23it/s]"
     ]
    },
    {
     "name": "stdout",
     "output_type": "stream",
     "text": [
      "Comentário com problema encontrado: If you are thinking of getting or ever needing a loan for anything do it now. Having a small size pile of cash and no income stream makes it much more difficult if not impossible. \n"
     ]
    },
    {
     "name": "stderr",
     "output_type": "stream",
     "text": [
      " 76%|███████▌  | 1407/1850 [19:47<05:29,  1.34it/s]"
     ]
    },
    {
     "name": "stdout",
     "output_type": "stream",
     "text": [
      "Comentário com problema encontrado: A lot of oddly off-base comments here, but reading between the lines you're burned out. I felt the same way when I closed my first business (which I ran for 13 years).\n"
     ]
    },
    {
     "name": "stderr",
     "output_type": "stream",
     "text": [
      " 76%|███████▌  | 1410/1850 [19:50<06:03,  1.21it/s]"
     ]
    },
    {
     "name": "stdout",
     "output_type": "stream",
     "text": [
      "Comentário com problema encontrado: I’m in a similar boat. I’m 31 and will be selling my business next month for just shy of 1M. I currently work around 90 hours a week and have done that for the last 7 years\n"
     ]
    },
    {
     "name": "stderr",
     "output_type": "stream",
     "text": [
      " 76%|███████▋  | 1412/1850 [19:52<06:23,  1.14it/s]"
     ]
    },
    {
     "name": "stdout",
     "output_type": "stream",
     "text": [
      "Comentário com problema encontrado: What kind of business is it? Biz brokers provide valuations all the time. Deal structures and taxes can take a huge chunk of that 690k...\n"
     ]
    },
    {
     "name": "stderr",
     "output_type": "stream",
     "text": [
      " 76%|███████▋  | 1414/1850 [19:54<06:22,  1.14it/s]"
     ]
    },
    {
     "name": "stdout",
     "output_type": "stream",
     "text": [
      "Comentário com problema encontrado: Got into tech sales at the perfect time. I was so sick of babysitting people who work for me, and now I’m lucky enough to babysit people buying from me.\n"
     ]
    },
    {
     "name": "stderr",
     "output_type": "stream",
     "text": [
      " 77%|███████▋  | 1419/1850 [19:58<06:21,  1.13it/s]"
     ]
    },
    {
     "name": "stdout",
     "output_type": "stream",
     "text": [
      "Comentário com problema encontrado: Are millennials done with social media, or just tired of the noise?\n"
     ]
    },
    {
     "name": "stderr",
     "output_type": "stream",
     "text": [
      " 77%|███████▋  | 1421/1850 [20:00<05:51,  1.22it/s]"
     ]
    },
    {
     "name": "stdout",
     "output_type": "stream",
     "text": [
      "Comentário com problema encontrado: I stepped back because it prevents me from natural progression in my life when I'm always connected to people who I don't have dealings with anymore. \n"
     ]
    },
    {
     "name": "stderr",
     "output_type": "stream",
     "text": [
      " 77%|███████▋  | 1422/1850 [20:01<06:16,  1.14it/s]"
     ]
    },
    {
     "name": "stdout",
     "output_type": "stream",
     "text": [
      "Comentário com problema encontrado: I feel like social media is getting to be too much. \"You may like this video\", \"You may know these people\", so many ads, so many features we never asked for. Damn, I just want to see moments from the lives of the small group of people I actually care about.\n"
     ]
    },
    {
     "name": "stderr",
     "output_type": "stream",
     "text": [
      " 77%|███████▋  | 1424/1850 [20:02<05:55,  1.20it/s]"
     ]
    },
    {
     "name": "stdout",
     "output_type": "stream",
     "text": [
      "Comentário com problema encontrado: I don’t use it much because I am generally more miserable when I spend a lot of time on it. And generally being tired of constantly being sold items/services/etc. \n"
     ]
    },
    {
     "name": "stderr",
     "output_type": "stream",
     "text": [
      " 77%|███████▋  | 1425/1850 [20:04<07:55,  1.12s/it]"
     ]
    },
    {
     "name": "stdout",
     "output_type": "stream",
     "text": [
      "Comentário com problema encontrado: I miss the internet before algorithms. When people shared blurry photos of their dinner without trying to go viral.\n"
     ]
    },
    {
     "name": "stderr",
     "output_type": "stream",
     "text": [
      " 77%|███████▋  | 1426/1850 [20:05<07:51,  1.11s/it]"
     ]
    },
    {
     "name": "stdout",
     "output_type": "stream",
     "text": [
      "Comentário com problema encontrado: Everyone stopped sharing their lives and it simply became an entertainment platform rather than somewhere to connected with friends. \n"
     ]
    },
    {
     "name": "stderr",
     "output_type": "stream",
     "text": [
      " 77%|███████▋  | 1427/1850 [20:06<07:33,  1.07s/it]"
     ]
    },
    {
     "name": "stdout",
     "output_type": "stream",
     "text": [
      "Comentário com problema encontrado: I used to love being on Tiktok until I realized it was a bunch of dumb stupid trends. I also really hate all the overconsumption I see on that app. People buying 7 different items worth of skin care and makeup just because it's viral. Then 7 different bottles of shampoo cause an influencer hyped them up.\n"
     ]
    },
    {
     "name": "stderr",
     "output_type": "stream",
     "text": [
      " 77%|███████▋  | 1429/1850 [20:08<06:26,  1.09it/s]"
     ]
    },
    {
     "name": "stdout",
     "output_type": "stream",
     "text": [
      "Comentário com problema encontrado: I stopped using my socials about 8 months ago and am so much happier. My reason is because I don’t feel any real value for my time and for the content. Also everything is geared towards money. Like let’s pretend I’m giving you info on wellness tips but really just want to creatively use this to sell you something. I’m tired of being sold and just being a commodity. I’m a person and I want live life unplugged now. I don’t care what other people do any more. I just want to raw dog life from now on. I’ve been over sold and over saturated enough.\n"
     ]
    },
    {
     "name": "stderr",
     "output_type": "stream",
     "text": [
      " 77%|███████▋  | 1430/1850 [20:09<06:10,  1.13it/s]"
     ]
    },
    {
     "name": "stdout",
     "output_type": "stream",
     "text": [
      "Comentário com problema encontrado: For a lot of us, it’s not full burnout it’s just shifting priorities. Life gets fuller: careers, families, mental health, needing real rest. The dopamine rush of likes doesn’t hit the same when you're juggling adulting.\n"
     ]
    },
    {
     "name": "stderr",
     "output_type": "stream",
     "text": [
      " 77%|███████▋  | 1431/1850 [20:10<06:37,  1.06it/s]"
     ]
    },
    {
     "name": "stdout",
     "output_type": "stream",
     "text": [
      "Comentário com problema encontrado: Social media used to be good back before the bullshit algorithms started controlling your feed.\n"
     ]
    },
    {
     "name": "stderr",
     "output_type": "stream",
     "text": [
      " 77%|███████▋  | 1432/1850 [20:10<05:57,  1.17it/s]"
     ]
    },
    {
     "name": "stdout",
     "output_type": "stream",
     "text": [
      "Comentário com problema encontrado: If it wasn’t my job, I would log out and never log in again. But people are paying me good money to be up to date on anything SoMe\n"
     ]
    },
    {
     "name": "stderr",
     "output_type": "stream",
     "text": [
      " 78%|███████▊  | 1434/1850 [20:12<06:07,  1.13it/s]"
     ]
    },
    {
     "name": "stdout",
     "output_type": "stream",
     "text": [
      "Comentário com problema encontrado: I think it’s a bit of both burnout and shifting priorities. Millennials are one of the main groups who were around for the birth of social media as it is today and have really experienced the way it's shifted in real time. For many millennials, that initial excitement wears off when it feels more like work to keep up. That said, people stick around when the platforms still offer genuine connection or useful content like close friends, niche communities, or even hobbies. Stepping back often happens when the stress outweighs the benefits, and some just prefer quality over quantity in their online time as they get older.\n"
     ]
    },
    {
     "name": "stderr",
     "output_type": "stream",
     "text": [
      " 78%|███████▊  | 1435/1850 [20:13<05:45,  1.20it/s]"
     ]
    },
    {
     "name": "stdout",
     "output_type": "stream",
     "text": [
      "Comentário com problema encontrado: I think it’s both. Instagram was my go to, but feels more like a Facebook Snapchat hybrid now. Everyone oversharing and posting more personal life stuff than artsy stuff. With all the changes and a lack of interactions, it’s lost its fun and feels over saturated. Now that I’m older, I have other things to focus on too, so social media is lower on my list, but I was using it for work for a bit as I worked in film. \n"
     ]
    },
    {
     "name": "stderr",
     "output_type": "stream",
     "text": [
      " 78%|███████▊  | 1436/1850 [20:14<05:54,  1.17it/s]"
     ]
    },
    {
     "name": "stdout",
     "output_type": "stream",
     "text": [
      "Comentário com problema encontrado: Stopped using it years ago. I have reddit, discord, and fake Facebook for marketplace. There's no point, really. I call or text relatives if I feel it. It's such a drain and toxic place, especially Facebook, the unhinged political content that gets fed to me and reading the opinion of people on news comment sections just makes me feel drained.\n"
     ]
    },
    {
     "name": "stderr",
     "output_type": "stream",
     "text": [
      " 78%|███████▊  | 1437/1850 [20:15<06:07,  1.12it/s]"
     ]
    },
    {
     "name": "stdout",
     "output_type": "stream",
     "text": [
      "Comentário com problema encontrado: Tired of the garbage…\n"
     ]
    },
    {
     "name": "stderr",
     "output_type": "stream",
     "text": [
      " 78%|███████▊  | 1438/1850 [20:16<06:03,  1.13it/s]"
     ]
    },
    {
     "name": "stdout",
     "output_type": "stream",
     "text": [
      "Comentário com problema encontrado: It’s not the same social media we grew up on. Everything’s pushed from the algorithm, it’s no longer a place to go and connect with people with similar interests.\n"
     ]
    },
    {
     "name": "stderr",
     "output_type": "stream",
     "text": [
      " 78%|███████▊  | 1439/1850 [20:17<06:01,  1.14it/s]"
     ]
    },
    {
     "name": "stdout",
     "output_type": "stream",
     "text": [
      "Comentário com problema encontrado: Social media is boring. It’s either political BS, stupid memes, or bots commenting as humans.\n"
     ]
    },
    {
     "name": "stderr",
     "output_type": "stream",
     "text": [
      " 78%|███████▊  | 1441/1850 [20:18<05:14,  1.30it/s]"
     ]
    },
    {
     "name": "stdout",
     "output_type": "stream",
     "text": [
      "Comentário com problema encontrado: As a millennial, social media gets me anxiety and that's about it, if that answers the question\n"
     ]
    },
    {
     "name": "stderr",
     "output_type": "stream",
     "text": [
      " 78%|███████▊  | 1442/1850 [20:19<05:35,  1.22it/s]"
     ]
    },
    {
     "name": "stdout",
     "output_type": "stream",
     "text": [
      "Comentário com problema encontrado: Its become spam and AI. its just not worth it anymore,  you can't even tell whats real and what isnt.\n"
     ]
    },
    {
     "name": "stderr",
     "output_type": "stream",
     "text": [
      " 78%|███████▊  | 1443/1850 [20:20<05:47,  1.17it/s]"
     ]
    },
    {
     "name": "stdout",
     "output_type": "stream",
     "text": [
      "Comentário com problema encontrado: It’s very hard to filter out the toxic stuff that is on there especially if you are receptive to it.\n"
     ]
    },
    {
     "name": "stderr",
     "output_type": "stream",
     "text": [
      " 78%|███████▊  | 1445/1850 [20:21<05:28,  1.23it/s]"
     ]
    },
    {
     "name": "stdout",
     "output_type": "stream",
     "text": [
      "Comentário com problema encontrado: I was talking to someone today about ICQ... I'd happily go back to those days. Abandoned my social media accounts long ago. Just got tired of everyone being fake and trying to impress each other.\n"
     ]
    },
    {
     "name": "stderr",
     "output_type": "stream",
     "text": [
      " 78%|███████▊  | 1446/1850 [20:22<05:49,  1.16it/s]"
     ]
    },
    {
     "name": "stdout",
     "output_type": "stream",
     "text": [
      "Comentário com problema encontrado: As soon as some governments were dictating and influencing social media platforms, content got generic and superficial, keeping the post of our friends and contacts hidden under distractions and suggestions, I get fed up of all of it.\n"
     ]
    },
    {
     "name": "stderr",
     "output_type": "stream",
     "text": [
      " 78%|███████▊  | 1447/1850 [20:23<06:06,  1.10it/s]"
     ]
    },
    {
     "name": "stdout",
     "output_type": "stream",
     "text": [
      "Comentário com problema encontrado: i deleted all of my social media apps a month ago minus reddit, youtube and messenger. wayy too much stimulus overload. and i’m a 29M who’s career is literally marketing and social media\n"
     ]
    },
    {
     "name": "stderr",
     "output_type": "stream",
     "text": [
      " 78%|███████▊  | 1450/1850 [20:26<05:46,  1.15it/s]"
     ]
    },
    {
     "name": "stdout",
     "output_type": "stream",
     "text": [
      "Comentário com problema encontrado: I quit Twitter/ x cos it stopped being the platform I’d initially signed up for. So many posts are clearly engagement bait to rank up the views/ impressions for monetisation. Interactions are no longer organic there and everyone seems intent to build a ‘brand’.\n"
     ]
    },
    {
     "name": "stderr",
     "output_type": "stream",
     "text": [
      " 78%|███████▊  | 1451/1850 [20:28<07:33,  1.14s/it]"
     ]
    },
    {
     "name": "stdout",
     "output_type": "stream",
     "text": [
      "Comentário com problema encontrado: Great question! I think it’s a bit of both — millennials aren’t done with social media, but many are definitely tired of the noise and endless scroll.\n"
     ]
    },
    {
     "name": "stderr",
     "output_type": "stream",
     "text": [
      " 78%|███████▊  | 1452/1850 [20:28<06:34,  1.01it/s]"
     ]
    },
    {
     "name": "stdout",
     "output_type": "stream",
     "text": [
      "Comentário com problema encontrado: What millennials are done with is these old posts wrapped as new and presented to us as if they are posted now. Old moments on feeds, chronological feeds, 24 hour time limits to enjoy moments or moments staying there forever for anyone to stalk! All millennials  or even Gen Z want is an app that lets them interact in real-time just like we do in real life! Getting to know what friends are up to in the moment!And talking about a topic till we want to and then move on at our own terms. I wish there was an app like that lets us interact like we do IRL! So we are not done with social media, we are just exhausted with the present social media where we are always lagging behind and always catching up when moments become irrelevant rather than living in the moment\n"
     ]
    },
    {
     "name": "stderr",
     "output_type": "stream",
     "text": [
      " 79%|███████▊  | 1454/1850 [20:31<06:55,  1.05s/it]"
     ]
    },
    {
     "name": "stdout",
     "output_type": "stream",
     "text": [
      "Comentário com problema encontrado: Definitely feels like burnout for a lot of us. I stayed, but use it way less now mostly just for close friends of specific interests. The vibe really changed.\n"
     ]
    },
    {
     "name": "stderr",
     "output_type": "stream",
     "text": [
      " 79%|███████▊  | 1455/1850 [20:32<06:54,  1.05s/it]"
     ]
    },
    {
     "name": "stdout",
     "output_type": "stream",
     "text": [
      "Comentário com problema encontrado: I’m tired of “social media” cause it’s not actually social and interactive anymore. It doesn’t actually connect me to people so I’m tired of the noise. I’m stepping back unless it becomes an interactive anonymous experience. Like Reddit?\n"
     ]
    },
    {
     "name": "stderr",
     "output_type": "stream",
     "text": [
      " 79%|███████▉  | 1457/1850 [20:33<05:47,  1.13it/s]"
     ]
    },
    {
     "name": "stdout",
     "output_type": "stream",
     "text": [
      "Comentário com problema encontrado: I’m over it. It’s just a giant shopping mall filled with shit you don’t need.\n"
     ]
    },
    {
     "name": "stderr",
     "output_type": "stream",
     "text": [
      " 79%|███████▉  | 1458/1850 [20:34<06:37,  1.01s/it]"
     ]
    },
    {
     "name": "stdout",
     "output_type": "stream",
     "text": [
      "Comentário com problema encontrado: Once they inflicted influencers and algorithms on us, people got tired of feeling like a product. People just wanted to look each other up and store pictures, not all this nonsense happening now.\n"
     ]
    },
    {
     "name": "stderr",
     "output_type": "stream",
     "text": [
      " 79%|███████▉  | 1459/1850 [20:35<05:56,  1.10it/s]"
     ]
    },
    {
     "name": "stdout",
     "output_type": "stream",
     "text": [
      "Comentário com problema encontrado: I am exhausted by it, but I have to use it for work. 😅\n"
     ]
    },
    {
     "name": "stderr",
     "output_type": "stream",
     "text": [
      " 79%|███████▉  | 1460/1850 [20:36<05:26,  1.19it/s]"
     ]
    },
    {
     "name": "stdout",
     "output_type": "stream",
     "text": [
      "Comentário com problema encontrado: I stepped away as I had a false sense of security that I had all these ‘connections’ but I don’t think many of them would actually make any effort for me or want to catch up for a coffee. Why should they get to see my life? So I don’t use socials and I just text people. I’ve lost some connections with people who didn’t want to move form IG to text, people who I caught up with and considered close friends - but I feel like this gives me the opportunity to make real friendships that don’t rely on being connected by viewing each others stories. I just want real connection. Not fake likes.\n"
     ]
    },
    {
     "name": "stderr",
     "output_type": "stream",
     "text": [
      " 79%|███████▉  | 1463/1850 [20:38<04:45,  1.36it/s]"
     ]
    },
    {
     "name": "stdout",
     "output_type": "stream",
     "text": [
      "Comentário com problema encontrado: Complete and utter waste of time and utterly toxic in terms of self image.\n"
     ]
    },
    {
     "name": "stderr",
     "output_type": "stream",
     "text": [
      " 79%|███████▉  | 1464/1850 [20:38<04:23,  1.46it/s]"
     ]
    },
    {
     "name": "stdout",
     "output_type": "stream",
     "text": [
      "Comentário com problema encontrado: I not so sure why but the feeds are getting worse. The friends post are getting boring. And my post are also getting boring too. There’s nothing interesting happening, if there’s anything I felt a bit fomo. So overall a negative experience.\n"
     ]
    },
    {
     "name": "stderr",
     "output_type": "stream",
     "text": [
      " 79%|███████▉  | 1466/1850 [20:40<05:02,  1.27it/s]"
     ]
    },
    {
     "name": "stdout",
     "output_type": "stream",
     "text": [
      "Comentário com problema encontrado: I think we're tired and more selective of what we put our energy into.\n"
     ]
    },
    {
     "name": "stderr",
     "output_type": "stream",
     "text": [
      " 79%|███████▉  | 1468/1850 [20:42<05:19,  1.20it/s]"
     ]
    },
    {
     "name": "stdout",
     "output_type": "stream",
     "text": [
      "Comentário com problema encontrado: oh! it is such an overwhelming space, sometimes a black hole. \n"
     ]
    },
    {
     "name": "stderr",
     "output_type": "stream",
     "text": [
      " 79%|███████▉  | 1470/1850 [20:44<05:23,  1.17it/s]"
     ]
    },
    {
     "name": "stdout",
     "output_type": "stream",
     "text": [
      "Comentário com problema encontrado: As a millennial, I liked the social media back in the days. Nowadays more social media come with annoying ads. Also, posts / reels / videos mentioning a bunch of affiliate stuff or sponsored stuff per post / reel / video or a couple of sponsored posts / reels / videos per day are too much. Going viral thingy is worthless to me. This kind of thing reminds me of current printed magazines or newspapers. 80% out of 100% per magazine or newspapers contains advertisements. \n"
     ]
    },
    {
     "name": "stderr",
     "output_type": "stream",
     "text": [
      " 80%|███████▉  | 1473/1850 [20:46<05:37,  1.12it/s]"
     ]
    },
    {
     "name": "stdout",
     "output_type": "stream",
     "text": [
      "Comentário com problema encontrado: I deleted it all one day, because the platforms and their hosts have become extremely dystopian. It didn’t feel fun for a long time anymore, and in the end, not really safe either. It’s like withdrawal on one hand, but also like waking up from a long, pointless fever dream of addiction to something that makes you feel connected while making sure you stay isolated.\n"
     ]
    },
    {
     "name": "stderr",
     "output_type": "stream",
     "text": [
      " 80%|███████▉  | 1475/1850 [20:48<05:19,  1.17it/s]"
     ]
    },
    {
     "name": "stdout",
     "output_type": "stream",
     "text": [
      "Comentário com problema encontrado: I stepped back because it went from something I utilized to keep in touch with people to something people use as a tool to be invasive in my life, so I don’t even post anything anymore. If I want to talk to someone I call them on my phone or see them in my day to day. Social media has become a really toxic place for me. So if I get on any apps it’s for different things. Like on Reddit I read about every opposing perspective I can just to learn whereas on instagram I like the most unhinged videos because it’s something I can count on to make me laugh and lift my spirits when I’m down. I really don’t know why no one has tried to recreate MySpace yet\n"
     ]
    },
    {
     "name": "stderr",
     "output_type": "stream",
     "text": [
      " 80%|███████▉  | 1476/1850 [20:49<05:25,  1.15it/s]"
     ]
    },
    {
     "name": "stdout",
     "output_type": "stream",
     "text": [
      "Comentário com problema encontrado: Tired of the noise\n"
     ]
    },
    {
     "name": "stderr",
     "output_type": "stream",
     "text": [
      " 80%|███████▉  | 1477/1850 [20:49<04:49,  1.29it/s]"
     ]
    },
    {
     "name": "stdout",
     "output_type": "stream",
     "text": [
      "Comentário com problema encontrado: I liked when social media was social, was a bit ruined when the ads became ridiculous \n"
     ]
    },
    {
     "name": "stderr",
     "output_type": "stream",
     "text": [
      " 80%|███████▉  | 1478/1850 [20:50<04:37,  1.34it/s]"
     ]
    },
    {
     "name": "stdout",
     "output_type": "stream",
     "text": [
      "Comentário com problema encontrado: I don’t know if it’s burnout and age or if the platforms themselves just changed but something feels off now.\n"
     ]
    },
    {
     "name": "stderr",
     "output_type": "stream",
     "text": [
      " 80%|███████▉  | 1479/1850 [20:51<04:55,  1.26it/s]"
     ]
    },
    {
     "name": "stdout",
     "output_type": "stream",
     "text": [
      "Comentário com problema encontrado: It feels too “transactional” and less about meeting new people or keeping up. Social media scores your relationships based on utility that they can measure in the app. What’s messed up is we start interacting with one another inside this narrow space, and it warps our mindset. \n"
     ]
    },
    {
     "name": "stderr",
     "output_type": "stream",
     "text": [
      " 80%|████████  | 1480/1850 [20:52<04:59,  1.24it/s]"
     ]
    },
    {
     "name": "stdout",
     "output_type": "stream",
     "text": [
      "Comentário com problema encontrado: After my bann on TikTok (comment related, not doing content) i realized i need to dial down. It used to be all fun and memes. Now its just gender war, activists, racism (no the dark humor one) or US vs EU hate bs. \n"
     ]
    },
    {
     "name": "stderr",
     "output_type": "stream",
     "text": [
      " 80%|████████  | 1481/1850 [20:53<04:57,  1.24it/s]"
     ]
    },
    {
     "name": "stdout",
     "output_type": "stream",
     "text": [
      "Comentário com problema encontrado: I just had this conversation with friends. For me, I feel a desire to connect with people in my local community. Social media is a time zap where I don’t necessarily choose what content is being poured my way. I have desires to build a more aligned, whole life with a regulated nervous system and social media doesn’t support that.\n"
     ]
    },
    {
     "name": "stderr",
     "output_type": "stream",
     "text": [
      " 80%|████████  | 1483/1850 [20:54<04:52,  1.25it/s]"
     ]
    },
    {
     "name": "stdout",
     "output_type": "stream",
     "text": [
      "Comentário com problema encontrado: i no longer use my facebook/insta accounts because it's not fun/personal anymore (i don't know how to just see my actual friends' posts on my feed instead of just ads&suggested pages/accounts), but i do lurk / observe on tiktok!  \n"
     ]
    },
    {
     "name": "stderr",
     "output_type": "stream",
     "text": [
      " 80%|████████  | 1484/1850 [20:55<04:33,  1.34it/s]"
     ]
    },
    {
     "name": "stdout",
     "output_type": "stream",
     "text": [
      "Comentário com problema encontrado: I was so active on Facebook for many years until I got banned early this year. The first few week was tough and it seems like I'm having some kind of a drug withdrawal or something, but it gets better and I started to love the \"quietness\" for not having any social media. The feeling that I don't have to impress anyone anymore, to be nosy at other people's businesses, to compare myself to others etc..It feels great not to feel all that.\n"
     ]
    },
    {
     "name": "stderr",
     "output_type": "stream",
     "text": [
      " 80%|████████  | 1487/1850 [20:59<06:37,  1.09s/it]"
     ]
    },
    {
     "name": "stdout",
     "output_type": "stream",
     "text": [
      "Comentário com problema encontrado: Exhausted. No longer an escape from bullies. Who remembers “the geeks will inherit the earth”? Good times.\n"
     ]
    },
    {
     "name": "stderr",
     "output_type": "stream",
     "text": [
      " 80%|████████  | 1488/1850 [20:59<05:43,  1.05it/s]"
     ]
    },
    {
     "name": "stdout",
     "output_type": "stream",
     "text": [
      "Comentário com problema encontrado: We thought social media was bad but now we’re here right before the advent of nonsocialmedia which will be even worse (I’m picturing kids glued to generative feeds with zero interwctions woth actual people anywhere)\n"
     ]
    },
    {
     "name": "stderr",
     "output_type": "stream",
     "text": [
      " 80%|████████  | 1489/1850 [21:00<05:22,  1.12it/s]"
     ]
    },
    {
     "name": "stdout",
     "output_type": "stream",
     "text": [
      "Comentário com problema encontrado: From my pov millennials are not done with social media, they are just more intentional about how they use it. Many are tired of the noise of endless ads and algorithm-driven content. Instead of quitting entirely, they are shifting to quieter, more meaningful spaces like private groups, Reddit, or niche communities.\n"
     ]
    },
    {
     "name": "stderr",
     "output_type": "stream",
     "text": [
      " 81%|████████  | 1490/1850 [21:02<06:19,  1.05s/it]"
     ]
    },
    {
     "name": "stdout",
     "output_type": "stream",
     "text": [
      "Comentário com problema encontrado: For me it’s a bit of both. Burnout for sure, but also life just changes and what used to feel fun starts feeling like a chore. I stuck around for the memes and some friends I don’t wanna lose touch with, but I’ve definitely scaled back a lot. Stepping back felt freeing.\n"
     ]
    },
    {
     "name": "stderr",
     "output_type": "stream",
     "text": [
      " 81%|████████  | 1491/1850 [21:03<06:02,  1.01s/it]"
     ]
    },
    {
     "name": "stdout",
     "output_type": "stream",
     "text": [
      "Comentário com problema encontrado: It started to feel like work to me a few years ago. Keeping up with posting and everything felt like it had to be well thought out and polished. It used to just be your friends now it's your mom's 3rd cousin looking at your photos and it's just a strange form of privacy invasion now.\n"
     ]
    },
    {
     "name": "stderr",
     "output_type": "stream",
     "text": [
      " 81%|████████  | 1494/1850 [21:05<05:39,  1.05it/s]"
     ]
    },
    {
     "name": "stdout",
     "output_type": "stream",
     "text": [
      "Comentário com problema encontrado: Instagram for me has become a bit anxiety-provoking, I find that the vibe is much too egocentric, I unsubscribed from a lot of people because the only photos there were photos of themselves. I don't understand the principle.\n"
     ]
    },
    {
     "name": "stderr",
     "output_type": "stream",
     "text": [
      " 81%|████████  | 1495/1850 [21:06<05:16,  1.12it/s]"
     ]
    },
    {
     "name": "stdout",
     "output_type": "stream",
     "text": [
      "Comentário com problema encontrado: People don’t post anything remotely of value. It’s all about “consistency” these days and nobody got time for that.\n"
     ]
    },
    {
     "name": "stderr",
     "output_type": "stream",
     "text": [
      " 81%|████████  | 1501/1850 [21:12<05:35,  1.04it/s]"
     ]
    },
    {
     "name": "stdout",
     "output_type": "stream",
     "text": [
      "Comentário com problema encontrado: Interesting question—I've wondered about this myself while trying to improve my own content approach.\n"
     ]
    },
    {
     "name": "stderr",
     "output_type": "stream",
     "text": [
      " 81%|████████▏ | 1506/1850 [21:20<08:52,  1.55s/it]"
     ]
    },
    {
     "name": "stdout",
     "output_type": "stream",
     "text": [
      "Comentário com problema encontrado: I am both a therapist and a client. I’ve been with my therapist since 2018. I have attachment issues so I’ve brought up your exact question with my therapist a gazillion times and she is always patient with me. After 7 years, I’ve finally realized she actually genuinely likes me and cares about me. And as a therapist, I find my longer-term (I’ve had a few for several years) clients are the ones I’m most comfortable working with just bc I’m so familiar with them and their therapeutic concerns. So as both client and therapist, I actually like the long-term relationships.\n"
     ]
    },
    {
     "name": "stderr",
     "output_type": "stream",
     "text": [
      " 82%|████████▏ | 1518/1850 [21:31<05:01,  1.10it/s]"
     ]
    },
    {
     "name": "stdout",
     "output_type": "stream",
     "text": [
      "Comentário com problema encontrado: As long as it’s appropriate to why they are seeing a therapist, yes. Example is early childhood trauma that can take years to process. However, there is always a concern about dependency which the therapist needs to have on their radar. A good therapist does not want a client to be dependent on them.\n"
     ]
    },
    {
     "name": "stderr",
     "output_type": "stream",
     "text": [
      " 82%|████████▏ | 1519/1850 [21:31<04:34,  1.21it/s]"
     ]
    },
    {
     "name": "stdout",
     "output_type": "stream",
     "text": [
      "Comentário com problema encontrado: Thank you so much, everyone. I guess my question is not only whether it’s appropriate or not to continue to see/treat the long-term client/patient, but the question is whether you feel a resentment, like feeling “forced” to see/treat them. I know this question is not fair, as sometimes work is work and you’d rather not be working sometimes, I guess, but for me personally, I’d hate to be the source of resentment for my therapist because they are “forced” to see me still because I show interest in showing up still, someone who is no longer new and exciting to get to know, but someone who has now opened up about all her problems and there is nothing really new to disclose.\n"
     ]
    },
    {
     "name": "stderr",
     "output_type": "stream",
     "text": [
      " 83%|████████▎ | 1528/1850 [21:39<04:39,  1.15it/s]"
     ]
    },
    {
     "name": "stdout",
     "output_type": "stream",
     "text": [
      "Comentário com problema encontrado: I used to feel the same way about teachers in school. Mostly people I admired or had a crush on(even if I didn’t know it at the time). It feels like you’re getting to know them. I guess in terms of therapy it can be a nice change since they know all about you, specially your most intimate thoughts and things you have done. So I guess it feel refreshing to know a bit about them too.\n"
     ]
    },
    {
     "name": "stderr",
     "output_type": "stream",
     "text": [
      " 83%|████████▎ | 1531/1850 [21:42<04:23,  1.21it/s]"
     ]
    },
    {
     "name": "stdout",
     "output_type": "stream",
     "text": [
      "Comentário com problema encontrado: Yes, but only about this one counselor I really connected with. I had crisis counseling after another sexual assault and she advocated for me to get 25 sessions instead of the normal 10. She was in  the midst of getting her masters.I'll never forget how much she helped me. She was the one who helped me get a psychiatrist which led to my diagnoses of GAD, OCD, ADHD, and PTSD. I remember her full name, her orange tabby Andrew, her pretty blond hair, how she hugged me after our last couple sessions, her love of amethyst, crochet, and arbutus trees. She was the best.\n",
      "I check out her linkd in profile every now and then to make sure she's still practicing. Maybe one day when I can afford it I'll reach out lol\n",
      "It's an ironic blessing that I can't get in touch with her for free because I'm no longer in need of crisis counseling thanks to her help 💚💖💙\n"
     ]
    },
    {
     "name": "stderr",
     "output_type": "stream",
     "text": [
      " 83%|████████▎ | 1538/1850 [21:48<03:57,  1.31it/s]"
     ]
    },
    {
     "name": "stdout",
     "output_type": "stream",
     "text": [
      "Comentário com problema encontrado: Can I still see my therapist when I move for college?\n"
     ]
    },
    {
     "name": "stderr",
     "output_type": "stream",
     "text": [
      " 84%|████████▎ | 1546/1850 [21:54<04:03,  1.25it/s]"
     ]
    },
    {
     "name": "stdout",
     "output_type": "stream",
     "text": [
      "Comentário com problema encontrado: What people think of me. I used to filter EVERY decision and interaction through that lens.\n"
     ]
    },
    {
     "name": "stderr",
     "output_type": "stream",
     "text": [
      " 84%|████████▎ | 1547/1850 [21:55<03:57,  1.27it/s]"
     ]
    },
    {
     "name": "stdout",
     "output_type": "stream",
     "text": [
      "Comentário com problema encontrado: Yeah going through hard times you think theres no way out. Looking back, you truly realise how it helped you for the better but also allowed you to get accustomed to the mindset that you don’t ever wanna be in that situation again.\n"
     ]
    },
    {
     "name": "stderr",
     "output_type": "stream",
     "text": [
      " 84%|████████▎ | 1548/1850 [21:56<03:52,  1.30it/s]"
     ]
    },
    {
     "name": "stdout",
     "output_type": "stream",
     "text": [
      "Comentário com problema encontrado: Past failures. \n"
     ]
    },
    {
     "name": "stderr",
     "output_type": "stream",
     "text": [
      " 84%|████████▍ | 1550/1850 [21:57<03:50,  1.30it/s]"
     ]
    },
    {
     "name": "stdout",
     "output_type": "stream",
     "text": [
      "Comentário com problema encontrado: Worrying about upsetting people by having a different opinion/challenging their view, it’s made my job easier, my work relationships are stronger as a result and I worry less outside of work too which has a positive impact on my home life.\n"
     ]
    },
    {
     "name": "stderr",
     "output_type": "stream",
     "text": [
      " 84%|████████▍ | 1553/1850 [22:00<04:11,  1.18it/s]"
     ]
    },
    {
     "name": "stdout",
     "output_type": "stream",
     "text": [
      "Comentário com problema encontrado: sleep little. haha\n"
     ]
    },
    {
     "name": "stderr",
     "output_type": "stream",
     "text": [
      " 84%|████████▍ | 1555/1850 [22:02<04:21,  1.13it/s]"
     ]
    },
    {
     "name": "stdout",
     "output_type": "stream",
     "text": [
      "Comentário com problema encontrado: How other people perceive me. I was once a people please to the point that it exhaust me to please people around me. Met someone and helped me working on my self esteem. \n"
     ]
    },
    {
     "name": "stderr",
     "output_type": "stream",
     "text": [
      " 84%|████████▍ | 1561/1850 [22:07<03:59,  1.21it/s]"
     ]
    },
    {
     "name": "stdout",
     "output_type": "stream",
     "text": [
      "Comentário com problema encontrado: OP drives around the block, complains about parking in neighborhood, writes himself a nasty note about blocking his own driveway.\n"
     ]
    },
    {
     "name": "stderr",
     "output_type": "stream",
     "text": [
      " 85%|████████▍ | 1565/1850 [22:10<03:43,  1.28it/s]"
     ]
    },
    {
     "name": "stdout",
     "output_type": "stream",
     "text": [
      "Comentário com problema encontrado: I really need to start doing this. The days I WFH I wake up 5 min before I clock in and stay in my pajamas all day and low key hate it so I don't know why I do it\n"
     ]
    },
    {
     "name": "stderr",
     "output_type": "stream",
     "text": [
      " 85%|████████▍ | 1569/1850 [22:14<04:30,  1.04it/s]"
     ]
    },
    {
     "name": "stdout",
     "output_type": "stream",
     "text": [
      "Comentário com problema encontrado: Great idea actually. Thanks for sharing. I really want to buckle down on my at home work habits.\n"
     ]
    },
    {
     "name": "stderr",
     "output_type": "stream",
     "text": [
      " 85%|████████▌ | 1573/1850 [22:17<03:46,  1.22it/s]"
     ]
    },
    {
     "name": "stdout",
     "output_type": "stream",
     "text": [
      "Comentário com problema encontrado: Yeah I started doing this when I was working from home. Instead of  waking up at 7:50am and staying in pajamas and logging on at 8am with my first cup of coffee I changed my morning to be fully dressed and ready to walk out the door by 7:30am, after a walk around the block but still logging on at 8am. I felt like this routine was much better for my mental health as well.\n"
     ]
    },
    {
     "name": "stderr",
     "output_type": "stream",
     "text": [
      " 85%|████████▌ | 1574/1850 [22:19<05:28,  1.19s/it]"
     ]
    },
    {
     "name": "stdout",
     "output_type": "stream",
     "text": [
      "Comentário com problema encontrado: Same with going to sleep. That is why when I am not able to sleep I go to the couch or a different bed to trick my brain that \n"
     ]
    },
    {
     "name": "stderr",
     "output_type": "stream",
     "text": [
      " 85%|████████▌ | 1577/1850 [22:22<05:31,  1.21s/it]"
     ]
    },
    {
     "name": "stdout",
     "output_type": "stream",
     "text": [
      "Comentário com problema encontrado: I wake up 5 mins before work and go to my computer\n"
     ]
    },
    {
     "name": "stderr",
     "output_type": "stream",
     "text": [
      " 85%|████████▌ | 1581/1850 [22:26<04:24,  1.02it/s]"
     ]
    },
    {
     "name": "stdout",
     "output_type": "stream",
     "text": [
      "Comentário com problema encontrado: I get this. I don’t work from home but I have a bar and it’s like 3 miles from my house, my whole town is fairly compact. I have clothes I only wear for work and clothes only for life. I also don’t really do any work from home besides the odd one off events. I have a home computer and a work computer and use Firefox for life and chrome for work. I basically just need some sort of separation or everything becomes work. I used to live a bit out of town and I really do miss my 15 min drive (it’s now 7). At lest 15 min was enough for a couple of songs 7 min isn’t enough for any sort of brain shift for me.\n"
     ]
    },
    {
     "name": "stderr",
     "output_type": "stream",
     "text": [
      " 86%|████████▌ | 1588/1850 [22:32<03:37,  1.21it/s]"
     ]
    },
    {
     "name": "stdout",
     "output_type": "stream",
     "text": [
      "Comentário com problema encontrado: How do you stay on that side of the threshold once you get there? Bc I crossover and can’t seem to cross back when I take breaks\n"
     ]
    },
    {
     "name": "stderr",
     "output_type": "stream",
     "text": [
      " 86%|████████▌ | 1591/1850 [22:34<03:39,  1.18it/s]"
     ]
    },
    {
     "name": "stdout",
     "output_type": "stream",
     "text": [
      "Comentário com problema encontrado: As someone with ADHD, I have to keep shoes or SOMETHING on my feet to make me stay in “do tasks” mode. I admire people who can wear their PJs and still work but my brain does not work that way. It’s wild\n"
     ]
    },
    {
     "name": "stderr",
     "output_type": "stream",
     "text": [
      " 86%|████████▋ | 1597/1850 [22:39<03:16,  1.29it/s]"
     ]
    },
    {
     "name": "stdout",
     "output_type": "stream",
     "text": [
      "Comentário com problema encontrado: I'm just now realizing that I need to \"trick\" my brain.... so now I signed up for a co-working space near my home.... it's like reporting to the office. \n"
     ]
    },
    {
     "name": "stderr",
     "output_type": "stream",
     "text": [
      " 86%|████████▋ | 1599/1850 [22:41<03:05,  1.35it/s]"
     ]
    },
    {
     "name": "stdout",
     "output_type": "stream",
     "text": [
      "Comentário com problema encontrado: this could actually help my adhd a lil bit. thank u♡\n"
     ]
    },
    {
     "name": "stderr",
     "output_type": "stream",
     "text": [
      " 87%|████████▋ | 1609/1850 [22:50<03:26,  1.16it/s]"
     ]
    },
    {
     "name": "stdout",
     "output_type": "stream",
     "text": [
      "Comentário com problema encontrado: Pomodoro. It’s like it was designed to pull me out of flow right as I get into it.\n"
     ]
    },
    {
     "name": "stderr",
     "output_type": "stream",
     "text": [
      " 87%|████████▋ | 1610/1850 [22:51<03:39,  1.09it/s]"
     ]
    },
    {
     "name": "stdout",
     "output_type": "stream",
     "text": [
      "Comentário com problema encontrado: Waking up at 5 am is such a bullshit.\n"
     ]
    },
    {
     "name": "stderr",
     "output_type": "stream",
     "text": [
      " 87%|████████▋ | 1611/1850 [22:52<03:38,  1.09it/s]"
     ]
    },
    {
     "name": "stdout",
     "output_type": "stream",
     "text": [
      "Comentário com problema encontrado: “Make a schedule and stick to it!” If I could stick to a schedule don’t you think I would have done that already?\n"
     ]
    },
    {
     "name": "stderr",
     "output_type": "stream",
     "text": [
      " 87%|████████▋ | 1612/1850 [22:53<03:39,  1.09it/s]"
     ]
    },
    {
     "name": "stdout",
     "output_type": "stream",
     "text": [
      "Comentário com problema encontrado: Most of them never worked for me, but here’s one that worked:\n"
     ]
    },
    {
     "name": "stderr",
     "output_type": "stream",
     "text": [
      " 87%|████████▋ | 1613/1850 [22:54<03:50,  1.03it/s]"
     ]
    },
    {
     "name": "stdout",
     "output_type": "stream",
     "text": [
      "Comentário com problema encontrado: pomodoro. Its a distraction for me.\n"
     ]
    },
    {
     "name": "stderr",
     "output_type": "stream",
     "text": [
      " 87%|████████▋ | 1614/1850 [22:55<03:45,  1.05it/s]"
     ]
    },
    {
     "name": "stdout",
     "output_type": "stream",
     "text": [
      "Comentário com problema encontrado: Any tip that was written by a neurotypical, which is most of them.\n"
     ]
    },
    {
     "name": "stderr",
     "output_type": "stream",
     "text": [
      " 87%|████████▋ | 1615/1850 [22:55<03:34,  1.10it/s]"
     ]
    },
    {
     "name": "stdout",
     "output_type": "stream",
     "text": [
      "Comentário com problema encontrado: Eat the Frog. I just end up doing nothing all day. Also waking up at 5 am. I am a night owl (wake up at 11, sleep at 1 - 3 am) and I think we should get more productivity hacks for us since everything is geared towards morning people.\n"
     ]
    },
    {
     "name": "stderr",
     "output_type": "stream",
     "text": [
      " 87%|████████▋ | 1618/1850 [22:59<03:51,  1.00it/s]"
     ]
    },
    {
     "name": "stdout",
     "output_type": "stream",
     "text": [
      "Comentário com problema encontrado: I have ADHD, none of them work for me\n"
     ]
    },
    {
     "name": "stderr",
     "output_type": "stream",
     "text": [
      " 88%|████████▊ | 1619/1850 [22:59<03:32,  1.09it/s]"
     ]
    },
    {
     "name": "stdout",
     "output_type": "stream",
     "text": [
      "Comentário com problema encontrado: None of them worked until I got treatment for cPTSD. I’m still fighting the ADHD but things are starting to work better. The Finch app is becoming helpful for tasks but it’s hit or miss if it works on me each day.\n"
     ]
    },
    {
     "name": "stderr",
     "output_type": "stream",
     "text": [
      " 88%|████████▊ | 1620/1850 [23:00<03:22,  1.13it/s]"
     ]
    },
    {
     "name": "stdout",
     "output_type": "stream",
     "text": [
      "Comentário com problema encontrado: Most of the time I see posts on here asking for help, the OP has signs of being ND, which means most of the usual methods probably won’t work for them because they’re not designed for people that are wired differently.\n"
     ]
    },
    {
     "name": "stderr",
     "output_type": "stream",
     "text": [
      " 88%|████████▊ | 1624/1850 [23:04<03:23,  1.11it/s]"
     ]
    },
    {
     "name": "stdout",
     "output_type": "stream",
     "text": [
      "Comentário com problema encontrado: Virtually all of them.  Seriously.  ADHD combined type dude here.  One of the \n"
     ]
    },
    {
     "name": "stderr",
     "output_type": "stream",
     "text": [
      " 88%|████████▊ | 1625/1850 [23:05<03:48,  1.01s/it]"
     ]
    },
    {
     "name": "stdout",
     "output_type": "stream",
     "text": [
      "Comentário com problema encontrado: Planning. I always do what feels right at that moment instead. And I don't wanna think about how long something takes, it's difficult anyway. It's done when it's done.\n"
     ]
    },
    {
     "name": "stderr",
     "output_type": "stream",
     "text": [
      " 88%|████████▊ | 1627/1850 [23:07<03:20,  1.11it/s]"
     ]
    },
    {
     "name": "stdout",
     "output_type": "stream",
     "text": [
      "Comentário com problema encontrado: I struggle a lot with time blocking. Somehow having a calendar event where I need to only do X is very constraining for me. I prefer just to prioritise my tasks and boom boom boom them\n"
     ]
    },
    {
     "name": "stderr",
     "output_type": "stream",
     "text": [
      " 88%|████████▊ | 1628/1850 [23:07<03:02,  1.22it/s]"
     ]
    },
    {
     "name": "stdout",
     "output_type": "stream",
     "text": [
      "Comentário com problema encontrado: I tried all of the bs tips and techniques like pomodoro, habit stacking etc. These never worked for me. These are all band-aid solutions to deep rooted problems.\n",
      "I was the most undisciplined, chronic procrastinator person you can imagine but now I'm just the opposite.\n",
      "What worked for me was this concept of identity shifts and stacking daily micro wins. I somehow landed on this app called Anxwr and it changed my life. Basically it's a micro win journaling app with a twist - attach your identities to those wins. This was a totally new concept for me but it worked wonders and I can't be grateful enough.\n"
     ]
    },
    {
     "name": "stderr",
     "output_type": "stream",
     "text": [
      " 88%|████████▊ | 1631/1850 [23:10<03:18,  1.10it/s]"
     ]
    },
    {
     "name": "stdout",
     "output_type": "stream",
     "text": [
      "Comentário com problema encontrado: Pomodoro, screen blocking with apps. Hate restrains.\n"
     ]
    },
    {
     "name": "stderr",
     "output_type": "stream",
     "text": [
      " 88%|████████▊ | 1632/1850 [23:11<03:21,  1.08it/s]"
     ]
    },
    {
     "name": "stdout",
     "output_type": "stream",
     "text": [
      "Comentário com problema encontrado: I have tried it all too. Tried the morning page productivity hack to clear out my thoughts but it just wasnt sustainable when there is just too many negativity when things dont go my way. But I liked the journaling process and hence, have been looking at ways I can make the habit stick\n"
     ]
    },
    {
     "name": "stderr",
     "output_type": "stream",
     "text": [
      " 88%|████████▊ | 1633/1850 [23:12<03:06,  1.16it/s]"
     ]
    },
    {
     "name": "stdout",
     "output_type": "stream",
     "text": [
      "Comentário com problema encontrado: Caffeine. Coffee gives me heartburn and caffeine in general doesn't make me more focused, just more wound up.\n"
     ]
    },
    {
     "name": "stderr",
     "output_type": "stream",
     "text": [
      " 88%|████████▊ | 1635/1850 [23:14<03:35,  1.00s/it]"
     ]
    },
    {
     "name": "stdout",
     "output_type": "stream",
     "text": [
      "Comentário com problema encontrado: Pomodoro is completey bulshitt. I can't concentrate in every 20 minutes from the beginning. Most of the task needs to be thought at least one hour\n"
     ]
    },
    {
     "name": "stderr",
     "output_type": "stream",
     "text": [
      " 90%|████████▉ | 1656/1850 [23:34<03:00,  1.07it/s]"
     ]
    },
    {
     "name": "stdout",
     "output_type": "stream",
     "text": [
      "Comentário com problema encontrado: I agree! I was tired of working dead end jobs making max $16/hr. Bit the bullet and went to college and I’m happy!\n"
     ]
    },
    {
     "name": "stderr",
     "output_type": "stream",
     "text": [
      " 90%|████████▉ | 1657/1850 [23:34<02:47,  1.15it/s]"
     ]
    },
    {
     "name": "stdout",
     "output_type": "stream",
     "text": [
      "Comentário com problema encontrado: I feel this. I grew up poor. Waiting for the day we have to move out because rent wasn’t paid or getting kicked out for some reason. Living in hotels and government housing. Not having new clothes or shoes. Ugh and teachers asking if I want their kids shoes because mine always had holes or was super dirty. Going to food banks at the churches or discount food markets. \n"
     ]
    },
    {
     "name": "stderr",
     "output_type": "stream",
     "text": [
      " 90%|████████▉ | 1664/1850 [23:41<02:39,  1.16it/s]"
     ]
    },
    {
     "name": "stdout",
     "output_type": "stream",
     "text": [
      "Comentário com problema encontrado: Awesome to read this, thanks for sharing and big congrats! It’s a very stable field indeed. I worked a job where we were actually shutting down and a lot of people got laid off. Finance (and accounting) was supposed to also but they needed us around and the job lasted a full 3 more years than most other positions\n"
     ]
    },
    {
     "name": "stderr",
     "output_type": "stream",
     "text": [
      " 90%|█████████ | 1666/1850 [23:43<02:54,  1.06it/s]"
     ]
    },
    {
     "name": "stdout",
     "output_type": "stream",
     "text": [
      "Comentário com problema encontrado: I feel this. Same goes for me.\n"
     ]
    },
    {
     "name": "stderr",
     "output_type": "stream",
     "text": [
      " 91%|█████████ | 1677/1850 [23:53<02:30,  1.15it/s]"
     ]
    },
    {
     "name": "stdout",
     "output_type": "stream",
     "text": [
      "Comentário com problema encontrado: I’m right now stressing about the loans I’ll have to take to go to school, so I really appreciate this post.\n"
     ]
    },
    {
     "name": "stderr",
     "output_type": "stream",
     "text": [
      " 91%|█████████ | 1679/1850 [23:55<02:36,  1.09it/s]"
     ]
    },
    {
     "name": "stdout",
     "output_type": "stream",
     "text": [
      "Comentário com problema encontrado: I love am the work! Just hate PA\n"
     ]
    },
    {
     "name": "stderr",
     "output_type": "stream",
     "text": [
      " 91%|█████████ | 1685/1850 [24:02<03:07,  1.14s/it]"
     ]
    },
    {
     "name": "stdout",
     "output_type": "stream",
     "text": [
      "Comentário com problema encontrado: No one cares\n"
     ]
    },
    {
     "name": "stderr",
     "output_type": "stream",
     "text": [
      " 91%|█████████▏| 1689/1850 [24:06<02:21,  1.13it/s]"
     ]
    },
    {
     "name": "stdout",
     "output_type": "stream",
     "text": [
      "Comentário com problema encontrado: Not sure how this came into my feed as I am not an accountant. But same in tech all the people that love rto just talk and gossip all god damn day.\n"
     ]
    },
    {
     "name": "stderr",
     "output_type": "stream",
     "text": [
      " 91%|█████████▏| 1690/1850 [24:06<02:21,  1.13it/s]"
     ]
    },
    {
     "name": "stdout",
     "output_type": "stream",
     "text": [
      "Comentário com problema encontrado: At the individual contributor level some people do lack the self discipline or even the ability to work without constant supervision. And in management some people lack the ability to manage their subordinates without physically observing them in-person.  \n"
     ]
    },
    {
     "name": "stderr",
     "output_type": "stream",
     "text": [
      " 92%|█████████▏| 1693/1850 [24:09<02:25,  1.08it/s]"
     ]
    },
    {
     "name": "stdout",
     "output_type": "stream",
     "text": [
      "Comentário com problema encontrado: I think this is a case of different strokes. I've been fully remote for five years now, and I am really tired of it. I find it really difficult to separate my job from my free time. Plus, I just feel like a hermit behind my computer screen. Flexibility in a WFH environment is great, but I'm looking for a hybrid role to limit some of the downsides I mentioned.\n"
     ]
    },
    {
     "name": "stderr",
     "output_type": "stream",
     "text": [
      " 92%|█████████▏| 1695/1850 [24:11<02:12,  1.17it/s]"
     ]
    },
    {
     "name": "stdout",
     "output_type": "stream",
     "text": [
      "Comentário com problema encontrado: I hate the in office cliques who like to gossip. It’s like high school sometimes being in office.\n"
     ]
    },
    {
     "name": "stderr",
     "output_type": "stream",
     "text": [
      " 92%|█████████▏| 1697/1850 [24:12<02:09,  1.18it/s]"
     ]
    },
    {
     "name": "stdout",
     "output_type": "stream",
     "text": [
      "Comentário com problema encontrado: Yeah avoiding all this wasted time & commutes is my favorite thing about WFH. I just got laid off though and am having a lot of trouble finding another remote role. It's a different market than the past few years.\n"
     ]
    },
    {
     "name": "stderr",
     "output_type": "stream",
     "text": [
      " 92%|█████████▏| 1698/1850 [24:13<02:04,  1.22it/s]"
     ]
    },
    {
     "name": "stdout",
     "output_type": "stream",
     "text": [
      "Comentário com problema encontrado: It's frustrating how some people can't see the value in remote work. Just because we aren’t physically in the office doesn’t mean we aren’t working hard. And honestly, if you’re constantly interrupting time to socialize, maybe rethink how “productive” those office hours really are!\n"
     ]
    },
    {
     "name": "stderr",
     "output_type": "stream",
     "text": [
      " 92%|█████████▏| 1699/1850 [24:14<02:00,  1.25it/s]"
     ]
    },
    {
     "name": "stdout",
     "output_type": "stream",
     "text": [
      "Comentário com problema encontrado: To the people in this thread who are fully remote and have been for years but hate it because you feel isolated, kindly leave your role and find an in person job. You’re holding a very coveted position and frankly if you can’t appreciate it, you should give it to somebody who will.\n"
     ]
    },
    {
     "name": "stderr",
     "output_type": "stream",
     "text": [
      " 92%|█████████▏| 1707/1850 [24:22<02:03,  1.16it/s]"
     ]
    },
    {
     "name": "stdout",
     "output_type": "stream",
     "text": [
      "Comentário com problema encontrado: Our office is a mix of hybrid and fully remote people.  Over the past five years everyone that we had to terminate for performance reasons was fully remote.  \n"
     ]
    },
    {
     "name": "stderr",
     "output_type": "stream",
     "text": [
      " 92%|█████████▏| 1709/1850 [24:23<01:59,  1.18it/s]"
     ]
    },
    {
     "name": "stdout",
     "output_type": "stream",
     "text": [
      "Comentário com problema encontrado: Totally agree. The irony is wild—calling WFH \"lazy\" while spending half the day chatting and planning \"team-building\" events. Let people work where they're most productive and stop turning the office into a glorified break room.\n"
     ]
    },
    {
     "name": "stderr",
     "output_type": "stream",
     "text": [
      " 93%|█████████▎| 1712/1850 [24:26<01:52,  1.22it/s]"
     ]
    },
    {
     "name": "stdout",
     "output_type": "stream",
     "text": [
      "Comentário com problema encontrado: Definitely agree, work with some people who love the office and talk for 4-6 hours a day in the office. Then everyone wonders why everything is behind schedule\n"
     ]
    },
    {
     "name": "stderr",
     "output_type": "stream",
     "text": [
      " 93%|█████████▎| 1713/1850 [24:27<02:01,  1.12it/s]"
     ]
    },
    {
     "name": "stdout",
     "output_type": "stream",
     "text": [
      "Comentário com problema encontrado: At a company I used to work for, there was this guy who came to work to avoid his family, and he wouldn't take PTO because he did not want to spend time with them. Then when HR made him start taking some of his PTO days, he sent around company-wide emails stating that if his family called and asked for him, under no circumstances could anyone tell them that he was not there. We were supposed to tell them that he was on a call at the moment, and then text him and let him know. He told me once that on those days off, he told his family he was going to work and would get dressed up and take his lunch and just go and sit at the mall and people watch until it was the time he would go home from work.\n"
     ]
    },
    {
     "name": "stderr",
     "output_type": "stream",
     "text": [
      " 93%|█████████▎| 1716/1850 [24:29<01:56,  1.15it/s]"
     ]
    },
    {
     "name": "stdout",
     "output_type": "stream",
     "text": [
      "Comentário com problema encontrado: don't forget the 10-15 minute smoke breaks every hour.\n"
     ]
    },
    {
     "name": "stderr",
     "output_type": "stream",
     "text": [
      " 93%|█████████▎| 1719/1850 [24:32<01:58,  1.10it/s]"
     ]
    },
    {
     "name": "stdout",
     "output_type": "stream",
     "text": [
      "Comentário com problema encontrado: Haha this is why i want to transition to finance. I'm on the client facing side of my company and if i hear one more speech about loving being in the office to \"collaborate\" or get invited to one more happy hour, i might just kill myself. (Joking obviously.)\n"
     ]
    },
    {
     "name": "stderr",
     "output_type": "stream",
     "text": [
      " 93%|█████████▎| 1723/1850 [24:36<01:51,  1.14it/s]"
     ]
    },
    {
     "name": "stdout",
     "output_type": "stream",
     "text": [
      "Comentário com problema encontrado: Not opposed to WFM, but I love working in an office.  Less distractions and I am able to track down people for answers, as opposed to f@ckers hiding on TEAMS.\n"
     ]
    },
    {
     "name": "stderr",
     "output_type": "stream",
     "text": [
      " 93%|█████████▎| 1724/1850 [24:37<01:55,  1.09it/s]"
     ]
    },
    {
     "name": "stdout",
     "output_type": "stream",
     "text": [
      "Comentário com problema encontrado: I'm in a hybrid role, policy is two days a week but most people just do one if that that. It really is just shoot the shit time, any time where we're really up against the deliverable and need to get actual work done we do it from home. Large companies with multiple offices and remote work there's so many teams calls throughout the day  combined with these open floor plans make the office feel like a freaking call center it's impossible to do anything.\n"
     ]
    },
    {
     "name": "stderr",
     "output_type": "stream",
     "text": [
      " 93%|█████████▎| 1725/1850 [24:37<01:42,  1.22it/s]"
     ]
    },
    {
     "name": "stdout",
     "output_type": "stream",
     "text": [
      "Comentário com problema encontrado: My boss is extremely anti-WFH. This motherfucker is on a vacation every other week, messing around, going to wine events and just having a blast only coming in a week before a deadline because we need his final say and signature. Meanwhile we are working day in day out Mondays-Saturdays busting our asses, always putting out a fire because when he does come in he goes \"that's all wrong! Needs to be redone. Client gave us a new TB\" or something last minute that we have to work countless hours to finish\n"
     ]
    },
    {
     "name": "stderr",
     "output_type": "stream",
     "text": [
      " 93%|█████████▎| 1728/1850 [24:40<01:35,  1.28it/s]"
     ]
    },
    {
     "name": "stdout",
     "output_type": "stream",
     "text": [
      "Comentário com problema encontrado: In the while you’ll find it’s a fight between the extroverts and your introverts. The extroverts usually win, unfortunately\n"
     ]
    },
    {
     "name": "stderr",
     "output_type": "stream",
     "text": [
      " 94%|█████████▎| 1730/1850 [24:41<01:38,  1.22it/s]"
     ]
    },
    {
     "name": "stdout",
     "output_type": "stream",
     "text": [
      "Comentário com problema encontrado: Our office is either too hot or too cold. I can control the temperature when I work from home. I’m also not distracted by others being on the phone or people walking around talking to each other\n"
     ]
    },
    {
     "name": "stderr",
     "output_type": "stream",
     "text": [
      " 94%|█████████▎| 1734/1850 [24:45<01:42,  1.13it/s]"
     ]
    },
    {
     "name": "stdout",
     "output_type": "stream",
     "text": [
      "Comentário com problema encontrado: It’s the hacks that don’t feel they have enough capability/competency-currency to negotiate better conditions for themselves and instead \n"
     ]
    },
    {
     "name": "stderr",
     "output_type": "stream",
     "text": [
      " 94%|█████████▍| 1738/1850 [24:48<01:31,  1.22it/s]"
     ]
    },
    {
     "name": "stdout",
     "output_type": "stream",
     "text": [
      "Comentário com problema encontrado: I literally overheard some people talking in the office today saying that they could never not come into the office because they have to hear the gossip and talk to people. Meanwhile I was doing my best to avoid talking to people so I could check some things off my list and leave early because being in the office is pointless.\n"
     ]
    },
    {
     "name": "stderr",
     "output_type": "stream",
     "text": [
      " 94%|█████████▍| 1748/1850 [24:57<01:31,  1.11it/s]"
     ]
    },
    {
     "name": "stdout",
     "output_type": "stream",
     "text": [
      "Comentário com problema encontrado: All the stupids that goes to office spend their day doing nothing. Why would I go to office?\n"
     ]
    },
    {
     "name": "stderr",
     "output_type": "stream",
     "text": [
      " 95%|█████████▍| 1749/1850 [24:57<01:22,  1.23it/s]"
     ]
    },
    {
     "name": "stdout",
     "output_type": "stream",
     "text": [
      "Comentário com problema encontrado: lol gah damn it’s so true man. 1 hr lunches for some mediocre $25 salad. Social club at the end of the day in the managers office when all I want to do is finish my work and go home to my girlfriend, pets, maybe hit the gym. \n"
     ]
    },
    {
     "name": "stderr",
     "output_type": "stream",
     "text": [
      " 95%|█████████▍| 1752/1850 [25:01<02:01,  1.24s/it]"
     ]
    },
    {
     "name": "stdout",
     "output_type": "stream",
     "text": [
      "Comentário com problema encontrado: The worst ones are the parents who are clearly thrilled to be away from their children. I’m here to work, not to be your break from reality.\n"
     ]
    },
    {
     "name": "stderr",
     "output_type": "stream",
     "text": [
      " 95%|█████████▍| 1753/1850 [25:02<01:43,  1.07s/it]"
     ]
    },
    {
     "name": "stdout",
     "output_type": "stream",
     "text": [
      "Comentário com problema encontrado: Dont hate the player hate the game, youve learned that you can go into the office and waste way more time than you would at home butbig your boss thinks your \"team building\" it looks good on you.\n"
     ]
    },
    {
     "name": "stderr",
     "output_type": "stream",
     "text": [
      " 95%|█████████▍| 1754/1850 [25:03<01:37,  1.02s/it]"
     ]
    },
    {
     "name": "stdout",
     "output_type": "stream",
     "text": [
      "Comentário com problema encontrado: Dude, WFH keeps me chained to my desk, and I work harder. I wouldn't give up for the world!\n"
     ]
    },
    {
     "name": "stderr",
     "output_type": "stream",
     "text": [
      " 95%|█████████▍| 1756/1850 [25:05<01:35,  1.01s/it]"
     ]
    },
    {
     "name": "stdout",
     "output_type": "stream",
     "text": [
      "Comentário com problema encontrado: 😂 that's calling the kettle black but no i go into the office just in a ton of pointless meetings to make people feel special and think we live in 2010\n"
     ]
    },
    {
     "name": "stderr",
     "output_type": "stream",
     "text": [
      " 95%|█████████▍| 1757/1850 [25:06<01:35,  1.02s/it]"
     ]
    },
    {
     "name": "stdout",
     "output_type": "stream",
     "text": [
      "Comentário com problema encontrado: I get so little done when I do go into the office because everyone just wants to chat and keep distracting.\n"
     ]
    },
    {
     "name": "stderr",
     "output_type": "stream",
     "text": [
      " 95%|█████████▌| 1759/1850 [25:08<01:24,  1.07it/s]"
     ]
    },
    {
     "name": "stdout",
     "output_type": "stream",
     "text": [
      "Comentário com problema encontrado: If I could give them a benefit of the doubt, I am pro-WFH, but there is something to be said about using work to facilitate social connections. We work with those people, we are comfortable with them. When you don't have work, or school to facilitate connections, the energy activation to maintain connections is significantly higher, because each event(like a hobby or somethig) you'd have to carve out time for, wheras you are obligated to be at work...\n"
     ]
    },
    {
     "name": "stderr",
     "output_type": "stream",
     "text": [
      " 95%|█████████▌| 1760/1850 [25:08<01:14,  1.20it/s]"
     ]
    },
    {
     "name": "stdout",
     "output_type": "stream",
     "text": [
      "Comentário com problema encontrado: Yes, I have one employee I manage who just can't seem to work from home. She is the office trouble maker as well. IT illiterate. Wants to sit at her desk and ride the clock only doing work she wants to do. Being able to WFH well in accounting is a badge of honor. Weird I'm not seeing this as widely acknowledged as I expected after running a hybrid team for this long.\n"
     ]
    },
    {
     "name": "stderr",
     "output_type": "stream",
     "text": [
      " 95%|█████████▌| 1761/1850 [25:09<01:14,  1.20it/s]"
     ]
    },
    {
     "name": "stdout",
     "output_type": "stream",
     "text": [
      "Comentário com problema encontrado: If I have to go into the office you better believe I'm going to socialize and dick around for a few hours. If I'm at home I'll get my work done quicker with no distractions and still have time to do the laundry.\n"
     ]
    },
    {
     "name": "stderr",
     "output_type": "stream",
     "text": [
      " 95%|█████████▌| 1763/1850 [25:11<01:09,  1.26it/s]"
     ]
    },
    {
     "name": "stdout",
     "output_type": "stream",
     "text": [
      "Comentário com problema encontrado: I mean that is why they are anti-wfh. Work is their time to be social because any other time people can just walk away and not deal with their overly extroverted bullshit. I have a sign on my cubical that I havent been to in 5 years but will have to go back to in July \"I am not here to socialize. If you do not have something specifically pertaining to my responsibilities then do not bother me. If you need help, email me and I will schedule time to assist you in whatever you are doing or send me a message.\"\n"
     ]
    },
    {
     "name": "stderr",
     "output_type": "stream",
     "text": [
      " 95%|█████████▌| 1765/1850 [25:13<01:14,  1.14it/s]"
     ]
    },
    {
     "name": "stdout",
     "output_type": "stream",
     "text": [
      "Comentário com problema encontrado: I disagree. I can work remote 2 days a week but in the last 5 months ive maybe worked remote 4 days. Those 4 days i did zero ounce of work. Not only didnt have the motivation and stayed in bed with a mouse jiggler keeping my status “online” but also i just knew i could get away with it so didnt try either. \n"
     ]
    },
    {
     "name": "stderr",
     "output_type": "stream",
     "text": [
      " 95%|█████████▌| 1766/1850 [25:14<01:17,  1.08it/s]"
     ]
    },
    {
     "name": "stdout",
     "output_type": "stream",
     "text": [
      "Comentário com problema encontrado: I plan out my week so that when I have to go into the office, it's a light day. Physically being in the office is a productivity killer. Even if I find a place to \"hide\" and work, trips to the bathroom and breakroom are open season. It's the same people too.\n"
     ]
    },
    {
     "name": "stderr",
     "output_type": "stream",
     "text": [
      " 96%|█████████▌| 1768/1850 [25:15<01:10,  1.16it/s]"
     ]
    },
    {
     "name": "stdout",
     "output_type": "stream",
     "text": [
      "Comentário com problema encontrado: Yeah talk abt my middle manager who forces me to come to client site just to see them talking with their mortgage broker whole day lol 🙃\n"
     ]
    },
    {
     "name": "stderr",
     "output_type": "stream",
     "text": [
      " 96%|█████████▌| 1769/1850 [25:16<01:05,  1.24it/s]"
     ]
    },
    {
     "name": "stdout",
     "output_type": "stream",
     "text": [
      "Comentário com problema encontrado: I easily get double the work done at home than I do in the office. I wouldn’t hit very many deadlines if I had to work in office. It’s sooo distracting! People constantly coming and going, talking to me or just each other, my adhd gets over stimulated and I can’t hold a thought for more than a few minutes. At home I will get into deep focus for hours and forget to eat or even stretch my legs. My boss is happy to let me wfh 90% of the time because I’m ahead on my deadlines and have a larger clientele base than the accountants that are in office. It definitely doesn’t work for everyone. One co-worker won’t wfh because he admits he would only play video games. It all depends on the person.\n"
     ]
    },
    {
     "name": "stderr",
     "output_type": "stream",
     "text": [
      " 96%|█████████▌| 1773/1850 [25:19<00:55,  1.38it/s]"
     ]
    },
    {
     "name": "stdout",
     "output_type": "stream",
     "text": [
      "Comentário com problema encontrado: I'd just be happy without the hypocrisy.\n"
     ]
    },
    {
     "name": "stderr",
     "output_type": "stream",
     "text": [
      " 96%|█████████▌| 1776/1850 [25:22<01:00,  1.23it/s]"
     ]
    },
    {
     "name": "stdout",
     "output_type": "stream",
     "text": [
      "Comentário com problema encontrado: I can't work from home, I struggle to focus.  I like going to a place to do my work separate from my apartment\n"
     ]
    },
    {
     "name": "stderr",
     "output_type": "stream",
     "text": [
      " 96%|█████████▌| 1778/1850 [25:23<00:58,  1.22it/s]"
     ]
    },
    {
     "name": "stdout",
     "output_type": "stream",
     "text": [
      "Comentário com problema encontrado: It´s so true. One colleague is in the office 5 days a week, complains about workload and wfh, but distracts everyone with lame and unfunny stories. My billable hours aren´t enough because of this and I get all the trouble for being late to the deadline.\n"
     ]
    },
    {
     "name": "stderr",
     "output_type": "stream",
     "text": [
      " 96%|█████████▌| 1779/1850 [25:24<01:00,  1.17it/s]"
     ]
    },
    {
     "name": "stdout",
     "output_type": "stream",
     "text": [
      "Comentário com problema encontrado: Op feels left out lmao.\n"
     ]
    },
    {
     "name": "stderr",
     "output_type": "stream",
     "text": [
      " 96%|█████████▋| 1781/1850 [25:26<01:00,  1.14it/s]"
     ]
    },
    {
     "name": "stdout",
     "output_type": "stream",
     "text": [
      "Comentário com problema encontrado: I have a hybrid co-worker who only comes to the office two e a week. On those days she shows up later than everyone, then makes herself breakfast. When lunch comes around it's about an hour long process, even though we only get 30 mins , and to top it off she leaves at 2 pm. \n"
     ]
    },
    {
     "name": "stderr",
     "output_type": "stream",
     "text": [
      " 96%|█████████▋| 1785/1850 [25:30<01:08,  1.05s/it]"
     ]
    },
    {
     "name": "stdout",
     "output_type": "stream",
     "text": [
      "Comentário com problema encontrado: The office is the only social interaction many people get outside of family and a few friends. Not surprising some push back on WFH...\n"
     ]
    },
    {
     "name": "stderr",
     "output_type": "stream",
     "text": [
      " 97%|█████████▋| 1787/1850 [25:32<01:00,  1.03it/s]"
     ]
    },
    {
     "name": "stdout",
     "output_type": "stream",
     "text": [
      "Comentário com problema encontrado: Yep. I’m old enough to have started my career well before Covid. In office is the biggest crap show. So much politics, smoke screens etc. People play games to look busy, tell people they are busy but get little done. There are negatives to remote work but it’s easier to tell remotely who is doing the work and who isn’t. \n"
     ]
    },
    {
     "name": "stderr",
     "output_type": "stream",
     "text": [
      " 97%|█████████▋| 1792/1850 [25:38<01:11,  1.23s/it]"
     ]
    },
    {
     "name": "stdout",
     "output_type": "stream",
     "text": [
      "Comentário com problema encontrado: I get the stink eye constantly from the admin staff at my work because I don't participate in all of the extra curricular stuff. No, I don't have 3 hours per week to plan events. And on the weekend, I have a kid and can't participate in your fucking marathon. It's just amazing how easy these people forget that we're employed and have work to do. I'm thankful for their efforts but Jesus I'm fucking busy .\n"
     ]
    },
    {
     "name": "stderr",
     "output_type": "stream",
     "text": [
      " 97%|█████████▋| 1793/1850 [25:39<01:08,  1.19s/it]"
     ]
    },
    {
     "name": "stdout",
     "output_type": "stream",
     "text": [
      "Comentário com problema encontrado: When we were in the office, half the people would go for 30 minute smoke breaks every 45 minutes. It was comical.\n"
     ]
    },
    {
     "name": "stderr",
     "output_type": "stream",
     "text": [
      " 97%|█████████▋| 1794/1850 [25:40<00:59,  1.06s/it]"
     ]
    },
    {
     "name": "stdout",
     "output_type": "stream",
     "text": [
      "Comentário com problema encontrado: It’s called collaboration. I’m hybrid and I’m supposed to be in the office 2 days per week but my directs are all remote. I like getting out of the home office for a change in scenery but I end up being in my office by myself.\n"
     ]
    },
    {
     "name": "stderr",
     "output_type": "stream",
     "text": [
      " 97%|█████████▋| 1801/1850 [25:46<00:42,  1.16it/s]"
     ]
    },
    {
     "name": "stdout",
     "output_type": "stream",
     "text": [
      "Comentário com problema encontrado: Whenever this topic comes up the one thing I will say is that WFH is much better for existing employees who know everyone and have those working relationships. It’s much harder when you’re brand new, especially if your job requires you to work with a lot of different people.\n"
     ]
    },
    {
     "name": "stderr",
     "output_type": "stream",
     "text": [
      " 98%|█████████▊| 1805/1850 [25:50<00:39,  1.15it/s]"
     ]
    },
    {
     "name": "stdout",
     "output_type": "stream",
     "text": [
      "Comentário com problema encontrado: In my firm, pro WFH are the laziest and just pass around the work. Also junior WFH employees productivity is super low.\n"
     ]
    },
    {
     "name": "stderr",
     "output_type": "stream",
     "text": [
      " 98%|█████████▊| 1806/1850 [25:51<00:39,  1.12it/s]"
     ]
    },
    {
     "name": "stdout",
     "output_type": "stream",
     "text": [
      "Comentário com problema encontrado: They need to commute to the office to feel like they achieve something in the day\n"
     ]
    },
    {
     "name": "stderr",
     "output_type": "stream",
     "text": [
      " 98%|█████████▊| 1808/1850 [25:53<00:38,  1.08it/s]"
     ]
    },
    {
     "name": "stdout",
     "output_type": "stream",
     "text": [
      "Comentário com problema encontrado: Funny. I hopped onto reddit to discuss something similar. People thought I didn't talk enough on calls to fit in. I've always been horrible at chit-chat, even worse on calls. It seems so weird to me that other accountants would use that as an excuse to penalize someone.\n"
     ]
    },
    {
     "name": "stderr",
     "output_type": "stream",
     "text": [
      " 98%|█████████▊| 1818/1850 [26:03<00:36,  1.13s/it]"
     ]
    },
    {
     "name": "stdout",
     "output_type": "stream",
     "text": [
      "Comentário com problema encontrado: My experience is that wfh rarely works. We just laid off a ton of wfh employees who weren't producing and were strictly wfh. SOME people can do it and thrive at it but it should be an earned privilege and typically fails. \n"
     ]
    },
    {
     "name": "stderr",
     "output_type": "stream",
     "text": [
      " 98%|█████████▊| 1819/1850 [26:04<00:31,  1.01s/it]"
     ]
    },
    {
     "name": "stdout",
     "output_type": "stream",
     "text": [
      "Comentário com problema encontrado: That's why they are against WFH they like wasting time in the office\n"
     ]
    },
    {
     "name": "stderr",
     "output_type": "stream",
     "text": [
      " 98%|█████████▊| 1821/1850 [26:06<00:31,  1.09s/it]"
     ]
    },
    {
     "name": "stdout",
     "output_type": "stream",
     "text": [
      "Comentário com problema encontrado: Oh yeah! Most are bullies or perverts who want an affair.\n"
     ]
    },
    {
     "name": "stderr",
     "output_type": "stream",
     "text": [
      " 99%|█████████▉| 1828/1850 [26:12<00:19,  1.11it/s]"
     ]
    },
    {
     "name": "stdout",
     "output_type": "stream",
     "text": [
      "Comentário com problema encontrado: I switched from being an economics major to an accounting major, and I enjoyed economics a lot more. I continued to pursue a minor in economics and I remember my econ classes were legitimately interesting while the accounting classes were a total drag. I dreaded studying for accounting and actually looked forward to studying for economics. Also, the accounting students were generally a lot more one-dimensional and intellectually incurious compared to the econ students, so they were not as fun to be around. \n"
     ]
    },
    {
     "name": "stderr",
     "output_type": "stream",
     "text": [
      " 99%|█████████▉| 1830/1850 [26:14<00:16,  1.24it/s]"
     ]
    },
    {
     "name": "stdout",
     "output_type": "stream",
     "text": [
      "Comentário com problema encontrado: Brotha I’ve hated accounting since my first honors class freshman year… comp was too good for what it was\n"
     ]
    },
    {
     "name": "stderr",
     "output_type": "stream",
     "text": [
      " 99%|█████████▉| 1834/1850 [26:17<00:14,  1.13it/s]"
     ]
    },
    {
     "name": "stdout",
     "output_type": "stream",
     "text": [
      "Comentário com problema encontrado: Yup. This is me. Accounting is interesting to learn about, sucks to practice\n"
     ]
    },
    {
     "name": "stderr",
     "output_type": "stream",
     "text": [
      " 99%|█████████▉| 1836/1850 [26:19<00:12,  1.09it/s]"
     ]
    },
    {
     "name": "stdout",
     "output_type": "stream",
     "text": [
      "Comentário com problema encontrado: Yes. I took a job in tax out of desperation because I didn’t plan ahead with internships to get into the field I wanted to be in. Worst decision/experience of my life. Never again.\n"
     ]
    },
    {
     "name": "stderr",
     "output_type": "stream",
     "text": [
      " 99%|█████████▉| 1837/1850 [26:20<00:11,  1.18it/s]"
     ]
    },
    {
     "name": "stdout",
     "output_type": "stream",
     "text": [
      "Comentário com problema encontrado: I don’t plan on working in this industry forever. Borderline hate it, but it’s not bad at all. \n"
     ]
    },
    {
     "name": "stderr",
     "output_type": "stream",
     "text": [
      " 99%|█████████▉| 1838/1850 [26:21<00:10,  1.14it/s]"
     ]
    },
    {
     "name": "stdout",
     "output_type": "stream",
     "text": [
      "Comentário com problema encontrado: I liked my accounting classes. Mainly because of my professors, but the actual profession is dreadfully and boring and frankly, starting your career in public is very soul-sucking. No one really talked about it, but they heavily pushed it at my school. I made decent money and I’m happy for what I learned about myself during my time in this industry, but I’m jumping ship and switching to nursing. \n"
     ]
    },
    {
     "name": "stderr",
     "output_type": "stream",
     "text": [
      " 99%|█████████▉| 1839/1850 [26:22<00:10,  1.03it/s]"
     ]
    },
    {
     "name": "stdout",
     "output_type": "stream",
     "text": [
      "Comentário com problema encontrado: Same. I love business but hate accounting. I’m either going to get an operations controller role or transition to healthcare.\n"
     ]
    },
    {
     "name": "stderr",
     "output_type": "stream",
     "text": [
      "100%|█████████▉| 1841/1850 [26:24<00:08,  1.08it/s]"
     ]
    },
    {
     "name": "stdout",
     "output_type": "stream",
     "text": [
      "Comentário com problema encontrado: Me too. I graduated with high honors, but I hate working as an accountant. I want to change my career so bad.\n"
     ]
    },
    {
     "name": "stderr",
     "output_type": "stream",
     "text": [
      "100%|█████████▉| 1847/1850 [26:29<00:02,  1.08it/s]"
     ]
    },
    {
     "name": "stdout",
     "output_type": "stream",
     "text": [
      "Comentário com problema encontrado: Between Monday at about 9 and Friday at about 5, I say the exact same thing. Every week! \n"
     ]
    },
    {
     "name": "stderr",
     "output_type": "stream",
     "text": [
      "100%|█████████▉| 1848/1850 [26:30<00:01,  1.12it/s]"
     ]
    },
    {
     "name": "stdout",
     "output_type": "stream",
     "text": [
      "Comentário com problema encontrado: Yes I actually never wanna do it at all but im only 5 classes away from graduating switched majors twice so am not gonna switch it again. Idk what the future holds 💀\n"
     ]
    },
    {
     "name": "stderr",
     "output_type": "stream",
     "text": [
      "100%|█████████▉| 1849/1850 [26:31<00:00,  1.10it/s]"
     ]
    },
    {
     "name": "stdout",
     "output_type": "stream",
     "text": [
      "Comentário com problema encontrado: I HATED my brief time as a staff accountant in real estate. I enjoyed other industries quite a bit more (or was less bored at least).\n"
     ]
    },
    {
     "name": "stderr",
     "output_type": "stream",
     "text": [
      "100%|██████████| 1850/1850 [26:32<00:00,  1.16it/s]"
     ]
    },
    {
     "name": "stdout",
     "output_type": "stream",
     "text": [
      "Comentário com problema encontrado: I was a staff in audit for a year. Tax for 2 months. Absolutely hated it. Now I’m in investment banking, start tomorrow. Hopefully that goes better. 🤷🏻‍♂️ Goal is to just make enough money to open a coffee shop and wine and charcuterie place with my fiance/ soon to be wife. Idk how you guys do that for 20+ years. I feel especially bad for new graduates. PE taking over, expansion of foreign teams, having to redo their work on top of your own, 60-70 hour weeks during busy season and 40-50 during non busy season. Sure you can make 150 a year in 5-7 years, after giving up all of your free time for 4 months out of the year every year. But that doesn’t even buy you a house in a lot of metros anymore bigger than a 2 bed 1 bath. I’m sure accounting used to be a solid career, and still might be if you don’t want to have a life for a number of years. But I’m just not willing to give up that time to make someone else millions of dollars.\n",
      "Total de comentários com problemas: 588\n"
     ]
    },
    {
     "name": "stderr",
     "output_type": "stream",
     "text": [
      "\n"
     ]
    }
   ],
   "source": [
    "from tqdm import tqdm\n",
    "\n",
    "only_problems = []\n",
    "\n",
    "for comment in tqdm(comments_and_posts):\n",
    "    result_for_comment = chain.invoke({\"comentarios_reddit\": comment})\n",
    "\n",
    "    if result_for_comment.has_problem == \"YES\":\n",
    "        only_problems.append(comment)\n",
    "        print(f\"Comentário com problema encontrado: {comment}\")\n",
    "\n",
    "# Salva os comentários que expressam dores/problemas em um novo arquivo JSON\n",
    "with open(\"../data/comments/comments_with_problems.json\", \"w\", encoding=\"utf-8\") as file:\n",
    "    json.dump(only_problems, file, ensure_ascii=False, indent=4)\n",
    "\n",
    "print(f\"Total de comentários com problemas: {len(only_problems)}\")"
   ]
  },
  {
   "cell_type": "code",
   "execution_count": 11,
   "id": "8f38b42d",
   "metadata": {
    "vscode": {
     "languageId": "ruby"
    }
   },
   "outputs": [
    {
     "data": {
      "text/plain": [
       "(1850, 588)"
      ]
     },
     "execution_count": 11,
     "metadata": {},
     "output_type": "execute_result"
    }
   ],
   "source": [
    "len(comments_and_posts), len(only_problems)"
   ]
  }
 ],
 "metadata": {
  "kernelspec": {
   "display_name": "env",
   "language": "python",
   "name": "python3"
  },
  "language_info": {
   "codemirror_mode": {
    "name": "ipython",
    "version": 3
   },
   "file_extension": ".py",
   "mimetype": "text/x-python",
   "name": "python",
   "nbconvert_exporter": "python",
   "pygments_lexer": "ipython3",
   "version": "3.11.3"
  }
 },
 "nbformat": 4,
 "nbformat_minor": 5
}
