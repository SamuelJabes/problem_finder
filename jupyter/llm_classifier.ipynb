{
 "cells": [
  {
   "cell_type": "code",
   "execution_count": 1,
   "id": "615adcff",
   "metadata": {
    "vscode": {
     "languageId": "ruby"
    }
   },
   "outputs": [],
   "source": [
    "# Lista de comentários fictícios do Reddit com e sem expressões de dor/problemas\n",
    "comentarios_reddit = [\n",
    "    # Comentários que expressam dores/problemas\n",
    "    \"Estou tendo dores de cabeça terríveis há semanas e nenhum remédio parece ajudar. Alguém tem alguma sugestão?\",\n",
    "    \"Meu notebook está superaquecendo constantemente e não consigo trabalhar por mais de 30 minutos. Já perdi vários prazos por causa disso.\",\n",
    "    \"A empresa de internet na minha região é horrível. Pago por 100Mbps e recebo menos de 10Mbps nos horários de pico.\",\n",
    "    \"Não consigo dormir há meses. Tenho tentado de tudo, mas a insônia está afetando meu trabalho e minha vida pessoal.\",\n",
    "    \"Estou frustrado com o preço dos aluguéis na minha cidade. É impossível encontrar algo decente que caiba no orçamento.\",\n",
    "    \"Meu celular novo veio com defeito na bateria e a loja se recusa a trocar. Estou indignado com o atendimento ao cliente.\",\n",
    "    \"Tenho procurado emprego há 6 meses e ainda não consegui nada. As contas estão se acumulando e não sei mais o que fazer.\",\n",
    "    \"O aplicativo de delivery que uso constantemente aumentou as taxas e agora é quase inviável pedir comida.\",\n",
    "    \"A qualidade dos produtos de supermercado caiu muito e os preços só aumentam. Estou pagando mais por menos.\",\n",
    "    \"Me sinto sozinho trabalhando em home office, a falta de interação social está me deixando deprimido.\",\n",
    "    \n",
    "    # Comentários neutros ou positivos (sem expressão de dor/problema)\n",
    "    \"Acabei de terminar essa série e adorei o final. Alguém mais assistiu?\",\n",
    "    \"Recomendo esse livro para quem gosta de ficção científica, a narrativa é incrível.\",\n",
    "    \"Visitei aquele novo restaurante no centro ontem. A comida é realmente muito boa.\",\n",
    "    \"O último episódio do podcast foi muito informativo, aprendi várias coisas novas.\",\n",
    "    \"Finalmente consegui montar meu setup para home office, ficou exatamente como eu queria.\",\n",
    "    \"Completei minha coleção de mangá hoje, me sinto realizado!\",\n",
    "    \"Ontem fui ao parque com meu cachorro e encontramos vários outros pets. Foi um dia divertido.\",\n",
    "    \"Adoro quando o Reddit me recomenda subreddits interessantes que eu não conhecia.\",\n",
    "    \"Alguém aqui joga esse novo jogo? Estou procurando pessoas para jogar online.\",\n",
    "    \"Compartilhando uma foto do bolo que fiz seguindo aquela receita que postaram aqui semana passada.\"\n",
    "]"
   ]
  },
  {
   "cell_type": "code",
   "execution_count": 12,
   "id": "0babca21",
   "metadata": {
    "vscode": {
     "languageId": "ruby"
    }
   },
   "outputs": [],
   "source": [
    "from langchain_core.prompts import ChatPromptTemplate\n",
    "from langchain_openai import ChatOpenAI\n",
    "\n",
    "sys.path.insert(0, os.path.abspath('..'))\n",
    "from schemas.classify_schema import ClassifySchema\n",
    "\n",
    "from dotenv import load_dotenv\n",
    "import os\n",
    "\n",
    "# Carregar variáveis de ambiente do arquivo .env\n",
    "load_dotenv()\n",
    "\n",
    "OPENAI_API_KEY = os.getenv(\"OPENAI_API_KEY\")\n",
    "\n",
    "# <Prompt>\n",
    "summary_prompt = ChatPromptTemplate.from_messages(\n",
    "        [\n",
    "            (\n",
    "                \"system\",\n",
    "                \"\"\"Você é um analista profissional de comentários e posts do Reddit. \n",
    "                   Sua tarefa é analisar os comentários e posts de alguns usuários e identificar se eles expressam algum tipo de dor ou problema.\n",
    "                   Quando um comentário/post expressa dor ou problema, a saída deve ser 'yes'.\n",
    "                   Quando um comentário/post não expressa dor ou problema, a saída deve ser 'no'.\n",
    "        \"\"\",\n",
    "            ),\n",
    "            (\n",
    "                \"human\",\n",
    "                \"\"\"\n",
    "                Aqui estão alguns comentários do Reddit.\n",
    "\n",
    "                comentários: {comentarios_reddit}\n",
    "\n",
    "                Me ajude a classificar se cada comentário revela algum problema do usuário/dor ou não.\n",
    "        \"\"\",\n",
    "            ),\n",
    "        ]\n",
    "    )\n",
    "\n",
    "# <LLM>\n",
    "llm = ChatOpenAI(\n",
    "    model=\"gpt-4o-2024-08-06\"\n",
    ")\n",
    "\n",
    "# <Chain>\n",
    "chain = summary_prompt | llm.bind_tools([ClassifySchema])\n",
    "    "
   ]
  },
  {
   "cell_type": "code",
   "execution_count": null,
   "id": "1ee6bdd8",
   "metadata": {
    "vscode": {
     "languageId": "ruby"
    }
   },
   "outputs": [
    {
     "data": {
      "text/plain": [
       "AIMessage(content='', additional_kwargs={'tool_calls': [{'id': 'call_sRjfKvSOwLr8JyzSQi7ediWb', 'function': {'arguments': '{\"has_problem\": \"yes\"}', 'name': 'ClassifySchema'}, 'type': 'function'}, {'id': 'call_65mgsJZtDzxmlB4rFnNrvxZY', 'function': {'arguments': '{\"has_problem\": \"yes\"}', 'name': 'ClassifySchema'}, 'type': 'function'}, {'id': 'call_6ieD4Wwz6fs23RlwFSkHYgdT', 'function': {'arguments': '{\"has_problem\": \"yes\"}', 'name': 'ClassifySchema'}, 'type': 'function'}, {'id': 'call_iiujWTJTROi7q82QkApxMdpO', 'function': {'arguments': '{\"has_problem\": \"yes\"}', 'name': 'ClassifySchema'}, 'type': 'function'}, {'id': 'call_3FnU6dg3Aoc72ivd2Rt80Oj2', 'function': {'arguments': '{\"has_problem\": \"yes\"}', 'name': 'ClassifySchema'}, 'type': 'function'}, {'id': 'call_WBWtQtOFmNpcpFtSTu3BbtoP', 'function': {'arguments': '{\"has_problem\": \"yes\"}', 'name': 'ClassifySchema'}, 'type': 'function'}, {'id': 'call_nbWfZsD6yaYvIreB6nSbr6aT', 'function': {'arguments': '{\"has_problem\": \"yes\"}', 'name': 'ClassifySchema'}, 'type': 'function'}, {'id': 'call_qRP4J6qO4AsDSd38FZn8hWKL', 'function': {'arguments': '{\"has_problem\": \"yes\"}', 'name': 'ClassifySchema'}, 'type': 'function'}, {'id': 'call_c5a9dX7xe09lpXlDRk0sTsXh', 'function': {'arguments': '{\"has_problem\": \"yes\"}', 'name': 'ClassifySchema'}, 'type': 'function'}, {'id': 'call_r6ossHtTBU2lh82qZQxBNjOa', 'function': {'arguments': '{\"has_problem\": \"yes\"}', 'name': 'ClassifySchema'}, 'type': 'function'}, {'id': 'call_eJjguDDQpSRyxw2MFP4WswGm', 'function': {'arguments': '{\"has_problem\": \"no\"}', 'name': 'ClassifySchema'}, 'type': 'function'}, {'id': 'call_2heVbX2CASBdtWfBprCHTly7', 'function': {'arguments': '{\"has_problem\": \"no\"}', 'name': 'ClassifySchema'}, 'type': 'function'}, {'id': 'call_9elymGyEbPq2LMnJaovLcIFK', 'function': {'arguments': '{\"has_problem\": \"no\"}', 'name': 'ClassifySchema'}, 'type': 'function'}, {'id': 'call_6PBLV9Ails15o3d1M4DIHJey', 'function': {'arguments': '{\"has_problem\": \"no\"}', 'name': 'ClassifySchema'}, 'type': 'function'}, {'id': 'call_dwcZRkhqOWNvQVEnoqXja6cj', 'function': {'arguments': '{\"has_problem\": \"no\"}', 'name': 'ClassifySchema'}, 'type': 'function'}, {'id': 'call_XYGXcjmokP33eMbAUXlwyX5U', 'function': {'arguments': '{\"has_problem\": \"no\"}', 'name': 'ClassifySchema'}, 'type': 'function'}, {'id': 'call_R8fy7135P0iaAbX1Jn3G0Hpl', 'function': {'arguments': '{\"has_problem\": \"no\"}', 'name': 'ClassifySchema'}, 'type': 'function'}, {'id': 'call_3Yf28NHK2O06VmtOheNSscyA', 'function': {'arguments': '{\"has_problem\": \"no\"}', 'name': 'ClassifySchema'}, 'type': 'function'}, {'id': 'call_HNfjJPhtahbCtMdYRTp85az4', 'function': {'arguments': '{\"has_problem\": \"no\"}', 'name': 'ClassifySchema'}, 'type': 'function'}, {'id': 'call_6B8E3NZKvQrxdUvvyOSFGJRQ', 'function': {'arguments': '{\"has_problem\": \"no\"}', 'name': 'ClassifySchema'}, 'type': 'function'}], 'refusal': None}, response_metadata={'token_usage': {'completion_tokens': 336, 'prompt_tokens': 621, 'total_tokens': 957, 'completion_tokens_details': {'accepted_prediction_tokens': 0, 'audio_tokens': 0, 'reasoning_tokens': 0, 'rejected_prediction_tokens': 0}, 'prompt_tokens_details': {'audio_tokens': 0, 'cached_tokens': 0}}, 'model_name': 'gpt-4o-2024-08-06', 'system_fingerprint': 'fp_76544d79cb', 'id': 'chatcmpl-Ba6Xt0TBs3s1uB48rf6JP0GlkFDu1', 'service_tier': 'default', 'finish_reason': 'tool_calls', 'logprobs': None}, id='run--805dd580-8e8f-40d1-ba26-a8ed49d91750-0', tool_calls=[{'name': 'ClassifySchema', 'args': {'has_problem': 'yes'}, 'id': 'call_sRjfKvSOwLr8JyzSQi7ediWb', 'type': 'tool_call'}, {'name': 'ClassifySchema', 'args': {'has_problem': 'yes'}, 'id': 'call_65mgsJZtDzxmlB4rFnNrvxZY', 'type': 'tool_call'}, {'name': 'ClassifySchema', 'args': {'has_problem': 'yes'}, 'id': 'call_6ieD4Wwz6fs23RlwFSkHYgdT', 'type': 'tool_call'}, {'name': 'ClassifySchema', 'args': {'has_problem': 'yes'}, 'id': 'call_iiujWTJTROi7q82QkApxMdpO', 'type': 'tool_call'}, {'name': 'ClassifySchema', 'args': {'has_problem': 'yes'}, 'id': 'call_3FnU6dg3Aoc72ivd2Rt80Oj2', 'type': 'tool_call'}, {'name': 'ClassifySchema', 'args': {'has_problem': 'yes'}, 'id': 'call_WBWtQtOFmNpcpFtSTu3BbtoP', 'type': 'tool_call'}, {'name': 'ClassifySchema', 'args': {'has_problem': 'yes'}, 'id': 'call_nbWfZsD6yaYvIreB6nSbr6aT', 'type': 'tool_call'}, {'name': 'ClassifySchema', 'args': {'has_problem': 'yes'}, 'id': 'call_qRP4J6qO4AsDSd38FZn8hWKL', 'type': 'tool_call'}, {'name': 'ClassifySchema', 'args': {'has_problem': 'yes'}, 'id': 'call_c5a9dX7xe09lpXlDRk0sTsXh', 'type': 'tool_call'}, {'name': 'ClassifySchema', 'args': {'has_problem': 'yes'}, 'id': 'call_r6ossHtTBU2lh82qZQxBNjOa', 'type': 'tool_call'}, {'name': 'ClassifySchema', 'args': {'has_problem': 'no'}, 'id': 'call_eJjguDDQpSRyxw2MFP4WswGm', 'type': 'tool_call'}, {'name': 'ClassifySchema', 'args': {'has_problem': 'no'}, 'id': 'call_2heVbX2CASBdtWfBprCHTly7', 'type': 'tool_call'}, {'name': 'ClassifySchema', 'args': {'has_problem': 'no'}, 'id': 'call_9elymGyEbPq2LMnJaovLcIFK', 'type': 'tool_call'}, {'name': 'ClassifySchema', 'args': {'has_problem': 'no'}, 'id': 'call_6PBLV9Ails15o3d1M4DIHJey', 'type': 'tool_call'}, {'name': 'ClassifySchema', 'args': {'has_problem': 'no'}, 'id': 'call_dwcZRkhqOWNvQVEnoqXja6cj', 'type': 'tool_call'}, {'name': 'ClassifySchema', 'args': {'has_problem': 'no'}, 'id': 'call_XYGXcjmokP33eMbAUXlwyX5U', 'type': 'tool_call'}, {'name': 'ClassifySchema', 'args': {'has_problem': 'no'}, 'id': 'call_R8fy7135P0iaAbX1Jn3G0Hpl', 'type': 'tool_call'}, {'name': 'ClassifySchema', 'args': {'has_problem': 'no'}, 'id': 'call_3Yf28NHK2O06VmtOheNSscyA', 'type': 'tool_call'}, {'name': 'ClassifySchema', 'args': {'has_problem': 'no'}, 'id': 'call_HNfjJPhtahbCtMdYRTp85az4', 'type': 'tool_call'}, {'name': 'ClassifySchema', 'args': {'has_problem': 'no'}, 'id': 'call_6B8E3NZKvQrxdUvvyOSFGJRQ', 'type': 'tool_call'}], usage_metadata={'input_tokens': 621, 'output_tokens': 336, 'total_tokens': 957, 'input_token_details': {'audio': 0, 'cache_read': 0}, 'output_token_details': {'audio': 0, 'reasoning': 0}})"
      ]
     },
     "execution_count": 15,
     "metadata": {},
     "output_type": "execute_result"
    }
   ],
   "source": [
    "# Executa a cadeia de prompts\n",
    "result = chain.invoke({\"comentarios_reddit\": comentarios_reddit})\n",
    "result"
   ]
  },
  {
   "cell_type": "code",
   "execution_count": 18,
   "id": "810c98a9",
   "metadata": {
    "vscode": {
     "languageId": "ruby"
    }
   },
   "outputs": [
    {
     "data": {
      "text/plain": [
       "[{'id': 'call_sRjfKvSOwLr8JyzSQi7ediWb',\n",
       "  'function': {'arguments': '{\"has_problem\": \"yes\"}',\n",
       "   'name': 'ClassifySchema'},\n",
       "  'type': 'function'},\n",
       " {'id': 'call_65mgsJZtDzxmlB4rFnNrvxZY',\n",
       "  'function': {'arguments': '{\"has_problem\": \"yes\"}',\n",
       "   'name': 'ClassifySchema'},\n",
       "  'type': 'function'},\n",
       " {'id': 'call_6ieD4Wwz6fs23RlwFSkHYgdT',\n",
       "  'function': {'arguments': '{\"has_problem\": \"yes\"}',\n",
       "   'name': 'ClassifySchema'},\n",
       "  'type': 'function'},\n",
       " {'id': 'call_iiujWTJTROi7q82QkApxMdpO',\n",
       "  'function': {'arguments': '{\"has_problem\": \"yes\"}',\n",
       "   'name': 'ClassifySchema'},\n",
       "  'type': 'function'},\n",
       " {'id': 'call_3FnU6dg3Aoc72ivd2Rt80Oj2',\n",
       "  'function': {'arguments': '{\"has_problem\": \"yes\"}',\n",
       "   'name': 'ClassifySchema'},\n",
       "  'type': 'function'},\n",
       " {'id': 'call_WBWtQtOFmNpcpFtSTu3BbtoP',\n",
       "  'function': {'arguments': '{\"has_problem\": \"yes\"}',\n",
       "   'name': 'ClassifySchema'},\n",
       "  'type': 'function'},\n",
       " {'id': 'call_nbWfZsD6yaYvIreB6nSbr6aT',\n",
       "  'function': {'arguments': '{\"has_problem\": \"yes\"}',\n",
       "   'name': 'ClassifySchema'},\n",
       "  'type': 'function'},\n",
       " {'id': 'call_qRP4J6qO4AsDSd38FZn8hWKL',\n",
       "  'function': {'arguments': '{\"has_problem\": \"yes\"}',\n",
       "   'name': 'ClassifySchema'},\n",
       "  'type': 'function'},\n",
       " {'id': 'call_c5a9dX7xe09lpXlDRk0sTsXh',\n",
       "  'function': {'arguments': '{\"has_problem\": \"yes\"}',\n",
       "   'name': 'ClassifySchema'},\n",
       "  'type': 'function'},\n",
       " {'id': 'call_r6ossHtTBU2lh82qZQxBNjOa',\n",
       "  'function': {'arguments': '{\"has_problem\": \"yes\"}',\n",
       "   'name': 'ClassifySchema'},\n",
       "  'type': 'function'},\n",
       " {'id': 'call_eJjguDDQpSRyxw2MFP4WswGm',\n",
       "  'function': {'arguments': '{\"has_problem\": \"no\"}', 'name': 'ClassifySchema'},\n",
       "  'type': 'function'},\n",
       " {'id': 'call_2heVbX2CASBdtWfBprCHTly7',\n",
       "  'function': {'arguments': '{\"has_problem\": \"no\"}', 'name': 'ClassifySchema'},\n",
       "  'type': 'function'},\n",
       " {'id': 'call_9elymGyEbPq2LMnJaovLcIFK',\n",
       "  'function': {'arguments': '{\"has_problem\": \"no\"}', 'name': 'ClassifySchema'},\n",
       "  'type': 'function'},\n",
       " {'id': 'call_6PBLV9Ails15o3d1M4DIHJey',\n",
       "  'function': {'arguments': '{\"has_problem\": \"no\"}', 'name': 'ClassifySchema'},\n",
       "  'type': 'function'},\n",
       " {'id': 'call_dwcZRkhqOWNvQVEnoqXja6cj',\n",
       "  'function': {'arguments': '{\"has_problem\": \"no\"}', 'name': 'ClassifySchema'},\n",
       "  'type': 'function'},\n",
       " {'id': 'call_XYGXcjmokP33eMbAUXlwyX5U',\n",
       "  'function': {'arguments': '{\"has_problem\": \"no\"}', 'name': 'ClassifySchema'},\n",
       "  'type': 'function'},\n",
       " {'id': 'call_R8fy7135P0iaAbX1Jn3G0Hpl',\n",
       "  'function': {'arguments': '{\"has_problem\": \"no\"}', 'name': 'ClassifySchema'},\n",
       "  'type': 'function'},\n",
       " {'id': 'call_3Yf28NHK2O06VmtOheNSscyA',\n",
       "  'function': {'arguments': '{\"has_problem\": \"no\"}', 'name': 'ClassifySchema'},\n",
       "  'type': 'function'},\n",
       " {'id': 'call_HNfjJPhtahbCtMdYRTp85az4',\n",
       "  'function': {'arguments': '{\"has_problem\": \"no\"}', 'name': 'ClassifySchema'},\n",
       "  'type': 'function'},\n",
       " {'id': 'call_6B8E3NZKvQrxdUvvyOSFGJRQ',\n",
       "  'function': {'arguments': '{\"has_problem\": \"no\"}', 'name': 'ClassifySchema'},\n",
       "  'type': 'function'}]"
      ]
     },
     "execution_count": 18,
     "metadata": {},
     "output_type": "execute_result"
    }
   ],
   "source": [
    "# Exibe o resultado\n",
    "result.additional_kwargs[\"tool_calls\"]"
   ]
  },
  {
   "cell_type": "code",
   "execution_count": 28,
   "id": "653bd652",
   "metadata": {
    "vscode": {
     "languageId": "ruby"
    }
   },
   "outputs": [
    {
     "data": {
      "text/plain": [
       "[{'id': 'call_sRjfKvSOwLr8JyzSQi7ediWb',\n",
       "  'function': {'arguments': {'has_problem': 'yes'}, 'name': 'ClassifySchema'},\n",
       "  'type': 'function'},\n",
       " {'id': 'call_65mgsJZtDzxmlB4rFnNrvxZY',\n",
       "  'function': {'arguments': {'has_problem': 'yes'}, 'name': 'ClassifySchema'},\n",
       "  'type': 'function'},\n",
       " {'id': 'call_6ieD4Wwz6fs23RlwFSkHYgdT',\n",
       "  'function': {'arguments': {'has_problem': 'yes'}, 'name': 'ClassifySchema'},\n",
       "  'type': 'function'},\n",
       " {'id': 'call_iiujWTJTROi7q82QkApxMdpO',\n",
       "  'function': {'arguments': {'has_problem': 'yes'}, 'name': 'ClassifySchema'},\n",
       "  'type': 'function'},\n",
       " {'id': 'call_3FnU6dg3Aoc72ivd2Rt80Oj2',\n",
       "  'function': {'arguments': {'has_problem': 'yes'}, 'name': 'ClassifySchema'},\n",
       "  'type': 'function'},\n",
       " {'id': 'call_WBWtQtOFmNpcpFtSTu3BbtoP',\n",
       "  'function': {'arguments': {'has_problem': 'yes'}, 'name': 'ClassifySchema'},\n",
       "  'type': 'function'},\n",
       " {'id': 'call_nbWfZsD6yaYvIreB6nSbr6aT',\n",
       "  'function': {'arguments': {'has_problem': 'yes'}, 'name': 'ClassifySchema'},\n",
       "  'type': 'function'},\n",
       " {'id': 'call_qRP4J6qO4AsDSd38FZn8hWKL',\n",
       "  'function': {'arguments': {'has_problem': 'yes'}, 'name': 'ClassifySchema'},\n",
       "  'type': 'function'},\n",
       " {'id': 'call_c5a9dX7xe09lpXlDRk0sTsXh',\n",
       "  'function': {'arguments': {'has_problem': 'yes'}, 'name': 'ClassifySchema'},\n",
       "  'type': 'function'},\n",
       " {'id': 'call_r6ossHtTBU2lh82qZQxBNjOa',\n",
       "  'function': {'arguments': {'has_problem': 'yes'}, 'name': 'ClassifySchema'},\n",
       "  'type': 'function'},\n",
       " {'id': 'call_eJjguDDQpSRyxw2MFP4WswGm',\n",
       "  'function': {'arguments': {'has_problem': 'no'}, 'name': 'ClassifySchema'},\n",
       "  'type': 'function'},\n",
       " {'id': 'call_2heVbX2CASBdtWfBprCHTly7',\n",
       "  'function': {'arguments': {'has_problem': 'no'}, 'name': 'ClassifySchema'},\n",
       "  'type': 'function'},\n",
       " {'id': 'call_9elymGyEbPq2LMnJaovLcIFK',\n",
       "  'function': {'arguments': {'has_problem': 'no'}, 'name': 'ClassifySchema'},\n",
       "  'type': 'function'},\n",
       " {'id': 'call_6PBLV9Ails15o3d1M4DIHJey',\n",
       "  'function': {'arguments': {'has_problem': 'no'}, 'name': 'ClassifySchema'},\n",
       "  'type': 'function'},\n",
       " {'id': 'call_dwcZRkhqOWNvQVEnoqXja6cj',\n",
       "  'function': {'arguments': {'has_problem': 'no'}, 'name': 'ClassifySchema'},\n",
       "  'type': 'function'},\n",
       " {'id': 'call_XYGXcjmokP33eMbAUXlwyX5U',\n",
       "  'function': {'arguments': {'has_problem': 'no'}, 'name': 'ClassifySchema'},\n",
       "  'type': 'function'},\n",
       " {'id': 'call_R8fy7135P0iaAbX1Jn3G0Hpl',\n",
       "  'function': {'arguments': {'has_problem': 'no'}, 'name': 'ClassifySchema'},\n",
       "  'type': 'function'},\n",
       " {'id': 'call_3Yf28NHK2O06VmtOheNSscyA',\n",
       "  'function': {'arguments': {'has_problem': 'no'}, 'name': 'ClassifySchema'},\n",
       "  'type': 'function'},\n",
       " {'id': 'call_HNfjJPhtahbCtMdYRTp85az4',\n",
       "  'function': {'arguments': {'has_problem': 'no'}, 'name': 'ClassifySchema'},\n",
       "  'type': 'function'},\n",
       " {'id': 'call_6B8E3NZKvQrxdUvvyOSFGJRQ',\n",
       "  'function': {'arguments': {'has_problem': 'no'}, 'name': 'ClassifySchema'},\n",
       "  'type': 'function'}]"
      ]
     },
     "execution_count": 28,
     "metadata": {},
     "output_type": "execute_result"
    }
   ],
   "source": [
    "import json\n",
    "\n",
    "new_results = []\n",
    "for call in result.additional_kwargs[\"tool_calls\"]:\n",
    "    call[\"function\"][\"arguments\"] = json.loads(call[\"function\"][\"arguments\"])\n",
    "    new_results.append(call)\n",
    "\n",
    "new_results"
   ]
  },
  {
   "cell_type": "code",
   "execution_count": 29,
   "id": "a4b9703d",
   "metadata": {
    "vscode": {
     "languageId": "ruby"
    }
   },
   "outputs": [
    {
     "data": {
      "text/plain": [
       "['Estou tendo dores de cabeça terríveis há semanas e nenhum remédio parece ajudar. Alguém tem alguma sugestão?',\n",
       " 'Meu notebook está superaquecendo constantemente e não consigo trabalhar por mais de 30 minutos. Já perdi vários prazos por causa disso.',\n",
       " 'A empresa de internet na minha região é horrível. Pago por 100Mbps e recebo menos de 10Mbps nos horários de pico.',\n",
       " 'Não consigo dormir há meses. Tenho tentado de tudo, mas a insônia está afetando meu trabalho e minha vida pessoal.',\n",
       " 'Estou frustrado com o preço dos aluguéis na minha cidade. É impossível encontrar algo decente que caiba no orçamento.',\n",
       " 'Meu celular novo veio com defeito na bateria e a loja se recusa a trocar. Estou indignado com o atendimento ao cliente.',\n",
       " 'Tenho procurado emprego há 6 meses e ainda não consegui nada. As contas estão se acumulando e não sei mais o que fazer.',\n",
       " 'O aplicativo de delivery que uso constantemente aumentou as taxas e agora é quase inviável pedir comida.',\n",
       " 'A qualidade dos produtos de supermercado caiu muito e os preços só aumentam. Estou pagando mais por menos.',\n",
       " 'Me sinto sozinho trabalhando em home office, a falta de interação social está me deixando deprimido.']"
      ]
     },
     "execution_count": 29,
     "metadata": {},
     "output_type": "execute_result"
    }
   ],
   "source": [
    "only_problems = [comentarios_reddit[i] for i in range(len(comentarios_reddit)) if new_results[i][\"function\"][\"arguments\"][\"has_problem\"] == \"yes\"]\n",
    "only_problems"
   ]
  },
  {
   "cell_type": "code",
   "execution_count": null,
   "id": "241c2f13",
   "metadata": {
    "vscode": {
     "languageId": "ruby"
    }
   },
   "outputs": [],
   "source": []
  },
  {
   "cell_type": "code",
   "execution_count": null,
   "id": "e9df6ce0",
   "metadata": {
    "vscode": {
     "languageId": "ruby"
    }
   },
   "outputs": [],
   "source": []
  }
 ],
 "metadata": {
  "kernelspec": {
   "display_name": "env",
   "language": "python",
   "name": "python3"
  },
  "language_info": {
   "codemirror_mode": {
    "name": "ipython",
    "version": 3
   },
   "file_extension": ".py",
   "mimetype": "text/x-python",
   "name": "python",
   "nbconvert_exporter": "python",
   "pygments_lexer": "ipython3",
   "version": "3.11.3"
  }
 },
 "nbformat": 4,
 "nbformat_minor": 5
}
